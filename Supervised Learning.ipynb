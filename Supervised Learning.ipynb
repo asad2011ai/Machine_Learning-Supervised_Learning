{
 "cells": [
  {
   "cell_type": "markdown",
   "metadata": {},
   "source": [
    "# Course - Supervised Learning "
   ]
  },
  {
   "cell_type": "markdown",
   "metadata": {},
   "source": [
    "##### NOTE: \n",
    "1. Your code MUST execute without any errors. \n",
    "2. You can add more lines in your code as required."
   ]
  },
  {
   "cell_type": "markdown",
   "metadata": {},
   "source": [
    "## Section 1: Basic Statistical Concepts"
   ]
  },
  {
   "cell_type": "markdown",
   "metadata": {},
   "source": [
    "### Question 1 \n",
    "**The dataset is loaded for you. Perform the following tasks:**  \n",
    "1. Compute basic statistical measures for each of the variables from the freeny dataset.  \n",
    "2. Construct a correlation matrix for all the variables in the freeny dataset.  \n",
    "3. Create a new variable price.income.ratio constructed as a ratio of price.index and income.level. Print its summary statistics.  "
   ]
  },
  {
   "cell_type": "code",
   "execution_count": 1,
   "metadata": {},
   "outputs": [],
   "source": [
    "library(datasets)"
   ]
  },
  {
   "cell_type": "code",
   "execution_count": 2,
   "metadata": {
    "scrolled": true
   },
   "outputs": [
    {
     "data": {
      "text/html": [
       "<table>\n",
       "<thead><tr><th></th><th scope=col>y</th><th scope=col>lag.quarterly.revenue</th><th scope=col>price.index</th><th scope=col>income.level</th><th scope=col>market.potential</th></tr></thead>\n",
       "<tbody>\n",
       "\t<tr><th scope=row>1962.25</th><td>8.79236</td><td>8.79636</td><td>4.70997</td><td>5.82110</td><td>12.9699</td></tr>\n",
       "\t<tr><th scope=row>1962.5</th><td>8.79137</td><td>8.79236</td><td>4.70217</td><td>5.82558</td><td>12.9733</td></tr>\n",
       "\t<tr><th scope=row>1962.75</th><td>8.81486</td><td>8.79137</td><td>4.68944</td><td>5.83112</td><td>12.9774</td></tr>\n",
       "\t<tr><th scope=row>1963</th><td>8.81301</td><td>8.81486</td><td>4.68558</td><td>5.84046</td><td>12.9806</td></tr>\n",
       "\t<tr><th scope=row>1963.25</th><td>8.90751</td><td>8.81301</td><td>4.64019</td><td>5.85036</td><td>12.9831</td></tr>\n",
       "\t<tr><th scope=row>1963.5</th><td>8.93673</td><td>8.90751</td><td>4.62553</td><td>5.86464</td><td>12.9854</td></tr>\n",
       "</tbody>\n",
       "</table>\n"
      ],
      "text/latex": [
       "\\begin{tabular}{r|lllll}\n",
       "  & y & lag.quarterly.revenue & price.index & income.level & market.potential\\\\\n",
       "\\hline\n",
       "\t1962.25 & 8.79236 & 8.79636 & 4.70997 & 5.82110 & 12.9699\\\\\n",
       "\t1962.5 & 8.79137 & 8.79236 & 4.70217 & 5.82558 & 12.9733\\\\\n",
       "\t1962.75 & 8.81486 & 8.79137 & 4.68944 & 5.83112 & 12.9774\\\\\n",
       "\t1963 & 8.81301 & 8.81486 & 4.68558 & 5.84046 & 12.9806\\\\\n",
       "\t1963.25 & 8.90751 & 8.81301 & 4.64019 & 5.85036 & 12.9831\\\\\n",
       "\t1963.5 & 8.93673 & 8.90751 & 4.62553 & 5.86464 & 12.9854\\\\\n",
       "\\end{tabular}\n"
      ],
      "text/markdown": [
       "\n",
       "| <!--/--> | y | lag.quarterly.revenue | price.index | income.level | market.potential |\n",
       "|---|---|---|---|---|---|\n",
       "| 1962.25 | 8.79236 | 8.79636 | 4.70997 | 5.82110 | 12.9699 |\n",
       "| 1962.5 | 8.79137 | 8.79236 | 4.70217 | 5.82558 | 12.9733 |\n",
       "| 1962.75 | 8.81486 | 8.79137 | 4.68944 | 5.83112 | 12.9774 |\n",
       "| 1963 | 8.81301 | 8.81486 | 4.68558 | 5.84046 | 12.9806 |\n",
       "| 1963.25 | 8.90751 | 8.81301 | 4.64019 | 5.85036 | 12.9831 |\n",
       "| 1963.5 | 8.93673 | 8.90751 | 4.62553 | 5.86464 | 12.9854 |\n",
       "\n"
      ],
      "text/plain": [
       "        y       lag.quarterly.revenue price.index income.level market.potential\n",
       "1962.25 8.79236 8.79636               4.70997     5.82110      12.9699         \n",
       "1962.5  8.79137 8.79236               4.70217     5.82558      12.9733         \n",
       "1962.75 8.81486 8.79137               4.68944     5.83112      12.9774         \n",
       "1963    8.81301 8.81486               4.68558     5.84046      12.9806         \n",
       "1963.25 8.90751 8.81301               4.64019     5.85036      12.9831         \n",
       "1963.5  8.93673 8.90751               4.62553     5.86464      12.9854         "
      ]
     },
     "metadata": {},
     "output_type": "display_data"
    }
   ],
   "source": [
    "df = freeny\n",
    "head(freeny)"
   ]
  },
  {
   "cell_type": "code",
   "execution_count": 3,
   "metadata": {},
   "outputs": [
    {
     "data": {
      "text/html": [
       "<table>\n",
       "<thead><tr><th></th><th scope=col>y</th><th scope=col>lag.quarterly.revenue</th><th scope=col>price.index</th><th scope=col>income.level</th><th scope=col>market.potential</th></tr></thead>\n",
       "<tbody>\n",
       "\t<tr><th scope=row>1962.25</th><td>8.79236</td><td>8.79636</td><td>4.70997</td><td>5.82110</td><td>12.9699</td></tr>\n",
       "\t<tr><th scope=row>1962.5</th><td>8.79137</td><td>8.79236</td><td>4.70217</td><td>5.82558</td><td>12.9733</td></tr>\n",
       "\t<tr><th scope=row>1962.75</th><td>8.81486</td><td>8.79137</td><td>4.68944</td><td>5.83112</td><td>12.9774</td></tr>\n",
       "\t<tr><th scope=row>1963</th><td>8.81301</td><td>8.81486</td><td>4.68558</td><td>5.84046</td><td>12.9806</td></tr>\n",
       "\t<tr><th scope=row>1963.25</th><td>8.90751</td><td>8.81301</td><td>4.64019</td><td>5.85036</td><td>12.9831</td></tr>\n",
       "\t<tr><th scope=row>1963.5</th><td>8.93673</td><td>8.90751</td><td>4.62553</td><td>5.86464</td><td>12.9854</td></tr>\n",
       "</tbody>\n",
       "</table>\n"
      ],
      "text/latex": [
       "\\begin{tabular}{r|lllll}\n",
       "  & y & lag.quarterly.revenue & price.index & income.level & market.potential\\\\\n",
       "\\hline\n",
       "\t1962.25 & 8.79236 & 8.79636 & 4.70997 & 5.82110 & 12.9699\\\\\n",
       "\t1962.5 & 8.79137 & 8.79236 & 4.70217 & 5.82558 & 12.9733\\\\\n",
       "\t1962.75 & 8.81486 & 8.79137 & 4.68944 & 5.83112 & 12.9774\\\\\n",
       "\t1963 & 8.81301 & 8.81486 & 4.68558 & 5.84046 & 12.9806\\\\\n",
       "\t1963.25 & 8.90751 & 8.81301 & 4.64019 & 5.85036 & 12.9831\\\\\n",
       "\t1963.5 & 8.93673 & 8.90751 & 4.62553 & 5.86464 & 12.9854\\\\\n",
       "\\end{tabular}\n"
      ],
      "text/markdown": [
       "\n",
       "| <!--/--> | y | lag.quarterly.revenue | price.index | income.level | market.potential |\n",
       "|---|---|---|---|---|---|\n",
       "| 1962.25 | 8.79236 | 8.79636 | 4.70997 | 5.82110 | 12.9699 |\n",
       "| 1962.5 | 8.79137 | 8.79236 | 4.70217 | 5.82558 | 12.9733 |\n",
       "| 1962.75 | 8.81486 | 8.79137 | 4.68944 | 5.83112 | 12.9774 |\n",
       "| 1963 | 8.81301 | 8.81486 | 4.68558 | 5.84046 | 12.9806 |\n",
       "| 1963.25 | 8.90751 | 8.81301 | 4.64019 | 5.85036 | 12.9831 |\n",
       "| 1963.5 | 8.93673 | 8.90751 | 4.62553 | 5.86464 | 12.9854 |\n",
       "\n"
      ],
      "text/plain": [
       "        y       lag.quarterly.revenue price.index income.level market.potential\n",
       "1962.25 8.79236 8.79636               4.70997     5.82110      12.9699         \n",
       "1962.5  8.79137 8.79236               4.70217     5.82558      12.9733         \n",
       "1962.75 8.81486 8.79137               4.68944     5.83112      12.9774         \n",
       "1963    8.81301 8.81486               4.68558     5.84046      12.9806         \n",
       "1963.25 8.90751 8.81301               4.64019     5.85036      12.9831         \n",
       "1963.5  8.93673 8.90751               4.62553     5.86464      12.9854         "
      ]
     },
     "metadata": {},
     "output_type": "display_data"
    }
   ],
   "source": [
    "head(df)"
   ]
  },
  {
   "cell_type": "markdown",
   "metadata": {},
   "source": [
    "# Question # 01"
   ]
  },
  {
   "cell_type": "code",
   "execution_count": 4,
   "metadata": {
    "scrolled": true
   },
   "outputs": [
    {
     "data": {
      "text/html": [
       "<ol class=list-inline>\n",
       "\t<li>'y'</li>\n",
       "\t<li>'lag.quarterly.revenue'</li>\n",
       "\t<li>'price.index'</li>\n",
       "\t<li>'income.level'</li>\n",
       "\t<li>'market.potential'</li>\n",
       "</ol>\n"
      ],
      "text/latex": [
       "\\begin{enumerate*}\n",
       "\\item 'y'\n",
       "\\item 'lag.quarterly.revenue'\n",
       "\\item 'price.index'\n",
       "\\item 'income.level'\n",
       "\\item 'market.potential'\n",
       "\\end{enumerate*}\n"
      ],
      "text/markdown": [
       "1. 'y'\n",
       "2. 'lag.quarterly.revenue'\n",
       "3. 'price.index'\n",
       "4. 'income.level'\n",
       "5. 'market.potential'\n",
       "\n",
       "\n"
      ],
      "text/plain": [
       "[1] \"y\"                     \"lag.quarterly.revenue\" \"price.index\"          \n",
       "[4] \"income.level\"          \"market.potential\"     "
      ]
     },
     "metadata": {},
     "output_type": "display_data"
    }
   ],
   "source": [
    "colnames(df)"
   ]
  },
  {
   "cell_type": "code",
   "execution_count": 5,
   "metadata": {},
   "outputs": [
    {
     "data": {
      "text/html": [
       "9.28071769230769"
      ],
      "text/latex": [
       "9.28071769230769"
      ],
      "text/markdown": [
       "9.28071769230769"
      ],
      "text/plain": [
       "[1] 9.280718"
      ]
     },
     "metadata": {},
     "output_type": "display_data"
    }
   ],
   "source": [
    "mean(df$lag.quarterly.revenue)"
   ]
  },
  {
   "cell_type": "code",
   "execution_count": 6,
   "metadata": {},
   "outputs": [
    {
     "data": {
      "text/html": [
       "4.51018"
      ],
      "text/latex": [
       "4.51018"
      ],
      "text/markdown": [
       "4.51018"
      ],
      "text/plain": [
       "[1] 4.51018"
      ]
     },
     "metadata": {},
     "output_type": "display_data"
    }
   ],
   "source": [
    "median(df$price.index)"
   ]
  },
  {
   "cell_type": "code",
   "execution_count": 7,
   "metadata": {},
   "outputs": [
    {
     "data": {
      "text/html": [
       "6.0385958974359"
      ],
      "text/latex": [
       "6.0385958974359"
      ],
      "text/markdown": [
       "6.0385958974359"
      ],
      "text/plain": [
       "[1] 6.038596"
      ]
     },
     "metadata": {},
     "output_type": "display_data"
    }
   ],
   "source": [
    "mean(df$income.level)"
   ]
  },
  {
   "cell_type": "code",
   "execution_count": 8,
   "metadata": {},
   "outputs": [
    {
     "data": {
      "text/html": [
       "13.0668307692308"
      ],
      "text/latex": [
       "13.0668307692308"
      ],
      "text/markdown": [
       "13.0668307692308"
      ],
      "text/plain": [
       "[1] 13.06683"
      ]
     },
     "metadata": {},
     "output_type": "display_data"
    }
   ],
   "source": [
    "mean(df$market.potential)"
   ]
  },
  {
   "cell_type": "markdown",
   "metadata": {},
   "source": [
    "# Question # 02"
   ]
  },
  {
   "cell_type": "code",
   "execution_count": 9,
   "metadata": {},
   "outputs": [
    {
     "ename": "ERROR",
     "evalue": "Error in library(pacman, readxl, ggplot2, dplyr, tidyverse, forecast, : unused arguments (tsoutliers, leaps, fabletools, FactoMineR, TSA)\n",
     "output_type": "error",
     "traceback": [
      "Error in library(pacman, readxl, ggplot2, dplyr, tidyverse, forecast, : unused arguments (tsoutliers, leaps, fabletools, FactoMineR, TSA)\nTraceback:\n"
     ]
    }
   ],
   "source": [
    "library(pacman, readxl, ggplot2, dplyr, tidyverse, forecast, \n",
    "       tsfeatures, smooth, car, psych, astsa, writexl, Hmisc,\n",
    "       tsoutliers, leaps, fabletools, FactoMineR, TSA)"
   ]
  },
  {
   "cell_type": "code",
   "execution_count": 10,
   "metadata": {},
   "outputs": [
    {
     "name": "stderr",
     "output_type": "stream",
     "text": [
      "corrplot 0.84 loaded\n"
     ]
    },
    {
     "data": {
      "image/png": "[encoded data removed]",
      "text/plain": [
       "Plot with title \"\""
      ]
     },
     "metadata": {},
     "output_type": "display_data"
    }
   ],
   "source": [
    "library(corrplot)\n",
    "df <- as.data.frame(freeny)\n",
    "M <-cor(df)\n",
    "#corrplot(df)\n",
    "corrplot(M)"
   ]
  },
  {
   "cell_type": "markdown",
   "metadata": {},
   "source": [
    "# Question # 03"
   ]
  },
  {
   "cell_type": "code",
   "execution_count": 11,
   "metadata": {
    "scrolled": true
   },
   "outputs": [
    {
     "data": {
      "text/html": [
       "<table>\n",
       "<thead><tr><th></th><th scope=col>y</th><th scope=col>lag.quarterly.revenue</th><th scope=col>price.index</th><th scope=col>income.level</th><th scope=col>market.potential</th></tr></thead>\n",
       "<tbody>\n",
       "\t<tr><th scope=row>1962.25</th><td>8.79236</td><td>8.79636</td><td>4.70997</td><td>5.82110</td><td>12.9699</td></tr>\n",
       "\t<tr><th scope=row>1962.5</th><td>8.79137</td><td>8.79236</td><td>4.70217</td><td>5.82558</td><td>12.9733</td></tr>\n",
       "\t<tr><th scope=row>1962.75</th><td>8.81486</td><td>8.79137</td><td>4.68944</td><td>5.83112</td><td>12.9774</td></tr>\n",
       "\t<tr><th scope=row>1963</th><td>8.81301</td><td>8.81486</td><td>4.68558</td><td>5.84046</td><td>12.9806</td></tr>\n",
       "\t<tr><th scope=row>1963.25</th><td>8.90751</td><td>8.81301</td><td>4.64019</td><td>5.85036</td><td>12.9831</td></tr>\n",
       "\t<tr><th scope=row>1963.5</th><td>8.93673</td><td>8.90751</td><td>4.62553</td><td>5.86464</td><td>12.9854</td></tr>\n",
       "</tbody>\n",
       "</table>\n"
      ],
      "text/latex": [
       "\\begin{tabular}{r|lllll}\n",
       "  & y & lag.quarterly.revenue & price.index & income.level & market.potential\\\\\n",
       "\\hline\n",
       "\t1962.25 & 8.79236 & 8.79636 & 4.70997 & 5.82110 & 12.9699\\\\\n",
       "\t1962.5 & 8.79137 & 8.79236 & 4.70217 & 5.82558 & 12.9733\\\\\n",
       "\t1962.75 & 8.81486 & 8.79137 & 4.68944 & 5.83112 & 12.9774\\\\\n",
       "\t1963 & 8.81301 & 8.81486 & 4.68558 & 5.84046 & 12.9806\\\\\n",
       "\t1963.25 & 8.90751 & 8.81301 & 4.64019 & 5.85036 & 12.9831\\\\\n",
       "\t1963.5 & 8.93673 & 8.90751 & 4.62553 & 5.86464 & 12.9854\\\\\n",
       "\\end{tabular}\n"
      ],
      "text/markdown": [
       "\n",
       "| <!--/--> | y | lag.quarterly.revenue | price.index | income.level | market.potential |\n",
       "|---|---|---|---|---|---|\n",
       "| 1962.25 | 8.79236 | 8.79636 | 4.70997 | 5.82110 | 12.9699 |\n",
       "| 1962.5 | 8.79137 | 8.79236 | 4.70217 | 5.82558 | 12.9733 |\n",
       "| 1962.75 | 8.81486 | 8.79137 | 4.68944 | 5.83112 | 12.9774 |\n",
       "| 1963 | 8.81301 | 8.81486 | 4.68558 | 5.84046 | 12.9806 |\n",
       "| 1963.25 | 8.90751 | 8.81301 | 4.64019 | 5.85036 | 12.9831 |\n",
       "| 1963.5 | 8.93673 | 8.90751 | 4.62553 | 5.86464 | 12.9854 |\n",
       "\n"
      ],
      "text/plain": [
       "        y       lag.quarterly.revenue price.index income.level market.potential\n",
       "1962.25 8.79236 8.79636               4.70997     5.82110      12.9699         \n",
       "1962.5  8.79137 8.79236               4.70217     5.82558      12.9733         \n",
       "1962.75 8.81486 8.79137               4.68944     5.83112      12.9774         \n",
       "1963    8.81301 8.81486               4.68558     5.84046      12.9806         \n",
       "1963.25 8.90751 8.81301               4.64019     5.85036      12.9831         \n",
       "1963.5  8.93673 8.90751               4.62553     5.86464      12.9854         "
      ]
     },
     "metadata": {},
     "output_type": "display_data"
    }
   ],
   "source": [
    "head(df)"
   ]
  },
  {
   "cell_type": "code",
   "execution_count": 12,
   "metadata": {
    "scrolled": true
   },
   "outputs": [
    {
     "data": {
      "text/html": [
       "<ol class=list-inline>\n",
       "\t<li>0.809120269364897</li>\n",
       "\t<li>0.807159115487213</li>\n",
       "\t<li>0.804209139925092</li>\n",
       "\t<li>0.802262150584029</li>\n",
       "\t<li>0.793146062806391</li>\n",
       "\t<li>0.788715078845419</li>\n",
       "\t<li>0.786007768357977</li>\n",
       "\t<li>0.782778845061491</li>\n",
       "\t<li>0.778648742604299</li>\n",
       "\t<li>0.775397487849863</li>\n",
       "\t<li>0.773016552870928</li>\n",
       "\t<li>0.769912098235255</li>\n",
       "\t<li>0.76545361781852</li>\n",
       "\t<li>0.763954981619882</li>\n",
       "\t<li>0.759746130328833</li>\n",
       "\t<li>0.757572393222586</li>\n",
       "\t<li>0.755256612784109</li>\n",
       "\t<li>0.751853578075055</li>\n",
       "\t<li>0.749644545654209</li>\n",
       "\t<li>0.74413992572097</li>\n",
       "\t<li>0.741804932606164</li>\n",
       "\t<li>0.739057067389452</li>\n",
       "\t<li>0.733348334094321</li>\n",
       "\t<li>0.729145737701963</li>\n",
       "\t<li>0.726375843208602</li>\n",
       "\t<li>0.72274017488669</li>\n",
       "\t<li>0.720534397161383</li>\n",
       "\t<li>0.720599477295002</li>\n",
       "\t<li>0.717332198154029</li>\n",
       "\t<li>0.713371454600174</li>\n",
       "\t<li>0.710701145390486</li>\n",
       "\t<li>0.702974365971603</li>\n",
       "\t<li>0.701024219746411</li>\n",
       "\t<li>0.697976412809843</li>\n",
       "\t<li>0.699374325431927</li>\n",
       "\t<li>0.696425769655679</li>\n",
       "\t<li>0.694326468078504</li>\n",
       "\t<li>0.690757002601001</li>\n",
       "\t<li>0.689948873441608</li>\n",
       "</ol>\n"
      ],
      "text/latex": [
       "\\begin{enumerate*}\n",
       "\\item 0.809120269364897\n",
       "\\item 0.807159115487213\n",
       "\\item 0.804209139925092\n",
       "\\item 0.802262150584029\n",
       "\\item 0.793146062806391\n",
       "\\item 0.788715078845419\n",
       "\\item 0.786007768357977\n",
       "\\item 0.782778845061491\n",
       "\\item 0.778648742604299\n",
       "\\item 0.775397487849863\n",
       "\\item 0.773016552870928\n",
       "\\item 0.769912098235255\n",
       "\\item 0.76545361781852\n",
       "\\item 0.763954981619882\n",
       "\\item 0.759746130328833\n",
       "\\item 0.757572393222586\n",
       "\\item 0.755256612784109\n",
       "\\item 0.751853578075055\n",
       "\\item 0.749644545654209\n",
       "\\item 0.74413992572097\n",
       "\\item 0.741804932606164\n",
       "\\item 0.739057067389452\n",
       "\\item 0.733348334094321\n",
       "\\item 0.729145737701963\n",
       "\\item 0.726375843208602\n",
       "\\item 0.72274017488669\n",
       "\\item 0.720534397161383\n",
       "\\item 0.720599477295002\n",
       "\\item 0.717332198154029\n",
       "\\item 0.713371454600174\n",
       "\\item 0.710701145390486\n",
       "\\item 0.702974365971603\n",
       "\\item 0.701024219746411\n",
       "\\item 0.697976412809843\n",
       "\\item 0.699374325431927\n",
       "\\item 0.696425769655679\n",
       "\\item 0.694326468078504\n",
       "\\item 0.690757002601001\n",
       "\\item 0.689948873441608\n",
       "\\end{enumerate*}\n"
      ],
      "text/markdown": [
       "1. 0.809120269364897\n",
       "2. 0.807159115487213\n",
       "3. 0.804209139925092\n",
       "4. 0.802262150584029\n",
       "5. 0.793146062806391\n",
       "6. 0.788715078845419\n",
       "7. 0.786007768357977\n",
       "8. 0.782778845061491\n",
       "9. 0.778648742604299\n",
       "10. 0.775397487849863\n",
       "11. 0.773016552870928\n",
       "12. 0.769912098235255\n",
       "13. 0.76545361781852\n",
       "14. 0.763954981619882\n",
       "15. 0.759746130328833\n",
       "16. 0.757572393222586\n",
       "17. 0.755256612784109\n",
       "18. 0.751853578075055\n",
       "19. 0.749644545654209\n",
       "20. 0.74413992572097\n",
       "21. 0.741804932606164\n",
       "22. 0.739057067389452\n",
       "23. 0.733348334094321\n",
       "24. 0.729145737701963\n",
       "25. 0.726375843208602\n",
       "26. 0.72274017488669\n",
       "27. 0.720534397161383\n",
       "28. 0.720599477295002\n",
       "29. 0.717332198154029\n",
       "30. 0.713371454600174\n",
       "31. 0.710701145390486\n",
       "32. 0.702974365971603\n",
       "33. 0.701024219746411\n",
       "34. 0.697976412809843\n",
       "35. 0.699374325431927\n",
       "36. 0.696425769655679\n",
       "37. 0.694326468078504\n",
       "38. 0.690757002601001\n",
       "39. 0.689948873441608\n",
       "\n",
       "\n"
      ],
      "text/plain": [
       " [1] 0.8091203 0.8071591 0.8042091 0.8022622 0.7931461 0.7887151 0.7860078\n",
       " [8] 0.7827788 0.7786487 0.7753975 0.7730166 0.7699121 0.7654536 0.7639550\n",
       "[15] 0.7597461 0.7575724 0.7552566 0.7518536 0.7496445 0.7441399 0.7418049\n",
       "[22] 0.7390571 0.7333483 0.7291457 0.7263758 0.7227402 0.7205344 0.7205995\n",
       "[29] 0.7173322 0.7133715 0.7107011 0.7029744 0.7010242 0.6979764 0.6993743\n",
       "[36] 0.6964258 0.6943265 0.6907570 0.6899489"
      ]
     },
     "metadata": {},
     "output_type": "display_data"
    }
   ],
   "source": [
    "df$price.index/df$income.level"
   ]
  },
  {
   "cell_type": "code",
   "execution_count": 13,
   "metadata": {},
   "outputs": [],
   "source": [
    "df$price.income.ratio <- df$price.index/df$income.level"
   ]
  },
  {
   "cell_type": "code",
   "execution_count": 14,
   "metadata": {},
   "outputs": [
    {
     "data": {
      "text/html": [
       "<table>\n",
       "<thead><tr><th></th><th scope=col>y</th><th scope=col>lag.quarterly.revenue</th><th scope=col>price.index</th><th scope=col>income.level</th><th scope=col>market.potential</th><th scope=col>price.income.ratio</th></tr></thead>\n",
       "<tbody>\n",
       "\t<tr><th scope=row>1962.25</th><td>8.79236  </td><td>8.79636  </td><td>4.70997  </td><td>5.82110  </td><td>12.9699  </td><td>0.8091203</td></tr>\n",
       "\t<tr><th scope=row>1962.5</th><td>8.79137  </td><td>8.79236  </td><td>4.70217  </td><td>5.82558  </td><td>12.9733  </td><td>0.8071591</td></tr>\n",
       "\t<tr><th scope=row>1962.75</th><td>8.81486  </td><td>8.79137  </td><td>4.68944  </td><td>5.83112  </td><td>12.9774  </td><td>0.8042091</td></tr>\n",
       "\t<tr><th scope=row>1963</th><td>8.81301  </td><td>8.81486  </td><td>4.68558  </td><td>5.84046  </td><td>12.9806  </td><td>0.8022622</td></tr>\n",
       "\t<tr><th scope=row>1963.25</th><td>8.90751  </td><td>8.81301  </td><td>4.64019  </td><td>5.85036  </td><td>12.9831  </td><td>0.7931461</td></tr>\n",
       "\t<tr><th scope=row>1963.5</th><td>8.93673  </td><td>8.90751  </td><td>4.62553  </td><td>5.86464  </td><td>12.9854  </td><td>0.7887151</td></tr>\n",
       "</tbody>\n",
       "</table>\n"
      ],
      "text/latex": [
       "\\begin{tabular}{r|llllll}\n",
       "  & y & lag.quarterly.revenue & price.index & income.level & market.potential & price.income.ratio\\\\\n",
       "\\hline\n",
       "\t1962.25 & 8.79236   & 8.79636   & 4.70997   & 5.82110   & 12.9699   & 0.8091203\\\\\n",
       "\t1962.5 & 8.79137   & 8.79236   & 4.70217   & 5.82558   & 12.9733   & 0.8071591\\\\\n",
       "\t1962.75 & 8.81486   & 8.79137   & 4.68944   & 5.83112   & 12.9774   & 0.8042091\\\\\n",
       "\t1963 & 8.81301   & 8.81486   & 4.68558   & 5.84046   & 12.9806   & 0.8022622\\\\\n",
       "\t1963.25 & 8.90751   & 8.81301   & 4.64019   & 5.85036   & 12.9831   & 0.7931461\\\\\n",
       "\t1963.5 & 8.93673   & 8.90751   & 4.62553   & 5.86464   & 12.9854   & 0.7887151\\\\\n",
       "\\end{tabular}\n"
      ],
      "text/markdown": [
       "\n",
       "| <!--/--> | y | lag.quarterly.revenue | price.index | income.level | market.potential | price.income.ratio |\n",
       "|---|---|---|---|---|---|---|\n",
       "| 1962.25 | 8.79236   | 8.79636   | 4.70997   | 5.82110   | 12.9699   | 0.8091203 |\n",
       "| 1962.5 | 8.79137   | 8.79236   | 4.70217   | 5.82558   | 12.9733   | 0.8071591 |\n",
       "| 1962.75 | 8.81486   | 8.79137   | 4.68944   | 5.83112   | 12.9774   | 0.8042091 |\n",
       "| 1963 | 8.81301   | 8.81486   | 4.68558   | 5.84046   | 12.9806   | 0.8022622 |\n",
       "| 1963.25 | 8.90751   | 8.81301   | 4.64019   | 5.85036   | 12.9831   | 0.7931461 |\n",
       "| 1963.5 | 8.93673   | 8.90751   | 4.62553   | 5.86464   | 12.9854   | 0.7887151 |\n",
       "\n"
      ],
      "text/plain": [
       "        y       lag.quarterly.revenue price.index income.level market.potential\n",
       "1962.25 8.79236 8.79636               4.70997     5.82110      12.9699         \n",
       "1962.5  8.79137 8.79236               4.70217     5.82558      12.9733         \n",
       "1962.75 8.81486 8.79137               4.68944     5.83112      12.9774         \n",
       "1963    8.81301 8.81486               4.68558     5.84046      12.9806         \n",
       "1963.25 8.90751 8.81301               4.64019     5.85036      12.9831         \n",
       "1963.5  8.93673 8.90751               4.62553     5.86464      12.9854         \n",
       "        price.income.ratio\n",
       "1962.25 0.8091203         \n",
       "1962.5  0.8071591         \n",
       "1962.75 0.8042091         \n",
       "1963    0.8022622         \n",
       "1963.25 0.7931461         \n",
       "1963.5  0.7887151         "
      ]
     },
     "metadata": {},
     "output_type": "display_data"
    }
   ],
   "source": [
    "head(df)"
   ]
  },
  {
   "cell_type": "markdown",
   "metadata": {},
   "source": [
    "### Good Job! You are done with the section!"
   ]
  },
  {
   "cell_type": "markdown",
   "metadata": {},
   "source": [
    "## Section 2: Machine Learning: Regression Analysis"
   ]
  },
  {
   "cell_type": "markdown",
   "metadata": {},
   "source": [
    "### Question 1\n",
    "**Based on the observations acquired from the above exercise:**  \n",
    "1. Construct a linear regression model using y as dependent variable and top 2 variables with the highest correlation with y as dependent variable.  \n",
    "2. Calculate the r-squared value for the constructed model.  \n",
    "3. Use half the dataset for training and the remaining for testing.  \n",
    "4. Generate in-sample and out-sample predictions and compute variance of residuals [hint: residual= y_predicted - y_observed]  \n",
    "5. Plot the actual and predicted results for y variable.  "
   ]
  },
  {
   "cell_type": "markdown",
   "metadata": {},
   "source": [
    "# Question # 01"
   ]
  },
  {
   "cell_type": "code",
   "execution_count": 15,
   "metadata": {},
   "outputs": [
    {
     "data": {
      "text/html": [
       "<table>\n",
       "<thead><tr><th></th><th scope=col>y</th><th scope=col>lag.quarterly.revenue</th><th scope=col>price.index</th><th scope=col>income.level</th><th scope=col>market.potential</th><th scope=col>price.income.ratio</th></tr></thead>\n",
       "<tbody>\n",
       "\t<tr><th scope=row>1962.25</th><td>8.79236  </td><td>8.79636  </td><td>4.70997  </td><td>5.82110  </td><td>12.9699  </td><td>0.8091203</td></tr>\n",
       "\t<tr><th scope=row>1962.5</th><td>8.79137  </td><td>8.79236  </td><td>4.70217  </td><td>5.82558  </td><td>12.9733  </td><td>0.8071591</td></tr>\n",
       "\t<tr><th scope=row>1962.75</th><td>8.81486  </td><td>8.79137  </td><td>4.68944  </td><td>5.83112  </td><td>12.9774  </td><td>0.8042091</td></tr>\n",
       "\t<tr><th scope=row>1963</th><td>8.81301  </td><td>8.81486  </td><td>4.68558  </td><td>5.84046  </td><td>12.9806  </td><td>0.8022622</td></tr>\n",
       "\t<tr><th scope=row>1963.25</th><td>8.90751  </td><td>8.81301  </td><td>4.64019  </td><td>5.85036  </td><td>12.9831  </td><td>0.7931461</td></tr>\n",
       "\t<tr><th scope=row>1963.5</th><td>8.93673  </td><td>8.90751  </td><td>4.62553  </td><td>5.86464  </td><td>12.9854  </td><td>0.7887151</td></tr>\n",
       "</tbody>\n",
       "</table>\n"
      ],
      "text/latex": [
       "\\begin{tabular}{r|llllll}\n",
       "  & y & lag.quarterly.revenue & price.index & income.level & market.potential & price.income.ratio\\\\\n",
       "\\hline\n",
       "\t1962.25 & 8.79236   & 8.79636   & 4.70997   & 5.82110   & 12.9699   & 0.8091203\\\\\n",
       "\t1962.5 & 8.79137   & 8.79236   & 4.70217   & 5.82558   & 12.9733   & 0.8071591\\\\\n",
       "\t1962.75 & 8.81486   & 8.79137   & 4.68944   & 5.83112   & 12.9774   & 0.8042091\\\\\n",
       "\t1963 & 8.81301   & 8.81486   & 4.68558   & 5.84046   & 12.9806   & 0.8022622\\\\\n",
       "\t1963.25 & 8.90751   & 8.81301   & 4.64019   & 5.85036   & 12.9831   & 0.7931461\\\\\n",
       "\t1963.5 & 8.93673   & 8.90751   & 4.62553   & 5.86464   & 12.9854   & 0.7887151\\\\\n",
       "\\end{tabular}\n"
      ],
      "text/markdown": [
       "\n",
       "| <!--/--> | y | lag.quarterly.revenue | price.index | income.level | market.potential | price.income.ratio |\n",
       "|---|---|---|---|---|---|---|\n",
       "| 1962.25 | 8.79236   | 8.79636   | 4.70997   | 5.82110   | 12.9699   | 0.8091203 |\n",
       "| 1962.5 | 8.79137   | 8.79236   | 4.70217   | 5.82558   | 12.9733   | 0.8071591 |\n",
       "| 1962.75 | 8.81486   | 8.79137   | 4.68944   | 5.83112   | 12.9774   | 0.8042091 |\n",
       "| 1963 | 8.81301   | 8.81486   | 4.68558   | 5.84046   | 12.9806   | 0.8022622 |\n",
       "| 1963.25 | 8.90751   | 8.81301   | 4.64019   | 5.85036   | 12.9831   | 0.7931461 |\n",
       "| 1963.5 | 8.93673   | 8.90751   | 4.62553   | 5.86464   | 12.9854   | 0.7887151 |\n",
       "\n"
      ],
      "text/plain": [
       "        y       lag.quarterly.revenue price.index income.level market.potential\n",
       "1962.25 8.79236 8.79636               4.70997     5.82110      12.9699         \n",
       "1962.5  8.79137 8.79236               4.70217     5.82558      12.9733         \n",
       "1962.75 8.81486 8.79137               4.68944     5.83112      12.9774         \n",
       "1963    8.81301 8.81486               4.68558     5.84046      12.9806         \n",
       "1963.25 8.90751 8.81301               4.64019     5.85036      12.9831         \n",
       "1963.5  8.93673 8.90751               4.62553     5.86464      12.9854         \n",
       "        price.income.ratio\n",
       "1962.25 0.8091203         \n",
       "1962.5  0.8071591         \n",
       "1962.75 0.8042091         \n",
       "1963    0.8022622         \n",
       "1963.25 0.7931461         \n",
       "1963.5  0.7887151         "
      ]
     },
     "metadata": {},
     "output_type": "display_data"
    }
   ],
   "source": [
    "head(df)"
   ]
  },
  {
   "cell_type": "code",
   "execution_count": 16,
   "metadata": {},
   "outputs": [],
   "source": [
    "model <- lm(y ~ lag.quarterly.revenue+price.index, data= df)"
   ]
  },
  {
   "cell_type": "code",
   "execution_count": 17,
   "metadata": {},
   "outputs": [
    {
     "data": {
      "text/plain": [
       "\n",
       "Call:\n",
       "lm(formula = y ~ lag.quarterly.revenue + price.index, data = df)\n",
       "\n",
       "Coefficients:\n",
       "          (Intercept)  lag.quarterly.revenue            price.index  \n",
       "               2.1858                 0.8912                -0.2559  \n"
      ]
     },
     "metadata": {},
     "output_type": "display_data"
    }
   ],
   "source": [
    "model"
   ]
  },
  {
   "cell_type": "markdown",
   "metadata": {},
   "source": [
    "# Question # 02"
   ]
  },
  {
   "cell_type": "code",
   "execution_count": 18,
   "metadata": {},
   "outputs": [
    {
     "data": {
      "text/plain": [
       "\n",
       "Call:\n",
       "lm(formula = y ~ lag.quarterly.revenue + price.index, data = df)\n",
       "\n",
       "Residuals:\n",
       "      Min        1Q    Median        3Q       Max \n",
       "-0.040656 -0.007613 -0.001472  0.015284  0.054893 \n",
       "\n",
       "Coefficients:\n",
       "                      Estimate Std. Error t value Pr(>|t|)    \n",
       "(Intercept)            2.18577    1.47236   1.485    0.146    \n",
       "lag.quarterly.revenue  0.89122    0.07412  12.024 3.63e-14 ***\n",
       "price.index           -0.25592    0.17534  -1.460    0.153    \n",
       "---\n",
       "Signif. codes:  0 '***' 0.001 '**' 0.01 '*' 0.05 '.' 0.1 ' ' 1\n",
       "\n",
       "Residual standard error: 0.02091 on 36 degrees of freedom\n",
       "Multiple R-squared:  0.9958,\tAdjusted R-squared:  0.9956 \n",
       "F-statistic:  4309 on 2 and 36 DF,  p-value: < 2.2e-16\n"
      ]
     },
     "metadata": {},
     "output_type": "display_data"
    }
   ],
   "source": [
    "summary(model)"
   ]
  },
  {
   "cell_type": "markdown",
   "metadata": {},
   "source": [
    "# Question # 03"
   ]
  },
  {
   "cell_type": "code",
   "execution_count": 19,
   "metadata": {},
   "outputs": [],
   "source": [
    "set.seed(100)\n",
    "trainrow <- sample(1:nrow(df),0.7*nrow(df))\n",
    "train_data <- df[trainrow,]\n",
    "test_data <- df[-trainrow,]"
   ]
  },
  {
   "cell_type": "code",
   "execution_count": 20,
   "metadata": {},
   "outputs": [
    {
     "data": {
      "text/html": [
       "<table>\n",
       "<thead><tr><th></th><th scope=col>y</th><th scope=col>lag.quarterly.revenue</th><th scope=col>price.index</th><th scope=col>income.level</th><th scope=col>market.potential</th><th scope=col>price.income.ratio</th></tr></thead>\n",
       "<tbody>\n",
       "\t<tr><th scope=row>1964.5</th><td>9.03049  </td><td>9.00868  </td><td>4.60766  </td><td>5.94232  </td><td>13.0033  </td><td>0.7753975</td></tr>\n",
       "\t<tr><th scope=row>1971.5</th><td>9.77536  </td><td>9.74924  </td><td>4.27839  </td><td>6.19377  </td><td>13.1625  </td><td>0.6907570</td></tr>\n",
       "\t<tr><th scope=row>1968.25</th><td>9.44223  </td><td>9.42150  </td><td>4.43966  </td><td>6.11207  </td><td>13.0950  </td><td>0.7263758</td></tr>\n",
       "\t<tr><th scope=row>1965.5</th><td>9.12685  </td><td>9.10698  </td><td>4.58661  </td><td>6.00377  </td><td>13.0265  </td><td>0.7639550</td></tr>\n",
       "\t<tr><th scope=row>1967.75</th><td>9.39767  </td><td>9.35835  </td><td>4.46505  </td><td>6.08858  </td><td>13.0849  </td><td>0.7333483</td></tr>\n",
       "\t<tr><th scope=row>1967.5</th><td>9.35835  </td><td>9.35025  </td><td>4.49360  </td><td>6.08018  </td><td>13.0770  </td><td>0.7390571</td></tr>\n",
       "</tbody>\n",
       "</table>\n"
      ],
      "text/latex": [
       "\\begin{tabular}{r|llllll}\n",
       "  & y & lag.quarterly.revenue & price.index & income.level & market.potential & price.income.ratio\\\\\n",
       "\\hline\n",
       "\t1964.5 & 9.03049   & 9.00868   & 4.60766   & 5.94232   & 13.0033   & 0.7753975\\\\\n",
       "\t1971.5 & 9.77536   & 9.74924   & 4.27839   & 6.19377   & 13.1625   & 0.6907570\\\\\n",
       "\t1968.25 & 9.44223   & 9.42150   & 4.43966   & 6.11207   & 13.0950   & 0.7263758\\\\\n",
       "\t1965.5 & 9.12685   & 9.10698   & 4.58661   & 6.00377   & 13.0265   & 0.7639550\\\\\n",
       "\t1967.75 & 9.39767   & 9.35835   & 4.46505   & 6.08858   & 13.0849   & 0.7333483\\\\\n",
       "\t1967.5 & 9.35835   & 9.35025   & 4.49360   & 6.08018   & 13.0770   & 0.7390571\\\\\n",
       "\\end{tabular}\n"
      ],
      "text/markdown": [
       "\n",
       "| <!--/--> | y | lag.quarterly.revenue | price.index | income.level | market.potential | price.income.ratio |\n",
       "|---|---|---|---|---|---|---|\n",
       "| 1964.5 | 9.03049   | 9.00868   | 4.60766   | 5.94232   | 13.0033   | 0.7753975 |\n",
       "| 1971.5 | 9.77536   | 9.74924   | 4.27839   | 6.19377   | 13.1625   | 0.6907570 |\n",
       "| 1968.25 | 9.44223   | 9.42150   | 4.43966   | 6.11207   | 13.0950   | 0.7263758 |\n",
       "| 1965.5 | 9.12685   | 9.10698   | 4.58661   | 6.00377   | 13.0265   | 0.7639550 |\n",
       "| 1967.75 | 9.39767   | 9.35835   | 4.46505   | 6.08858   | 13.0849   | 0.7333483 |\n",
       "| 1967.5 | 9.35835   | 9.35025   | 4.49360   | 6.08018   | 13.0770   | 0.7390571 |\n",
       "\n"
      ],
      "text/plain": [
       "        y       lag.quarterly.revenue price.index income.level market.potential\n",
       "1964.5  9.03049 9.00868               4.60766     5.94232      13.0033         \n",
       "1971.5  9.77536 9.74924               4.27839     6.19377      13.1625         \n",
       "1968.25 9.44223 9.42150               4.43966     6.11207      13.0950         \n",
       "1965.5  9.12685 9.10698               4.58661     6.00377      13.0265         \n",
       "1967.75 9.39767 9.35835               4.46505     6.08858      13.0849         \n",
       "1967.5  9.35835 9.35025               4.49360     6.08018      13.0770         \n",
       "        price.income.ratio\n",
       "1964.5  0.7753975         \n",
       "1971.5  0.6907570         \n",
       "1968.25 0.7263758         \n",
       "1965.5  0.7639550         \n",
       "1967.75 0.7333483         \n",
       "1967.5  0.7390571         "
      ]
     },
     "metadata": {},
     "output_type": "display_data"
    }
   ],
   "source": [
    "head(train_data)"
   ]
  },
  {
   "cell_type": "code",
   "execution_count": 21,
   "metadata": {},
   "outputs": [
    {
     "data": {
      "text/html": [
       "<ol class=list-inline>\n",
       "\t<li>27</li>\n",
       "\t<li>6</li>\n",
       "</ol>\n"
      ],
      "text/latex": [
       "\\begin{enumerate*}\n",
       "\\item 27\n",
       "\\item 6\n",
       "\\end{enumerate*}\n"
      ],
      "text/markdown": [
       "1. 27\n",
       "2. 6\n",
       "\n",
       "\n"
      ],
      "text/plain": [
       "[1] 27  6"
      ]
     },
     "metadata": {},
     "output_type": "display_data"
    }
   ],
   "source": [
    "dim(train_data)"
   ]
  },
  {
   "cell_type": "code",
   "execution_count": 22,
   "metadata": {},
   "outputs": [
    {
     "data": {
      "text/html": [
       "<ol class=list-inline>\n",
       "\t<li>12</li>\n",
       "\t<li>6</li>\n",
       "</ol>\n"
      ],
      "text/latex": [
       "\\begin{enumerate*}\n",
       "\\item 12\n",
       "\\item 6\n",
       "\\end{enumerate*}\n"
      ],
      "text/markdown": [
       "1. 12\n",
       "2. 6\n",
       "\n",
       "\n"
      ],
      "text/plain": [
       "[1] 12  6"
      ]
     },
     "metadata": {},
     "output_type": "display_data"
    }
   ],
   "source": [
    "dim(test_data)"
   ]
  },
  {
   "cell_type": "code",
   "execution_count": 23,
   "metadata": {},
   "outputs": [],
   "source": [
    "modelf <- lm(y ~ lag.quarterly.revenue+price.index+income.level+market.potential+price.income.ratio, data = train_data)"
   ]
  },
  {
   "cell_type": "code",
   "execution_count": 24,
   "metadata": {
    "scrolled": true
   },
   "outputs": [
    {
     "data": {
      "text/plain": [
       "\n",
       "Call:\n",
       "lm(formula = y ~ lag.quarterly.revenue + price.index + income.level + \n",
       "    market.potential + price.income.ratio, data = train_data)\n",
       "\n",
       "Coefficients:\n",
       "          (Intercept)  lag.quarterly.revenue            price.index  \n",
       "              -2.4962                 0.3131                 1.4613  \n",
       "         income.level       market.potential     price.income.ratio  \n",
       "              -1.0983                 1.3881               -12.3193  \n"
      ]
     },
     "metadata": {},
     "output_type": "display_data"
    }
   ],
   "source": [
    "modelf"
   ]
  },
  {
   "cell_type": "code",
   "execution_count": 25,
   "metadata": {
    "scrolled": true
   },
   "outputs": [
    {
     "data": {
      "text/plain": [
       "\n",
       "Call:\n",
       "lm(formula = y ~ lag.quarterly.revenue + price.index + income.level + \n",
       "    market.potential + price.income.ratio, data = train_data)\n",
       "\n",
       "Residuals:\n",
       "      Min        1Q    Median        3Q       Max \n",
       "-0.026159 -0.010000  0.001737  0.008903  0.025399 \n",
       "\n",
       "Coefficients:\n",
       "                      Estimate Std. Error t value Pr(>|t|)\n",
       "(Intercept)            -2.4962     8.5398  -0.292    0.773\n",
       "lag.quarterly.revenue   0.3131     0.2759   1.135    0.269\n",
       "price.index             1.4613     2.7797   0.526    0.605\n",
       "income.level           -1.0983     2.4438  -0.449    0.658\n",
       "market.potential        1.3881     1.1299   1.229    0.233\n",
       "price.income.ratio    -12.3193    17.4784  -0.705    0.489\n",
       "\n",
       "Residual standard error: 0.0159 on 21 degrees of freedom\n",
       "Multiple R-squared:  0.9979,\tAdjusted R-squared:  0.9974 \n",
       "F-statistic:  1966 on 5 and 21 DF,  p-value: < 2.2e-16\n"
      ]
     },
     "metadata": {},
     "output_type": "display_data"
    }
   ],
   "source": [
    "summary(modelf)"
   ]
  },
  {
   "cell_type": "code",
   "execution_count": 26,
   "metadata": {},
   "outputs": [
    {
     "data": {
      "text/html": [
       "-139.805655691046"
      ],
      "text/latex": [
       "-139.805655691046"
      ],
      "text/markdown": [
       "-139.805655691046"
      ],
      "text/plain": [
       "[1] -139.8057"
      ]
     },
     "metadata": {},
     "output_type": "display_data"
    }
   ],
   "source": [
    "AIC(modelf)"
   ]
  },
  {
   "cell_type": "code",
   "execution_count": 27,
   "metadata": {},
   "outputs": [],
   "source": [
    "ypred <- predict(modelf, test_data)"
   ]
  },
  {
   "cell_type": "code",
   "execution_count": 28,
   "metadata": {},
   "outputs": [],
   "source": [
    "actuals_preds <- data.frame(cbind(actuals=test_data$y, predecteds = ypred))"
   ]
  },
  {
   "cell_type": "code",
   "execution_count": 29,
   "metadata": {},
   "outputs": [
    {
     "data": {
      "text/html": [
       "<table>\n",
       "<thead><tr><th></th><th scope=col>actuals</th><th scope=col>predecteds</th></tr></thead>\n",
       "<tbody>\n",
       "\t<tr><th scope=row>1962.25</th><td>8.79236 </td><td>8.782392</td></tr>\n",
       "\t<tr><th scope=row>1963.25</th><td>8.90751 </td><td>8.868611</td></tr>\n",
       "\t<tr><th scope=row>1964.25</th><td>9.00868 </td><td>8.994755</td></tr>\n",
       "\t<tr><th scope=row>1965.25</th><td>9.10698 </td><td>9.105412</td></tr>\n",
       "\t<tr><th scope=row>1966</th><td>9.18665 </td><td>9.199416</td></tr>\n",
       "\t<tr><th scope=row>1966.25</th><td>9.23823 </td><td>9.221897</td></tr>\n",
       "</tbody>\n",
       "</table>\n"
      ],
      "text/latex": [
       "\\begin{tabular}{r|ll}\n",
       "  & actuals & predecteds\\\\\n",
       "\\hline\n",
       "\t1962.25 & 8.79236  & 8.782392\\\\\n",
       "\t1963.25 & 8.90751  & 8.868611\\\\\n",
       "\t1964.25 & 9.00868  & 8.994755\\\\\n",
       "\t1965.25 & 9.10698  & 9.105412\\\\\n",
       "\t1966 & 9.18665  & 9.199416\\\\\n",
       "\t1966.25 & 9.23823  & 9.221897\\\\\n",
       "\\end{tabular}\n"
      ],
      "text/markdown": [
       "\n",
       "| <!--/--> | actuals | predecteds |\n",
       "|---|---|---|\n",
       "| 1962.25 | 8.79236  | 8.782392 |\n",
       "| 1963.25 | 8.90751  | 8.868611 |\n",
       "| 1964.25 | 9.00868  | 8.994755 |\n",
       "| 1965.25 | 9.10698  | 9.105412 |\n",
       "| 1966 | 9.18665  | 9.199416 |\n",
       "| 1966.25 | 9.23823  | 9.221897 |\n",
       "\n"
      ],
      "text/plain": [
       "        actuals predecteds\n",
       "1962.25 8.79236 8.782392  \n",
       "1963.25 8.90751 8.868611  \n",
       "1964.25 9.00868 8.994755  \n",
       "1965.25 9.10698 9.105412  \n",
       "1966    9.18665 9.199416  \n",
       "1966.25 9.23823 9.221897  "
      ]
     },
     "metadata": {},
     "output_type": "display_data"
    }
   ],
   "source": [
    "head(actuals_preds)"
   ]
  },
  {
   "cell_type": "code",
   "execution_count": 30,
   "metadata": {},
   "outputs": [
    {
     "data": {
      "text/html": [
       "<table>\n",
       "<thead><tr><th></th><th scope=col>actuals</th><th scope=col>predecteds</th></tr></thead>\n",
       "<tbody>\n",
       "\t<tr><th scope=row>actuals</th><td>1.0000000</td><td>0.9993458</td></tr>\n",
       "\t<tr><th scope=row>predecteds</th><td>0.9993458</td><td>1.0000000</td></tr>\n",
       "</tbody>\n",
       "</table>\n"
      ],
      "text/latex": [
       "\\begin{tabular}{r|ll}\n",
       "  & actuals & predecteds\\\\\n",
       "\\hline\n",
       "\tactuals & 1.0000000 & 0.9993458\\\\\n",
       "\tpredecteds & 0.9993458 & 1.0000000\\\\\n",
       "\\end{tabular}\n"
      ],
      "text/markdown": [
       "\n",
       "| <!--/--> | actuals | predecteds |\n",
       "|---|---|---|\n",
       "| actuals | 1.0000000 | 0.9993458 |\n",
       "| predecteds | 0.9993458 | 1.0000000 |\n",
       "\n"
      ],
      "text/plain": [
       "           actuals   predecteds\n",
       "actuals    1.0000000 0.9993458 \n",
       "predecteds 0.9993458 1.0000000 "
      ]
     },
     "metadata": {},
     "output_type": "display_data"
    }
   ],
   "source": [
    "correlation_accuracy <- cor(actuals_preds)\n",
    "correlation_accuracy"
   ]
  },
  {
   "cell_type": "code",
   "execution_count": 31,
   "metadata": {},
   "outputs": [
    {
     "data": {
      "image/png": "[encoded data removed]",
      "text/plain": [
       "Plot with title \"\""
      ]
     },
     "metadata": {},
     "output_type": "display_data"
    }
   ],
   "source": [
    "corrplot(correlation_accuracy)"
   ]
  },
  {
   "cell_type": "code",
   "execution_count": 32,
   "metadata": {},
   "outputs": [],
   "source": [
    "mape <- mean(abs((actuals_preds$predecteds - actuals_preds$actual))/ actuals_preds$actuals)"
   ]
  },
  {
   "cell_type": "code",
   "execution_count": 33,
   "metadata": {},
   "outputs": [
    {
     "data": {
      "text/html": [
       "0.00127517895934415"
      ],
      "text/latex": [
       "0.00127517895934415"
      ],
      "text/markdown": [
       "0.00127517895934415"
      ],
      "text/plain": [
       "[1] 0.001275179"
      ]
     },
     "metadata": {},
     "output_type": "display_data"
    }
   ],
   "source": [
    "mape"
   ]
  },
  {
   "cell_type": "markdown",
   "metadata": {},
   "source": [
    "# Question # 04"
   ]
  },
  {
   "cell_type": "code",
   "execution_count": 34,
   "metadata": {},
   "outputs": [
    {
     "data": {
      "text/html": [
       "<table>\n",
       "<thead><tr><th></th><th scope=col>actuals</th><th scope=col>predecteds</th><th scope=col>residual</th></tr></thead>\n",
       "<tbody>\n",
       "\t<tr><th scope=row>1962.25</th><td>8.79236     </td><td>8.782392    </td><td>-0.009967715</td></tr>\n",
       "\t<tr><th scope=row>1963.25</th><td>8.90751     </td><td>8.868611    </td><td>-0.038899306</td></tr>\n",
       "\t<tr><th scope=row>1964.25</th><td>9.00868     </td><td>8.994755    </td><td>-0.013925408</td></tr>\n",
       "\t<tr><th scope=row>1965.25</th><td>9.10698     </td><td>9.105412    </td><td>-0.001567691</td></tr>\n",
       "\t<tr><th scope=row>1966</th><td>9.18665     </td><td>9.199416    </td><td> 0.012766037</td></tr>\n",
       "\t<tr><th scope=row>1966.25</th><td>9.23823     </td><td>9.221897    </td><td>-0.016332994</td></tr>\n",
       "</tbody>\n",
       "</table>\n"
      ],
      "text/latex": [
       "\\begin{tabular}{r|lll}\n",
       "  & actuals & predecteds & residual\\\\\n",
       "\\hline\n",
       "\t1962.25 & 8.79236      & 8.782392     & -0.009967715\\\\\n",
       "\t1963.25 & 8.90751      & 8.868611     & -0.038899306\\\\\n",
       "\t1964.25 & 9.00868      & 8.994755     & -0.013925408\\\\\n",
       "\t1965.25 & 9.10698      & 9.105412     & -0.001567691\\\\\n",
       "\t1966 & 9.18665      & 9.199416     &  0.012766037\\\\\n",
       "\t1966.25 & 9.23823      & 9.221897     & -0.016332994\\\\\n",
       "\\end{tabular}\n"
      ],
      "text/markdown": [
       "\n",
       "| <!--/--> | actuals | predecteds | residual |\n",
       "|---|---|---|---|\n",
       "| 1962.25 | 8.79236      | 8.782392     | -0.009967715 |\n",
       "| 1963.25 | 8.90751      | 8.868611     | -0.038899306 |\n",
       "| 1964.25 | 9.00868      | 8.994755     | -0.013925408 |\n",
       "| 1965.25 | 9.10698      | 9.105412     | -0.001567691 |\n",
       "| 1966 | 9.18665      | 9.199416     |  0.012766037 |\n",
       "| 1966.25 | 9.23823      | 9.221897     | -0.016332994 |\n",
       "\n"
      ],
      "text/plain": [
       "        actuals predecteds residual    \n",
       "1962.25 8.79236 8.782392   -0.009967715\n",
       "1963.25 8.90751 8.868611   -0.038899306\n",
       "1964.25 9.00868 8.994755   -0.013925408\n",
       "1965.25 9.10698 9.105412   -0.001567691\n",
       "1966    9.18665 9.199416    0.012766037\n",
       "1966.25 9.23823 9.221897   -0.016332994"
      ]
     },
     "metadata": {},
     "output_type": "display_data"
    }
   ],
   "source": [
    "residual <- actuals_preds$predecteds - actuals_preds$actual\n",
    "residual <- data.frame(residual)\n",
    "head(cbind(actuals_preds,residual))\n"
   ]
  },
  {
   "cell_type": "markdown",
   "metadata": {},
   "source": [
    "# Question # 05"
   ]
  },
  {
   "cell_type": "code",
   "execution_count": 35,
   "metadata": {},
   "outputs": [
    {
     "data": {
      "image/png": "[encoded data removed]",
      "text/plain": [
       "Plot with title \"Predicted vs. Actual Values\""
      ]
     },
     "metadata": {},
     "output_type": "display_data"
    }
   ],
   "source": [
    "plot(x=actuals_preds$predecteds, y= actuals_preds$actuals,\n",
    "     xlab='Predicted Values',\n",
    "     ylab='Actual Values',\n",
    "     main='Predicted vs. Actual Values')\n",
    "abline(a=0, b=1)"
   ]
  },
  {
   "cell_type": "code",
   "execution_count": 36,
   "metadata": {},
   "outputs": [
    {
     "data": {
      "text/plain": [
       "\n",
       "Call:\n",
       "lm(formula = y ~ lag.quarterly.revenue + price.index + income.level + \n",
       "    market.potential + price.income.ratio, data = train_data)\n",
       "\n",
       "Coefficients:\n",
       "          (Intercept)  lag.quarterly.revenue            price.index  \n",
       "              -2.4962                 0.3131                 1.4613  \n",
       "         income.level       market.potential     price.income.ratio  \n",
       "              -1.0983                 1.3881               -12.3193  \n"
      ]
     },
     "metadata": {},
     "output_type": "display_data"
    }
   ],
   "source": [
    "modelf"
   ]
  },
  {
   "cell_type": "code",
   "execution_count": 37,
   "metadata": {},
   "outputs": [
    {
     "data": {
      "image/png": "[encoded data removed]",
      "text/plain": [
       "plot without title"
      ]
     },
     "metadata": {},
     "output_type": "display_data"
    }
   ],
   "source": [
    "plot(actuals_preds$predecteds,actuals_preds$actuals)"
   ]
  },
  {
   "cell_type": "code",
   "execution_count": null,
   "metadata": {},
   "outputs": [],
   "source": []
  },
  {
   "cell_type": "markdown",
   "metadata": {},
   "source": [
    "### Good Job! You are done with the section!"
   ]
  },
  {
   "cell_type": "markdown",
   "metadata": {},
   "source": [
    "## Section 3: Machine Learning: Logistic Regression"
   ]
  },
  {
   "cell_type": "markdown",
   "metadata": {},
   "source": [
    "## Question 1  \n",
    "**Construct a logistic regression model using the Smarket dataset:**  \n",
    "1. Your task is to predict the direction [Up: 1, Down:0].  \n",
    "2. Use a combination of variables that produces the lowest residual variance.  \n",
    "3. Plot the predicted vs. actual values.  \n",
    "4. Construct variable importance plot for all the variables.  "
   ]
  },
  {
   "cell_type": "code",
   "execution_count": 1,
   "metadata": {
    "scrolled": true
   },
   "outputs": [
    {
     "name": "stderr",
     "output_type": "stream",
     "text": [
      "Loading required package: ISLR\n"
     ]
    },
    {
     "data": {
      "text/html": [
       "<table>\n",
       "<thead><tr><th scope=col>Year</th><th scope=col>Lag1</th><th scope=col>Lag2</th><th scope=col>Lag3</th><th scope=col>Lag4</th><th scope=col>Lag5</th><th scope=col>Volume</th><th scope=col>Today</th><th scope=col>Direction</th></tr></thead>\n",
       "<tbody>\n",
       "\t<tr><td>2001  </td><td> 0.381</td><td>-0.192</td><td>-2.624</td><td>-1.055</td><td> 5.010</td><td>1.1913</td><td> 0.959</td><td>Up    </td></tr>\n",
       "\t<tr><td>2001  </td><td> 0.959</td><td> 0.381</td><td>-0.192</td><td>-2.624</td><td>-1.055</td><td>1.2965</td><td> 1.032</td><td>Up    </td></tr>\n",
       "\t<tr><td>2001  </td><td> 1.032</td><td> 0.959</td><td> 0.381</td><td>-0.192</td><td>-2.624</td><td>1.4112</td><td>-0.623</td><td>Down  </td></tr>\n",
       "\t<tr><td>2001  </td><td>-0.623</td><td> 1.032</td><td> 0.959</td><td> 0.381</td><td>-0.192</td><td>1.2760</td><td> 0.614</td><td>Up    </td></tr>\n",
       "\t<tr><td>2001  </td><td> 0.614</td><td>-0.623</td><td> 1.032</td><td> 0.959</td><td> 0.381</td><td>1.2057</td><td> 0.213</td><td>Up    </td></tr>\n",
       "\t<tr><td>2001  </td><td> 0.213</td><td> 0.614</td><td>-0.623</td><td> 1.032</td><td> 0.959</td><td>1.3491</td><td> 1.392</td><td>Up    </td></tr>\n",
       "</tbody>\n",
       "</table>\n"
      ],
      "text/latex": [
       "\\begin{tabular}{r|lllllllll}\n",
       " Year & Lag1 & Lag2 & Lag3 & Lag4 & Lag5 & Volume & Today & Direction\\\\\n",
       "\\hline\n",
       "\t 2001   &  0.381 & -0.192 & -2.624 & -1.055 &  5.010 & 1.1913 &  0.959 & Up    \\\\\n",
       "\t 2001   &  0.959 &  0.381 & -0.192 & -2.624 & -1.055 & 1.2965 &  1.032 & Up    \\\\\n",
       "\t 2001   &  1.032 &  0.959 &  0.381 & -0.192 & -2.624 & 1.4112 & -0.623 & Down  \\\\\n",
       "\t 2001   & -0.623 &  1.032 &  0.959 &  0.381 & -0.192 & 1.2760 &  0.614 & Up    \\\\\n",
       "\t 2001   &  0.614 & -0.623 &  1.032 &  0.959 &  0.381 & 1.2057 &  0.213 & Up    \\\\\n",
       "\t 2001   &  0.213 &  0.614 & -0.623 &  1.032 &  0.959 & 1.3491 &  1.392 & Up    \\\\\n",
       "\\end{tabular}\n"
      ],
      "text/markdown": [
       "\n",
       "| Year | Lag1 | Lag2 | Lag3 | Lag4 | Lag5 | Volume | Today | Direction |\n",
       "|---|---|---|---|---|---|---|---|---|\n",
       "| 2001   |  0.381 | -0.192 | -2.624 | -1.055 |  5.010 | 1.1913 |  0.959 | Up     |\n",
       "| 2001   |  0.959 |  0.381 | -0.192 | -2.624 | -1.055 | 1.2965 |  1.032 | Up     |\n",
       "| 2001   |  1.032 |  0.959 |  0.381 | -0.192 | -2.624 | 1.4112 | -0.623 | Down   |\n",
       "| 2001   | -0.623 |  1.032 |  0.959 |  0.381 | -0.192 | 1.2760 |  0.614 | Up     |\n",
       "| 2001   |  0.614 | -0.623 |  1.032 |  0.959 |  0.381 | 1.2057 |  0.213 | Up     |\n",
       "| 2001   |  0.213 |  0.614 | -0.623 |  1.032 |  0.959 | 1.3491 |  1.392 | Up     |\n",
       "\n"
      ],
      "text/plain": [
       "  Year Lag1   Lag2   Lag3   Lag4   Lag5   Volume Today  Direction\n",
       "1 2001  0.381 -0.192 -2.624 -1.055  5.010 1.1913  0.959 Up       \n",
       "2 2001  0.959  0.381 -0.192 -2.624 -1.055 1.2965  1.032 Up       \n",
       "3 2001  1.032  0.959  0.381 -0.192 -2.624 1.4112 -0.623 Down     \n",
       "4 2001 -0.623  1.032  0.959  0.381 -0.192 1.2760  0.614 Up       \n",
       "5 2001  0.614 -0.623  1.032  0.959  0.381 1.2057  0.213 Up       \n",
       "6 2001  0.213  0.614 -0.623  1.032  0.959 1.3491  1.392 Up       "
      ]
     },
     "metadata": {},
     "output_type": "display_data"
    }
   ],
   "source": [
    "#install.packages('ISLR')\n",
    "require('ISLR')\n",
    "head(Smarket)\n",
    "df <- Smarket"
   ]
  },
  {
   "cell_type": "code",
   "execution_count": 2,
   "metadata": {
    "scrolled": false
   },
   "outputs": [
    {
     "data": {
      "text/html": [
       "<table>\n",
       "<thead><tr><th scope=col>Year</th><th scope=col>Lag1</th><th scope=col>Lag2</th><th scope=col>Lag3</th><th scope=col>Lag4</th><th scope=col>Lag5</th><th scope=col>Volume</th><th scope=col>Today</th><th scope=col>Direction</th></tr></thead>\n",
       "<tbody>\n",
       "\t<tr><td>2001  </td><td> 0.381</td><td>-0.192</td><td>-2.624</td><td>-1.055</td><td> 5.010</td><td>1.1913</td><td> 0.959</td><td>Up    </td></tr>\n",
       "\t<tr><td>2001  </td><td> 0.959</td><td> 0.381</td><td>-0.192</td><td>-2.624</td><td>-1.055</td><td>1.2965</td><td> 1.032</td><td>Up    </td></tr>\n",
       "\t<tr><td>2001  </td><td> 1.032</td><td> 0.959</td><td> 0.381</td><td>-0.192</td><td>-2.624</td><td>1.4112</td><td>-0.623</td><td>Down  </td></tr>\n",
       "\t<tr><td>2001  </td><td>-0.623</td><td> 1.032</td><td> 0.959</td><td> 0.381</td><td>-0.192</td><td>1.2760</td><td> 0.614</td><td>Up    </td></tr>\n",
       "\t<tr><td>2001  </td><td> 0.614</td><td>-0.623</td><td> 1.032</td><td> 0.959</td><td> 0.381</td><td>1.2057</td><td> 0.213</td><td>Up    </td></tr>\n",
       "\t<tr><td>2001  </td><td> 0.213</td><td> 0.614</td><td>-0.623</td><td> 1.032</td><td> 0.959</td><td>1.3491</td><td> 1.392</td><td>Up    </td></tr>\n",
       "</tbody>\n",
       "</table>\n"
      ],
      "text/latex": [
       "\\begin{tabular}{r|lllllllll}\n",
       " Year & Lag1 & Lag2 & Lag3 & Lag4 & Lag5 & Volume & Today & Direction\\\\\n",
       "\\hline\n",
       "\t 2001   &  0.381 & -0.192 & -2.624 & -1.055 &  5.010 & 1.1913 &  0.959 & Up    \\\\\n",
       "\t 2001   &  0.959 &  0.381 & -0.192 & -2.624 & -1.055 & 1.2965 &  1.032 & Up    \\\\\n",
       "\t 2001   &  1.032 &  0.959 &  0.381 & -0.192 & -2.624 & 1.4112 & -0.623 & Down  \\\\\n",
       "\t 2001   & -0.623 &  1.032 &  0.959 &  0.381 & -0.192 & 1.2760 &  0.614 & Up    \\\\\n",
       "\t 2001   &  0.614 & -0.623 &  1.032 &  0.959 &  0.381 & 1.2057 &  0.213 & Up    \\\\\n",
       "\t 2001   &  0.213 &  0.614 & -0.623 &  1.032 &  0.959 & 1.3491 &  1.392 & Up    \\\\\n",
       "\\end{tabular}\n"
      ],
      "text/markdown": [
       "\n",
       "| Year | Lag1 | Lag2 | Lag3 | Lag4 | Lag5 | Volume | Today | Direction |\n",
       "|---|---|---|---|---|---|---|---|---|\n",
       "| 2001   |  0.381 | -0.192 | -2.624 | -1.055 |  5.010 | 1.1913 |  0.959 | Up     |\n",
       "| 2001   |  0.959 |  0.381 | -0.192 | -2.624 | -1.055 | 1.2965 |  1.032 | Up     |\n",
       "| 2001   |  1.032 |  0.959 |  0.381 | -0.192 | -2.624 | 1.4112 | -0.623 | Down   |\n",
       "| 2001   | -0.623 |  1.032 |  0.959 |  0.381 | -0.192 | 1.2760 |  0.614 | Up     |\n",
       "| 2001   |  0.614 | -0.623 |  1.032 |  0.959 |  0.381 | 1.2057 |  0.213 | Up     |\n",
       "| 2001   |  0.213 |  0.614 | -0.623 |  1.032 |  0.959 | 1.3491 |  1.392 | Up     |\n",
       "\n"
      ],
      "text/plain": [
       "  Year Lag1   Lag2   Lag3   Lag4   Lag5   Volume Today  Direction\n",
       "1 2001  0.381 -0.192 -2.624 -1.055  5.010 1.1913  0.959 Up       \n",
       "2 2001  0.959  0.381 -0.192 -2.624 -1.055 1.2965  1.032 Up       \n",
       "3 2001  1.032  0.959  0.381 -0.192 -2.624 1.4112 -0.623 Down     \n",
       "4 2001 -0.623  1.032  0.959  0.381 -0.192 1.2760  0.614 Up       \n",
       "5 2001  0.614 -0.623  1.032  0.959  0.381 1.2057  0.213 Up       \n",
       "6 2001  0.213  0.614 -0.623  1.032  0.959 1.3491  1.392 Up       "
      ]
     },
     "metadata": {},
     "output_type": "display_data"
    }
   ],
   "source": [
    "head(df)"
   ]
  },
  {
   "cell_type": "code",
   "execution_count": 3,
   "metadata": {},
   "outputs": [
    {
     "data": {
      "text/html": [
       "<table>\n",
       "<thead><tr><th></th><th scope=col>df.Year</th><th scope=col>df.Lag1</th><th scope=col>df.Lag2</th><th scope=col>df.Lag3</th><th scope=col>df.Lag4</th><th scope=col>df.Lag5</th><th scope=col>df.Volume</th><th scope=col>df.Today</th></tr></thead>\n",
       "<tbody>\n",
       "\t<tr><th scope=row>df.Year</th><td>1.00000000  </td><td> 0.029699649</td><td> 0.030596422</td><td> 0.033194581</td><td> 0.035688718</td><td> 0.029787995</td><td> 0.53900647 </td><td> 0.030095229</td></tr>\n",
       "\t<tr><th scope=row>df.Lag1</th><td>0.02969965  </td><td> 1.000000000</td><td>-0.026294328</td><td>-0.010803402</td><td>-0.002985911</td><td>-0.005674606</td><td> 0.04090991 </td><td>-0.026155045</td></tr>\n",
       "\t<tr><th scope=row>df.Lag2</th><td>0.03059642  </td><td>-0.026294328</td><td> 1.000000000</td><td>-0.025896670</td><td>-0.010853533</td><td>-0.003557949</td><td>-0.04338321 </td><td>-0.010250033</td></tr>\n",
       "\t<tr><th scope=row>df.Lag3</th><td>0.03319458  </td><td>-0.010803402</td><td>-0.025896670</td><td> 1.000000000</td><td>-0.024051036</td><td>-0.018808338</td><td>-0.04182369 </td><td>-0.002447647</td></tr>\n",
       "\t<tr><th scope=row>df.Lag4</th><td>0.03568872  </td><td>-0.002985911</td><td>-0.010853533</td><td>-0.024051036</td><td> 1.000000000</td><td>-0.027083641</td><td>-0.04841425 </td><td>-0.006899527</td></tr>\n",
       "\t<tr><th scope=row>df.Lag5</th><td>0.02978799  </td><td>-0.005674606</td><td>-0.003557949</td><td>-0.018808338</td><td>-0.027083641</td><td> 1.000000000</td><td>-0.02200231 </td><td>-0.034860083</td></tr>\n",
       "\t<tr><th scope=row>df.Volume</th><td>0.53900647  </td><td> 0.040909908</td><td>-0.043383215</td><td>-0.041823686</td><td>-0.048414246</td><td>-0.022002315</td><td> 1.00000000 </td><td> 0.014591823</td></tr>\n",
       "\t<tr><th scope=row>df.Today</th><td>0.03009523  </td><td>-0.026155045</td><td>-0.010250033</td><td>-0.002447647</td><td>-0.006899527</td><td>-0.034860083</td><td> 0.01459182 </td><td> 1.000000000</td></tr>\n",
       "</tbody>\n",
       "</table>\n"
      ],
      "text/latex": [
       "\\begin{tabular}{r|llllllll}\n",
       "  & df.Year & df.Lag1 & df.Lag2 & df.Lag3 & df.Lag4 & df.Lag5 & df.Volume & df.Today\\\\\n",
       "\\hline\n",
       "\tdf.Year & 1.00000000   &  0.029699649 &  0.030596422 &  0.033194581 &  0.035688718 &  0.029787995 &  0.53900647  &  0.030095229\\\\\n",
       "\tdf.Lag1 & 0.02969965   &  1.000000000 & -0.026294328 & -0.010803402 & -0.002985911 & -0.005674606 &  0.04090991  & -0.026155045\\\\\n",
       "\tdf.Lag2 & 0.03059642   & -0.026294328 &  1.000000000 & -0.025896670 & -0.010853533 & -0.003557949 & -0.04338321  & -0.010250033\\\\\n",
       "\tdf.Lag3 & 0.03319458   & -0.010803402 & -0.025896670 &  1.000000000 & -0.024051036 & -0.018808338 & -0.04182369  & -0.002447647\\\\\n",
       "\tdf.Lag4 & 0.03568872   & -0.002985911 & -0.010853533 & -0.024051036 &  1.000000000 & -0.027083641 & -0.04841425  & -0.006899527\\\\\n",
       "\tdf.Lag5 & 0.02978799   & -0.005674606 & -0.003557949 & -0.018808338 & -0.027083641 &  1.000000000 & -0.02200231  & -0.034860083\\\\\n",
       "\tdf.Volume & 0.53900647   &  0.040909908 & -0.043383215 & -0.041823686 & -0.048414246 & -0.022002315 &  1.00000000  &  0.014591823\\\\\n",
       "\tdf.Today & 0.03009523   & -0.026155045 & -0.010250033 & -0.002447647 & -0.006899527 & -0.034860083 &  0.01459182  &  1.000000000\\\\\n",
       "\\end{tabular}\n"
      ],
      "text/markdown": [
       "\n",
       "| <!--/--> | df.Year | df.Lag1 | df.Lag2 | df.Lag3 | df.Lag4 | df.Lag5 | df.Volume | df.Today |\n",
       "|---|---|---|---|---|---|---|---|---|\n",
       "| df.Year | 1.00000000   |  0.029699649 |  0.030596422 |  0.033194581 |  0.035688718 |  0.029787995 |  0.53900647  |  0.030095229 |\n",
       "| df.Lag1 | 0.02969965   |  1.000000000 | -0.026294328 | -0.010803402 | -0.002985911 | -0.005674606 |  0.04090991  | -0.026155045 |\n",
       "| df.Lag2 | 0.03059642   | -0.026294328 |  1.000000000 | -0.025896670 | -0.010853533 | -0.003557949 | -0.04338321  | -0.010250033 |\n",
       "| df.Lag3 | 0.03319458   | -0.010803402 | -0.025896670 |  1.000000000 | -0.024051036 | -0.018808338 | -0.04182369  | -0.002447647 |\n",
       "| df.Lag4 | 0.03568872   | -0.002985911 | -0.010853533 | -0.024051036 |  1.000000000 | -0.027083641 | -0.04841425  | -0.006899527 |\n",
       "| df.Lag5 | 0.02978799   | -0.005674606 | -0.003557949 | -0.018808338 | -0.027083641 |  1.000000000 | -0.02200231  | -0.034860083 |\n",
       "| df.Volume | 0.53900647   |  0.040909908 | -0.043383215 | -0.041823686 | -0.048414246 | -0.022002315 |  1.00000000  |  0.014591823 |\n",
       "| df.Today | 0.03009523   | -0.026155045 | -0.010250033 | -0.002447647 | -0.006899527 | -0.034860083 |  0.01459182  |  1.000000000 |\n",
       "\n"
      ],
      "text/plain": [
       "          df.Year    df.Lag1      df.Lag2      df.Lag3      df.Lag4     \n",
       "df.Year   1.00000000  0.029699649  0.030596422  0.033194581  0.035688718\n",
       "df.Lag1   0.02969965  1.000000000 -0.026294328 -0.010803402 -0.002985911\n",
       "df.Lag2   0.03059642 -0.026294328  1.000000000 -0.025896670 -0.010853533\n",
       "df.Lag3   0.03319458 -0.010803402 -0.025896670  1.000000000 -0.024051036\n",
       "df.Lag4   0.03568872 -0.002985911 -0.010853533 -0.024051036  1.000000000\n",
       "df.Lag5   0.02978799 -0.005674606 -0.003557949 -0.018808338 -0.027083641\n",
       "df.Volume 0.53900647  0.040909908 -0.043383215 -0.041823686 -0.048414246\n",
       "df.Today  0.03009523 -0.026155045 -0.010250033 -0.002447647 -0.006899527\n",
       "          df.Lag5      df.Volume   df.Today    \n",
       "df.Year    0.029787995  0.53900647  0.030095229\n",
       "df.Lag1   -0.005674606  0.04090991 -0.026155045\n",
       "df.Lag2   -0.003557949 -0.04338321 -0.010250033\n",
       "df.Lag3   -0.018808338 -0.04182369 -0.002447647\n",
       "df.Lag4   -0.027083641 -0.04841425 -0.006899527\n",
       "df.Lag5    1.000000000 -0.02200231 -0.034860083\n",
       "df.Volume -0.022002315  1.00000000  0.014591823\n",
       "df.Today  -0.034860083  0.01459182  1.000000000"
      ]
     },
     "metadata": {},
     "output_type": "display_data"
    }
   ],
   "source": [
    "m <- data.frame(df$Year,df$Lag1,df$Lag2,df$Lag3,df$Lag4,df$Lag5,df$Volume,df$Today)\n",
    "f <- cor(m)\n",
    "f"
   ]
  },
  {
   "cell_type": "code",
   "execution_count": 4,
   "metadata": {
    "scrolled": true
   },
   "outputs": [
    {
     "name": "stderr",
     "output_type": "stream",
     "text": [
      "corrplot 0.92 loaded\n"
     ]
    },
    {
     "data": {
      "image/png": "[encoded data removed]",
      "text/plain": [
       "Plot with title \"\""
      ]
     },
     "metadata": {},
     "output_type": "display_data"
    }
   ],
   "source": [
    "library(corrplot)\n",
    "corrplot(f)"
   ]
  },
  {
   "cell_type": "code",
   "execution_count": 8,
   "metadata": {},
   "outputs": [
    {
     "ename": "ERROR",
     "evalue": "Error in library(psych): there is no package called 'psych'\n",
     "output_type": "error",
     "traceback": [
      "Error in library(psych): there is no package called 'psych'\nTraceback:\n",
      "1. library(psych)"
     ]
    }
   ],
   "source": [
    "library(psych)\n",
    "library(corrplot)\n",
    "library(RColorBrewer)"
   ]
  },
  {
   "cell_type": "code",
   "execution_count": 9,
   "metadata": {},
   "outputs": [
    {
     "name": "stdout",
     "output_type": "stream",
     "text": [
      "\n",
      "  There is a binary version available but the source version is later:\n",
      "      binary source needs_compilation\n",
      "psych  2.1.3  2.2.5             FALSE\n",
      "\n"
     ]
    },
    {
     "name": "stderr",
     "output_type": "stream",
     "text": [
      "installing the source package 'psych'\n",
      "\n",
      "Warning message in install.packages(\"psych\"):\n",
      "\"installation of package 'psych' had non-zero exit status\""
     ]
    }
   ],
   "source": [
    "install.packages(\"psych\")"
   ]
  },
  {
   "cell_type": "code",
   "execution_count": null,
   "metadata": {},
   "outputs": [],
   "source": []
  },
  {
   "cell_type": "markdown",
   "metadata": {},
   "source": [
    "# Question # 01"
   ]
  },
  {
   "cell_type": "code",
   "execution_count": 5,
   "metadata": {
    "scrolled": true
   },
   "outputs": [
    {
     "data": {
      "text/html": [
       "<table>\n",
       "<thead><tr><th scope=col>Year</th><th scope=col>Lag1</th><th scope=col>Lag2</th><th scope=col>Lag3</th><th scope=col>Lag4</th><th scope=col>Lag5</th><th scope=col>Volume</th><th scope=col>Today</th><th scope=col>Direction</th></tr></thead>\n",
       "<tbody>\n",
       "\t<tr><td>2001  </td><td> 0.381</td><td>-0.192</td><td>-2.624</td><td>-1.055</td><td> 5.010</td><td>1.1913</td><td> 0.959</td><td>Up    </td></tr>\n",
       "\t<tr><td>2001  </td><td> 0.959</td><td> 0.381</td><td>-0.192</td><td>-2.624</td><td>-1.055</td><td>1.2965</td><td> 1.032</td><td>Up    </td></tr>\n",
       "\t<tr><td>2001  </td><td> 1.032</td><td> 0.959</td><td> 0.381</td><td>-0.192</td><td>-2.624</td><td>1.4112</td><td>-0.623</td><td>Down  </td></tr>\n",
       "\t<tr><td>2001  </td><td>-0.623</td><td> 1.032</td><td> 0.959</td><td> 0.381</td><td>-0.192</td><td>1.2760</td><td> 0.614</td><td>Up    </td></tr>\n",
       "\t<tr><td>2001  </td><td> 0.614</td><td>-0.623</td><td> 1.032</td><td> 0.959</td><td> 0.381</td><td>1.2057</td><td> 0.213</td><td>Up    </td></tr>\n",
       "\t<tr><td>2001  </td><td> 0.213</td><td> 0.614</td><td>-0.623</td><td> 1.032</td><td> 0.959</td><td>1.3491</td><td> 1.392</td><td>Up    </td></tr>\n",
       "</tbody>\n",
       "</table>\n"
      ],
      "text/latex": [
       "\\begin{tabular}{r|lllllllll}\n",
       " Year & Lag1 & Lag2 & Lag3 & Lag4 & Lag5 & Volume & Today & Direction\\\\\n",
       "\\hline\n",
       "\t 2001   &  0.381 & -0.192 & -2.624 & -1.055 &  5.010 & 1.1913 &  0.959 & Up    \\\\\n",
       "\t 2001   &  0.959 &  0.381 & -0.192 & -2.624 & -1.055 & 1.2965 &  1.032 & Up    \\\\\n",
       "\t 2001   &  1.032 &  0.959 &  0.381 & -0.192 & -2.624 & 1.4112 & -0.623 & Down  \\\\\n",
       "\t 2001   & -0.623 &  1.032 &  0.959 &  0.381 & -0.192 & 1.2760 &  0.614 & Up    \\\\\n",
       "\t 2001   &  0.614 & -0.623 &  1.032 &  0.959 &  0.381 & 1.2057 &  0.213 & Up    \\\\\n",
       "\t 2001   &  0.213 &  0.614 & -0.623 &  1.032 &  0.959 & 1.3491 &  1.392 & Up    \\\\\n",
       "\\end{tabular}\n"
      ],
      "text/markdown": [
       "\n",
       "| Year | Lag1 | Lag2 | Lag3 | Lag4 | Lag5 | Volume | Today | Direction |\n",
       "|---|---|---|---|---|---|---|---|---|\n",
       "| 2001   |  0.381 | -0.192 | -2.624 | -1.055 |  5.010 | 1.1913 |  0.959 | Up     |\n",
       "| 2001   |  0.959 |  0.381 | -0.192 | -2.624 | -1.055 | 1.2965 |  1.032 | Up     |\n",
       "| 2001   |  1.032 |  0.959 |  0.381 | -0.192 | -2.624 | 1.4112 | -0.623 | Down   |\n",
       "| 2001   | -0.623 |  1.032 |  0.959 |  0.381 | -0.192 | 1.2760 |  0.614 | Up     |\n",
       "| 2001   |  0.614 | -0.623 |  1.032 |  0.959 |  0.381 | 1.2057 |  0.213 | Up     |\n",
       "| 2001   |  0.213 |  0.614 | -0.623 |  1.032 |  0.959 | 1.3491 |  1.392 | Up     |\n",
       "\n"
      ],
      "text/plain": [
       "  Year Lag1   Lag2   Lag3   Lag4   Lag5   Volume Today  Direction\n",
       "1 2001  0.381 -0.192 -2.624 -1.055  5.010 1.1913  0.959 Up       \n",
       "2 2001  0.959  0.381 -0.192 -2.624 -1.055 1.2965  1.032 Up       \n",
       "3 2001  1.032  0.959  0.381 -0.192 -2.624 1.4112 -0.623 Down     \n",
       "4 2001 -0.623  1.032  0.959  0.381 -0.192 1.2760  0.614 Up       \n",
       "5 2001  0.614 -0.623  1.032  0.959  0.381 1.2057  0.213 Up       \n",
       "6 2001  0.213  0.614 -0.623  1.032  0.959 1.3491  1.392 Up       "
      ]
     },
     "metadata": {},
     "output_type": "display_data"
    }
   ],
   "source": [
    "require('ISLR')\n",
    "head(Smarket)\n",
    "df <- Smarket"
   ]
  },
  {
   "cell_type": "code",
   "execution_count": 6,
   "metadata": {},
   "outputs": [
    {
     "name": "stderr",
     "output_type": "stream",
     "text": [
      "\n",
      "Attaching package: 'dplyr'\n",
      "\n",
      "The following objects are masked from 'package:stats':\n",
      "\n",
      "    filter, lag\n",
      "\n",
      "The following objects are masked from 'package:base':\n",
      "\n",
      "    intersect, setdiff, setequal, union\n",
      "\n"
     ]
    }
   ],
   "source": [
    "library(dplyr)"
   ]
  },
  {
   "cell_type": "code",
   "execution_count": 7,
   "metadata": {
    "scrolled": false
   },
   "outputs": [
    {
     "name": "stdout",
     "output_type": "stream",
     "text": [
      "Observations: 1,250\n",
      "Variables: 9\n",
      "$ Year      <dbl> 2001, 2001, 2001, 2001, 2001, 2001, 2001, 2001, 2001, 200...\n",
      "$ Lag1      <dbl> 0.381, 0.959, 1.032, -0.623, 0.614, 0.213, 1.392, -0.403,...\n",
      "$ Lag2      <dbl> -0.192, 0.381, 0.959, 1.032, -0.623, 0.614, 0.213, 1.392,...\n",
      "$ Lag3      <dbl> -2.624, -0.192, 0.381, 0.959, 1.032, -0.623, 0.614, 0.213...\n",
      "$ Lag4      <dbl> -1.055, -2.624, -0.192, 0.381, 0.959, 1.032, -0.623, 0.61...\n",
      "$ Lag5      <dbl> 5.010, -1.055, -2.624, -0.192, 0.381, 0.959, 1.032, -0.62...\n",
      "$ Volume    <dbl> 1.1913, 1.2965, 1.4112, 1.2760, 1.2057, 1.3491, 1.4450, 1...\n",
      "$ Today     <dbl> 0.959, 1.032, -0.623, 0.614, 0.213, 1.392, -0.403, 0.027,...\n",
      "$ Direction <fct> Up, Up, Down, Up, Up, Up, Down, Up, Up, Up, Down, Down, U...\n"
     ]
    }
   ],
   "source": [
    "glimpse(df)"
   ]
  },
  {
   "cell_type": "code",
   "execution_count": 8,
   "metadata": {},
   "outputs": [
    {
     "name": "stdout",
     "output_type": "stream",
     "text": [
      "'data.frame':\t1250 obs. of  9 variables:\n",
      " $ Year     : num  2001 2001 2001 2001 2001 ...\n",
      " $ Lag1     : num  0.381 0.959 1.032 -0.623 0.614 ...\n",
      " $ Lag2     : num  -0.192 0.381 0.959 1.032 -0.623 ...\n",
      " $ Lag3     : num  -2.624 -0.192 0.381 0.959 1.032 ...\n",
      " $ Lag4     : num  -1.055 -2.624 -0.192 0.381 0.959 ...\n",
      " $ Lag5     : num  5.01 -1.055 -2.624 -0.192 0.381 ...\n",
      " $ Volume   : num  1.19 1.3 1.41 1.28 1.21 ...\n",
      " $ Today    : num  0.959 1.032 -0.623 0.614 0.213 ...\n",
      " $ Direction: Factor w/ 2 levels \"Down\",\"Up\": 2 2 1 2 2 2 1 2 2 2 ...\n"
     ]
    }
   ],
   "source": [
    "str(df)"
   ]
  },
  {
   "cell_type": "code",
   "execution_count": 9,
   "metadata": {
    "scrolled": false
   },
   "outputs": [],
   "source": [
    "df$tar <- factor(df$Direction, levels=c(\"Up\", \"Down\"), labels=c(1, 0))\n",
    "df$tar <- as.integer(df$tar)\n",
    "df[\"tar\"][df[\"tar\"] == 1] <- 1\n",
    "df[\"tar\"][df[\"tar\"] == 2] <- 0"
   ]
  },
  {
   "cell_type": "code",
   "execution_count": 10,
   "metadata": {},
   "outputs": [
    {
     "name": "stdout",
     "output_type": "stream",
     "text": [
      "'data.frame':\t1250 obs. of  10 variables:\n",
      " $ Year     : num  2001 2001 2001 2001 2001 ...\n",
      " $ Lag1     : num  0.381 0.959 1.032 -0.623 0.614 ...\n",
      " $ Lag2     : num  -0.192 0.381 0.959 1.032 -0.623 ...\n",
      " $ Lag3     : num  -2.624 -0.192 0.381 0.959 1.032 ...\n",
      " $ Lag4     : num  -1.055 -2.624 -0.192 0.381 0.959 ...\n",
      " $ Lag5     : num  5.01 -1.055 -2.624 -0.192 0.381 ...\n",
      " $ Volume   : num  1.19 1.3 1.41 1.28 1.21 ...\n",
      " $ Today    : num  0.959 1.032 -0.623 0.614 0.213 ...\n",
      " $ Direction: Factor w/ 2 levels \"Down\",\"Up\": 2 2 1 2 2 2 1 2 2 2 ...\n",
      " $ tar      : num  1 1 0 1 1 1 0 1 1 1 ...\n"
     ]
    }
   ],
   "source": [
    "#df$Direction <- factor(df$Direction)\n",
    "str(df)\n"
   ]
  },
  {
   "cell_type": "code",
   "execution_count": 11,
   "metadata": {},
   "outputs": [
    {
     "data": {
      "text/html": [
       "<dl class=dl-horizontal>\n",
       "\t<dt>Down</dt>\n",
       "\t\t<dd>602</dd>\n",
       "\t<dt>Up</dt>\n",
       "\t\t<dd>648</dd>\n",
       "</dl>\n"
      ],
      "text/latex": [
       "\\begin{description*}\n",
       "\\item[Down] 602\n",
       "\\item[Up] 648\n",
       "\\end{description*}\n"
      ],
      "text/markdown": [
       "Down\n",
       ":   602Up\n",
       ":   648\n",
       "\n"
      ],
      "text/plain": [
       "Down   Up \n",
       " 602  648 "
      ]
     },
     "metadata": {},
     "output_type": "display_data"
    },
    {
     "data": {
      "text/html": [
       "<ol class=list-inline>\n",
       "\t<li>'Down'</li>\n",
       "\t<li>'Up'</li>\n",
       "</ol>\n"
      ],
      "text/latex": [
       "\\begin{enumerate*}\n",
       "\\item 'Down'\n",
       "\\item 'Up'\n",
       "\\end{enumerate*}\n"
      ],
      "text/markdown": [
       "1. 'Down'\n",
       "2. 'Up'\n",
       "\n",
       "\n"
      ],
      "text/plain": [
       "[1] \"Down\" \"Up\"  "
      ]
     },
     "metadata": {},
     "output_type": "display_data"
    }
   ],
   "source": [
    "summary(df$Direction)\n",
    "levels(df$Direction)"
   ]
  },
  {
   "cell_type": "code",
   "execution_count": 12,
   "metadata": {},
   "outputs": [
    {
     "data": {
      "text/html": [
       "<ol class=list-inline>\n",
       "\t<li>1250</li>\n",
       "\t<li>10</li>\n",
       "</ol>\n"
      ],
      "text/latex": [
       "\\begin{enumerate*}\n",
       "\\item 1250\n",
       "\\item 10\n",
       "\\end{enumerate*}\n"
      ],
      "text/markdown": [
       "1. 1250\n",
       "2. 10\n",
       "\n",
       "\n"
      ],
      "text/plain": [
       "[1] 1250   10"
      ]
     },
     "metadata": {},
     "output_type": "display_data"
    }
   ],
   "source": [
    "dim(df)"
   ]
  },
  {
   "cell_type": "code",
   "execution_count": 13,
   "metadata": {
    "scrolled": true
   },
   "outputs": [
    {
     "name": "stderr",
     "output_type": "stream",
     "text": [
      "Loading required package: lattice\n",
      "Loading required package: survival\n",
      "Loading required package: Formula\n",
      "Loading required package: ggplot2\n",
      "Registered S3 methods overwritten by 'ggplot2':\n",
      "  method         from \n",
      "  [.quosures     rlang\n",
      "  c.quosures     rlang\n",
      "  print.quosures rlang\n",
      "\n",
      "Attaching package: 'Hmisc'\n",
      "\n",
      "The following objects are masked from 'package:dplyr':\n",
      "\n",
      "    src, summarize\n",
      "\n",
      "The following objects are masked from 'package:base':\n",
      "\n",
      "    format.pval, units\n",
      "\n"
     ]
    },
    {
     "data": {
      "image/png": "[encoded data removed]",
      "text/plain": [
       "Plot with title \"\""
      ]
     },
     "metadata": {},
     "output_type": "display_data"
    }
   ],
   "source": [
    "library(Hmisc)\n",
    "hist.data.frame(df)"
   ]
  },
  {
   "cell_type": "code",
   "execution_count": 14,
   "metadata": {
    "scrolled": true
   },
   "outputs": [],
   "source": [
    "#boxplot(train_data, ylab = '')"
   ]
  },
  {
   "cell_type": "code",
   "execution_count": 15,
   "metadata": {},
   "outputs": [
    {
     "data": {
      "image/png": "[encoded data removed]",
      "text/plain": [
       "plot without title"
      ]
     },
     "metadata": {},
     "output_type": "display_data"
    }
   ],
   "source": [
    "boxplot(df$Lag1, ylab = '')"
   ]
  },
  {
   "cell_type": "code",
   "execution_count": 16,
   "metadata": {},
   "outputs": [
    {
     "data": {
      "text/plain": [
       "      Year           Lag1                Lag2                Lag3          \n",
       " Min.   :2001   Min.   :-4.922000   Min.   :-4.922000   Min.   :-4.922000  \n",
       " 1st Qu.:2002   1st Qu.:-0.639500   1st Qu.:-0.639500   1st Qu.:-0.640000  \n",
       " Median :2003   Median : 0.039000   Median : 0.039000   Median : 0.038500  \n",
       " Mean   :2003   Mean   : 0.003834   Mean   : 0.003919   Mean   : 0.001716  \n",
       " 3rd Qu.:2004   3rd Qu.: 0.596750   3rd Qu.: 0.596750   3rd Qu.: 0.596750  \n",
       " Max.   :2005   Max.   : 5.733000   Max.   : 5.733000   Max.   : 5.733000  \n",
       "      Lag4                Lag5              Volume           Today          \n",
       " Min.   :-4.922000   Min.   :-4.92200   Min.   :0.3561   Min.   :-4.922000  \n",
       " 1st Qu.:-0.640000   1st Qu.:-0.64000   1st Qu.:1.2574   1st Qu.:-0.639500  \n",
       " Median : 0.038500   Median : 0.03850   Median :1.4229   Median : 0.038500  \n",
       " Mean   : 0.001636   Mean   : 0.00561   Mean   :1.4783   Mean   : 0.003138  \n",
       " 3rd Qu.: 0.596750   3rd Qu.: 0.59700   3rd Qu.:1.6417   3rd Qu.: 0.596750  \n",
       " Max.   : 5.733000   Max.   : 5.73300   Max.   :3.1525   Max.   : 5.733000  \n",
       "      tar        \n",
       " Min.   :0.0000  \n",
       " 1st Qu.:0.0000  \n",
       " Median :1.0000  \n",
       " Mean   :0.5184  \n",
       " 3rd Qu.:1.0000  \n",
       " Max.   :1.0000  "
      ]
     },
     "metadata": {},
     "output_type": "display_data"
    }
   ],
   "source": [
    "continuous <-select_if(df, is.numeric)\n",
    "summary(continuous)\n"
   ]
  },
  {
   "cell_type": "code",
   "execution_count": 17,
   "metadata": {},
   "outputs": [
    {
     "data": {
      "text/html": [
       "<table>\n",
       "<thead><tr><th scope=col>Year</th><th scope=col>Lag1</th><th scope=col>Lag2</th><th scope=col>Lag3</th><th scope=col>Lag4</th><th scope=col>Lag5</th><th scope=col>Volume</th><th scope=col>Today</th><th scope=col>tar</th></tr></thead>\n",
       "<tbody>\n",
       "\t<tr><td>2001  </td><td> 0.381</td><td>-0.192</td><td>-2.624</td><td>-1.055</td><td> 5.010</td><td>1.1913</td><td> 0.959</td><td>1     </td></tr>\n",
       "\t<tr><td>2001  </td><td> 0.959</td><td> 0.381</td><td>-0.192</td><td>-2.624</td><td>-1.055</td><td>1.2965</td><td> 1.032</td><td>1     </td></tr>\n",
       "\t<tr><td>2001  </td><td> 1.032</td><td> 0.959</td><td> 0.381</td><td>-0.192</td><td>-2.624</td><td>1.4112</td><td>-0.623</td><td>0     </td></tr>\n",
       "\t<tr><td>2001  </td><td>-0.623</td><td> 1.032</td><td> 0.959</td><td> 0.381</td><td>-0.192</td><td>1.2760</td><td> 0.614</td><td>1     </td></tr>\n",
       "\t<tr><td>2001  </td><td> 0.614</td><td>-0.623</td><td> 1.032</td><td> 0.959</td><td> 0.381</td><td>1.2057</td><td> 0.213</td><td>1     </td></tr>\n",
       "\t<tr><td>2001  </td><td> 0.213</td><td> 0.614</td><td>-0.623</td><td> 1.032</td><td> 0.959</td><td>1.3491</td><td> 1.392</td><td>1     </td></tr>\n",
       "</tbody>\n",
       "</table>\n"
      ],
      "text/latex": [
       "\\begin{tabular}{r|lllllllll}\n",
       " Year & Lag1 & Lag2 & Lag3 & Lag4 & Lag5 & Volume & Today & tar\\\\\n",
       "\\hline\n",
       "\t 2001   &  0.381 & -0.192 & -2.624 & -1.055 &  5.010 & 1.1913 &  0.959 & 1     \\\\\n",
       "\t 2001   &  0.959 &  0.381 & -0.192 & -2.624 & -1.055 & 1.2965 &  1.032 & 1     \\\\\n",
       "\t 2001   &  1.032 &  0.959 &  0.381 & -0.192 & -2.624 & 1.4112 & -0.623 & 0     \\\\\n",
       "\t 2001   & -0.623 &  1.032 &  0.959 &  0.381 & -0.192 & 1.2760 &  0.614 & 1     \\\\\n",
       "\t 2001   &  0.614 & -0.623 &  1.032 &  0.959 &  0.381 & 1.2057 &  0.213 & 1     \\\\\n",
       "\t 2001   &  0.213 &  0.614 & -0.623 &  1.032 &  0.959 & 1.3491 &  1.392 & 1     \\\\\n",
       "\\end{tabular}\n"
      ],
      "text/markdown": [
       "\n",
       "| Year | Lag1 | Lag2 | Lag3 | Lag4 | Lag5 | Volume | Today | tar |\n",
       "|---|---|---|---|---|---|---|---|---|\n",
       "| 2001   |  0.381 | -0.192 | -2.624 | -1.055 |  5.010 | 1.1913 |  0.959 | 1      |\n",
       "| 2001   |  0.959 |  0.381 | -0.192 | -2.624 | -1.055 | 1.2965 |  1.032 | 1      |\n",
       "| 2001   |  1.032 |  0.959 |  0.381 | -0.192 | -2.624 | 1.4112 | -0.623 | 0      |\n",
       "| 2001   | -0.623 |  1.032 |  0.959 |  0.381 | -0.192 | 1.2760 |  0.614 | 1      |\n",
       "| 2001   |  0.614 | -0.623 |  1.032 |  0.959 |  0.381 | 1.2057 |  0.213 | 1      |\n",
       "| 2001   |  0.213 |  0.614 | -0.623 |  1.032 |  0.959 | 1.3491 |  1.392 | 1      |\n",
       "\n"
      ],
      "text/plain": [
       "  Year Lag1   Lag2   Lag3   Lag4   Lag5   Volume Today  tar\n",
       "1 2001  0.381 -0.192 -2.624 -1.055  5.010 1.1913  0.959 1  \n",
       "2 2001  0.959  0.381 -0.192 -2.624 -1.055 1.2965  1.032 1  \n",
       "3 2001  1.032  0.959  0.381 -0.192 -2.624 1.4112 -0.623 0  \n",
       "4 2001 -0.623  1.032  0.959  0.381 -0.192 1.2760  0.614 1  \n",
       "5 2001  0.614 -0.623  1.032  0.959  0.381 1.2057  0.213 1  \n",
       "6 2001  0.213  0.614 -0.623  1.032  0.959 1.3491  1.392 1  "
      ]
     },
     "metadata": {},
     "output_type": "display_data"
    }
   ],
   "source": [
    "head(continuous)"
   ]
  },
  {
   "cell_type": "code",
   "execution_count": 18,
   "metadata": {},
   "outputs": [
    {
     "data": {
      "image/png": "[encoded data removed]",
      "text/plain": [
       "Plot with title \"\""
      ]
     },
     "metadata": {},
     "output_type": "display_data"
    }
   ],
   "source": [
    "library(Hmisc)\n",
    "hist.data.frame(continuous)"
   ]
  },
  {
   "cell_type": "code",
   "execution_count": 19,
   "metadata": {
    "scrolled": true
   },
   "outputs": [],
   "source": [
    "library(ggplot2)"
   ]
  },
  {
   "cell_type": "code",
   "execution_count": 20,
   "metadata": {
    "scrolled": false
   },
   "outputs": [
    {
     "data": {
      "image/png": "[encoded data removed]",
      "text/plain": [
       "plot without title"
      ]
     },
     "metadata": {},
     "output_type": "display_data"
    }
   ],
   "source": [
    "boxplot(continuous$Today, ylab = '')"
   ]
  },
  {
   "cell_type": "code",
   "execution_count": 21,
   "metadata": {
    "scrolled": true
   },
   "outputs": [
    {
     "name": "stdout",
     "output_type": "stream",
     "text": [
      "[1] \"Year\"   \"Lag1\"   \"Lag2\"   \"Lag3\"   \"Lag4\"   \"Lag5\"   \"Volume\" \"Today\" \n",
      "[9] \"tar\"   \n"
     ]
    }
   ],
   "source": [
    "print(names(continuous))"
   ]
  },
  {
   "cell_type": "code",
   "execution_count": 22,
   "metadata": {},
   "outputs": [
    {
     "data": {
      "image/png": "[encoded data removed]",
      "text/plain": [
       "plot without title"
      ]
     },
     "metadata": {},
     "output_type": "display_data"
    }
   ],
   "source": [
    "a <- boxplot(df)$out"
   ]
  },
  {
   "cell_type": "code",
   "execution_count": 23,
   "metadata": {},
   "outputs": [],
   "source": [
    "# create detect outlier function\n",
    "detect_outlier <- function(x) {\n",
    "    # calculate first quantile\n",
    "    Quantile1 <- quantile(x, probs=.25)\n",
    " \n",
    "    # calculate third quantile\n",
    "    Quantile3 <- quantile(x, probs=.75)\n",
    " \n",
    "    # calculate inter quartile range\n",
    "    IQR = Quantile3-Quantile1\n",
    " \n",
    "    # return true or false\n",
    "    x > Quantile3 + (IQR*1.5) | x < Quantile1 - (IQR*1.5)\n",
    "}"
   ]
  },
  {
   "cell_type": "code",
   "execution_count": 24,
   "metadata": {},
   "outputs": [],
   "source": [
    "# create remove outlier function\n",
    "remove_outlier <- function(dataframe,\n",
    "                           columns=names(dataframe)) {\n",
    "    \n",
    "    # for loop to traverse in columns vector\n",
    "    for (col in columns) {\n",
    " \n",
    "        # remove observation if it satisfies outlier function\n",
    "        dataframe <- dataframe[!detect_outlier(dataframe[[col]]), ]\n",
    "    }\n",
    " \n",
    "    # return dataframe\n",
    "    print(\"Remove outliers\")\n",
    "    print(dataframe)\n",
    "}\n"
   ]
  },
  {
   "cell_type": "code",
   "execution_count": 25,
   "metadata": {
    "scrolled": true
   },
   "outputs": [
    {
     "name": "stdout",
     "output_type": "stream",
     "text": [
      "[1] \"Year\"   \"Lag1\"   \"Lag2\"   \"Lag3\"   \"Lag4\"   \"Lag5\"   \"Volume\" \"Today\" \n",
      "[9] \"tar\"   \n"
     ]
    }
   ],
   "source": [
    "print(names(continuous))"
   ]
  },
  {
   "cell_type": "code",
   "execution_count": 26,
   "metadata": {},
   "outputs": [
    {
     "name": "stdout",
     "output_type": "stream",
     "text": [
      "[1] \"Year\"   \"Lag1\"   \"Lag2\"   \"Lag3\"   \"Lag4\"   \"Lag5\"   \"Volume\" \"Today\" \n",
      "[9] \"tar\"   \n"
     ]
    }
   ],
   "source": [
    "col <- c(names(continuous))\n",
    "print(col)"
   ]
  },
  {
   "cell_type": "code",
   "execution_count": 27,
   "metadata": {},
   "outputs": [
    {
     "name": "stdout",
     "output_type": "stream",
     "text": [
      "[1] \"Remove outliers\"\n",
      "     Year   Lag1   Lag2   Lag3   Lag4   Lag5  Volume  Today Direction tar\n",
      "4    2001 -0.623  1.032  0.959  0.381 -0.192 1.27600  0.614        Up   1\n",
      "5    2001  0.614 -0.623  1.032  0.959  0.381 1.20570  0.213        Up   1\n",
      "6    2001  0.213  0.614 -0.623  1.032  0.959 1.34910  1.392        Up   1\n",
      "7    2001  1.392  0.213  0.614 -0.623  1.032 1.44500 -0.403      Down   0\n",
      "8    2001 -0.403  1.392  0.213  0.614 -0.623 1.40780  0.027        Up   1\n",
      "9    2001  0.027 -0.403  1.392  0.213  0.614 1.16400  1.303        Up   1\n",
      "10   2001  1.303  0.027 -0.403  1.392  0.213 1.23260  0.287        Up   1\n",
      "11   2001  0.287  1.303  0.027 -0.403  1.392 1.30900 -0.498      Down   0\n",
      "12   2001 -0.498  0.287  1.303  0.027 -0.403 1.25800 -0.189      Down   0\n",
      "13   2001 -0.189 -0.498  0.287  1.303  0.027 1.09800  0.680        Up   1\n",
      "14   2001  0.680 -0.189 -0.498  0.287  1.303 1.05310  0.701        Up   1\n",
      "15   2001  0.701  0.680 -0.189 -0.498  0.287 1.14980 -0.562      Down   0\n",
      "16   2001 -0.562  0.701  0.680 -0.189 -0.498 1.29530  0.546        Up   1\n",
      "17   2001  0.546 -0.562  0.701  0.680 -0.189 1.11880 -1.747      Down   0\n",
      "18   2001 -1.747  0.546 -0.562  0.701  0.680 1.04840  0.359        Up   1\n",
      "19   2001  0.359 -1.747  0.546 -0.562  0.701 1.01300 -0.151      Down   0\n",
      "20   2001 -0.151  0.359 -1.747  0.546 -0.562 1.05960 -0.841      Down   0\n",
      "21   2001 -0.841 -0.151  0.359 -1.747  0.546 1.15830 -0.623      Down   0\n",
      "22   2001 -0.623 -0.841 -0.151  0.359 -1.747 1.10720 -1.334      Down   0\n",
      "23   2001 -1.334 -0.623 -0.841 -0.151  0.359 1.07550  1.183        Up   1\n",
      "24   2001  1.183 -1.334 -0.623 -0.841 -0.151 1.03910 -0.865      Down   0\n",
      "25   2001 -0.865  1.183 -1.334 -0.623 -0.841 1.07520 -0.218      Down   0\n",
      "26   2001 -0.218 -0.865  1.183 -1.334 -0.623 1.15030  0.812        Up   1\n",
      "27   2001  0.812 -0.218 -0.865  1.183 -1.334 1.15370 -1.891      Down   0\n",
      "28   2001 -1.891  0.812 -0.218 -0.865  1.183 1.25720 -1.736      Down   0\n",
      "29   2001 -1.736 -1.891  0.812 -0.218 -0.865 1.11220 -1.851      Down   0\n",
      "30   2001 -1.851 -1.736 -1.891  0.812 -0.218 1.20850 -0.195      Down   0\n",
      "31   2001 -0.195 -1.851 -1.736 -1.891  0.812 1.36590 -0.556      Down   0\n",
      "32   2001 -0.556 -0.195 -1.851 -1.736 -1.891 1.23130  1.749        Up   1\n",
      "33   2001  1.749 -0.556 -0.195 -1.851 -1.736 1.13080 -0.766      Down   0\n",
      "34   2001 -0.766  1.749 -0.556 -0.195 -1.851 1.11410 -1.431      Down   0\n",
      "35   2001 -1.431 -0.766  1.749 -0.556 -0.195 1.22530  0.104        Up   1\n",
      "36   2001  0.104 -1.431 -0.766  1.749 -0.556 1.29490 -0.568      Down   0\n",
      "37   2001 -0.568  0.104 -1.431 -0.766  1.749 1.29400  0.586        Up   1\n",
      "38   2001  0.586 -0.568  0.104 -1.431 -0.766 0.92920  0.998        Up   1\n",
      "39   2001  0.998  0.586 -0.568  0.104 -1.431 1.09180  0.645        Up   1\n",
      "40   2001  0.645  0.998  0.586 -0.568  0.104 1.13220  0.226        Up   1\n",
      "50   2001 -1.792 -2.408  1.763 -1.962  0.587 1.34630 -0.406      Down   0\n",
      "74   2001  1.594 -1.216 -1.498 -0.854  1.254 1.20360  0.470        Up   1\n",
      "75   2001  0.470  1.594 -1.216 -1.498 -0.854 1.34520  1.501        Up   1\n",
      "76   2001  1.501  0.470  1.594 -1.216 -1.498 1.09130 -0.287      Down   0\n",
      "77   2001 -0.287  1.501  0.470  1.594 -1.216 1.26680  1.359        Up   1\n",
      "78   2001  1.359 -0.287  1.501  0.470  1.594 1.18130  0.078        Up   1\n",
      "79   2001  0.078  1.359 -0.287  1.501  0.470 1.34220 -1.487      Down   0\n",
      "80   2001 -1.487  0.078  1.359 -0.287  1.501 1.13790  1.444        Up   1\n",
      "81   2001  1.444 -1.487  0.078  1.359 -0.287 1.08210 -0.245      Down   0\n",
      "82   2001 -0.245  1.444 -1.487  0.078  1.359 0.94900 -0.183      Down   0\n",
      "83   2001 -0.183 -0.245  1.444 -1.487  0.078 1.00630 -0.449      Down   0\n",
      "84   2001 -0.449 -0.183 -0.245  1.444 -1.487 1.13240 -0.029      Down   0\n",
      "85   2001 -0.029 -0.449 -0.183 -0.245  1.444 1.05670 -0.758      Down   0\n",
      "86   2001 -0.758 -0.029 -0.449 -0.183 -0.245 0.90620  0.261        Up   1\n",
      "87   2001  0.261 -0.758 -0.029 -0.449 -0.183 0.85820  0.042        Up   1\n",
      "94   2001 -1.553 -0.263  1.615  0.269  0.272 1.13480  0.320        Up   1\n",
      "95   2001  0.320 -1.553 -0.263  1.615  0.269 1.10070 -1.182      Down   0\n",
      "96   2001 -1.182  0.320 -1.553 -0.263  1.615 0.82810 -0.779      Down   0\n",
      "97   2001 -0.779 -1.182  0.320 -1.553 -0.263 1.02600 -1.566      Down   0\n",
      "98   2001 -1.566 -0.779 -1.182  0.320 -1.553 1.15860  0.620        Up   1\n",
      "99   2001  0.620 -1.566 -0.779 -1.182  0.320 1.22660  0.386        Up   1\n",
      "100  2001  0.386  0.620 -1.566 -0.779 -1.182 1.01500  0.511        Up   1\n",
      "101  2001  0.511  0.386  0.620 -1.566 -0.779 0.83650  1.299        Up   1\n",
      "102  2001  1.299  0.511  0.386  0.620 -1.566 1.11680 -1.055      Down   0\n",
      "103  2001 -1.055  1.299  0.511  0.386  0.620 1.06190  0.546        Up   1\n",
      "104  2001  0.546 -1.055  1.299  0.511  0.386 1.08960 -0.940      Down   0\n",
      "105  2001 -0.940  0.546 -1.055  1.299  0.511 0.72620 -0.836      Down   0\n",
      "106  2001 -0.836 -0.940  0.546 -1.055  1.299 0.87010  0.116        Up   1\n",
      "107  2001  0.116 -0.836 -0.940  0.546 -1.055 1.13650 -1.135      Down   0\n",
      "108  2001 -1.135  0.116 -0.836 -0.940  0.546 1.06360 -1.750      Down   0\n",
      "109  2001 -1.750 -1.135  0.116 -0.836 -0.940 1.24290 -0.452      Down   0\n",
      "110  2001 -0.452 -1.750 -1.135  0.116 -0.836 1.63555 -0.488      Down   0\n",
      "111  2001 -0.488 -0.452 -1.750 -1.135  0.116 1.11160  0.343        Up   1\n",
      "112  2001  0.343 -0.488 -0.452 -1.750 -1.135 1.18490  0.871        Up   1\n",
      "113  2001  0.871  0.343 -0.488 -0.452 -1.750 1.35010  1.136        Up   1\n",
      "114  2001  1.136  0.871  0.343 -0.488 -0.452 1.54682 -0.945      Down   0\n",
      "115  2001 -0.945  1.136  0.871  0.343 -0.488 1.18920 -0.551      Down   0\n",
      "116  2001 -0.551 -0.945  1.136  0.871  0.343 1.05010 -0.151      Down   0\n",
      "117  2001 -0.151 -0.551 -0.945  1.136  0.871 1.19890 -0.468      Down   0\n",
      "118  2001 -0.468 -0.151 -0.551 -0.945  1.136 1.16210  1.249        Up   1\n",
      "119  2001  1.249 -0.468 -0.151 -0.551 -0.945 1.32730 -0.148      Down   0\n",
      "120  2001 -0.148  1.249 -0.468 -0.151 -0.551 1.83236  1.008        Up   1\n",
      "121  2001  1.008 -0.148  1.249 -0.468 -0.151 1.12830 -0.184      Down   0\n",
      "124  2001 -2.350 -1.232 -0.184  1.008 -0.148 1.05670  0.688        Up   1\n",
      "125  2001  0.688 -2.350 -1.232 -0.184  1.008 1.04570 -1.440      Down   0\n",
      "126  2001 -1.440  0.688 -2.350 -1.232 -0.184 1.26380 -0.113      Down   0\n",
      "129  2001  0.624  2.369 -0.113 -1.440  0.688 1.12170 -1.088      Down   0\n",
      "130  2001 -1.088  0.624  2.369 -0.113 -1.440 1.03980  0.997        Up   1\n",
      "133  2001  0.605 -0.554  0.997 -1.088  0.624 1.34350 -0.343      Down   0\n",
      "134  2001 -0.343  0.605 -0.554  0.997 -1.088 1.17090 -1.637      Down   0\n",
      "135  2001 -1.637 -0.343  0.605 -0.554  0.997 0.98690 -1.627      Down   0\n",
      "136  2001 -1.627 -1.637 -0.343  0.605 -0.554 1.19870  1.608        Up   1\n",
      "137  2001  1.608 -1.627 -1.637 -0.343  0.605 1.28070  1.045        Up   1\n",
      "138  2001  1.045  1.608 -1.627 -1.637 -0.343 1.21390  0.240        Up   1\n",
      "139  2001  0.240  1.045  1.608 -1.627 -1.637 1.01530 -0.108      Down   0\n",
      "140  2001 -0.108  0.240  1.045  1.608 -1.627 0.90910  0.557        Up   1\n",
      "141  2001  0.557 -0.108  0.240  1.045  1.608 1.12920  0.388        Up   1\n",
      "142  2001  0.388  0.557 -0.108  0.240  1.045 1.34030  0.396        Up   1\n",
      "143  2001  0.396  0.388  0.557 -0.108  0.240 1.21830 -0.524      Down   0\n",
      "144  2001 -0.524  0.396  0.388  0.557 -0.108 0.93990 -1.142      Down   0\n",
      "145  2001 -1.142 -0.524  0.396  0.388  0.557 0.81170  0.327        Up   1\n",
      "146  2001  0.327 -1.142 -0.524  0.396  0.388 1.01200 -1.733      Down   0\n",
      "147  2001 -1.733  0.327 -1.142 -0.524  0.396 1.12460 -0.008      Down   0\n",
      "148  2001 -0.008 -1.733  0.327 -1.142 -0.524 1.10420  0.569        Up   1\n",
      "149  2001  0.569 -0.008 -1.733  0.327 -1.142 0.96090  0.095        Up   1\n",
      "150  2001  0.095  0.569 -0.008 -1.733  0.327 0.83760 -0.383      Down   0\n",
      "151  2001 -0.383  0.095  0.569 -0.008 -1.733 0.96460 -0.734      Down   0\n",
      "152  2001 -0.734 -0.383  0.095  0.569 -0.008 1.06560  0.309        Up   1\n",
      "153  2001  0.309 -0.734 -0.383  0.095  0.569 1.05540 -1.666      Down   0\n",
      "154  2001 -1.666  0.309 -0.734 -0.383  0.095 0.97430  0.812        Up   1\n",
      "155  2001  0.812 -1.666  0.309 -0.734 -0.383 0.89710 -1.208      Down   0\n",
      "156  2001 -1.208  0.812 -1.666  0.309 -0.734 1.04160  0.696        Up   1\n",
      "157  2001  0.696 -1.208  0.812 -1.666  0.309 1.11080 -0.276      Down   0\n",
      "158  2001 -0.276  0.696 -1.208  0.812 -1.666 0.98620  1.965        Up   1\n",
      "159  2001  1.965 -0.276  0.696 -1.208  0.812 1.04360 -0.483      Down   0\n",
      "160  2001 -0.483  1.965 -0.276  0.696 -1.208 0.84260 -1.501      Down   0\n",
      "161  2001 -1.501 -0.483  1.965 -0.276  0.696 0.98710 -1.115      Down   0\n",
      "162  2001 -1.115 -1.501 -0.483  1.965 -0.276 0.96370 -1.700      Down   0\n",
      "163  2001 -1.700 -1.115 -1.501 -0.483  1.965 1.15700  0.403        Up   1\n",
      "164  2001  0.403 -1.700 -1.115 -1.501 -0.483 0.92010 -0.056      Down   0\n",
      "165  2001 -0.056  0.403 -1.700 -1.115 -1.501 1.17830 -0.106      Down   0\n",
      "166  2001 -0.106 -0.056  0.403 -1.700 -1.115 1.38450 -2.239      Down   0\n",
      "167  2001 -2.239 -0.106 -0.056  0.403 -1.700 1.35970 -1.864      Down   0\n",
      "168  2001 -1.864 -2.239 -0.106 -0.056  0.403 1.42430  0.623        Up   1\n",
      "180  2001 -0.230  2.192  1.149 -0.517  0.879 1.17560  1.231        Up   1\n",
      "181  2001  1.231 -0.230  2.192  1.149 -0.517 1.28980  1.993        Up   1\n",
      "182  2001  1.993  1.231 -0.230  2.192  1.149 1.65060 -0.247      Down   0\n",
      "183  2001 -0.247  1.993  1.231 -0.230  2.192 1.60910  0.164        Up   1\n",
      "184  2001  0.164 -0.247  1.993  1.231 -0.230 1.30170 -0.834      Down   0\n",
      "185  2001 -0.834  0.164 -0.247  1.993  1.231 0.97900 -0.536      Down   0\n",
      "187  2001  2.294 -0.536 -0.834  0.164 -0.247 1.31240  1.521        Up   1\n",
      "188  2001  1.521  2.294 -0.536 -0.834  0.164 1.70458 -0.527      Down   0\n",
      "189  2001 -0.527  1.521  2.294 -0.536 -0.834 1.33140 -0.153      Down   0\n",
      "190  2001 -0.153 -0.527  1.521  2.294 -0.536 1.02470  0.694        Up   1\n",
      "191  2001  0.694 -0.153 -0.527  1.521  2.294 1.21050 -1.863      Down   0\n",
      "192  2001 -1.863  0.694 -0.153 -0.527  1.521 1.45220 -0.787      Down   0\n",
      "193  2001 -0.787 -1.863  0.694 -0.153 -0.527 1.26290  0.456        Up   1\n",
      "194  2001  0.456 -0.787 -1.863  0.694 -0.153 1.29490  1.530        Up   1\n",
      "195  2001  1.530  0.456 -0.787 -1.863  0.694 1.10570 -0.470      Down   0\n",
      "196  2001 -0.470  1.530  0.456 -0.787 -1.863 1.31730  0.039        Up   1\n",
      "197  2001  0.039 -0.470  1.530  0.456 -0.787 1.33620  1.372        Up   1\n",
      "198  2001  1.372  0.039 -0.470  1.530  0.456 1.36440  0.411        Up   1\n",
      "200  2001 -2.382  0.411  1.372  0.039 -0.470 1.10610 -1.717      Down   0\n",
      "201  2001 -1.717 -2.382  0.411  1.372  0.039 1.29740 -0.001      Down   0\n",
      "205  2001  1.439  0.286  2.295 -0.001 -1.717 1.26770  1.453        Up   1\n",
      "206  2001  1.453  1.439  0.286  2.295 -0.001 1.35600 -0.273      Down   0\n",
      "207  2001 -0.273  1.453  1.439  0.286  2.295 1.41130  0.246        Up   1\n",
      "208  2001  0.246 -0.273  1.453  1.439  0.286 1.51750  0.158        Up   1\n",
      "209  2001  0.158  0.246 -0.273  1.453  1.439 1.09380 -0.177      Down   0\n",
      "210  2001 -0.177  0.158  0.246 -0.273  1.453 0.99160  1.856        Up   1\n",
      "211  2001  1.856 -0.177  0.158  0.246 -0.273 1.37010  0.186        Up   1\n",
      "212  2001  0.186  1.856 -0.177  0.158  0.246 1.44340  0.090        Up   1\n",
      "213  2001  0.090  0.186  1.856 -0.177  0.158 1.45450 -0.314      Down   0\n",
      "214  2001 -0.314  0.090  0.186  1.856 -0.177 1.33740  1.090        Up   1\n",
      "215  2001  1.090 -0.314  0.090  0.186  1.856 1.31680 -0.730      Down   0\n",
      "216  2001 -0.730  1.090 -0.314  0.090  0.186 1.33020 -0.493      Down   0\n",
      "217  2001 -0.493 -0.730  1.090 -0.314  0.090 1.02930  1.171        Up   1\n",
      "219  2001  0.615  1.171 -0.493 -0.730  1.090 1.12980 -0.684      Down   0\n",
      "220  2001 -0.684  0.615  1.171 -0.493 -0.730 1.28800 -1.825      Down   0\n",
      "221  2001 -1.825 -0.684  0.615  1.171 -0.493 1.42370  1.035        Up   1\n",
      "222  2001  1.035 -1.825 -0.684  0.615  1.171 1.37570 -0.066      Down   0\n",
      "223  2001 -0.066  1.035 -1.825 -0.684  0.615 1.34360 -0.838      Down   0\n",
      "224  2001 -0.838 -0.066  1.035 -1.825 -0.684 1.20290  1.319        Up   1\n",
      "225  2001  1.319 -0.838 -0.066  1.035 -1.825 1.31850  2.232        Up   1\n",
      "226  2001  2.232  1.319 -0.838 -0.066  1.035 1.76530 -0.278      Down   0\n",
      "227  2001 -0.278  2.232  1.319 -0.838 -0.066 1.48790 -0.753      Down   0\n",
      "228  2001 -0.753 -0.278  2.232  1.319 -0.838 1.24820 -1.587      Down   0\n",
      "229  2001 -1.587 -0.753 -0.278  2.232  1.319 1.21870 -0.278      Down   0\n",
      "230  2001 -0.278 -1.587 -0.753 -0.278  2.232 1.36720  0.027        Up   1\n",
      "231  2001  0.027 -0.278 -1.587 -0.753 -0.278 1.44970 -1.556      Down   0\n",
      "232  2001 -1.556  0.027 -0.278 -1.587 -0.753 1.51150  0.331        Up   1\n",
      "233  2001  0.331 -1.556  0.027 -0.278 -1.587 1.30680  1.003        Up   1\n",
      "234  2001  1.003  0.331 -1.556  0.027 -0.278 1.26040  0.755        Up   1\n",
      "235  2001  0.755  1.003  0.331 -1.556  0.027 1.35400  0.581        Up   1\n",
      "236  2001  0.581  0.755  1.003  0.331 -1.556 1.48490 -0.838      Down   0\n",
      "237  2001 -0.838  0.581  0.755  1.003  0.331 1.49050  0.435        Up   1\n",
      "238  2001  0.435 -0.838  0.581  0.755  1.003 1.69400 -0.021      Down   0\n",
      "240  2001  0.412 -0.021  0.435 -0.838  0.581 0.79110  0.675        Up   1\n",
      "241  2001  0.675  0.412 -0.021  0.435 -0.838 0.87630  0.336        Up   1\n",
      "242  2001  0.336  0.675  0.412 -0.021  0.435 0.91740 -1.115      Down   0\n",
      "243  2002 -1.115  0.336  0.675  0.412 -0.021 0.94360  0.574        Up   1\n",
      "244  2002  0.574 -1.115  0.336  0.675  0.412 1.17100  0.918        Up   1\n",
      "245  2002  0.918  0.574 -1.115  0.336  0.675 1.39890  0.621        Up   1\n",
      "246  2002  0.621  0.918  0.574 -1.115  0.336 1.51300 -0.650      Down   0\n",
      "247  2002 -0.650  0.621  0.918  0.574 -1.115 1.30830 -0.359      Down   0\n",
      "248  2002 -0.359 -0.650  0.621  0.918  0.574 1.25880 -0.480      Down   0\n",
      "249  2002 -0.480 -0.359 -0.650  0.621  0.918 1.45200  0.122        Up   1\n",
      "250  2002  0.122 -0.480 -0.359 -0.650  0.621 1.29900 -0.947      Down   0\n",
      "251  2002 -0.947  0.122 -0.480 -0.359 -0.650 1.21190 -0.628      Down   0\n",
      "252  2002 -0.628 -0.947  0.122 -0.480 -0.359 1.28640  0.683        Up   1\n",
      "253  2002  0.683 -0.628 -0.947  0.122 -0.480 1.38690 -1.625      Down   0\n",
      "254  2002 -1.625  0.683 -0.628 -0.947  0.122 1.48250  1.003        Up   1\n",
      "255  2002  1.003 -1.625  0.683 -0.628 -0.947 1.38010 -0.992      Down   0\n",
      "256  2002 -0.992  1.003 -1.625  0.683 -0.628 1.33330 -0.733      Down   0\n",
      "257  2002 -0.733 -0.992  1.003 -1.625  0.683 1.31160  0.792        Up   1\n",
      "258  2002  0.792 -0.733 -0.992  1.003 -1.625 1.47920  0.352        Up   1\n",
      "259  2002  0.352  0.792 -0.733 -0.992  1.003 1.55280  0.100        Up   1\n",
      "260  2002  0.100  0.352  0.792 -0.733 -0.992 1.34510 -0.019      Down   0\n",
      "271  2002  1.434  1.486 -0.308 -0.597 -0.404 1.15940 -0.399      Down   0\n",
      "272  2002 -0.399  1.434  1.486 -0.308 -0.597 1.09420  0.994        Up   1\n",
      "273  2002  0.994 -0.399  1.434  1.486 -0.308 1.21590 -0.181      Down   0\n",
      "274  2002 -0.181  0.994 -0.399  1.434  1.486 1.27250 -1.102      Down   0\n",
      "275  2002 -1.102 -0.181  0.994 -0.399  1.434 1.35920 -1.887      Down   0\n",
      "276  2002 -1.887 -1.102 -0.181  0.994 -0.399 1.18990  1.351        Up   1\n",
      "277  2002  1.351 -1.887 -1.102 -0.181  0.994 1.43890 -1.551      Down   0\n",
      "278  2002 -1.551  1.351 -1.887 -1.102 -0.181 1.38160  0.822        Up   1\n",
      "279  2002  0.822 -1.551  1.351 -1.887 -1.102 1.41100  1.798        Up   1\n",
      "280  2002  1.798  0.822 -1.551  1.351 -1.887 1.36740 -0.005      Down   0\n",
      "281  2002 -0.005  1.798  0.822 -1.551  1.351 1.30920  0.046        Up   1\n",
      "282  2002  0.046 -0.005  1.798  0.822 -1.551 1.39380 -0.285      Down   0\n",
      "283  2002 -0.285  0.046 -0.005  1.798  0.822 1.39220  2.263        Up   1\n",
      "284  2002  2.263 -0.285  0.046 -0.005  1.798 1.45650  1.949        Up   1\n",
      "285  2002  1.949  2.263 -0.285  0.046 -0.005 1.59430 -0.667      Down   0\n",
      "286  2002 -0.667  1.949  2.263 -0.285  0.046 1.54930  1.451        Up   1\n",
      "287  2002  1.451 -0.667  1.949  2.263 -0.285 1.54130 -0.450      Down   0\n",
      "288  2002 -0.450  1.451 -0.667  1.949  2.263 1.51740  0.585        Up   1\n",
      "289  2002  0.585 -0.450  1.451 -0.667  1.949 1.41200  0.339        Up   1\n",
      "290  2002  0.339  0.585 -0.450  1.451 -0.667 1.21020 -0.229      Down   0\n",
      "291  2002 -0.229  0.339  0.585 -0.450  1.451 1.30440 -0.986      Down   0\n",
      "292  2002 -0.986 -0.229  0.339  0.585 -0.450 1.35400 -0.091      Down   0\n",
      "293  2002 -0.091 -0.986 -0.229  0.339  0.585 1.20880  1.138        Up   1\n",
      "294  2002  1.138 -0.091 -0.986 -0.229  0.339 1.49390 -0.052      Down   0\n",
      "295  2002 -0.052  1.138 -0.091 -0.986 -0.229 1.16950  0.407        Up   1\n",
      "296  2002  0.407 -0.052  1.138 -0.091 -0.986 1.25500 -1.576      Down   0\n",
      "297  2002 -1.576  0.407 -0.052  1.138 -0.091 1.30490  0.151        Up   1\n",
      "298  2002  0.151 -1.576  0.407 -0.052  1.138 1.33920 -0.424      Down   0\n",
      "299  2002 -0.424  0.151 -1.576  0.407 -0.052 1.24330 -1.465      Down   0\n",
      "300  2002 -1.465 -0.424  0.151 -1.576  0.407 1.05790  0.585        Up   1\n",
      "301  2002  0.585 -1.465 -0.424  0.151 -1.576 1.22360  0.535        Up   1\n",
      "302  2002  0.535  0.585 -1.465 -0.424  0.151 1.18010  0.246        Up   1\n",
      "303  2002  0.246  0.535  0.585 -1.465 -0.424 1.14760 -0.074      Down   0\n",
      "304  2002 -0.074  0.246  0.535  0.585 -1.465 1.05090 -0.853      Down   0\n",
      "305  2002 -0.853 -0.074  0.246  0.535  0.585 1.17670 -0.999      Down   0\n",
      "306  2002 -0.999 -0.853 -0.074  0.246  0.535 1.21970  0.084        Up   1\n",
      "307  2002  0.084 -0.999 -0.853 -0.074  0.246 1.28380 -0.321      Down   0\n",
      "308  2002 -0.321  0.084 -0.999 -0.853 -0.074 1.11020  0.228        Up   1\n",
      "309  2002  0.228 -0.321  0.084 -0.999 -0.853 1.09530 -0.666      Down   0\n",
      "310  2002 -0.666  0.228 -0.321  0.084 -0.999 1.23540  1.133        Up   1\n",
      "312  2002 -2.369  1.133 -0.666  0.228 -0.321 1.50560  0.663        Up   1\n",
      "313  2002  0.663 -2.369  1.133 -0.666  0.228 1.28210 -0.761      Down   0\n",
      "317  2002 -0.142 -0.204  2.342 -0.761  0.663 1.35930  0.062        Up   1\n",
      "318  2002  0.062 -0.142 -0.204  2.342 -0.761 1.18500 -1.541      Down   0\n",
      "320  2002 -0.620 -1.541  0.062 -0.142 -0.204 1.38850 -0.710      Down   0\n",
      "321  2002 -0.710 -0.620 -1.541  0.062 -0.142 1.37320 -0.152      Down   0\n",
      "322  2002 -0.152 -0.710 -0.620 -1.541  0.062 1.51740 -1.389      Down   0\n",
      "323  2002 -1.389 -0.152 -0.710 -0.620 -1.541 1.37420 -1.010      Down   0\n",
      "324  2002 -1.010 -1.389 -0.152 -0.710 -0.620 1.31470  1.077        Up   1\n",
      "325  2002  1.077 -1.010 -1.389 -0.152 -0.710 1.62860  0.886        Up   1\n",
      "326  2002  0.886  1.077 -1.010 -1.389 -0.152 1.45140 -0.175      Down   0\n",
      "327  2002 -0.175  0.886  1.077 -1.010 -1.389 1.36400 -1.026      Down   0\n",
      "328  2002 -1.026 -0.175  0.886  1.077 -1.010 1.28450 -1.934      Down   0\n",
      "329  2002 -1.934 -1.026 -0.175  0.886  1.077 1.12260 -0.302      Down   0\n",
      "336  2002 -0.566  2.114  1.855 -1.679 -1.455 1.42020  0.656        Up   1\n",
      "337  2002  0.656 -0.566  2.114  1.855 -1.679 1.25660  0.761        Up   1\n",
      "338  2002  0.761  0.656 -0.566  2.114  1.855 1.27440 -1.329      Down   0\n",
      "339  2002 -1.329  0.761  0.656 -0.566  2.114 0.98980 -1.099      Down   0\n",
      "340  2002 -1.099 -1.329  0.761  0.656 -0.566 1.20050  0.569        Up   1\n",
      "341  2002  0.569 -1.099 -1.329  0.761  0.656 1.13630  1.018        Up   1\n",
      "342  2002  1.018  0.569 -1.099 -1.329  0.761 1.19290 -1.209      Down   0\n",
      "343  2002 -1.209  1.018  0.569 -1.099 -1.329 0.88540 -0.855      Down   0\n",
      "344  2002 -0.855 -1.209  1.018  0.569 -1.099 0.99650 -0.641      Down   0\n",
      "345  2002 -0.641 -0.855 -1.209  1.018  0.569 1.08180 -0.281      Down   0\n",
      "346  2002 -0.281 -0.641 -0.855 -1.209  1.018 1.28660  0.233        Up   1\n",
      "348  2002 -2.480  0.233 -0.281 -0.641 -0.855 1.32430  0.001        Up   1\n",
      "353  2002  0.312 -0.157 -1.976  0.885  0.001 1.22620 -1.663      Down   0\n",
      "354  2002 -1.663  0.312 -0.157 -1.976  0.885 1.21240  0.657        Up   1\n",
      "355  2002  0.657 -1.663  0.312 -0.157 -1.976 1.79572 -1.049      Down   0\n",
      "356  2002 -1.049  0.657 -1.663  0.312 -0.157 1.40550 -0.227      Down   0\n",
      "363  2002  0.362 -1.704 -1.343 -1.654  0.094 1.55260 -1.670      Down   0\n",
      "364  2002 -1.670  0.362 -1.704 -1.343 -1.654 1.51370 -0.267      Down   0\n",
      "365  2002 -0.267 -1.670  0.362 -1.704 -1.343 2.01429  1.758        Up   1\n",
      "366  2002  1.758 -0.267 -1.670  0.362 -1.704 1.90860 -0.083      Down   0\n",
      "367  2002 -0.083  1.758 -0.267 -1.670  0.362 2.11700 -2.139      Down   0\n",
      "368  2002 -2.139 -0.083  1.758 -0.267 -1.670 1.42550 -2.123      Down   0\n",
      "369  2002 -2.123 -2.139 -0.083  1.758 -0.267 1.82300  0.622        Up   1\n",
      "404  2002  1.273 -1.396  2.361 -0.159  1.156 1.35310  1.405        Up   1\n",
      "407  2002  0.754 -2.269  1.405  1.273 -1.396 1.01690 -1.385      Down   0\n",
      "408  2002 -1.385  0.754 -2.269  1.405  1.273 1.30770 -1.813      Down   0\n",
      "409  2002 -1.813 -1.385  0.754 -2.269  1.405 1.14660 -0.008      Down   0\n",
      "410  2002 -0.008 -1.813 -1.385  0.754 -2.269 1.27110 -0.188      Down   0\n",
      "417  2002  0.733  1.011  1.680 -1.595  1.752 1.18640 -0.014      Down   0\n",
      "419  2002 -2.478 -0.014  0.733  1.011  1.680 1.19160  0.327        Up   1\n",
      "448  2002  0.672 -1.063  1.733  0.590  2.230 1.59390 -1.522      Down   0\n",
      "449  2002 -1.522  0.672 -1.063  1.733  0.590 1.70057  1.717        Up   1\n",
      "450  2002  1.717 -1.522  0.672 -1.063  1.733 1.34040 -0.827      Down   0\n",
      "451  2002 -0.827  1.717 -1.522  0.672 -1.063 1.38260 -0.908      Down   0\n",
      "452  2002 -0.908 -0.827  1.717 -1.522  0.672 1.52970  0.970        Up   1\n",
      "453  2002  0.970 -0.908 -0.827  1.717 -1.522 1.42230 -0.556      Down   0\n",
      "454  2002 -0.556  0.970 -0.908 -0.827  1.717 1.64130  1.716        Up   1\n",
      "455  2002  1.716 -0.556  0.970 -0.908 -0.827 1.45040  0.820        Up   1\n",
      "456  2002  0.820  1.716 -0.556  0.970 -0.908 1.64590  0.775        Up   1\n",
      "457  2002  0.775  0.820  1.716 -0.556  0.970 1.35410  0.914        Up   1\n",
      "458  2002  0.914  0.775  0.820  1.716 -0.556 1.67400 -2.285      Down   0\n",
      "459  2002 -2.285  0.914  0.775  0.820  1.716 1.46690 -0.876      Down   0\n",
      "460  2002 -0.876 -2.285  0.914  0.775  0.820 1.44650 -2.073      Down   0\n",
      "461  2002 -2.073 -0.876 -2.285  0.914  0.775 1.11300  0.772        Up   1\n",
      "462  2002  0.772 -2.073 -0.876 -2.285  0.914 1.37710 -0.048      Down   0\n",
      "470  2002 -0.344  2.145  1.941 -0.402 -1.041 1.62680  0.249        Up   1\n",
      "471  2002  0.249 -0.344  2.145  1.941 -0.402 1.57400 -2.097      Down   0\n",
      "478  2002 -1.202 -0.344 -1.475 -0.190 -0.273 1.25020  0.627        Up   1\n",
      "479  2002  0.627 -1.202 -0.344 -1.475 -0.190 1.24110 -2.218      Down   0\n",
      "480  2002 -2.218  0.627 -1.202 -0.344 -1.475 1.32080  1.396        Up   1\n",
      "481  2002  1.396 -2.218  0.627 -1.202 -0.344 1.28660  0.056        Up   1\n",
      "482  2002  0.056  1.396 -2.218  0.627 -1.202 1.28510 -0.373      Down   0\n",
      "483  2002 -0.373  0.056  1.396 -2.218  0.627 1.25530 -1.342      Down   0\n",
      "485  2002  2.352 -1.342 -0.373  0.056  1.396 1.27160 -0.814      Down   0\n",
      "486  2002 -0.814  2.352 -1.342 -0.373  0.056 1.25180 -1.315      Down   0\n",
      "487  2002 -1.315 -0.814  2.352 -1.342 -0.373 1.44620 -0.771      Down   0\n",
      "488  2002 -0.771 -1.315 -0.814  2.352 -1.342 1.38590  1.302        Up   1\n",
      "490  2002  0.181  1.302 -0.771 -1.315 -0.814 1.11210 -0.547      Down   0\n",
      "492  2002 -0.315 -0.547  0.181  1.302 -0.771 0.72110 -1.603      Down   0\n",
      "493  2002 -1.603 -0.315 -0.547  0.181  1.302 0.75840  0.456        Up   1\n",
      "494  2002  0.456 -1.603 -0.315 -0.547  0.181 1.05780  0.049        Up   1\n",
      "501  2003  1.939 -1.409 -0.654  2.247 -0.048 1.56030  0.000        Up   1\n",
      "502  2003  0.000  1.939 -1.409 -0.654  2.247 1.48540 -0.141      Down   0\n",
      "503  2003 -0.141  0.000  1.939 -1.409 -0.654 1.39630  0.583        Up   1\n",
      "504  2003  0.583 -0.141  0.000  1.939 -1.409 1.37940 -1.443      Down   0\n",
      "505  2003 -1.443  0.583 -0.141  0.000  1.939 1.43210 -0.394      Down   0\n",
      "506  2003 -0.394 -1.443  0.583 -0.141  0.000 1.53460 -1.402      Down   0\n",
      "507  2003 -1.402 -0.394 -1.443  0.583 -0.141 1.35820 -1.570      Down   0\n",
      "508  2003 -1.570 -1.402 -0.394 -1.443  0.583 1.33520 -1.043      Down   0\n",
      "509  2003 -1.043 -1.570 -1.402 -0.394 -1.443 1.56080  1.022        Up   1\n",
      "516  2003  1.313 -2.285  0.678  1.305 -1.616 1.57853  0.540        Up   1\n",
      "517  2003  0.540  1.313 -2.285  0.678  1.305 1.25850 -1.409      Down   0\n",
      "518  2003 -1.409  0.540  1.313 -2.285  0.678 1.45160 -0.544      Down   0\n",
      "519  2003 -0.544 -1.409  0.540  1.313 -2.285 1.45080 -0.645      Down   0\n",
      "520  2003 -0.645 -0.544 -1.409  0.540  1.313 1.43090 -1.009      Down   0\n",
      "521  2003 -1.009 -0.645 -0.544 -1.409  0.540 1.27680  0.757        Up   1\n",
      "522  2003  0.757 -1.009 -0.645 -0.544 -1.409 1.23820 -0.810      Down   0\n",
      "523  2003 -0.810  0.757 -1.009 -0.645 -0.544 1.30700 -1.269      Down   0\n",
      "524  2003 -1.269 -0.810  0.757 -1.009 -0.645 1.26050 -0.160      Down   0\n",
      "525  2003 -0.160 -1.269 -0.810  0.757 -1.009 1.48930  2.143        Up   1\n",
      "526  2003  2.143 -0.160 -1.269 -0.810  0.757 1.40460  1.950        Up   1\n",
      "527  2003  1.950  2.143 -0.160 -1.269 -0.810 1.25080 -0.710      Down   0\n",
      "528  2003 -0.710  1.950  2.143 -0.160 -1.269 1.07560 -0.950      Down   0\n",
      "529  2003 -0.950 -0.710  1.950  2.143 -0.160 1.19410  1.322        Up   1\n",
      "530  2003  1.322 -0.950 -0.710  1.950  2.143 1.39820 -1.838      Down   0\n",
      "531  2003 -1.838  1.322 -0.950 -0.710  1.950 1.22920  0.719        Up   1\n",
      "532  2003  0.719 -1.838  1.322 -0.950 -0.710 1.48370 -1.314      Down   0\n",
      "533  2003 -1.314  0.719 -1.838  1.322 -0.950 1.37440  1.176        Up   1\n",
      "534  2003  1.176 -1.314  0.719 -1.838  1.322 1.28780  0.462        Up   1\n",
      "535  2003  0.462  1.176 -1.314  0.719 -1.838 1.37330 -0.754      Down   0\n",
      "536  2003 -0.754  0.462  1.176 -1.314  0.719 1.20890 -1.536      Down   0\n",
      "537  2003 -1.536 -0.754  0.462  1.176 -1.314 1.25660  0.956        Up   1\n",
      "538  2003  0.956 -1.536 -0.754  0.462  1.176 1.33270 -0.934      Down   0\n",
      "539  2003 -0.934  0.956 -1.536 -0.754  0.462 1.29920  0.826        Up   1\n",
      "556  2003 -1.774 -0.578 -0.164 -0.548  1.216 1.49550  1.214        Up   1\n",
      "563  2003 -1.400 -0.186  0.123  0.274 -0.505 1.29370  0.646        Up   1\n",
      "564  2003  0.646 -1.400 -0.186  0.123  0.274 1.27530 -0.376      Down   0\n",
      "565  2003 -0.376  0.646 -1.400 -0.186  0.123 1.14160  1.950        Up   1\n",
      "566  2003  1.950 -0.376  0.646 -1.400 -0.186 1.13100  0.630        Up   1\n",
      "567  2003  0.630  1.950 -0.376  0.646 -1.400 1.46020 -1.224      Down   0\n",
      "568  2003 -1.224  0.630  1.950 -0.376  0.646 1.58760  1.554        Up   1\n",
      "569  2003  1.554 -1.224  0.630  1.950 -0.376 1.43060 -0.176      Down   0\n",
      "570  2003 -0.176  1.554 -1.224  0.630  1.950 1.11870  2.170        Up   1\n",
      "571  2003  2.170 -0.176  1.554 -1.224  0.630 1.63120  0.839        Up   1\n",
      "572  2003  0.839  2.170 -0.176  1.554 -1.224 1.66720 -0.826      Down   0\n",
      "573  2003 -0.826  0.839  2.170 -0.176  1.554 1.64810 -1.385      Down   0\n",
      "574  2003 -1.385 -0.826  0.839  2.170 -0.176 1.33580  1.783        Up   1\n",
      "575  2003  1.783 -1.385 -0.826  0.839  2.170 1.27300  0.328        Up   1\n",
      "576  2003  0.328  1.783 -1.385 -0.826  0.839 1.52560 -0.100      Down   0\n",
      "577  2003 -0.100  0.328  1.783 -1.385 -0.826 1.78851 -0.068      Down   0\n",
      "578  2003 -0.068 -0.100  0.328  1.783 -1.385 1.39750  1.504        Up   1\n",
      "579  2003  1.504 -0.068 -0.100  0.328  1.783 1.55430 -0.380      Down   0\n",
      "580  2003 -0.380  1.504 -0.068 -0.100  0.328 1.44630  0.846        Up   1\n",
      "581  2003  0.846 -0.380  1.504 -0.068 -0.100 1.64960 -0.510      Down   0\n",
      "582  2003 -0.510  0.846 -0.380  1.504 -0.068 1.53190 -1.006      Down   0\n",
      "583  2003 -1.006 -0.510  0.846 -0.380  1.504 1.37960  1.428        Up   1\n",
      "584  2003  1.428 -1.006 -0.510  0.846 -0.380 1.32610  1.253        Up   1\n",
      "585  2003  1.253  1.428 -1.006 -0.510  0.846 1.37880 -0.297      Down   0\n",
      "586  2003 -0.297  1.253  1.428 -1.006 -0.510 1.41810 -0.320      Down   0\n",
      "587  2003 -0.320 -0.297  1.253  1.428 -1.006 1.40180  0.787        Up   1\n",
      "588  2003  0.787 -0.320 -0.297  1.253  1.428 1.50870 -0.250      Down   0\n",
      "590  2003 -2.492 -0.250  0.787 -0.320 -0.297 1.37570 -0.113      Down   0\n",
      "595  2003  1.957  0.145  0.915  0.401 -0.113 1.53200  0.183        Up   1\n",
      "596  2003  0.183  1.957  0.145  0.915  0.401 1.55900 -0.376      Down   0\n",
      "597  2003 -0.376  0.183  1.957  0.145  0.915 1.68580  1.469        Up   1\n",
      "598  2003  1.469 -0.376  0.183  1.957  0.145 1.68880  0.354        Up   1\n",
      "599  2003  0.354  1.469 -0.376  0.183  1.957 1.66250  0.472        Up   1\n",
      "600  2003  0.472  0.354  1.469 -0.376  0.183 1.45020  1.511        Up   1\n",
      "601  2003  1.511  0.472  0.354  1.469 -0.376 1.61870  0.395        Up   1\n",
      "602  2003  0.395  1.511  0.472  0.354  1.469 1.69310 -0.240      Down   0\n",
      "603  2003 -0.240  0.395  1.511  0.472  0.354 1.83720 -1.198      Down   0\n",
      "604  2003 -1.198 -0.240  0.395  1.511  0.472 1.30700  0.913        Up   1\n",
      "605  2003  0.913 -1.198 -0.240  0.395  1.511 1.27540  1.283        Up   1\n",
      "606  2003  1.283  0.913 -1.198 -0.240  0.395 1.52000  0.103        Up   1\n",
      "607  2003  0.103  1.283  0.913 -1.198 -0.240 1.55310 -0.991      Down   0\n",
      "608  2003 -0.991  0.103  1.283  0.913 -1.198 1.27160  2.238        Up   1\n",
      "609  2003  2.238 -0.991  0.103  1.283  0.913 1.34590  0.091        Up   1\n",
      "610  2003  0.091  2.238 -0.991  0.103  1.283 1.47970 -0.155      Down   0\n",
      "611  2003 -0.155  0.091  2.238 -0.991  0.103 1.48890 -1.524      Down   0\n",
      "612  2003 -1.524 -0.155  0.091  2.238 -0.991 1.53010  0.100        Up   1\n",
      "613  2003  0.100 -1.524 -0.155  0.091  2.238 1.69800 -1.411      Down   0\n",
      "614  2003 -1.411  0.100 -1.524 -0.155  0.091 1.39810  0.184        Up   1\n",
      "615  2003  0.184 -1.411  0.100 -1.524 -0.155 1.38830 -0.827      Down   0\n",
      "616  2003 -0.827  0.184 -1.411  0.100 -1.524 1.45920  1.077        Up   1\n",
      "617  2003  1.077 -0.827  0.184 -1.411  0.100 1.38740 -0.974      Down   0\n",
      "618  2003 -0.974  1.077 -0.827  0.184 -1.411 1.26780 -0.176      Down   0\n",
      "619  2003 -0.176 -0.974  1.077 -0.827  0.184 1.58720  0.802        Up   1\n",
      "620  2003  0.802 -0.176 -0.974  1.077 -0.827 1.46020  1.164        Up   1\n",
      "621  2003  1.164  0.802 -0.176 -0.974  1.077 1.51930 -0.810      Down   0\n",
      "622  2003 -0.810  1.164  0.802 -0.176 -0.974 0.77590  1.899        Up   1\n",
      "623  2003  1.899 -0.810  1.164  0.802 -0.176 1.42910  0.340        Up   1\n",
      "624  2003  0.340  1.899 -0.810  1.164  0.802 1.56570 -0.559      Down   0\n",
      "625  2003 -0.559  0.340  1.899 -0.810  1.164 1.61800 -1.348      Down   0\n",
      "626  2003 -1.348 -0.559  0.340  1.899 -0.810 1.46570  0.955        Up   1\n",
      "627  2003  0.955 -1.348 -0.559  0.340  1.899 1.21270  0.573        Up   1\n",
      "628  2003  0.573  0.955 -1.348 -0.559  0.340 1.44890 -0.343      Down   0\n",
      "629  2003 -0.343  0.573  0.955 -1.348 -0.559 1.51860 -0.633      Down   0\n",
      "630  2003 -0.633 -0.343  0.573  0.955 -1.348 1.66200 -1.243      Down   0\n",
      "631  2003 -1.243 -0.633 -0.343  0.573  0.955 1.66140  1.181        Up   1\n",
      "632  2003  1.181 -1.243 -0.633 -0.343  0.573 1.36520 -1.462      Down   0\n",
      "633  2003 -1.462  1.181 -1.243 -0.633 -0.343 1.25420  0.951        Up   1\n",
      "634  2003  0.951 -1.462  1.181 -1.243 -0.633 1.43970  0.051        Up   1\n",
      "635  2003  0.051  0.951 -1.462  1.181 -1.243 1.36270 -0.709      Down   0\n",
      "636  2003 -0.709  0.051  0.951 -1.462  1.181 1.55900  1.740        Up   1\n",
      "637  2003  1.740 -0.709  0.051  0.951 -1.462 1.39750 -0.216      Down   0\n",
      "638  2003 -0.216  1.740 -0.709  0.051  0.951 1.32860 -0.727      Down   0\n",
      "639  2003 -0.727 -0.216  1.740 -0.709  0.051 1.50890 -0.181      Down   0\n",
      "640  2003 -0.181 -0.727 -0.216  1.740 -0.709 1.39190  0.286        Up   1\n",
      "641  2003  0.286 -0.181 -0.727 -0.216  1.740 1.60800 -1.026      Down   0\n",
      "642  2003 -1.026  0.286 -0.181 -0.727 -0.216 1.39060  0.272        Up   1\n",
      "643  2003  0.272 -1.026  0.286 -0.181 -0.727 1.31870 -1.766      Down   0\n",
      "644  2003 -1.766  0.272 -1.026  0.286 -0.181 1.35170  0.168        Up   1\n",
      "645  2003  0.168 -1.766  0.272 -1.026  0.286 1.49100  0.728        Up   1\n",
      "646  2003  0.728  0.168 -1.766  0.272 -1.026 1.38930  0.356        Up   1\n",
      "647  2003  0.356  0.728  0.168 -1.766  0.272 1.08660  0.307        Up   1\n",
      "648  2003  0.307  0.356  0.728  0.168 -1.766 1.02220  0.995        Up   1\n",
      "649  2003  0.995  0.307  0.356  0.728  0.168 1.13230 -0.638      Down   0\n",
      "650  2003 -0.638  0.995  0.307  0.356  0.728 1.20880  0.659        Up   1\n",
      "651  2003  0.659 -0.638  0.995  0.307  0.356 1.18680  0.016        Up   1\n",
      "653  2003  0.916  0.016  0.659 -0.638  0.995 1.12760  0.261        Up   1\n",
      "654  2003  0.261  0.916  0.016  0.659 -0.638 1.30060 -0.205      Down   0\n",
      "655  2003 -0.205  0.261  0.916  0.016  0.659 1.21080  0.297        Up   1\n",
      "656  2003  0.297 -0.205  0.261  0.916  0.016 1.40710 -1.018      Down   0\n",
      "657  2003 -1.018  0.297 -0.205  0.261  0.916 1.30890  0.065        Up   1\n",
      "658  2003  0.065 -1.018  0.297 -0.205  0.261 0.97170  0.304        Up   1\n",
      "659  2003  0.304  0.065 -1.018  0.297 -0.205 1.17870  0.006        Up   1\n",
      "660  2003  0.006  0.304  0.065 -1.018  0.297 1.05140  0.607        Up   1\n",
      "661  2003  0.607  0.006  0.304  0.065 -1.018 1.16520  0.516        Up   1\n",
      "662  2003  0.516  0.607  0.006  0.304  0.065 0.94510  1.387        Up   1\n",
      "663  2003  1.387  0.516  0.607  0.006  0.304 1.47050  0.419        Up   1\n",
      "664  2003  0.419  1.387  0.516  0.607  0.006 1.67560  0.166        Up   1\n",
      "665  2003  0.166  0.419  1.387  0.516  0.607 1.45390 -0.640      Down   0\n",
      "666  2003 -0.640  0.166  0.419  1.387  0.516 1.46520  1.004        Up   1\n",
      "667  2003  1.004 -0.640  0.166  0.419  1.387 1.29930 -0.821      Down   0\n",
      "668  2003 -0.821  1.004 -0.640  0.166  0.419 1.41480 -1.197      Down   0\n",
      "669  2003 -1.197 -0.821  1.004 -0.640  0.166 1.58210  0.544        Up   1\n",
      "670  2003  0.544 -1.197 -0.821  1.004 -0.640 1.33590  0.217        Up   1\n",
      "671  2003  0.217  0.544 -1.197 -0.821  1.004 1.23670 -0.375      Down   0\n",
      "672  2003 -0.375  0.217  0.544 -1.197 -0.821 1.15130  1.430        Up   1\n",
      "673  2003  1.430 -0.375  0.217  0.544 -1.197 1.40320 -0.325      Down   0\n",
      "674  2003 -0.325  1.430 -0.375  0.217  0.544 1.33821  1.327        Up   1\n",
      "675  2003  1.327 -0.325  1.430 -0.375  0.217 1.49880 -0.316      Down   0\n",
      "676  2003 -0.316  1.327 -0.325  1.430 -0.375 1.51860 -1.301      Down   0\n",
      "677  2003 -1.301 -0.316  1.327 -0.325  1.430 1.27880  0.607        Up   1\n",
      "678  2003  0.607 -1.301 -0.316  1.327 -0.325 1.30170 -1.910      Down   0\n",
      "679  2003 -1.910  0.607 -1.301 -0.316  1.327 1.55600 -0.605      Down   0\n",
      "680  2003 -0.605 -1.910  0.607 -1.301 -0.316 1.53000 -0.640      Down   0\n",
      "681  2003 -0.640 -0.605 -1.910  0.607 -1.301 1.47250  0.976        Up   1\n",
      "682  2003  0.976 -0.640 -0.605 -1.910  0.607 1.36650 -1.054      Down   0\n",
      "683  2003 -1.054  0.976 -0.640 -0.605 -1.910 1.59050  2.234        Up   1\n",
      "684  2003  2.234 -1.054  0.976 -0.640 -0.605 1.56630  0.198        Up   1\n",
      "685  2003  0.198  2.234 -1.054  0.976 -0.640 1.26930  0.942        Up   1\n",
      "686  2003  0.942  0.198  2.234 -1.054  0.976 1.57050  0.437        Up   1\n",
      "687  2003  0.437  0.942  0.198  2.234 -1.054 1.02580  0.474        Up   1\n",
      "688  2003  0.474  0.437  0.942  0.198  2.234 1.27950 -0.526      Down   0\n",
      "689  2003 -0.526  0.474  0.437  0.942  0.198 1.26250  0.479        Up   1\n",
      "690  2003  0.479 -0.526  0.474  0.437  0.942 1.57870 -0.065      Down   0\n",
      "691  2003 -0.065  0.479 -0.526  0.474  0.437 1.10810  0.702        Up   1\n",
      "692  2003  0.702 -0.065  0.479 -0.526  0.474 1.04050  0.395        Up   1\n",
      "693  2003  0.395  0.702 -0.065  0.479 -0.526 1.27190 -0.259      Down   0\n",
      "694  2003 -0.259  0.395  0.702 -0.065  0.479 1.52110  0.316        Up   1\n",
      "695  2003  0.316 -0.259  0.395  0.702 -0.065 1.41770 -1.024      Down   0\n",
      "696  2003 -1.024  0.316 -0.259  0.395  0.702 1.35200  0.516        Up   1\n",
      "697  2003  0.516 -1.024  0.316 -0.259  0.395 1.17260  0.129        Up   1\n",
      "698  2003  0.129  0.516 -1.024  0.316 -0.259 1.49800 -1.498      Down   0\n",
      "699  2003 -1.498  0.129  0.516 -1.024  0.316 1.64720  0.331        Up   1\n",
      "700  2003  0.331 -1.498  0.129  0.516 -1.024 1.60430 -0.470      Down   0\n",
      "701  2003 -0.470  0.331 -1.498  0.129  0.516 1.42030  0.216        Up   1\n",
      "702  2003  0.216 -0.470  0.331 -1.498  0.129 1.37180  1.519        Up   1\n",
      "703  2003  1.519  0.216 -0.470  0.331 -1.498 1.62920  0.126        Up   1\n",
      "704  2003  0.126  1.519  0.216 -0.470  0.331 1.56260 -0.112      Down   0\n",
      "705  2003 -0.112  0.126  1.519  0.216 -0.470 1.62970  0.360        Up   1\n",
      "706  2003  0.360 -0.112  0.126  1.519  0.216 1.49890  0.791        Up   1\n",
      "707  2003  0.791  0.360 -0.112  0.126  1.519 1.37820 -0.545      Down   0\n",
      "708  2003 -0.545  0.791  0.360 -0.112  0.126 1.41760 -0.137      Down   0\n",
      "709  2003 -0.137 -0.545  0.791  0.360 -0.112 1.40180  0.593        Up   1\n",
      "710  2003  0.593 -0.137 -0.545  0.791  0.360 1.45390 -0.457      Down   0\n",
      "711  2003 -0.457  0.593 -0.137 -0.545  0.791 1.44050 -0.579      Down   0\n",
      "712  2003 -0.579 -0.457  0.593 -0.137 -0.545 1.24360 -0.052      Down   0\n",
      "713  2003 -0.052 -0.579 -0.457  0.593 -0.137 1.16250  1.143        Up   1\n",
      "714  2003  1.143 -0.052 -0.579 -0.457  0.593 1.34930 -0.011      Down   0\n",
      "715  2003 -0.011  1.143 -0.052 -0.579 -0.457 1.38300 -0.762      Down   0\n",
      "716  2003 -0.762 -0.011  1.143 -0.052 -0.579 1.35610 -0.640      Down   0\n",
      "717  2003 -0.640 -0.762 -0.011  1.143 -0.052 1.37430 -0.908      Down   0\n",
      "718  2003 -0.908 -0.640 -0.762 -0.011  1.143 1.35430  0.802        Up   1\n",
      "719  2003  0.802 -0.908 -0.640 -0.762 -0.011 1.32620 -0.843      Down   0\n",
      "720  2003 -0.843  0.802 -0.908 -0.640 -0.762 1.32670  0.158        Up   1\n",
      "721  2003  0.158 -0.843  0.802 -0.908 -0.640 1.27380  1.623        Up   1\n",
      "722  2003  1.623  0.158 -0.843  0.802 -0.908 1.30280  0.172        Up   1\n",
      "723  2003  0.172  1.623  0.158 -0.843  0.802 1.33370  0.433        Up   1\n",
      "724  2003  0.433  0.172  1.623  0.158 -0.843 1.09770 -0.024      Down   0\n",
      "726  2003  1.126 -0.024  0.433  0.172  1.623 1.37500 -0.327      Down   0\n",
      "727  2003 -0.327  1.126 -0.024  0.433  0.172 1.38320 -0.177      Down   0\n",
      "728  2003 -0.177 -0.327  1.126 -0.024  0.433 1.44170  0.469        Up   1\n",
      "729  2003  0.469 -0.177 -0.327  1.126 -0.024 1.46310 -0.768      Down   0\n",
      "730  2003 -0.768  0.469 -0.177 -0.327  1.126 1.26590  0.735        Up   1\n",
      "731  2003  0.735 -0.768  0.469 -0.177 -0.327 1.21890 -0.853      Down   0\n",
      "732  2003 -0.853  0.735 -0.768  0.469 -0.177 1.46550 -0.107      Down   0\n",
      "733  2003 -0.107 -0.853  0.735 -0.768  0.469 1.44400  1.148        Up   1\n",
      "734  2003  1.148 -0.107 -0.853  0.735 -0.768 1.44110  0.274        Up   1\n",
      "735  2003  0.274  1.148 -0.107 -0.853  0.735 1.22310 -0.568      Down   0\n",
      "736  2003 -0.568  0.274  1.148 -0.107 -0.853 1.52080  0.664        Up   1\n",
      "737  2003  0.664 -0.568  0.274  1.148 -0.107 1.54790  0.126        Up   1\n",
      "738  2003  0.126  0.664 -0.568  0.274  1.148 1.44170  1.180        Up   1\n",
      "739  2003  1.180  0.126  0.664 -0.568  0.274 1.57990 -0.048      Down   0\n",
      "740  2003 -0.048  1.180  0.126  0.664 -0.568 1.65730  0.393        Up   1\n",
      "741  2003  0.393 -0.048  1.180  0.126  0.664 1.25170  0.282        Up   1\n",
      "742  2003  0.282  0.393 -0.048  1.180  0.126 1.14530 -0.181      Down   0\n",
      "745  2003  1.240  0.169 -0.181  0.282  0.393 1.05880  0.014        Up   1\n",
      "746  2003  0.014  1.240  0.169 -0.181  0.282 1.01260  0.205        Up   1\n",
      "747  2004  0.205  0.014  1.240  0.169 -0.181 1.02750 -0.309      Down   0\n",
      "748  2004 -0.309  0.205  0.014  1.240  0.169 1.15320  1.240        Up   1\n",
      "749  2004  1.240 -0.309  0.205  0.014  1.240 1.57820  0.129        Up   1\n",
      "750  2004  0.129  1.240 -0.309  0.205  0.014 1.49450  0.237        Up   1\n",
      "751  2004  0.237  0.129  1.240 -0.309  0.205 1.70490  0.496        Up   1\n",
      "752  2004  0.496  0.237  0.129  1.240 -0.309 1.86840 -0.889      Down   0\n",
      "753  2004 -0.889  0.496  0.237  0.129  1.240 1.72070  0.479        Up   1\n",
      "754  2004  0.479 -0.889  0.496  0.237  0.129 1.51020 -0.533      Down   0\n",
      "755  2004 -0.533  0.479 -0.889  0.496  0.237 1.59590  0.829        Up   1\n",
      "756  2004  0.829 -0.533  0.479 -0.889  0.496 1.51460  0.135        Up   1\n",
      "757  2004  0.135  0.829 -0.533  0.479 -0.889 1.69500  0.687        Up   1\n",
      "758  2004  0.687  0.135  0.829 -0.533  0.479 1.72110 -0.093      Down   0\n",
      "759  2004 -0.093  0.687  0.135  0.829 -0.533 1.69820  0.777        Up   1\n",
      "760  2004  0.777 -0.093  0.687  0.135  0.829 1.75760 -0.321      Down   0\n",
      "761  2004 -0.321  0.777 -0.093  0.687  0.135 1.69370 -0.209      Down   0\n",
      "762  2004 -0.209 -0.321  0.777 -0.093  0.687 1.56120  1.211        Up   1\n",
      "763  2004  1.211 -0.209 -0.321  0.777 -0.093 1.48060 -0.980      Down   0\n",
      "764  2004 -0.980  1.211 -0.209 -0.321  0.777 1.67310 -1.361      Down   0\n",
      "765  2004 -1.361 -0.980  1.211 -0.209 -0.321 1.84200  0.499        Up   1\n",
      "766  2004  0.499 -1.361 -0.980  1.211 -0.209 1.92190 -0.263      Down   0\n",
      "767  2004 -0.263  0.499 -1.361 -0.980  1.211 1.63500  0.365        Up   1\n",
      "768  2004  0.365 -0.263  0.499 -1.361 -0.980 1.59920  0.068        Up   1\n",
      "769  2004  0.068  0.365 -0.263  0.499 -1.361 1.47690 -0.837      Down   0\n",
      "770  2004 -0.837  0.068  0.365 -0.263  0.499 1.63480  0.184        Up   1\n",
      "771  2004  0.184 -0.837  0.068  0.365 -0.263 1.56660  1.256        Up   1\n",
      "772  2004  1.256  0.184 -0.837  0.068  0.365 1.47760 -0.258      Down   0\n",
      "773  2004 -0.258  1.256  0.184 -0.837  0.068 1.30350  0.503        Up   1\n",
      "774  2004  0.503 -0.258  1.256  0.184 -0.837 1.40390  1.067        Up   1\n",
      "775  2004  1.067  0.503 -0.258  1.256  0.184 1.69930 -0.488      Down   0\n",
      "776  2004 -0.488  1.067  0.503 -0.258  1.256 1.46430 -0.547      Down   0\n",
      "777  2004 -0.547 -0.488  1.067  0.503 -0.258 1.32920  0.976        Up   1\n",
      "778  2004  0.976 -0.547 -0.488  1.067  0.503 1.39650 -0.447      Down   0\n",
      "779  2004 -0.447  0.976 -0.547 -0.488  1.067 1.38240 -0.413      Down   0\n",
      "780  2004 -0.413 -0.447  0.976 -0.547 -0.488 1.56280 -0.257      Down   0\n",
      "781  2004 -0.257 -0.413 -0.447  0.976 -0.547 1.47960 -0.273      Down   0\n",
      "782  2004 -0.273 -0.257 -0.413 -0.447  0.976 1.38040 -0.167      Down   0\n",
      "783  2004 -0.167 -0.273 -0.257 -0.413 -0.447 1.54360  0.402        Up   1\n",
      "784  2004  0.402 -0.167 -0.273 -0.257 -0.413 1.36070  0.108        Up   1\n",
      "785  2004  0.108  0.402 -0.167 -0.273 -0.257 1.38390  0.003        Up   1\n",
      "786  2004  0.003  0.108  0.402 -0.167 -0.273 1.54040  0.963        Up   1\n",
      "787  2004  0.963  0.003  0.108  0.402 -0.167 1.49710 -0.594      Down   0\n",
      "788  2004 -0.594  0.963  0.003  0.108  0.402 1.47600  0.168        Up   1\n",
      "789  2004  0.168 -0.594  0.963  0.003  0.108 1.33450  0.334        Up   1\n",
      "790  2004  0.334  0.168 -0.594  0.963  0.003 1.26580  0.172        Up   1\n",
      "791  2004  0.172  0.334  0.168 -0.594  0.963 1.39820 -0.835      Down   0\n",
      "792  2004 -0.835  0.172  0.334  0.168 -0.594 1.25440 -0.577      Down   0\n",
      "793  2004 -0.577 -0.835  0.172  0.334  0.168 1.49940 -1.463      Down   0\n",
      "794  2004 -1.463 -0.577 -0.835  0.172  0.334 1.64840 -1.522      Down   0\n",
      "795  2004 -1.522 -1.463 -0.577 -0.835  0.172 1.88990  1.246        Up   1\n",
      "796  2004  1.246 -1.522 -1.463 -0.577 -0.835 1.38850 -1.435      Down   0\n",
      "797  2004 -1.435  1.246 -1.522 -1.463 -0.577 1.60060  0.562        Up   1\n",
      "798  2004  0.562 -1.435  1.246 -1.522 -1.463 1.50070  1.175        Up   1\n",
      "799  2004  1.175  0.562 -1.435  1.246 -1.522 1.49010 -0.127      Down   0\n",
      "800  2004 -0.127  1.175  0.562 -1.435  1.246 1.36920 -1.117      Down   0\n",
      "801  2004 -1.117 -0.127  1.175  0.562 -1.435 1.45740 -1.296      Down   0\n",
      "802  2004 -1.296 -1.117 -0.127  1.175  0.562 1.45230 -0.132      Down   0\n",
      "803  2004 -0.132 -1.296 -1.117 -0.127  1.175 1.45820 -0.239      Down   0\n",
      "804  2004 -0.239 -0.132 -1.296 -1.117 -0.127 1.52780  1.637        Up   1\n",
      "805  2004  1.637 -0.239 -0.132 -1.296 -1.117 1.47170 -0.102      Down   0\n",
      "806  2004 -0.102  1.637 -0.239 -0.132 -1.296 1.31910  1.300        Up   1\n",
      "807  2004  1.300 -0.102  1.637 -0.239 -0.132 1.40550  0.404        Up   1\n",
      "808  2004  0.404  1.300 -0.102  1.637 -0.239 1.33240 -0.070      Down   0\n",
      "809  2004 -0.070  0.404  1.300 -0.102  1.637 1.56070  0.529        Up   1\n",
      "810  2004  0.529 -0.070  0.404  1.300 -0.102 1.56070  0.851        Up   1\n",
      "811  2004  0.851  0.529 -0.070  0.404  1.300 1.62920  0.767        Up   1\n",
      "812  2004  0.767  0.851  0.529 -0.070  0.404 1.41370 -0.209      Down   0\n",
      "813  2004 -0.209  0.767  0.851  0.529 -0.070 1.39770 -0.665      Down   0\n",
      "814  2004 -0.665 -0.209  0.767  0.851  0.529 1.45880 -0.106      Down   0\n",
      "815  2004 -0.106 -0.665 -0.209  0.767  0.851 1.19980  0.516        Up   1\n",
      "816  2004  0.516 -0.106 -0.665 -0.209  0.767 1.10240 -1.376      Down   0\n",
      "817  2004 -1.376  0.516 -0.106 -0.665 -0.209 1.42320 -0.112      Down   0\n",
      "818  2004 -0.112 -1.376  0.516 -0.106 -0.665 1.54770  0.059        Up   1\n",
      "819  2004  0.059 -0.112 -1.376  0.516 -0.106 1.56870  0.511        Up   1\n",
      "820  2004  0.511  0.059 -0.112 -1.376  0.516 1.48780  0.107        Up   1\n",
      "821  2004  0.107  0.511  0.059 -0.112 -1.376 1.19490 -1.556      Down   0\n",
      "822  2004 -1.556  0.107  0.511  0.059 -0.112 1.50850  0.531        Up   1\n",
      "823  2004  0.531 -1.556  0.107  0.511  0.059 1.73810  1.409        Up   1\n",
      "824  2004  1.409  0.531 -1.556  0.107  0.511 1.82670  0.059        Up   1\n",
      "825  2004  0.059  1.409  0.531 -1.556  0.107 1.39610 -0.445      Down   0\n",
      "826  2004 -0.445  0.059  1.409  0.531 -1.556 1.29060  0.227        Up   1\n",
      "827  2004  0.227 -0.445  0.059  1.409  0.531 1.51800 -1.379      Down   0\n",
      "828  2004 -1.379  0.227 -0.445  0.059  1.409 1.85560 -0.759      Down   0\n",
      "829  2004 -0.759 -1.379  0.227 -0.445  0.059 1.85900 -0.592      Down   0\n",
      "830  2004 -0.592 -0.759 -1.379  0.227 -0.445 1.63470  0.920        Up   1\n",
      "831  2004  0.920 -0.592 -0.759 -1.379  0.227 1.57160  0.184        Up   1\n",
      "832  2004  0.184  0.920 -0.592 -0.759 -1.379 1.66210  0.177        Up   1\n",
      "833  2004  0.177  0.184  0.920 -0.592 -0.759 1.46900 -0.672      Down   0\n",
      "834  2004 -0.672  0.177  0.184  0.920 -0.592 1.50930 -1.373      Down   0\n",
      "835  2004 -1.373 -0.672  0.177  0.184  0.920 1.65360 -1.054      Down   0\n",
      "836  2004 -1.054 -1.373 -0.672  0.177  0.184 1.91840  0.766        Up   1\n",
      "837  2004  0.766 -1.054 -1.373 -0.672  0.177 1.53380  0.167        Up   1\n",
      "838  2004  0.167  0.766 -1.054 -1.373 -0.672 1.69760 -0.077      Down   0\n",
      "839  2004 -0.077  0.167  0.766 -1.054 -1.373 1.41110 -0.067      Down   0\n",
      "840  2004 -0.067 -0.077  0.167  0.766 -1.054 1.33590 -1.059      Down   0\n",
      "841  2004 -1.059 -0.067 -0.077  0.167  0.766 1.43010  0.682        Up   1\n",
      "842  2004  0.682 -1.059 -0.067 -0.077  0.167 1.35300 -0.257      Down   0\n",
      "843  2004 -0.257  0.682 -1.059 -0.067 -0.077 1.54860  0.047        Up   1\n",
      "844  2004  0.047 -0.257  0.682 -1.059 -0.067 1.21100  0.401        Up   1\n",
      "845  2004  0.401  0.047 -0.257  0.682 -1.059 1.25860  0.169        Up   1\n",
      "846  2004  0.169  0.401  0.047 -0.257  0.682 1.22750  1.610        Up   1\n",
      "847  2004  1.610  0.169  0.401  0.047 -0.257 1.54570  0.170        Up   1\n",
      "848  2004  0.170  1.610  0.169  0.401  0.047 1.36940  0.569        Up   1\n",
      "849  2004  0.569  0.170  1.610  0.169  0.401 1.44750 -0.054      Down   0\n",
      "850  2004 -0.054  0.569  0.170  1.610  0.169 1.17260  0.046        Up   1\n",
      "851  2004  0.046 -0.054  0.569  0.170  1.610 1.23800  0.338        Up   1\n",
      "852  2004  0.338  0.046 -0.054  0.569  0.170 1.25170 -0.742      Down   0\n",
      "853  2004 -0.742  0.338  0.046 -0.054  0.569 1.23240  0.525        Up   1\n",
      "854  2004  0.525 -0.742  0.338  0.046 -0.054 1.11530  1.596        Up   1\n",
      "855  2004  1.596  0.525 -0.742  0.338  0.046 1.21180  0.154        Up   1\n",
      "856  2004  0.154  1.596  0.525 -0.742  0.338 1.19030 -0.950      Down   0\n",
      "857  2004 -0.950  0.154  1.596  0.525 -0.742 1.27680  0.454        Up   1\n",
      "858  2004  0.454 -0.950  0.154  1.596  0.525 1.16060 -0.984      Down   0\n",
      "859  2004 -0.984  0.454 -0.950  0.154  1.596 1.17940  0.597        Up   1\n",
      "860  2004  0.597 -0.984  0.454 -0.950  0.154 1.34590  0.137        Up   1\n",
      "861  2004  0.137  0.597 -0.984  0.454 -0.950 1.16840 -0.133      Down   0\n",
      "862  2004 -0.133  0.137  0.597 -0.984  0.454 1.29670  0.262        Up   1\n",
      "863  2004  0.262 -0.133  0.137  0.597 -0.984 1.50060 -0.416      Down   0\n",
      "864  2004 -0.416  0.262 -0.133  0.137  0.597 1.12390  0.364        Up   1\n",
      "865  2004  0.364 -0.416  0.262 -0.133  0.137 1.38230  0.851        Up   1\n",
      "866  2004  0.851  0.364 -0.416  0.262 -0.133 1.44420 -0.298      Down   0\n",
      "867  2004 -0.298  0.851  0.364 -0.416  0.262 1.39490 -0.545      Down   0\n",
      "868  2004 -0.545 -0.298  0.851  0.364 -0.416 1.81290 -0.095      Down   0\n",
      "869  2004 -0.095 -0.545 -0.298  0.851  0.364 1.35460  0.251        Up   1\n",
      "870  2004  0.251 -0.095 -0.545 -0.298  0.851 1.37500  0.408        Up   1\n",
      "871  2004  0.408  0.251 -0.095 -0.545 -0.298 1.47380 -1.043      Down   0\n",
      "872  2004 -1.043  0.408  0.251 -0.095 -0.545 1.49570 -0.315      Down   0\n",
      "873  2004 -0.315 -1.043  0.408  0.251 -0.095 1.08500 -0.815      Down   0\n",
      "874  2004 -0.815 -0.315 -1.043  0.408  0.251 1.28330  0.190        Up   1\n",
      "875  2004  0.190 -0.815 -0.315 -1.043  0.408 1.32860 -0.824      Down   0\n",
      "876  2004 -0.824  0.190 -0.815 -0.315 -1.043 1.40110  0.334        Up   1\n",
      "877  2004  0.334 -0.824  0.190 -0.815 -0.315 1.18630  0.138        Up   1\n",
      "878  2004  0.138  0.334 -0.824  0.190 -0.815 1.11460  0.071        Up   1\n",
      "879  2004  0.071  0.138  0.334 -0.824  0.190 1.19970 -0.329      Down   0\n",
      "880  2004 -0.329  0.071  0.138  0.334 -0.824 1.46200 -0.430      Down   0\n",
      "881  2004 -0.430 -0.329  0.071  0.138  0.334 1.40870 -0.479      Down   0\n",
      "882  2004 -0.479 -0.430 -0.329  0.071  0.138 1.45030 -0.044      Down   0\n",
      "883  2004 -0.044 -0.479 -0.430 -0.329  0.071 1.31990  0.706        Up   1\n",
      "884  2004  0.706 -0.044 -0.479 -0.430 -0.329 1.44580 -1.334      Down   0\n",
      "885  2004 -1.334  0.706 -0.044 -0.479 -0.430 1.67950  0.271        Up   1\n",
      "886  2004  0.271 -1.334  0.706 -0.044 -0.479 1.68080 -0.970      Down   0\n",
      "887  2004 -0.970  0.271 -1.334  0.706 -0.044 1.33750 -0.196      Down   0\n",
      "888  2004 -0.196 -0.970  0.271 -1.334  0.706 1.41340  0.993        Up   1\n",
      "889  2004  0.993 -0.196 -0.970  0.271 -1.334 1.61080  0.054        Up   1\n",
      "890  2004  0.054  0.993 -0.196 -0.970  0.271 1.55430  0.457        Up   1\n",
      "891  2004  0.457  0.054  0.993 -0.196 -0.970 1.53010  0.117        Up   1\n",
      "892  2004  0.117  0.457  0.054  0.993 -0.196 1.29820  0.445        Up   1\n",
      "893  2004  0.445  0.117  0.457  0.054  0.993 1.27600 -0.626      Down   0\n",
      "894  2004 -0.626  0.445  0.117  0.457  0.054 1.33830 -0.096      Down   0\n",
      "895  2004 -0.096 -0.626  0.445  0.117  0.457 1.36920 -1.632      Down   0\n",
      "896  2004 -1.632 -0.096 -0.626  0.445  0.117 1.39740 -1.548      Down   0\n",
      "897  2004 -1.548 -1.632 -0.096 -0.626  0.445 1.52100  0.117        Up   1\n",
      "898  2004  0.117 -1.548 -1.632 -0.096 -0.626 1.08600  1.297        Up   1\n",
      "899  2004  1.297  0.117 -1.548 -1.632 -0.096 1.24560 -0.301      Down   0\n",
      "900  2004 -0.301  1.297  0.117 -1.548 -1.632 1.41040 -1.168      Down   0\n",
      "901  2004 -1.168 -0.301  1.297  0.117 -1.548 1.40510  0.148        Up   1\n",
      "902  2004  0.148 -1.168 -0.301  1.297  0.117 1.17510  1.366        Up   1\n",
      "903  2004  1.366  0.148 -1.168 -0.301  1.297 1.20620  0.220        Up   1\n",
      "904  2004  0.220  1.366  0.148 -1.168 -0.301 1.26780  1.244        Up   1\n",
      "905  2004  1.244  0.220  1.366  0.148 -1.168 1.28250 -0.360      Down   0\n",
      "906  2004 -0.360  1.244  0.220  1.366  0.148 1.24940  0.652        Up   1\n",
      "907  2004  0.652 -0.360  1.244  0.220  1.366 1.19990 -0.243      Down   0\n",
      "908  2004 -0.243  0.652 -0.360  1.244  0.220 1.02190  0.047        Up   1\n",
      "909  2004  0.047 -0.243  0.652 -0.360  1.244 1.09250  0.800        Up   1\n",
      "910  2004  0.800  0.047 -0.243  0.652 -0.360 1.19220  0.012        Up   1\n",
      "911  2004  0.012  0.800  0.047 -0.243  0.652 1.02360  0.243        Up   1\n",
      "912  2004  0.243  0.012  0.800  0.047 -0.243 0.84540 -0.778      Down   0\n",
      "913  2004 -0.778  0.243  0.012  0.800  0.047 0.84310  0.463        Up   1\n",
      "914  2004  0.463 -0.778  0.243  0.012  0.800 1.13820  0.151        Up   1\n",
      "915  2004  0.151  0.463 -0.778  0.243  0.012 1.14210  1.121        Up   1\n",
      "916  2004  1.121  0.151  0.463 -0.778  0.243 1.11840 -0.418      Down   0\n",
      "917  2004 -0.418  1.121  0.151  0.463 -0.778 0.92417  0.689        Up   1\n",
      "918  2004  0.689 -0.418  1.121  0.151  0.463 1.21440 -0.449      Down   0\n",
      "919  2004 -0.449  0.689 -0.418  1.121  0.151 1.24630  0.189        Up   1\n",
      "920  2004  0.189 -0.449  0.689 -0.418  1.121 1.37130  0.495        Up   1\n",
      "921  2004  0.495  0.189 -0.449  0.689 -0.418 1.26120  0.169        Up   1\n",
      "922  2004  0.169  0.495  0.189 -0.449  0.689 1.29980  0.223        Up   1\n",
      "923  2004  0.223  0.169  0.495  0.189 -0.449 1.20450 -0.705      Down   0\n",
      "924  2004 -0.705  0.223  0.169  0.495  0.189 1.25600  0.279        Up   1\n",
      "925  2004  0.279 -0.705  0.223  0.169  0.495 1.11390  0.449        Up   1\n",
      "926  2004  0.449  0.279 -0.705  0.223  0.169 1.42260 -0.563      Down   0\n",
      "927  2004 -0.563  0.449  0.279 -0.705  0.223 1.19760  0.633        Up   1\n",
      "928  2004  0.633 -0.563  0.449  0.279 -0.705 1.32500 -1.394      Down   0\n",
      "929  2004 -1.394  0.633 -0.563  0.449  0.279 1.37990 -0.467      Down   0\n",
      "930  2004 -0.467 -1.394  0.633 -0.563  0.449 1.28630  0.158        Up   1\n",
      "931  2004  0.158 -0.467 -1.394  0.633 -0.563 1.25540 -0.594      Down   0\n",
      "932  2004 -0.594  0.158 -0.467 -1.394  0.633 1.26350  0.593        Up   1\n",
      "933  2004  0.593 -0.594  0.158 -0.467 -1.394 1.39660  0.427        Up   1\n",
      "934  2004  0.427  0.593 -0.594  0.158 -0.467 1.40290 -0.020      Down   0\n",
      "935  2004 -0.020  0.427  0.593 -0.594  0.158 1.74800  1.518        Up   1\n",
      "936  2004  1.518 -0.020  0.427  0.593 -0.594 1.58220  0.324        Up   1\n",
      "937  2004  0.324  1.518 -0.020  0.427  0.593 1.53400 -0.061      Down   0\n",
      "938  2004 -0.061  0.324  1.518 -0.020  0.427 1.41840  0.667        Up   1\n",
      "939  2004  0.667 -0.061  0.324  1.518 -0.020 1.41670 -0.998      Down   0\n",
      "940  2004 -0.998  0.667 -0.061  0.324  1.518 1.44750 -0.753      Down   0\n",
      "941  2004 -0.753 -0.998  0.667 -0.061  0.324 1.29160  0.201        Up   1\n",
      "942  2004  0.201 -0.753 -0.998  0.667 -0.061 0.94380 -0.227      Down   0\n",
      "943  2004 -0.227  0.201 -0.753 -0.998  0.667 1.32010 -0.730      Down   0\n",
      "944  2004 -0.730 -0.227  0.201 -0.753 -0.998 1.54620 -0.930      Down   0\n",
      "945  2004 -0.930 -0.730 -0.227  0.201 -0.753 1.48950  0.445        Up   1\n",
      "946  2004  0.445 -0.930 -0.730 -0.227  0.201 1.64510  0.525        Up   1\n",
      "947  2004  0.525  0.445 -0.930 -0.730 -0.227 1.37330 -0.969      Down   0\n",
      "948  2004 -0.969  0.525  0.445 -0.930 -0.730 1.73750  0.039        Up   1\n",
      "949  2004  0.039 -0.969  0.525  0.445 -0.930 1.68570  0.256        Up   1\n",
      "950  2004  0.256  0.039 -0.969  0.525  0.445 1.67300 -0.972      Down   0\n",
      "951  2004 -0.972  0.256  0.039 -0.969  0.525 1.46960 -0.086      Down   0\n",
      "952  2004 -0.086 -0.972  0.256  0.039 -0.969 1.38050  1.488        Up   1\n",
      "953  2004  1.488 -0.086 -0.972  0.256  0.039 1.68540  1.288        Up   1\n",
      "954  2004  1.288  1.488 -0.086 -0.972  0.256 1.74190  0.181        Up   1\n",
      "955  2004  0.181  1.288  1.488 -0.086 -0.972 1.62820  0.245        Up   1\n",
      "956  2004  0.245  0.181  1.288  1.488 -0.086 1.50080  0.027        Up   1\n",
      "957  2004  0.027  0.245  0.181  1.288  1.488 1.39590  0.004        Up   1\n",
      "958  2004  0.004  0.027  0.245  0.181  1.288 1.65900  1.118        Up   1\n",
      "959  2004  1.118  0.004  0.027  0.245  0.181 1.76750  1.616        Up   1\n",
      "960  2004  1.616  1.118  0.004  0.027  0.245 1.78270  0.387        Up   1\n",
      "961  2004  0.387  1.616  1.118  0.004  0.027 1.72440 -0.110      Down   0\n",
      "962  2004 -0.110  0.387  1.616  1.118  0.004 1.35870 -0.070      Down   0\n",
      "963  2004 -0.070 -0.110  0.387  1.616  1.118 1.45080 -0.101      Down   0\n",
      "964  2004 -0.101 -0.070 -0.110  0.387  1.616 1.50430  0.909        Up   1\n",
      "965  2004  0.909 -0.101 -0.070 -0.110  0.387 1.39300  0.911        Up   1\n",
      "966  2004  0.911  0.909 -0.101 -0.070 -0.110 1.53160 -0.030      Down   0\n",
      "967  2004 -0.030  0.911  0.909 -0.101 -0.070 1.45330 -0.708      Down   0\n",
      "968  2004 -0.708 -0.030  0.911  0.909 -0.101 1.36440  0.554        Up   1\n",
      "969  2004  0.554 -0.708 -0.030  0.911  0.909 1.68420  0.136        Up   1\n",
      "970  2004  0.136  0.554 -0.708 -0.030  0.911 1.45670 -1.116      Down   0\n",
      "971  2004 -1.116  0.136  0.554 -0.708 -0.030 1.52660  0.590        Up   1\n",
      "972  2004  0.590 -1.116  0.136  0.554 -0.708 1.39270 -0.025      Down   0\n",
      "973  2004 -0.025  0.590 -1.116  0.136  0.554 1.42830  0.410        Up   1\n",
      "974  2004  0.410 -0.025  0.590 -1.116  0.136 1.14960  0.075        Up   1\n",
      "976  2004 -0.345  0.075  0.410 -0.025  0.590 1.37850 -0.403      Down   0\n",
      "977  2004 -0.403 -0.345  0.075  0.410 -0.025 1.55350  1.495        Up   1\n",
      "978  2004  1.495 -0.403 -0.345  0.075  0.410 1.77280 -0.087      Down   0\n",
      "979  2004 -0.087  1.495 -0.403 -0.345  0.075 1.77490  0.071        Up   1\n",
      "980  2004  0.071 -0.087  1.495 -0.403 -0.345 1.56670 -0.077      Down   0\n",
      "981  2004 -0.077  0.071 -0.087  1.495 -0.403 1.35440 -1.107      Down   0\n",
      "982  2004 -1.107 -0.077  0.071 -0.087  1.495 1.53390  0.488        Up   1\n",
      "983  2004  0.488 -1.107 -0.077  0.071 -0.087 1.52520  0.544        Up   1\n",
      "984  2004  0.544  0.488 -1.107 -0.077  0.071 1.62470 -0.104      Down   0\n",
      "985  2004 -0.104  0.544  0.488 -1.107 -0.077 1.44370  0.899        Up   1\n",
      "986  2004  0.899 -0.104  0.544  0.488 -1.107 1.43610  0.392        Up   1\n",
      "987  2004  0.392  0.899 -0.104  0.544  0.488 1.54440  0.194        Up   1\n",
      "988  2004  0.194  0.392  0.899 -0.104  0.544 1.69580 -0.208      Down   0\n",
      "989  2004 -0.208  0.194  0.392  0.899 -0.104 1.79390 -0.749      Down   0\n",
      "991  2004  0.038 -0.749 -0.208  0.194  0.392 1.42280  0.904        Up   1\n",
      "992  2004  0.904  0.038 -0.749 -0.208  0.194 1.48370  0.342        Up   1\n",
      "993  2004  0.342  0.904  0.038 -0.749 -0.208 1.39080  0.046        Up   1\n",
      "994  2004  0.046  0.342  0.904  0.038 -0.749 0.95610 -0.431      Down   0\n",
      "995  2004 -0.431  0.046  0.342  0.904  0.038 0.92200  0.715        Up   1\n",
      "996  2004  0.715 -0.431  0.046  0.342  0.904 0.98300 -0.007      Down   0\n",
      "997  2004 -0.007  0.715 -0.431  0.046  0.342 0.92590  0.008        Up   1\n",
      "998  2004  0.008 -0.007  0.715 -0.431  0.046 0.82980 -0.134      Down   0\n",
      "999  2005 -0.134  0.008 -0.007  0.715 -0.431 0.78690 -0.812      Down   0\n",
      "1000 2005 -0.812 -0.134  0.008 -0.007  0.715 1.51080 -1.167      Down   0\n",
      "1001 2005 -1.167 -0.812 -0.134  0.008 -0.007 1.72100 -0.363      Down   0\n",
      "1002 2005 -0.363 -1.167 -0.812 -0.134  0.008 1.73890  0.351        Up   1\n",
      "1003 2005  0.351 -0.363 -1.167 -0.812 -0.134 1.56910 -0.143      Down   0\n",
      "1004 2005 -0.143  0.351 -0.363 -1.167 -0.812 1.47790  0.342        Up   1\n",
      "1005 2005  0.342 -0.143  0.351 -0.363 -1.167 1.49040 -0.610      Down   0\n",
      "1006 2005 -0.610  0.342 -0.143  0.351 -0.363 1.48880  0.398        Up   1\n",
      "1007 2005  0.398 -0.610  0.342 -0.143  0.351 1.56210 -0.863      Down   0\n",
      "1008 2005 -0.863  0.398 -0.610  0.342 -0.143 1.51030  0.600        Up   1\n",
      "1009 2005  0.600 -0.863  0.398 -0.610  0.342 1.33540  0.967        Up   1\n",
      "1010 2005  0.967  0.600 -0.863  0.398 -0.610 1.59680 -0.949      Down   0\n",
      "1011 2005 -0.949  0.967  0.600 -0.863  0.398 1.49870 -0.778      Down   0\n",
      "1012 2005 -0.778 -0.949  0.967  0.600 -0.863 1.69200 -0.641      Down   0\n",
      "1013 2005 -0.641 -0.778 -0.949  0.967  0.600 1.64350 -0.353      Down   0\n",
      "1014 2005 -0.353 -0.641 -0.778 -0.949  0.967 1.49460  0.400        Up   1\n",
      "1015 2005  0.400 -0.353 -0.641 -0.778 -0.949 1.61040  0.484        Up   1\n",
      "1016 2005  0.484  0.400 -0.353 -0.641 -0.778 1.63590  0.041        Up   1\n",
      "1017 2005  0.041  0.484  0.400 -0.353 -0.641 1.60060 -0.272      Down   0\n",
      "1018 2005 -0.272  0.041  0.484  0.400 -0.353 1.64180  0.846        Up   1\n",
      "1019 2005  0.846 -0.272  0.041  0.484  0.400 1.67980  0.689        Up   1\n",
      "1020 2005  0.689  0.846 -0.272  0.041  0.484 1.68198  0.318        Up   1\n",
      "1021 2005  0.318  0.689  0.846 -0.272  0.041 1.56174 -0.277      Down   0\n",
      "1022 2005 -0.277  0.318  0.689  0.846 -0.272 1.55446  1.104        Up   1\n",
      "1023 2005  1.104 -0.277  0.318  0.689  0.846 1.64816 -0.109      Down   0\n",
      "1024 2005 -0.109  1.104 -0.277  0.318  0.689 1.34727  0.048        Up   1\n",
      "1025 2005  0.048 -0.109  1.104 -0.277  0.318 1.41617 -0.858      Down   0\n",
      "1026 2005 -0.858  0.048 -0.109  1.104 -0.277 1.51104  0.421        Up   1\n",
      "1027 2005  0.421 -0.858  0.048 -0.109  1.104 1.49167  0.693        Up   1\n",
      "1028 2005  0.693  0.421 -0.858  0.048 -0.109 1.56230  0.070        Up   1\n",
      "1029 2005  0.070  0.693  0.421 -0.858  0.048 1.29018  0.330        Up   1\n",
      "1030 2005  0.330  0.070  0.693  0.421 -0.858 1.52708  0.018        Up   1\n",
      "1031 2005  0.018  0.330  0.070  0.693  0.421 1.49010 -0.792      Down   0\n",
      "1032 2005 -0.792  0.018  0.330  0.070  0.693 1.58012  0.070        Up   1\n",
      "1033 2005  0.070 -0.792  0.018  0.330  0.070 1.55120 -1.451      Down   0\n",
      "1034 2005 -1.451  0.070 -0.792  0.018  0.330 1.74494  0.561        Up   1\n",
      "1035 2005  0.561 -1.451  0.070 -0.792  0.018 1.50109  0.789        Up   1\n",
      "1036 2005  0.789  0.561 -1.451  0.070 -0.792 1.51875  0.931        Up   1\n",
      "1037 2005  0.931  0.789  0.561 -1.451  0.070 1.52368 -0.641      Down   0\n",
      "1038 2005 -0.641  0.931  0.789  0.561 -1.451 1.79548  0.566        Up   1\n",
      "1039 2005  0.566 -0.641  0.931  0.789  0.561 1.70806 -0.027      Down   0\n",
      "1040 2005 -0.027  0.566 -0.641  0.931  0.789 1.56854  0.032        Up   1\n",
      "1041 2005  0.032 -0.027  0.566 -0.641  0.931 1.61624  0.962        Up   1\n",
      "1042 2005  0.962  0.032 -0.027  0.566 -0.641 1.63682  0.261        Up   1\n",
      "1043 2005  0.261  0.962  0.032 -0.027  0.566 1.48883 -0.480      Down   0\n",
      "1044 2005 -0.480  0.261  0.962  0.032 -0.027 1.52309 -1.019      Down   0\n",
      "1045 2005 -1.019 -0.480  0.261  0.962  0.032 1.70497  0.186        Up   1\n",
      "1046 2005  0.186 -1.019 -0.480  0.261  0.962 1.60402 -0.758      Down   0\n",
      "1047 2005 -0.758  0.186 -1.019 -0.480  0.261 1.44982  0.562        Up   1\n",
      "1048 2005  0.562 -0.758  0.186 -1.019 -0.480 1.43743 -0.752      Down   0\n",
      "1049 2005 -0.752  0.562 -0.758  0.186 -1.019 1.51353 -0.808      Down   0\n",
      "1050 2005 -0.808 -0.752  0.562 -0.758  0.186 1.65319  0.180        Up   1\n",
      "1051 2005  0.180 -0.808 -0.752  0.562 -0.758 1.58193 -0.047      Down   0\n",
      "1053 2005 -0.493 -0.047  0.180 -0.808 -0.752 1.81944 -1.020      Down   0\n",
      "1054 2005 -1.020 -0.493 -0.047  0.180 -0.808 2.11447  0.070        Up   1\n",
      "1056 2005 -0.095  0.070 -1.020 -0.493 -0.047 1.72172  0.244        Up   1\n",
      "1057 2005  0.244 -0.095  0.070 -1.020 -0.493 1.74622 -0.760      Down   0\n",
      "1058 2005 -0.760  0.244 -0.095  0.070 -1.020 2.22325  1.377        Up   1\n",
      "1059 2005  1.377 -0.760  0.244 -0.095  0.070 2.09711 -0.069      Down   0\n",
      "1060 2005 -0.069  1.377 -0.760  0.244 -0.095 2.21423 -0.650      Down   0\n",
      "1061 2005 -0.650 -0.069  1.377 -0.760  0.244 2.16869  0.273        Up   1\n",
      "1062 2005  0.273 -0.650 -0.069  1.377 -0.760 2.07977  0.448        Up   1\n",
      "1063 2005  0.448  0.273 -0.650 -0.069  1.377 1.87080  0.227        Up   1\n",
      "1064 2005  0.227  0.448  0.273 -0.650 -0.069 1.79740  0.597        Up   1\n",
      "1065 2005  0.597  0.227  0.448  0.273 -0.650 1.90062 -0.834      Down   0\n",
      "1066 2005 -0.834  0.597  0.227  0.448  0.273 1.66133  0.001        Up   1\n",
      "1067 2005  0.001 -0.834  0.597  0.227  0.448 1.52531  0.555        Up   1\n",
      "1068 2005  0.555  0.001 -0.834  0.597  0.227 1.97983 -1.176      Down   0\n",
      "1069 2005 -1.176  0.555  0.001 -0.834  0.597 2.04974 -1.000      Down   0\n",
      "1072 2005  0.294 -1.672 -1.000 -1.176  0.555 2.18067  0.593        Up   1\n",
      "1073 2005  0.593  0.294 -1.672 -1.000 -1.176 2.14270 -1.325      Down   0\n",
      "1074 2005 -1.325  0.593  0.294 -1.672 -1.000 2.21705  1.974        Up   1\n",
      "1076 2005 -0.675  1.974 -1.325  0.593  0.294 2.04588  0.866        Up   1\n",
      "1077 2005  0.866 -0.675  1.974 -1.325  0.593 1.79503 -0.884      Down   0\n",
      "1078 2005 -0.884  0.866 -0.675  1.974 -1.325 1.95974  0.395        Up   1\n",
      "1079 2005  0.395 -0.884  0.866 -0.675  1.974 2.15152 -1.138      Down   0\n",
      "1080 2005 -1.138  0.395 -0.884  0.866 -0.675 2.18227  1.192        Up   1\n",
      "1082 2005  0.459  1.192 -1.138  0.395 -0.884 1.98004 -0.085      Down   0\n",
      "1083 2005 -0.085  0.459  1.192 -1.138  0.395 2.16702  1.247        Up   1\n",
      "1085 2005 -0.257  1.247 -0.085  0.459  1.192 1.99710 -0.109      Down   0\n",
      "1086 2005 -0.109 -0.257  1.247 -0.085  0.459 1.70720  0.639        Up   1\n",
      "1087 2005  0.639 -0.109 -0.257  1.247 -0.085 1.85702 -1.071      Down   0\n",
      "1088 2005 -1.071  0.639 -0.109 -0.257  1.247 1.88966  0.419        Up   1\n",
      "1089 2005  0.419 -1.071  0.639 -0.109 -0.257 1.83497 -1.003      Down   0\n",
      "1090 2005 -1.003  0.419 -1.071  0.639 -0.109 1.99529 -0.458      Down   0\n",
      "1091 2005 -0.458 -1.003  0.419 -1.071  0.639 2.18859  1.009        Up   1\n",
      "1092 2005  1.009 -0.458 -1.003  0.419 -1.071 1.85686  0.696        Up   1\n",
      "1093 2005  0.696  1.009 -0.458 -1.003  0.419 1.88726  1.002        Up   1\n",
      "1095 2005  0.466  1.002  0.696  1.009 -0.458 1.77586 -0.151      Down   0\n",
      "1096 2005 -0.151  0.466  1.002  0.696  1.009 1.63175  0.385        Up   1\n",
      "1097 2005  0.385 -0.151  0.466  1.002  0.696 1.68117  0.018        Up   1\n",
      "1098 2005  0.018  0.385 -0.151  0.466  1.002 1.68100 -0.340      Down   0\n",
      "1099 2005 -0.340  0.018  0.385 -0.151  0.466 1.74218  0.639        Up   1\n",
      "1100 2005  0.639 -0.340  0.018  0.385 -0.151 1.65411  0.097        Up   1\n",
      "1101 2005  0.097  0.639 -0.340  0.018  0.385 1.38143 -0.607      Down   0\n",
      "1102 2005 -0.607  0.097  0.639 -0.340  0.018 1.84068  0.900        Up   1\n",
      "1103 2005  0.900 -0.607  0.097  0.639 -0.340 1.81010  0.172        Up   1\n",
      "1104 2005  0.172  0.900 -0.607  0.097  0.639 1.81379 -0.687      Down   0\n",
      "1105 2005 -0.687  0.172  0.900 -0.607  0.097 1.62752  0.125        Up   1\n",
      "1106 2005  0.125 -0.687  0.172  0.900 -0.607 1.54712 -0.021      Down   0\n",
      "1107 2005 -0.021  0.125 -0.687  0.172  0.900 1.85137 -0.216      Down   0\n",
      "1108 2005 -0.216 -0.021  0.125 -0.687  0.172 1.71549  0.524        Up   1\n",
      "1109 2005  0.524 -0.216 -0.021  0.125 -0.687 1.82412 -0.235      Down   0\n",
      "1110 2005 -0.235  0.524 -0.216 -0.021  0.125 1.66418  0.226        Up   1\n",
      "1111 2005  0.226 -0.235  0.524 -0.216 -0.021 1.66135  0.257        Up   1\n",
      "1112 2005  0.257  0.226 -0.235  0.524 -0.216 1.69815  0.222        Up   1\n",
      "1113 2005  0.222  0.257  0.226 -0.235  0.524 1.84044  0.363        Up   1\n",
      "1114 2005  0.363  0.222  0.257  0.226 -0.235 1.77604  0.495        Up   1\n",
      "1116 2005 -0.071  0.495  0.363  0.222  0.257 1.71453 -0.205      Down   0\n",
      "1117 2005 -0.205 -0.071  0.495  0.363  0.222 1.72070  0.022        Up   1\n",
      "1118 2005  0.022 -0.205 -0.071  0.495  0.363 1.82325 -1.083      Down   0\n",
      "1119 2005 -1.083  0.022 -0.205 -0.071  0.495 2.02992 -0.763      Down   0\n",
      "1121 2005 -0.074 -0.763 -1.083  0.022 -0.205 1.73862  0.914        Up   1\n",
      "1122 2005  0.914 -0.074 -0.763 -1.083  0.022 1.77241 -0.143      Down   0\n",
      "1123 2005 -0.143  0.914 -0.074 -0.763 -1.083 1.76928 -0.710      Down   0\n",
      "1124 2005 -0.710 -0.143  0.914 -0.074 -0.763 2.10949  0.261        Up   1\n",
      "1125 2005  0.261 -0.710 -0.143  0.914 -0.074 1.59382  0.883        Up   1\n",
      "1126 2005  0.883  0.261 -0.710 -0.143  0.914 1.80582 -0.834      Down   0\n",
      "1127 2005 -0.834  0.883  0.261 -0.710 -0.143 1.88347  0.245        Up   1\n",
      "1128 2005  0.245 -0.834  0.883  0.261 -0.710 1.95244  1.168        Up   1\n",
      "1129 2005  1.168  0.245 -0.834  0.883  0.261 1.90081  0.625        Up   1\n",
      "1130 2005  0.625  1.168  0.245 -0.834  0.883 1.84630  0.227        Up   1\n",
      "1131 2005  0.227  0.625  1.168  0.245 -0.834 1.93201  0.088        Up   1\n",
      "1132 2005  0.088  0.227  0.625  1.168  0.245 1.81250  0.262        Up   1\n",
      "1133 2005  0.262  0.088  0.227  0.625  1.168 2.04871  0.116        Up   1\n",
      "1134 2005  0.116  0.262  0.088  0.227  0.625 1.71640 -0.553      Down   0\n",
      "1135 2005 -0.553  0.116  0.262  0.088  0.227 1.58210  0.673        Up   1\n",
      "1136 2005  0.673 -0.553  0.116  0.262  0.088 2.04128  0.476        Up   1\n",
      "1137 2005  0.476  0.673 -0.553  0.116  0.262 2.06334 -0.661      Down   0\n",
      "1138 2005 -0.661  0.476  0.673 -0.553  0.116 2.12984  0.541        Up   1\n",
      "1139 2005  0.541 -0.661  0.476  0.673 -0.553 1.76699 -0.377      Down   0\n",
      "1140 2005 -0.377  0.541 -0.661  0.476  0.673 1.71758  0.173        Up   1\n",
      "1141 2005  0.173 -0.377  0.541 -0.661  0.476 1.93418  0.457        Up   1\n",
      "1142 2005  0.457  0.173 -0.377  0.541 -0.661 1.94580  0.560        Up   1\n",
      "1143 2005  0.560  0.457  0.173 -0.377  0.541 2.00168 -0.767      Down   0\n",
      "1144 2005 -0.767  0.560  0.457  0.173 -0.377 1.78960  0.095        Up   1\n",
      "1145 2005  0.095 -0.767  0.560  0.457  0.173 1.71687  0.710        Up   1\n",
      "1146 2005  0.710  0.095 -0.767  0.560  0.457 2.04312  0.074        Up   1\n",
      "1147 2005  0.074  0.710  0.095 -0.767  0.560 1.99998 -0.737      Down   0\n",
      "1148 2005 -0.737  0.074  0.710  0.095 -0.767 1.98122 -0.764      Down   0\n",
      "1149 2005 -0.764 -0.737  0.074  0.710  0.095 1.93028 -0.268      Down   0\n",
      "1150 2005 -0.268 -0.764 -0.737  0.074  0.710 1.80414  0.674        Up   1\n",
      "1151 2005  0.674 -0.268 -0.764 -0.737  0.074 1.89752 -0.183      Down   0\n",
      "1152 2005 -0.183  0.674 -0.268 -0.764 -0.737 2.17232  0.706        Up   1\n",
      "1153 2005  0.706 -0.183  0.674 -0.268 -0.764 1.94156 -0.599      Down   0\n",
      "1154 2005 -0.599  0.706 -0.183  0.674 -0.268 1.70930  0.283        Up   1\n",
      "1155 2005  0.283 -0.599  0.706 -0.183  0.674 1.56288 -1.178      Down   0\n",
      "1156 2005 -1.178  0.283 -0.599  0.706 -0.183 1.82041  0.074        Up   1\n",
      "1157 2005  0.074 -1.178  0.283 -0.599  0.706 1.85915 -0.100      Down   0\n",
      "1158 2005 -0.100  0.074 -1.178  0.283 -0.599 1.80817  0.057        Up   1\n",
      "1159 2005  0.057 -0.100  0.074 -1.178  0.283 1.55879  0.166        Up   1\n",
      "1160 2005  0.166  0.057 -0.100  0.074 -1.178 1.62133 -0.339      Down   0\n",
      "1161 2005 -0.339  0.166  0.057 -0.100  0.074 1.67862 -0.657      Down   0\n",
      "1162 2005 -0.657 -0.339  0.166  0.057 -0.100 1.93080  0.230        Up   1\n",
      "1163 2005  0.230 -0.657 -0.339  0.166  0.057 1.57111 -0.600      Down   0\n",
      "1164 2005 -0.600  0.230 -0.657 -0.339  0.166 1.54109  0.596        Up   1\n",
      "1165 2005  0.596 -0.600  0.230 -0.657 -0.339 1.59945 -0.319      Down   0\n",
      "1166 2005 -0.319  0.596 -0.600  0.230 -0.657 1.91647  0.986        Up   1\n",
      "1169 2005 -0.292  0.103  0.986 -0.319  0.596 1.64016  1.262        Up   1\n",
      "1170 2005  1.262 -0.292  0.103  0.986 -0.319 1.93209  0.241        Up   1\n",
      "1171 2005  0.241  1.262 -0.292  0.103  0.986 2.06770 -0.379      Down   0\n",
      "1172 2005 -0.379  0.241  1.262 -0.292  0.103 1.95538  0.796        Up   1\n",
      "1173 2005  0.796 -0.379  0.241  1.262 -0.292 1.99256 -0.074      Down   0\n",
      "1174 2005 -0.074  0.796 -0.379  0.241  1.262 1.93805 -0.754      Down   0\n",
      "1175 2005 -0.754 -0.074  0.796 -0.379  0.241 2.08236 -0.328      Down   0\n",
      "1176 2005 -0.328 -0.754 -0.074  0.796 -0.379 1.98675  0.046        Up   1\n",
      "1177 2005  0.046 -0.328 -0.754 -0.074  0.796 2.07934  0.829        Up   1\n",
      "1179 2005 -0.557  0.829  0.046 -0.328 -0.754 2.07654 -0.786      Down   0\n",
      "1183 2005  0.055  0.365 -0.912 -0.786 -0.557 1.97302  0.028        Up   1\n",
      "1184 2005  0.028  0.055  0.365 -0.912 -0.786 2.02222  0.002        Up   1\n",
      "1185 2005  0.002  0.028  0.055  0.365 -0.912 1.97627  0.101        Up   1\n",
      "1186 2005  0.101  0.002  0.028  0.055  0.365 2.10698  0.887        Up   1\n",
      "1187 2005  0.887  0.101  0.002  0.028  0.055 2.17612  0.092        Up   1\n",
      "1188 2005  0.092  0.887  0.101  0.002  0.028 2.09752 -0.172      Down   0\n",
      "1189 2005 -0.172  0.092  0.887  0.101  0.002 2.09749 -0.997      Down   0\n",
      "1193 2005  0.370 -0.410 -1.489 -0.997 -0.172 2.12608 -0.717      Down   0\n",
      "1194 2005 -0.717  0.370 -0.410 -1.489 -0.997 2.19599 -0.207      Down   0\n",
      "1198 2005  0.827 -0.071 -0.607 -0.207 -0.717 2.18894  0.297        Up   1\n",
      "1199 2005  0.297  0.827 -0.071 -0.607 -0.207 2.05457 -1.005      Down   0\n",
      "1200 2005 -1.005  0.297  0.827 -0.071 -0.607 2.19701  1.496        Up   1\n",
      "1204 2005  1.678  0.152 -1.502  1.496 -1.005 2.19779 -0.237      Down   0\n",
      "1213 2005  0.016  0.426  0.998 -0.352  0.718 2.05051  0.219        Up   1\n",
      "1214 2005  0.219  0.016  0.426  0.998 -0.352 1.98758 -0.345      Down   0\n",
      "1215 2005 -0.345  0.219  0.016  0.426  0.998 1.96505  0.169        Up   1\n",
      "1216 2005  0.169 -0.345  0.219  0.016  0.426 2.21446  0.845        Up   1\n",
      "1218 2005  0.305  0.845  0.169 -0.345  0.219 1.77314 -0.078      Down   0\n",
      "1219 2005 -0.078  0.305  0.845  0.169 -0.345 1.89978 -0.385      Down   0\n",
      "1221 2005  0.179 -0.385 -0.078  0.305  0.845 2.12158  0.941        Up   1\n",
      "1224 2005  0.527  0.440  0.941  0.179 -0.385 2.11735  0.508        Up   1\n",
      "1226 2005  0.347  0.508  0.527  0.440  0.941 1.98540  0.209        Up   1\n",
      "1227 2005  0.209  0.347  0.508  0.527  0.440 0.72494 -0.851      Down   0\n",
      "1228 2005 -0.851  0.209  0.347  0.508  0.527 2.01690  0.002        Up   1\n",
      "1232 2005  0.032  1.216 -0.636  0.002 -0.851 2.12558 -0.236      Down   0\n",
      "1234 2005  0.128 -0.236  0.032  1.216 -0.636 2.11074 -0.501      Down   0\n",
      "1235 2005 -0.501  0.128 -0.236  0.032  1.216 2.09383 -0.122      Down   0\n",
      "1236 2005 -0.122 -0.501  0.128 -0.236  0.032 2.17830  0.281        Up   1\n",
      "1237 2005  0.281 -0.122 -0.501  0.128 -0.236 1.89629  0.084        Up   1\n",
      "1238 2005  0.084  0.281 -0.122 -0.501  0.128 1.87655  0.555        Up   1\n",
      "1240 2005  0.419  0.555  0.084  0.281 -0.122 2.14552 -0.141      Down   0\n",
      "1241 2005 -0.141  0.419  0.555  0.084  0.281 2.18059 -0.285      Down   0\n",
      "1243 2005 -0.584 -0.285 -0.141  0.419  0.555 2.20881 -0.024      Down   0\n",
      "1244 2005 -0.024 -0.584 -0.285 -0.141  0.419 1.99669  0.252        Up   1\n",
      "1245 2005  0.252 -0.024 -0.584 -0.285 -0.141 2.06517  0.422        Up   1\n",
      "1246 2005  0.422  0.252 -0.024 -0.584 -0.285 1.88850  0.043        Up   1\n",
      "1247 2005  0.043  0.422  0.252 -0.024 -0.584 1.28581 -0.955      Down   0\n",
      "1248 2005 -0.955  0.043  0.422  0.252 -0.024 1.54047  0.130        Up   1\n",
      "1249 2005  0.130 -0.955  0.043  0.422  0.252 1.42236 -0.298      Down   0\n",
      "1250 2005 -0.298  0.130 -0.955  0.043  0.422 1.38254 -0.489      Down   0\n"
     ]
    }
   ],
   "source": [
    "re <- remove_outlier(df, col)#c(\"Year\", \"Lag1\",\"Lag2\", \"Lag3\", \"Lag4\", \"Lag5\", \"Volume\", \"Today\"))"
   ]
  },
  {
   "cell_type": "code",
   "execution_count": 28,
   "metadata": {
    "scrolled": true
   },
   "outputs": [
    {
     "data": {
      "text/html": [
       "<table>\n",
       "<thead><tr><th></th><th scope=col>Year</th><th scope=col>Lag1</th><th scope=col>Lag2</th><th scope=col>Lag3</th><th scope=col>Lag4</th><th scope=col>Lag5</th><th scope=col>Volume</th><th scope=col>Today</th><th scope=col>Direction</th><th scope=col>tar</th></tr></thead>\n",
       "<tbody>\n",
       "\t<tr><th scope=row>4</th><td>2001  </td><td>-0.623</td><td> 1.032</td><td> 0.959</td><td> 0.381</td><td>-0.192</td><td>1.2760</td><td> 0.614</td><td>Up    </td><td>1     </td></tr>\n",
       "\t<tr><th scope=row>5</th><td>2001  </td><td> 0.614</td><td>-0.623</td><td> 1.032</td><td> 0.959</td><td> 0.381</td><td>1.2057</td><td> 0.213</td><td>Up    </td><td>1     </td></tr>\n",
       "\t<tr><th scope=row>6</th><td>2001  </td><td> 0.213</td><td> 0.614</td><td>-0.623</td><td> 1.032</td><td> 0.959</td><td>1.3491</td><td> 1.392</td><td>Up    </td><td>1     </td></tr>\n",
       "\t<tr><th scope=row>7</th><td>2001  </td><td> 1.392</td><td> 0.213</td><td> 0.614</td><td>-0.623</td><td> 1.032</td><td>1.4450</td><td>-0.403</td><td>Down  </td><td>0     </td></tr>\n",
       "\t<tr><th scope=row>8</th><td>2001  </td><td>-0.403</td><td> 1.392</td><td> 0.213</td><td> 0.614</td><td>-0.623</td><td>1.4078</td><td> 0.027</td><td>Up    </td><td>1     </td></tr>\n",
       "\t<tr><th scope=row>9</th><td>2001  </td><td> 0.027</td><td>-0.403</td><td> 1.392</td><td> 0.213</td><td> 0.614</td><td>1.1640</td><td> 1.303</td><td>Up    </td><td>1     </td></tr>\n",
       "</tbody>\n",
       "</table>\n"
      ],
      "text/latex": [
       "\\begin{tabular}{r|llllllllll}\n",
       "  & Year & Lag1 & Lag2 & Lag3 & Lag4 & Lag5 & Volume & Today & Direction & tar\\\\\n",
       "\\hline\n",
       "\t4 & 2001   & -0.623 &  1.032 &  0.959 &  0.381 & -0.192 & 1.2760 &  0.614 & Up     & 1     \\\\\n",
       "\t5 & 2001   &  0.614 & -0.623 &  1.032 &  0.959 &  0.381 & 1.2057 &  0.213 & Up     & 1     \\\\\n",
       "\t6 & 2001   &  0.213 &  0.614 & -0.623 &  1.032 &  0.959 & 1.3491 &  1.392 & Up     & 1     \\\\\n",
       "\t7 & 2001   &  1.392 &  0.213 &  0.614 & -0.623 &  1.032 & 1.4450 & -0.403 & Down   & 0     \\\\\n",
       "\t8 & 2001   & -0.403 &  1.392 &  0.213 &  0.614 & -0.623 & 1.4078 &  0.027 & Up     & 1     \\\\\n",
       "\t9 & 2001   &  0.027 & -0.403 &  1.392 &  0.213 &  0.614 & 1.1640 &  1.303 & Up     & 1     \\\\\n",
       "\\end{tabular}\n"
      ],
      "text/markdown": [
       "\n",
       "| <!--/--> | Year | Lag1 | Lag2 | Lag3 | Lag4 | Lag5 | Volume | Today | Direction | tar |\n",
       "|---|---|---|---|---|---|---|---|---|---|---|\n",
       "| 4 | 2001   | -0.623 |  1.032 |  0.959 |  0.381 | -0.192 | 1.2760 |  0.614 | Up     | 1      |\n",
       "| 5 | 2001   |  0.614 | -0.623 |  1.032 |  0.959 |  0.381 | 1.2057 |  0.213 | Up     | 1      |\n",
       "| 6 | 2001   |  0.213 |  0.614 | -0.623 |  1.032 |  0.959 | 1.3491 |  1.392 | Up     | 1      |\n",
       "| 7 | 2001   |  1.392 |  0.213 |  0.614 | -0.623 |  1.032 | 1.4450 | -0.403 | Down   | 0      |\n",
       "| 8 | 2001   | -0.403 |  1.392 |  0.213 |  0.614 | -0.623 | 1.4078 |  0.027 | Up     | 1      |\n",
       "| 9 | 2001   |  0.027 | -0.403 |  1.392 |  0.213 |  0.614 | 1.1640 |  1.303 | Up     | 1      |\n",
       "\n"
      ],
      "text/plain": [
       "  Year Lag1   Lag2   Lag3   Lag4   Lag5   Volume Today  Direction tar\n",
       "4 2001 -0.623  1.032  0.959  0.381 -0.192 1.2760  0.614 Up        1  \n",
       "5 2001  0.614 -0.623  1.032  0.959  0.381 1.2057  0.213 Up        1  \n",
       "6 2001  0.213  0.614 -0.623  1.032  0.959 1.3491  1.392 Up        1  \n",
       "7 2001  1.392  0.213  0.614 -0.623  1.032 1.4450 -0.403 Down      0  \n",
       "8 2001 -0.403  1.392  0.213  0.614 -0.623 1.4078  0.027 Up        1  \n",
       "9 2001  0.027 -0.403  1.392  0.213  0.614 1.1640  1.303 Up        1  "
      ]
     },
     "metadata": {},
     "output_type": "display_data"
    }
   ],
   "source": [
    "head(re)"
   ]
  },
  {
   "cell_type": "code",
   "execution_count": 29,
   "metadata": {
    "scrolled": true
   },
   "outputs": [],
   "source": [
    "df_final <- re"
   ]
  },
  {
   "cell_type": "code",
   "execution_count": 30,
   "metadata": {},
   "outputs": [
    {
     "data": {
      "text/html": [
       "<table>\n",
       "<thead><tr><th></th><th scope=col>Year</th><th scope=col>Lag1</th><th scope=col>Lag2</th><th scope=col>Lag3</th><th scope=col>Lag4</th><th scope=col>Lag5</th><th scope=col>Volume</th><th scope=col>Today</th><th scope=col>Direction</th><th scope=col>tar</th></tr></thead>\n",
       "<tbody>\n",
       "\t<tr><th scope=row>4</th><td>2001  </td><td>-0.623</td><td> 1.032</td><td> 0.959</td><td> 0.381</td><td>-0.192</td><td>1.2760</td><td> 0.614</td><td>Up    </td><td>1     </td></tr>\n",
       "\t<tr><th scope=row>5</th><td>2001  </td><td> 0.614</td><td>-0.623</td><td> 1.032</td><td> 0.959</td><td> 0.381</td><td>1.2057</td><td> 0.213</td><td>Up    </td><td>1     </td></tr>\n",
       "\t<tr><th scope=row>6</th><td>2001  </td><td> 0.213</td><td> 0.614</td><td>-0.623</td><td> 1.032</td><td> 0.959</td><td>1.3491</td><td> 1.392</td><td>Up    </td><td>1     </td></tr>\n",
       "\t<tr><th scope=row>7</th><td>2001  </td><td> 1.392</td><td> 0.213</td><td> 0.614</td><td>-0.623</td><td> 1.032</td><td>1.4450</td><td>-0.403</td><td>Down  </td><td>0     </td></tr>\n",
       "\t<tr><th scope=row>8</th><td>2001  </td><td>-0.403</td><td> 1.392</td><td> 0.213</td><td> 0.614</td><td>-0.623</td><td>1.4078</td><td> 0.027</td><td>Up    </td><td>1     </td></tr>\n",
       "\t<tr><th scope=row>9</th><td>2001  </td><td> 0.027</td><td>-0.403</td><td> 1.392</td><td> 0.213</td><td> 0.614</td><td>1.1640</td><td> 1.303</td><td>Up    </td><td>1     </td></tr>\n",
       "</tbody>\n",
       "</table>\n"
      ],
      "text/latex": [
       "\\begin{tabular}{r|llllllllll}\n",
       "  & Year & Lag1 & Lag2 & Lag3 & Lag4 & Lag5 & Volume & Today & Direction & tar\\\\\n",
       "\\hline\n",
       "\t4 & 2001   & -0.623 &  1.032 &  0.959 &  0.381 & -0.192 & 1.2760 &  0.614 & Up     & 1     \\\\\n",
       "\t5 & 2001   &  0.614 & -0.623 &  1.032 &  0.959 &  0.381 & 1.2057 &  0.213 & Up     & 1     \\\\\n",
       "\t6 & 2001   &  0.213 &  0.614 & -0.623 &  1.032 &  0.959 & 1.3491 &  1.392 & Up     & 1     \\\\\n",
       "\t7 & 2001   &  1.392 &  0.213 &  0.614 & -0.623 &  1.032 & 1.4450 & -0.403 & Down   & 0     \\\\\n",
       "\t8 & 2001   & -0.403 &  1.392 &  0.213 &  0.614 & -0.623 & 1.4078 &  0.027 & Up     & 1     \\\\\n",
       "\t9 & 2001   &  0.027 & -0.403 &  1.392 &  0.213 &  0.614 & 1.1640 &  1.303 & Up     & 1     \\\\\n",
       "\\end{tabular}\n"
      ],
      "text/markdown": [
       "\n",
       "| <!--/--> | Year | Lag1 | Lag2 | Lag3 | Lag4 | Lag5 | Volume | Today | Direction | tar |\n",
       "|---|---|---|---|---|---|---|---|---|---|---|\n",
       "| 4 | 2001   | -0.623 |  1.032 |  0.959 |  0.381 | -0.192 | 1.2760 |  0.614 | Up     | 1      |\n",
       "| 5 | 2001   |  0.614 | -0.623 |  1.032 |  0.959 |  0.381 | 1.2057 |  0.213 | Up     | 1      |\n",
       "| 6 | 2001   |  0.213 |  0.614 | -0.623 |  1.032 |  0.959 | 1.3491 |  1.392 | Up     | 1      |\n",
       "| 7 | 2001   |  1.392 |  0.213 |  0.614 | -0.623 |  1.032 | 1.4450 | -0.403 | Down   | 0      |\n",
       "| 8 | 2001   | -0.403 |  1.392 |  0.213 |  0.614 | -0.623 | 1.4078 |  0.027 | Up     | 1      |\n",
       "| 9 | 2001   |  0.027 | -0.403 |  1.392 |  0.213 |  0.614 | 1.1640 |  1.303 | Up     | 1      |\n",
       "\n"
      ],
      "text/plain": [
       "  Year Lag1   Lag2   Lag3   Lag4   Lag5   Volume Today  Direction tar\n",
       "4 2001 -0.623  1.032  0.959  0.381 -0.192 1.2760  0.614 Up        1  \n",
       "5 2001  0.614 -0.623  1.032  0.959  0.381 1.2057  0.213 Up        1  \n",
       "6 2001  0.213  0.614 -0.623  1.032  0.959 1.3491  1.392 Up        1  \n",
       "7 2001  1.392  0.213  0.614 -0.623  1.032 1.4450 -0.403 Down      0  \n",
       "8 2001 -0.403  1.392  0.213  0.614 -0.623 1.4078  0.027 Up        1  \n",
       "9 2001  0.027 -0.403  1.392  0.213  0.614 1.1640  1.303 Up        1  "
      ]
     },
     "metadata": {},
     "output_type": "display_data"
    }
   ],
   "source": [
    "head(df_final)"
   ]
  },
  {
   "cell_type": "code",
   "execution_count": 31,
   "metadata": {},
   "outputs": [
    {
     "data": {
      "text/html": [
       "<ol class=list-inline>\n",
       "\t<li>1250</li>\n",
       "\t<li>10</li>\n",
       "</ol>\n"
      ],
      "text/latex": [
       "\\begin{enumerate*}\n",
       "\\item 1250\n",
       "\\item 10\n",
       "\\end{enumerate*}\n"
      ],
      "text/markdown": [
       "1. 1250\n",
       "2. 10\n",
       "\n",
       "\n"
      ],
      "text/plain": [
       "[1] 1250   10"
      ]
     },
     "metadata": {},
     "output_type": "display_data"
    }
   ],
   "source": [
    "dim(df)"
   ]
  },
  {
   "cell_type": "code",
   "execution_count": 32,
   "metadata": {
    "scrolled": true
   },
   "outputs": [
    {
     "data": {
      "text/html": [
       "<ol class=list-inline>\n",
       "\t<li>977</li>\n",
       "\t<li>10</li>\n",
       "</ol>\n"
      ],
      "text/latex": [
       "\\begin{enumerate*}\n",
       "\\item 977\n",
       "\\item 10\n",
       "\\end{enumerate*}\n"
      ],
      "text/markdown": [
       "1. 977\n",
       "2. 10\n",
       "\n",
       "\n"
      ],
      "text/plain": [
       "[1] 977  10"
      ]
     },
     "metadata": {},
     "output_type": "display_data"
    }
   ],
   "source": [
    "dim(df_final)"
   ]
  },
  {
   "cell_type": "code",
   "execution_count": 33,
   "metadata": {
    "scrolled": true
   },
   "outputs": [
    {
     "data": {
      "image/png": "[encoded data removed]",
      "text/plain": [
       "Plot with title \"\""
      ]
     },
     "metadata": {},
     "output_type": "display_data"
    }
   ],
   "source": [
    "library(Hmisc)\n",
    "hist.data.frame(df_final)"
   ]
  },
  {
   "cell_type": "code",
   "execution_count": 34,
   "metadata": {},
   "outputs": [
    {
     "data": {
      "text/html": [
       "1"
      ],
      "text/latex": [
       "1"
      ],
      "text/markdown": [
       "1"
      ],
      "text/plain": [
       "[1] 1"
      ]
     },
     "metadata": {},
     "output_type": "display_data"
    }
   ],
   "source": [
    "factor <- data.frame(select_if(df_final, is.factor))\n",
    "ncol(factor)"
   ]
  },
  {
   "cell_type": "code",
   "execution_count": 35,
   "metadata": {},
   "outputs": [
    {
     "data": {
      "text/plain": [
       "[[1]]\n"
      ]
     },
     "metadata": {},
     "output_type": "display_data"
    },
    {
     "data": {
      "image/png": "[encoded data removed]",
      "text/plain": [
       "plot without title"
      ]
     },
     "metadata": {},
     "output_type": "display_data"
    }
   ],
   "source": [
    "library(ggplot2)\n",
    "# Create graph for each column\n",
    "graph <- lapply(names(factor),\n",
    "    function(x) \n",
    "        ggplot(factor, aes(get(x))) +\n",
    "                geom_bar() +\n",
    "                theme(axis.text.x = element_text(angle = 90)))\n",
    "graph"
   ]
  },
  {
   "cell_type": "code",
   "execution_count": 36,
   "metadata": {},
   "outputs": [],
   "source": [
    "set.seed(0)\n",
    "trainrow <- sample(1:nrow(df_final),0.80*nrow(df_final))\n",
    "train_data <- df_final[trainrow,]\n",
    "test_data <- df_final[-trainrow,]"
   ]
  },
  {
   "cell_type": "code",
   "execution_count": 37,
   "metadata": {
    "scrolled": true
   },
   "outputs": [
    {
     "data": {
      "text/html": [
       "<ol class=list-inline>\n",
       "\t<li>781</li>\n",
       "\t<li>10</li>\n",
       "</ol>\n"
      ],
      "text/latex": [
       "\\begin{enumerate*}\n",
       "\\item 781\n",
       "\\item 10\n",
       "\\end{enumerate*}\n"
      ],
      "text/markdown": [
       "1. 781\n",
       "2. 10\n",
       "\n",
       "\n"
      ],
      "text/plain": [
       "[1] 781  10"
      ]
     },
     "metadata": {},
     "output_type": "display_data"
    }
   ],
   "source": [
    "dim(train_data)"
   ]
  },
  {
   "cell_type": "code",
   "execution_count": 38,
   "metadata": {
    "scrolled": true
   },
   "outputs": [
    {
     "data": {
      "text/html": [
       "<ol class=list-inline>\n",
       "\t<li>196</li>\n",
       "\t<li>10</li>\n",
       "</ol>\n"
      ],
      "text/latex": [
       "\\begin{enumerate*}\n",
       "\\item 196\n",
       "\\item 10\n",
       "\\end{enumerate*}\n"
      ],
      "text/markdown": [
       "1. 196\n",
       "2. 10\n",
       "\n",
       "\n"
      ],
      "text/plain": [
       "[1] 196  10"
      ]
     },
     "metadata": {},
     "output_type": "display_data"
    }
   ],
   "source": [
    "dim(test_data)"
   ]
  },
  {
   "cell_type": "code",
   "execution_count": 39,
   "metadata": {
    "scrolled": true
   },
   "outputs": [
    {
     "data": {
      "text/html": [
       "<table>\n",
       "<thead><tr><th></th><th scope=col>Year</th><th scope=col>Lag1</th><th scope=col>Lag2</th><th scope=col>Lag3</th><th scope=col>Lag4</th><th scope=col>Lag5</th><th scope=col>Volume</th><th scope=col>Today</th><th scope=col>Direction</th><th scope=col>tar</th></tr></thead>\n",
       "<tbody>\n",
       "\t<tr><th scope=row>621</th><td>2003   </td><td> 1.164 </td><td> 0.802 </td><td>-0.176 </td><td>-0.974 </td><td> 1.077 </td><td>1.51930</td><td>-0.810 </td><td>Down   </td><td>0      </td></tr>\n",
       "\t<tr><th scope=row>1067</th><td>2005   </td><td> 0.001 </td><td>-0.834 </td><td> 0.597 </td><td> 0.227 </td><td> 0.448 </td><td>1.52531</td><td> 0.555 </td><td>Up     </td><td>1      </td></tr>\n",
       "\t<tr><th scope=row>906</th><td>2004   </td><td>-0.360 </td><td> 1.244 </td><td> 0.220 </td><td> 1.366 </td><td> 0.148 </td><td>1.24940</td><td> 0.652 </td><td>Up     </td><td>1      </td></tr>\n",
       "\t<tr><th scope=row>188</th><td>2001   </td><td> 1.521 </td><td> 2.294 </td><td>-0.536 </td><td>-0.834 </td><td> 0.164 </td><td>1.70458</td><td>-0.527 </td><td>Down   </td><td>0      </td></tr>\n",
       "\t<tr><th scope=row>1171</th><td>2005   </td><td> 0.241 </td><td> 1.262 </td><td>-0.292 </td><td> 0.103 </td><td> 0.986 </td><td>2.06770</td><td>-0.379 </td><td>Down   </td><td>0      </td></tr>\n",
       "\t<tr><th scope=row>734</th><td>2003   </td><td> 1.148 </td><td>-0.107 </td><td>-0.853 </td><td> 0.735 </td><td>-0.768 </td><td>1.44110</td><td> 0.274 </td><td>Up     </td><td>1      </td></tr>\n",
       "\t<tr><th scope=row>695</th><td>2003   </td><td> 0.316 </td><td>-0.259 </td><td> 0.395 </td><td> 0.702 </td><td>-0.065 </td><td>1.41770</td><td>-1.024 </td><td>Down   </td><td>0      </td></tr>\n",
       "\t<tr><th scope=row>480</th><td>2002   </td><td>-2.218 </td><td> 0.627 </td><td>-1.202 </td><td>-0.344 </td><td>-1.475 </td><td>1.32080</td><td> 1.396 </td><td>Up     </td><td>1      </td></tr>\n",
       "\t<tr><th scope=row>367</th><td>2002   </td><td>-0.083 </td><td> 1.758 </td><td>-0.267 </td><td>-1.670 </td><td> 0.362 </td><td>2.11700</td><td>-2.139 </td><td>Down   </td><td>0      </td></tr>\n",
       "\t<tr><th scope=row>252</th><td>2002   </td><td>-0.628 </td><td>-0.947 </td><td> 0.122 </td><td>-0.480 </td><td>-0.359 </td><td>1.28640</td><td> 0.683 </td><td>Up     </td><td>1      </td></tr>\n",
       "\t<tr><th scope=row>490</th><td>2002   </td><td> 0.181 </td><td> 1.302 </td><td>-0.771 </td><td>-1.315 </td><td>-0.814 </td><td>1.11210</td><td>-0.547 </td><td>Down   </td><td>0      </td></tr>\n",
       "\t<tr><th scope=row>824</th><td>2004   </td><td> 1.409 </td><td> 0.531 </td><td>-1.556 </td><td> 0.107 </td><td> 0.511 </td><td>1.82670</td><td> 0.059 </td><td>Up     </td><td>1      </td></tr>\n",
       "\t<tr><th scope=row>410</th><td>2002   </td><td>-0.008 </td><td>-1.813 </td><td>-1.385 </td><td> 0.754 </td><td>-2.269 </td><td>1.27110</td><td>-0.188 </td><td>Down   </td><td>0      </td></tr>\n",
       "\t<tr><th scope=row>1111</th><td>2005   </td><td> 0.226 </td><td>-0.235 </td><td> 0.524 </td><td>-0.216 </td><td>-0.021 </td><td>1.66135</td><td> 0.257 </td><td>Up     </td><td>1      </td></tr>\n",
       "\t<tr><th scope=row>1204</th><td>2005   </td><td> 1.678 </td><td> 0.152 </td><td>-1.502 </td><td> 1.496 </td><td>-1.005 </td><td>2.19779</td><td>-0.237 </td><td>Down   </td><td>0      </td></tr>\n",
       "\t<tr><th scope=row>718</th><td>2003   </td><td>-0.908 </td><td>-0.640 </td><td>-0.762 </td><td>-0.011 </td><td> 1.143 </td><td>1.35430</td><td> 0.802 </td><td>Up     </td><td>1      </td></tr>\n",
       "\t<tr><th scope=row>526</th><td>2003   </td><td> 2.143 </td><td>-0.160 </td><td>-1.269 </td><td>-0.810 </td><td> 0.757 </td><td>1.40460</td><td> 1.950 </td><td>Up     </td><td>1      </td></tr>\n",
       "\t<tr><th scope=row>1004</th><td>2005   </td><td>-0.143 </td><td> 0.351 </td><td>-0.363 </td><td>-1.167 </td><td>-0.812 </td><td>1.47790</td><td> 0.342 </td><td>Up     </td><td>1      </td></tr>\n",
       "\t<tr><th scope=row>1074</th><td>2005   </td><td>-1.325 </td><td> 0.593 </td><td> 0.294 </td><td>-1.672 </td><td>-1.000 </td><td>2.21705</td><td> 1.974 </td><td>Up     </td><td>1      </td></tr>\n",
       "\t<tr><th scope=row>818</th><td>2004   </td><td>-0.112 </td><td>-1.376 </td><td> 0.516 </td><td>-0.106 </td><td>-0.665 </td><td>1.54770</td><td> 0.059 </td><td>Up     </td><td>1      </td></tr>\n",
       "\t<tr><th scope=row>952</th><td>2004   </td><td>-0.086 </td><td>-0.972 </td><td> 0.256 </td><td> 0.039 </td><td>-0.969 </td><td>1.38050</td><td> 1.488 </td><td>Up     </td><td>1      </td></tr>\n",
       "\t<tr><th scope=row>40</th><td>2001   </td><td> 0.645 </td><td> 0.998 </td><td> 0.586 </td><td>-0.568 </td><td> 0.104 </td><td>1.13220</td><td> 0.226 </td><td>Up     </td><td>1      </td></tr>\n",
       "\t<tr><th scope=row>152</th><td>2001   </td><td>-0.734 </td><td>-0.383 </td><td> 0.095 </td><td> 0.569 </td><td>-0.008 </td><td>1.06560</td><td> 0.309 </td><td>Up     </td><td>1      </td></tr>\n",
       "\t<tr><th scope=row>956</th><td>2004   </td><td> 0.245 </td><td> 0.181 </td><td> 1.288 </td><td> 1.488 </td><td>-0.086 </td><td>1.50080</td><td> 0.027 </td><td>Up     </td><td>1      </td></tr>\n",
       "\t<tr><th scope=row>1116</th><td>2005   </td><td>-0.071 </td><td> 0.495 </td><td> 0.363 </td><td> 0.222 </td><td> 0.257 </td><td>1.71453</td><td>-0.205 </td><td>Down   </td><td>0      </td></tr>\n",
       "\t<tr><th scope=row>709</th><td>2003   </td><td>-0.137 </td><td>-0.545 </td><td> 0.791 </td><td> 0.360 </td><td>-0.112 </td><td>1.40180</td><td> 0.593 </td><td>Up     </td><td>1      </td></tr>\n",
       "\t<tr><th scope=row>904</th><td>2004   </td><td> 0.220 </td><td> 1.366 </td><td> 0.148 </td><td>-1.168 </td><td>-0.301 </td><td>1.26780</td><td> 1.244 </td><td>Up     </td><td>1      </td></tr>\n",
       "\t<tr><th scope=row>1031</th><td>2005   </td><td> 0.018 </td><td> 0.330 </td><td> 0.070 </td><td> 0.693 </td><td> 0.421 </td><td>1.49010</td><td>-0.792 </td><td>Down   </td><td>0      </td></tr>\n",
       "\t<tr><th scope=row>1235</th><td>2005   </td><td>-0.501 </td><td> 0.128 </td><td>-0.236 </td><td> 0.032 </td><td> 1.216 </td><td>2.09383</td><td>-0.122 </td><td>Down   </td><td>0      </td></tr>\n",
       "\t<tr><th scope=row>605</th><td>2003   </td><td> 0.913 </td><td>-1.198 </td><td>-0.240 </td><td> 0.395 </td><td> 1.511 </td><td>1.27540</td><td> 1.283 </td><td>Up     </td><td>1      </td></tr>\n",
       "\t<tr><th scope=row>...</th><td>...</td><td>...</td><td>...</td><td>...</td><td>...</td><td>...</td><td>...</td><td>...</td><td>...</td><td>...</td></tr>\n",
       "\t<tr><th scope=row>160</th><td>2001   </td><td>-0.483 </td><td> 1.965 </td><td>-0.276 </td><td> 0.696 </td><td>-1.208 </td><td>0.84260</td><td>-1.501 </td><td>Down   </td><td>0      </td></tr>\n",
       "\t<tr><th scope=row>303</th><td>2002   </td><td> 0.246 </td><td> 0.535 </td><td> 0.585 </td><td>-1.465 </td><td>-0.424 </td><td>1.14760</td><td>-0.074 </td><td>Down   </td><td>0      </td></tr>\n",
       "\t<tr><th scope=row>1189</th><td>2005   </td><td>-0.172 </td><td> 0.092 </td><td> 0.887 </td><td> 0.101 </td><td> 0.002 </td><td>2.09749</td><td>-0.997 </td><td>Down   </td><td>0      </td></tr>\n",
       "\t<tr><th scope=row>1150</th><td>2005   </td><td>-0.268 </td><td>-0.764 </td><td>-0.737 </td><td> 0.074 </td><td> 0.710 </td><td>1.80414</td><td> 0.674 </td><td>Up     </td><td>1      </td></tr>\n",
       "\t<tr><th scope=row>251</th><td>2002   </td><td>-0.947 </td><td> 0.122 </td><td>-0.480 </td><td>-0.359 </td><td>-0.650 </td><td>1.21190</td><td>-0.628 </td><td>Down   </td><td>0      </td></tr>\n",
       "\t<tr><th scope=row>597</th><td>2003   </td><td>-0.376 </td><td> 0.183 </td><td> 1.957 </td><td> 0.145 </td><td> 0.915 </td><td>1.68580</td><td> 1.469 </td><td>Up     </td><td>1      </td></tr>\n",
       "\t<tr><th scope=row>827</th><td>2004   </td><td> 0.227 </td><td>-0.445 </td><td> 0.059 </td><td> 1.409 </td><td> 0.531 </td><td>1.51800</td><td>-1.379 </td><td>Down   </td><td>0      </td></tr>\n",
       "\t<tr><th scope=row>713</th><td>2003   </td><td>-0.052 </td><td>-0.579 </td><td>-0.457 </td><td> 0.593 </td><td>-0.137 </td><td>1.16250</td><td> 1.143 </td><td>Up     </td><td>1      </td></tr>\n",
       "\t<tr><th scope=row>528</th><td>2003   </td><td>-0.710 </td><td> 1.950 </td><td> 2.143 </td><td>-0.160 </td><td>-1.269 </td><td>1.07560</td><td>-0.950 </td><td>Down   </td><td>0      </td></tr>\n",
       "\t<tr><th scope=row>340</th><td>2002   </td><td>-1.099 </td><td>-1.329 </td><td> 0.761 </td><td> 0.656 </td><td>-0.566 </td><td>1.20050</td><td> 0.569 </td><td>Up     </td><td>1      </td></tr>\n",
       "\t<tr><th scope=row>354</th><td>2002   </td><td>-1.663 </td><td> 0.312 </td><td>-0.157 </td><td>-1.976 </td><td> 0.885 </td><td>1.21240</td><td> 0.657 </td><td>Up     </td><td>1      </td></tr>\n",
       "\t<tr><th scope=row>742</th><td>2003   </td><td> 0.282 </td><td> 0.393 </td><td>-0.048 </td><td> 1.180 </td><td> 0.126 </td><td>1.14530</td><td>-0.181 </td><td>Down   </td><td>0      </td></tr>\n",
       "\t<tr><th scope=row>721</th><td>2003   </td><td> 0.158 </td><td>-0.843 </td><td> 0.802 </td><td>-0.908 </td><td>-0.640 </td><td>1.27380</td><td> 1.623 </td><td>Up     </td><td>1      </td></tr>\n",
       "\t<tr><th scope=row>277</th><td>2002   </td><td> 1.351 </td><td>-1.887 </td><td>-1.102 </td><td>-0.181 </td><td> 0.994 </td><td>1.43890</td><td>-1.551 </td><td>Down   </td><td>0      </td></tr>\n",
       "\t<tr><th scope=row>881</th><td>2004   </td><td>-0.430 </td><td>-0.329 </td><td> 0.071 </td><td> 0.138 </td><td> 0.334 </td><td>1.40870</td><td>-0.479 </td><td>Down   </td><td>0      </td></tr>\n",
       "\t<tr><th scope=row>700</th><td>2003   </td><td> 0.331 </td><td>-1.498 </td><td> 0.129 </td><td> 0.516 </td><td>-1.024 </td><td>1.60430</td><td>-0.470 </td><td>Down   </td><td>0      </td></tr>\n",
       "\t<tr><th scope=row>483</th><td>2002   </td><td>-0.373 </td><td> 0.056 </td><td> 1.396 </td><td>-2.218 </td><td> 0.627 </td><td>1.25530</td><td>-1.342 </td><td>Down   </td><td>0      </td></tr>\n",
       "\t<tr><th scope=row>669</th><td>2003   </td><td>-1.197 </td><td>-0.821 </td><td> 1.004 </td><td>-0.640 </td><td> 0.166 </td><td>1.58210</td><td> 0.544 </td><td>Up     </td><td>1      </td></tr>\n",
       "\t<tr><th scope=row>207</th><td>2001   </td><td>-0.273 </td><td> 1.453 </td><td> 1.439 </td><td> 0.286 </td><td> 2.295 </td><td>1.41130</td><td> 0.246 </td><td>Up     </td><td>1      </td></tr>\n",
       "\t<tr><th scope=row>807</th><td>2004   </td><td> 1.300 </td><td>-0.102 </td><td> 1.637 </td><td>-0.239 </td><td>-0.132 </td><td>1.40550</td><td> 0.404 </td><td>Up     </td><td>1      </td></tr>\n",
       "\t<tr><th scope=row>212</th><td>2001   </td><td> 0.186 </td><td> 1.856 </td><td>-0.177 </td><td> 0.158 </td><td> 0.246 </td><td>1.44340</td><td> 0.090 </td><td>Up     </td><td>1      </td></tr>\n",
       "\t<tr><th scope=row>765</th><td>2004   </td><td>-1.361 </td><td>-0.980 </td><td> 1.211 </td><td>-0.209 </td><td>-0.321 </td><td>1.84200</td><td> 0.499 </td><td>Up     </td><td>1      </td></tr>\n",
       "\t<tr><th scope=row>407</th><td>2002   </td><td> 0.754 </td><td>-2.269 </td><td> 1.405 </td><td> 1.273 </td><td>-1.396 </td><td>1.01690</td><td>-1.385 </td><td>Down   </td><td>0      </td></tr>\n",
       "\t<tr><th scope=row>24</th><td>2001   </td><td> 1.183 </td><td>-1.334 </td><td>-0.623 </td><td>-0.841 </td><td>-0.151 </td><td>1.03910</td><td>-0.865 </td><td>Down   </td><td>0      </td></tr>\n",
       "\t<tr><th scope=row>565</th><td>2003   </td><td>-0.376 </td><td> 0.646 </td><td>-1.400 </td><td>-0.186 </td><td> 0.123 </td><td>1.14160</td><td> 1.950 </td><td>Up     </td><td>1      </td></tr>\n",
       "\t<tr><th scope=row>732</th><td>2003   </td><td>-0.853 </td><td> 0.735 </td><td>-0.768 </td><td> 0.469 </td><td>-0.177 </td><td>1.46550</td><td>-0.107 </td><td>Down   </td><td>0      </td></tr>\n",
       "\t<tr><th scope=row>854</th><td>2004   </td><td> 0.525 </td><td>-0.742 </td><td> 0.338 </td><td> 0.046 </td><td>-0.054 </td><td>1.11530</td><td> 1.596 </td><td>Up     </td><td>1      </td></tr>\n",
       "\t<tr><th scope=row>754</th><td>2004   </td><td> 0.479 </td><td>-0.889 </td><td> 0.496 </td><td> 0.237 </td><td> 0.129 </td><td>1.51020</td><td>-0.533 </td><td>Down   </td><td>0      </td></tr>\n",
       "\t<tr><th scope=row>141</th><td>2001   </td><td> 0.557 </td><td>-0.108 </td><td> 0.240 </td><td> 1.045 </td><td> 1.608 </td><td>1.12920</td><td> 0.388 </td><td>Up     </td><td>1      </td></tr>\n",
       "\t<tr><th scope=row>834</th><td>2004   </td><td>-0.672 </td><td> 0.177 </td><td> 0.184 </td><td> 0.920 </td><td>-0.592 </td><td>1.50930</td><td>-1.373 </td><td>Down   </td><td>0      </td></tr>\n",
       "</tbody>\n",
       "</table>\n"
      ],
      "text/latex": [
       "\\begin{tabular}{r|llllllllll}\n",
       "  & Year & Lag1 & Lag2 & Lag3 & Lag4 & Lag5 & Volume & Today & Direction & tar\\\\\n",
       "\\hline\n",
       "\t621 & 2003    &  1.164  &  0.802  & -0.176  & -0.974  &  1.077  & 1.51930 & -0.810  & Down    & 0      \\\\\n",
       "\t1067 & 2005    &  0.001  & -0.834  &  0.597  &  0.227  &  0.448  & 1.52531 &  0.555  & Up      & 1      \\\\\n",
       "\t906 & 2004    & -0.360  &  1.244  &  0.220  &  1.366  &  0.148  & 1.24940 &  0.652  & Up      & 1      \\\\\n",
       "\t188 & 2001    &  1.521  &  2.294  & -0.536  & -0.834  &  0.164  & 1.70458 & -0.527  & Down    & 0      \\\\\n",
       "\t1171 & 2005    &  0.241  &  1.262  & -0.292  &  0.103  &  0.986  & 2.06770 & -0.379  & Down    & 0      \\\\\n",
       "\t734 & 2003    &  1.148  & -0.107  & -0.853  &  0.735  & -0.768  & 1.44110 &  0.274  & Up      & 1      \\\\\n",
       "\t695 & 2003    &  0.316  & -0.259  &  0.395  &  0.702  & -0.065  & 1.41770 & -1.024  & Down    & 0      \\\\\n",
       "\t480 & 2002    & -2.218  &  0.627  & -1.202  & -0.344  & -1.475  & 1.32080 &  1.396  & Up      & 1      \\\\\n",
       "\t367 & 2002    & -0.083  &  1.758  & -0.267  & -1.670  &  0.362  & 2.11700 & -2.139  & Down    & 0      \\\\\n",
       "\t252 & 2002    & -0.628  & -0.947  &  0.122  & -0.480  & -0.359  & 1.28640 &  0.683  & Up      & 1      \\\\\n",
       "\t490 & 2002    &  0.181  &  1.302  & -0.771  & -1.315  & -0.814  & 1.11210 & -0.547  & Down    & 0      \\\\\n",
       "\t824 & 2004    &  1.409  &  0.531  & -1.556  &  0.107  &  0.511  & 1.82670 &  0.059  & Up      & 1      \\\\\n",
       "\t410 & 2002    & -0.008  & -1.813  & -1.385  &  0.754  & -2.269  & 1.27110 & -0.188  & Down    & 0      \\\\\n",
       "\t1111 & 2005    &  0.226  & -0.235  &  0.524  & -0.216  & -0.021  & 1.66135 &  0.257  & Up      & 1      \\\\\n",
       "\t1204 & 2005    &  1.678  &  0.152  & -1.502  &  1.496  & -1.005  & 2.19779 & -0.237  & Down    & 0      \\\\\n",
       "\t718 & 2003    & -0.908  & -0.640  & -0.762  & -0.011  &  1.143  & 1.35430 &  0.802  & Up      & 1      \\\\\n",
       "\t526 & 2003    &  2.143  & -0.160  & -1.269  & -0.810  &  0.757  & 1.40460 &  1.950  & Up      & 1      \\\\\n",
       "\t1004 & 2005    & -0.143  &  0.351  & -0.363  & -1.167  & -0.812  & 1.47790 &  0.342  & Up      & 1      \\\\\n",
       "\t1074 & 2005    & -1.325  &  0.593  &  0.294  & -1.672  & -1.000  & 2.21705 &  1.974  & Up      & 1      \\\\\n",
       "\t818 & 2004    & -0.112  & -1.376  &  0.516  & -0.106  & -0.665  & 1.54770 &  0.059  & Up      & 1      \\\\\n",
       "\t952 & 2004    & -0.086  & -0.972  &  0.256  &  0.039  & -0.969  & 1.38050 &  1.488  & Up      & 1      \\\\\n",
       "\t40 & 2001    &  0.645  &  0.998  &  0.586  & -0.568  &  0.104  & 1.13220 &  0.226  & Up      & 1      \\\\\n",
       "\t152 & 2001    & -0.734  & -0.383  &  0.095  &  0.569  & -0.008  & 1.06560 &  0.309  & Up      & 1      \\\\\n",
       "\t956 & 2004    &  0.245  &  0.181  &  1.288  &  1.488  & -0.086  & 1.50080 &  0.027  & Up      & 1      \\\\\n",
       "\t1116 & 2005    & -0.071  &  0.495  &  0.363  &  0.222  &  0.257  & 1.71453 & -0.205  & Down    & 0      \\\\\n",
       "\t709 & 2003    & -0.137  & -0.545  &  0.791  &  0.360  & -0.112  & 1.40180 &  0.593  & Up      & 1      \\\\\n",
       "\t904 & 2004    &  0.220  &  1.366  &  0.148  & -1.168  & -0.301  & 1.26780 &  1.244  & Up      & 1      \\\\\n",
       "\t1031 & 2005    &  0.018  &  0.330  &  0.070  &  0.693  &  0.421  & 1.49010 & -0.792  & Down    & 0      \\\\\n",
       "\t1235 & 2005    & -0.501  &  0.128  & -0.236  &  0.032  &  1.216  & 2.09383 & -0.122  & Down    & 0      \\\\\n",
       "\t605 & 2003    &  0.913  & -1.198  & -0.240  &  0.395  &  1.511  & 1.27540 &  1.283  & Up      & 1      \\\\\n",
       "\t... & ... & ... & ... & ... & ... & ... & ... & ... & ... & ...\\\\\n",
       "\t160 & 2001    & -0.483  &  1.965  & -0.276  &  0.696  & -1.208  & 0.84260 & -1.501  & Down    & 0      \\\\\n",
       "\t303 & 2002    &  0.246  &  0.535  &  0.585  & -1.465  & -0.424  & 1.14760 & -0.074  & Down    & 0      \\\\\n",
       "\t1189 & 2005    & -0.172  &  0.092  &  0.887  &  0.101  &  0.002  & 2.09749 & -0.997  & Down    & 0      \\\\\n",
       "\t1150 & 2005    & -0.268  & -0.764  & -0.737  &  0.074  &  0.710  & 1.80414 &  0.674  & Up      & 1      \\\\\n",
       "\t251 & 2002    & -0.947  &  0.122  & -0.480  & -0.359  & -0.650  & 1.21190 & -0.628  & Down    & 0      \\\\\n",
       "\t597 & 2003    & -0.376  &  0.183  &  1.957  &  0.145  &  0.915  & 1.68580 &  1.469  & Up      & 1      \\\\\n",
       "\t827 & 2004    &  0.227  & -0.445  &  0.059  &  1.409  &  0.531  & 1.51800 & -1.379  & Down    & 0      \\\\\n",
       "\t713 & 2003    & -0.052  & -0.579  & -0.457  &  0.593  & -0.137  & 1.16250 &  1.143  & Up      & 1      \\\\\n",
       "\t528 & 2003    & -0.710  &  1.950  &  2.143  & -0.160  & -1.269  & 1.07560 & -0.950  & Down    & 0      \\\\\n",
       "\t340 & 2002    & -1.099  & -1.329  &  0.761  &  0.656  & -0.566  & 1.20050 &  0.569  & Up      & 1      \\\\\n",
       "\t354 & 2002    & -1.663  &  0.312  & -0.157  & -1.976  &  0.885  & 1.21240 &  0.657  & Up      & 1      \\\\\n",
       "\t742 & 2003    &  0.282  &  0.393  & -0.048  &  1.180  &  0.126  & 1.14530 & -0.181  & Down    & 0      \\\\\n",
       "\t721 & 2003    &  0.158  & -0.843  &  0.802  & -0.908  & -0.640  & 1.27380 &  1.623  & Up      & 1      \\\\\n",
       "\t277 & 2002    &  1.351  & -1.887  & -1.102  & -0.181  &  0.994  & 1.43890 & -1.551  & Down    & 0      \\\\\n",
       "\t881 & 2004    & -0.430  & -0.329  &  0.071  &  0.138  &  0.334  & 1.40870 & -0.479  & Down    & 0      \\\\\n",
       "\t700 & 2003    &  0.331  & -1.498  &  0.129  &  0.516  & -1.024  & 1.60430 & -0.470  & Down    & 0      \\\\\n",
       "\t483 & 2002    & -0.373  &  0.056  &  1.396  & -2.218  &  0.627  & 1.25530 & -1.342  & Down    & 0      \\\\\n",
       "\t669 & 2003    & -1.197  & -0.821  &  1.004  & -0.640  &  0.166  & 1.58210 &  0.544  & Up      & 1      \\\\\n",
       "\t207 & 2001    & -0.273  &  1.453  &  1.439  &  0.286  &  2.295  & 1.41130 &  0.246  & Up      & 1      \\\\\n",
       "\t807 & 2004    &  1.300  & -0.102  &  1.637  & -0.239  & -0.132  & 1.40550 &  0.404  & Up      & 1      \\\\\n",
       "\t212 & 2001    &  0.186  &  1.856  & -0.177  &  0.158  &  0.246  & 1.44340 &  0.090  & Up      & 1      \\\\\n",
       "\t765 & 2004    & -1.361  & -0.980  &  1.211  & -0.209  & -0.321  & 1.84200 &  0.499  & Up      & 1      \\\\\n",
       "\t407 & 2002    &  0.754  & -2.269  &  1.405  &  1.273  & -1.396  & 1.01690 & -1.385  & Down    & 0      \\\\\n",
       "\t24 & 2001    &  1.183  & -1.334  & -0.623  & -0.841  & -0.151  & 1.03910 & -0.865  & Down    & 0      \\\\\n",
       "\t565 & 2003    & -0.376  &  0.646  & -1.400  & -0.186  &  0.123  & 1.14160 &  1.950  & Up      & 1      \\\\\n",
       "\t732 & 2003    & -0.853  &  0.735  & -0.768  &  0.469  & -0.177  & 1.46550 & -0.107  & Down    & 0      \\\\\n",
       "\t854 & 2004    &  0.525  & -0.742  &  0.338  &  0.046  & -0.054  & 1.11530 &  1.596  & Up      & 1      \\\\\n",
       "\t754 & 2004    &  0.479  & -0.889  &  0.496  &  0.237  &  0.129  & 1.51020 & -0.533  & Down    & 0      \\\\\n",
       "\t141 & 2001    &  0.557  & -0.108  &  0.240  &  1.045  &  1.608  & 1.12920 &  0.388  & Up      & 1      \\\\\n",
       "\t834 & 2004    & -0.672  &  0.177  &  0.184  &  0.920  & -0.592  & 1.50930 & -1.373  & Down    & 0      \\\\\n",
       "\\end{tabular}\n"
      ],
      "text/markdown": [
       "\n",
       "| <!--/--> | Year | Lag1 | Lag2 | Lag3 | Lag4 | Lag5 | Volume | Today | Direction | tar |\n",
       "|---|---|---|---|---|---|---|---|---|---|---|\n",
       "| 621 | 2003    |  1.164  |  0.802  | -0.176  | -0.974  |  1.077  | 1.51930 | -0.810  | Down    | 0       |\n",
       "| 1067 | 2005    |  0.001  | -0.834  |  0.597  |  0.227  |  0.448  | 1.52531 |  0.555  | Up      | 1       |\n",
       "| 906 | 2004    | -0.360  |  1.244  |  0.220  |  1.366  |  0.148  | 1.24940 |  0.652  | Up      | 1       |\n",
       "| 188 | 2001    |  1.521  |  2.294  | -0.536  | -0.834  |  0.164  | 1.70458 | -0.527  | Down    | 0       |\n",
       "| 1171 | 2005    |  0.241  |  1.262  | -0.292  |  0.103  |  0.986  | 2.06770 | -0.379  | Down    | 0       |\n",
       "| 734 | 2003    |  1.148  | -0.107  | -0.853  |  0.735  | -0.768  | 1.44110 |  0.274  | Up      | 1       |\n",
       "| 695 | 2003    |  0.316  | -0.259  |  0.395  |  0.702  | -0.065  | 1.41770 | -1.024  | Down    | 0       |\n",
       "| 480 | 2002    | -2.218  |  0.627  | -1.202  | -0.344  | -1.475  | 1.32080 |  1.396  | Up      | 1       |\n",
       "| 367 | 2002    | -0.083  |  1.758  | -0.267  | -1.670  |  0.362  | 2.11700 | -2.139  | Down    | 0       |\n",
       "| 252 | 2002    | -0.628  | -0.947  |  0.122  | -0.480  | -0.359  | 1.28640 |  0.683  | Up      | 1       |\n",
       "| 490 | 2002    |  0.181  |  1.302  | -0.771  | -1.315  | -0.814  | 1.11210 | -0.547  | Down    | 0       |\n",
       "| 824 | 2004    |  1.409  |  0.531  | -1.556  |  0.107  |  0.511  | 1.82670 |  0.059  | Up      | 1       |\n",
       "| 410 | 2002    | -0.008  | -1.813  | -1.385  |  0.754  | -2.269  | 1.27110 | -0.188  | Down    | 0       |\n",
       "| 1111 | 2005    |  0.226  | -0.235  |  0.524  | -0.216  | -0.021  | 1.66135 |  0.257  | Up      | 1       |\n",
       "| 1204 | 2005    |  1.678  |  0.152  | -1.502  |  1.496  | -1.005  | 2.19779 | -0.237  | Down    | 0       |\n",
       "| 718 | 2003    | -0.908  | -0.640  | -0.762  | -0.011  |  1.143  | 1.35430 |  0.802  | Up      | 1       |\n",
       "| 526 | 2003    |  2.143  | -0.160  | -1.269  | -0.810  |  0.757  | 1.40460 |  1.950  | Up      | 1       |\n",
       "| 1004 | 2005    | -0.143  |  0.351  | -0.363  | -1.167  | -0.812  | 1.47790 |  0.342  | Up      | 1       |\n",
       "| 1074 | 2005    | -1.325  |  0.593  |  0.294  | -1.672  | -1.000  | 2.21705 |  1.974  | Up      | 1       |\n",
       "| 818 | 2004    | -0.112  | -1.376  |  0.516  | -0.106  | -0.665  | 1.54770 |  0.059  | Up      | 1       |\n",
       "| 952 | 2004    | -0.086  | -0.972  |  0.256  |  0.039  | -0.969  | 1.38050 |  1.488  | Up      | 1       |\n",
       "| 40 | 2001    |  0.645  |  0.998  |  0.586  | -0.568  |  0.104  | 1.13220 |  0.226  | Up      | 1       |\n",
       "| 152 | 2001    | -0.734  | -0.383  |  0.095  |  0.569  | -0.008  | 1.06560 |  0.309  | Up      | 1       |\n",
       "| 956 | 2004    |  0.245  |  0.181  |  1.288  |  1.488  | -0.086  | 1.50080 |  0.027  | Up      | 1       |\n",
       "| 1116 | 2005    | -0.071  |  0.495  |  0.363  |  0.222  |  0.257  | 1.71453 | -0.205  | Down    | 0       |\n",
       "| 709 | 2003    | -0.137  | -0.545  |  0.791  |  0.360  | -0.112  | 1.40180 |  0.593  | Up      | 1       |\n",
       "| 904 | 2004    |  0.220  |  1.366  |  0.148  | -1.168  | -0.301  | 1.26780 |  1.244  | Up      | 1       |\n",
       "| 1031 | 2005    |  0.018  |  0.330  |  0.070  |  0.693  |  0.421  | 1.49010 | -0.792  | Down    | 0       |\n",
       "| 1235 | 2005    | -0.501  |  0.128  | -0.236  |  0.032  |  1.216  | 2.09383 | -0.122  | Down    | 0       |\n",
       "| 605 | 2003    |  0.913  | -1.198  | -0.240  |  0.395  |  1.511  | 1.27540 |  1.283  | Up      | 1       |\n",
       "| ... | ... | ... | ... | ... | ... | ... | ... | ... | ... | ... |\n",
       "| 160 | 2001    | -0.483  |  1.965  | -0.276  |  0.696  | -1.208  | 0.84260 | -1.501  | Down    | 0       |\n",
       "| 303 | 2002    |  0.246  |  0.535  |  0.585  | -1.465  | -0.424  | 1.14760 | -0.074  | Down    | 0       |\n",
       "| 1189 | 2005    | -0.172  |  0.092  |  0.887  |  0.101  |  0.002  | 2.09749 | -0.997  | Down    | 0       |\n",
       "| 1150 | 2005    | -0.268  | -0.764  | -0.737  |  0.074  |  0.710  | 1.80414 |  0.674  | Up      | 1       |\n",
       "| 251 | 2002    | -0.947  |  0.122  | -0.480  | -0.359  | -0.650  | 1.21190 | -0.628  | Down    | 0       |\n",
       "| 597 | 2003    | -0.376  |  0.183  |  1.957  |  0.145  |  0.915  | 1.68580 |  1.469  | Up      | 1       |\n",
       "| 827 | 2004    |  0.227  | -0.445  |  0.059  |  1.409  |  0.531  | 1.51800 | -1.379  | Down    | 0       |\n",
       "| 713 | 2003    | -0.052  | -0.579  | -0.457  |  0.593  | -0.137  | 1.16250 |  1.143  | Up      | 1       |\n",
       "| 528 | 2003    | -0.710  |  1.950  |  2.143  | -0.160  | -1.269  | 1.07560 | -0.950  | Down    | 0       |\n",
       "| 340 | 2002    | -1.099  | -1.329  |  0.761  |  0.656  | -0.566  | 1.20050 |  0.569  | Up      | 1       |\n",
       "| 354 | 2002    | -1.663  |  0.312  | -0.157  | -1.976  |  0.885  | 1.21240 |  0.657  | Up      | 1       |\n",
       "| 742 | 2003    |  0.282  |  0.393  | -0.048  |  1.180  |  0.126  | 1.14530 | -0.181  | Down    | 0       |\n",
       "| 721 | 2003    |  0.158  | -0.843  |  0.802  | -0.908  | -0.640  | 1.27380 |  1.623  | Up      | 1       |\n",
       "| 277 | 2002    |  1.351  | -1.887  | -1.102  | -0.181  |  0.994  | 1.43890 | -1.551  | Down    | 0       |\n",
       "| 881 | 2004    | -0.430  | -0.329  |  0.071  |  0.138  |  0.334  | 1.40870 | -0.479  | Down    | 0       |\n",
       "| 700 | 2003    |  0.331  | -1.498  |  0.129  |  0.516  | -1.024  | 1.60430 | -0.470  | Down    | 0       |\n",
       "| 483 | 2002    | -0.373  |  0.056  |  1.396  | -2.218  |  0.627  | 1.25530 | -1.342  | Down    | 0       |\n",
       "| 669 | 2003    | -1.197  | -0.821  |  1.004  | -0.640  |  0.166  | 1.58210 |  0.544  | Up      | 1       |\n",
       "| 207 | 2001    | -0.273  |  1.453  |  1.439  |  0.286  |  2.295  | 1.41130 |  0.246  | Up      | 1       |\n",
       "| 807 | 2004    |  1.300  | -0.102  |  1.637  | -0.239  | -0.132  | 1.40550 |  0.404  | Up      | 1       |\n",
       "| 212 | 2001    |  0.186  |  1.856  | -0.177  |  0.158  |  0.246  | 1.44340 |  0.090  | Up      | 1       |\n",
       "| 765 | 2004    | -1.361  | -0.980  |  1.211  | -0.209  | -0.321  | 1.84200 |  0.499  | Up      | 1       |\n",
       "| 407 | 2002    |  0.754  | -2.269  |  1.405  |  1.273  | -1.396  | 1.01690 | -1.385  | Down    | 0       |\n",
       "| 24 | 2001    |  1.183  | -1.334  | -0.623  | -0.841  | -0.151  | 1.03910 | -0.865  | Down    | 0       |\n",
       "| 565 | 2003    | -0.376  |  0.646  | -1.400  | -0.186  |  0.123  | 1.14160 |  1.950  | Up      | 1       |\n",
       "| 732 | 2003    | -0.853  |  0.735  | -0.768  |  0.469  | -0.177  | 1.46550 | -0.107  | Down    | 0       |\n",
       "| 854 | 2004    |  0.525  | -0.742  |  0.338  |  0.046  | -0.054  | 1.11530 |  1.596  | Up      | 1       |\n",
       "| 754 | 2004    |  0.479  | -0.889  |  0.496  |  0.237  |  0.129  | 1.51020 | -0.533  | Down    | 0       |\n",
       "| 141 | 2001    |  0.557  | -0.108  |  0.240  |  1.045  |  1.608  | 1.12920 |  0.388  | Up      | 1       |\n",
       "| 834 | 2004    | -0.672  |  0.177  |  0.184  |  0.920  | -0.592  | 1.50930 | -1.373  | Down    | 0       |\n",
       "\n"
      ],
      "text/plain": [
       "     Year Lag1   Lag2   Lag3   Lag4   Lag5   Volume  Today  Direction tar\n",
       "621  2003  1.164  0.802 -0.176 -0.974  1.077 1.51930 -0.810 Down      0  \n",
       "1067 2005  0.001 -0.834  0.597  0.227  0.448 1.52531  0.555 Up        1  \n",
       "906  2004 -0.360  1.244  0.220  1.366  0.148 1.24940  0.652 Up        1  \n",
       "188  2001  1.521  2.294 -0.536 -0.834  0.164 1.70458 -0.527 Down      0  \n",
       "1171 2005  0.241  1.262 -0.292  0.103  0.986 2.06770 -0.379 Down      0  \n",
       "734  2003  1.148 -0.107 -0.853  0.735 -0.768 1.44110  0.274 Up        1  \n",
       "695  2003  0.316 -0.259  0.395  0.702 -0.065 1.41770 -1.024 Down      0  \n",
       "480  2002 -2.218  0.627 -1.202 -0.344 -1.475 1.32080  1.396 Up        1  \n",
       "367  2002 -0.083  1.758 -0.267 -1.670  0.362 2.11700 -2.139 Down      0  \n",
       "252  2002 -0.628 -0.947  0.122 -0.480 -0.359 1.28640  0.683 Up        1  \n",
       "490  2002  0.181  1.302 -0.771 -1.315 -0.814 1.11210 -0.547 Down      0  \n",
       "824  2004  1.409  0.531 -1.556  0.107  0.511 1.82670  0.059 Up        1  \n",
       "410  2002 -0.008 -1.813 -1.385  0.754 -2.269 1.27110 -0.188 Down      0  \n",
       "1111 2005  0.226 -0.235  0.524 -0.216 -0.021 1.66135  0.257 Up        1  \n",
       "1204 2005  1.678  0.152 -1.502  1.496 -1.005 2.19779 -0.237 Down      0  \n",
       "718  2003 -0.908 -0.640 -0.762 -0.011  1.143 1.35430  0.802 Up        1  \n",
       "526  2003  2.143 -0.160 -1.269 -0.810  0.757 1.40460  1.950 Up        1  \n",
       "1004 2005 -0.143  0.351 -0.363 -1.167 -0.812 1.47790  0.342 Up        1  \n",
       "1074 2005 -1.325  0.593  0.294 -1.672 -1.000 2.21705  1.974 Up        1  \n",
       "818  2004 -0.112 -1.376  0.516 -0.106 -0.665 1.54770  0.059 Up        1  \n",
       "952  2004 -0.086 -0.972  0.256  0.039 -0.969 1.38050  1.488 Up        1  \n",
       "40   2001  0.645  0.998  0.586 -0.568  0.104 1.13220  0.226 Up        1  \n",
       "152  2001 -0.734 -0.383  0.095  0.569 -0.008 1.06560  0.309 Up        1  \n",
       "956  2004  0.245  0.181  1.288  1.488 -0.086 1.50080  0.027 Up        1  \n",
       "1116 2005 -0.071  0.495  0.363  0.222  0.257 1.71453 -0.205 Down      0  \n",
       "709  2003 -0.137 -0.545  0.791  0.360 -0.112 1.40180  0.593 Up        1  \n",
       "904  2004  0.220  1.366  0.148 -1.168 -0.301 1.26780  1.244 Up        1  \n",
       "1031 2005  0.018  0.330  0.070  0.693  0.421 1.49010 -0.792 Down      0  \n",
       "1235 2005 -0.501  0.128 -0.236  0.032  1.216 2.09383 -0.122 Down      0  \n",
       "605  2003  0.913 -1.198 -0.240  0.395  1.511 1.27540  1.283 Up        1  \n",
       "...  ...  ...    ...    ...    ...    ...    ...     ...    ...       ...\n",
       "160  2001 -0.483  1.965 -0.276  0.696 -1.208 0.84260 -1.501 Down      0  \n",
       "303  2002  0.246  0.535  0.585 -1.465 -0.424 1.14760 -0.074 Down      0  \n",
       "1189 2005 -0.172  0.092  0.887  0.101  0.002 2.09749 -0.997 Down      0  \n",
       "1150 2005 -0.268 -0.764 -0.737  0.074  0.710 1.80414  0.674 Up        1  \n",
       "251  2002 -0.947  0.122 -0.480 -0.359 -0.650 1.21190 -0.628 Down      0  \n",
       "597  2003 -0.376  0.183  1.957  0.145  0.915 1.68580  1.469 Up        1  \n",
       "827  2004  0.227 -0.445  0.059  1.409  0.531 1.51800 -1.379 Down      0  \n",
       "713  2003 -0.052 -0.579 -0.457  0.593 -0.137 1.16250  1.143 Up        1  \n",
       "528  2003 -0.710  1.950  2.143 -0.160 -1.269 1.07560 -0.950 Down      0  \n",
       "340  2002 -1.099 -1.329  0.761  0.656 -0.566 1.20050  0.569 Up        1  \n",
       "354  2002 -1.663  0.312 -0.157 -1.976  0.885 1.21240  0.657 Up        1  \n",
       "742  2003  0.282  0.393 -0.048  1.180  0.126 1.14530 -0.181 Down      0  \n",
       "721  2003  0.158 -0.843  0.802 -0.908 -0.640 1.27380  1.623 Up        1  \n",
       "277  2002  1.351 -1.887 -1.102 -0.181  0.994 1.43890 -1.551 Down      0  \n",
       "881  2004 -0.430 -0.329  0.071  0.138  0.334 1.40870 -0.479 Down      0  \n",
       "700  2003  0.331 -1.498  0.129  0.516 -1.024 1.60430 -0.470 Down      0  \n",
       "483  2002 -0.373  0.056  1.396 -2.218  0.627 1.25530 -1.342 Down      0  \n",
       "669  2003 -1.197 -0.821  1.004 -0.640  0.166 1.58210  0.544 Up        1  \n",
       "207  2001 -0.273  1.453  1.439  0.286  2.295 1.41130  0.246 Up        1  \n",
       "807  2004  1.300 -0.102  1.637 -0.239 -0.132 1.40550  0.404 Up        1  \n",
       "212  2001  0.186  1.856 -0.177  0.158  0.246 1.44340  0.090 Up        1  \n",
       "765  2004 -1.361 -0.980  1.211 -0.209 -0.321 1.84200  0.499 Up        1  \n",
       "407  2002  0.754 -2.269  1.405  1.273 -1.396 1.01690 -1.385 Down      0  \n",
       "24   2001  1.183 -1.334 -0.623 -0.841 -0.151 1.03910 -0.865 Down      0  \n",
       "565  2003 -0.376  0.646 -1.400 -0.186  0.123 1.14160  1.950 Up        1  \n",
       "732  2003 -0.853  0.735 -0.768  0.469 -0.177 1.46550 -0.107 Down      0  \n",
       "854  2004  0.525 -0.742  0.338  0.046 -0.054 1.11530  1.596 Up        1  \n",
       "754  2004  0.479 -0.889  0.496  0.237  0.129 1.51020 -0.533 Down      0  \n",
       "141  2001  0.557 -0.108  0.240  1.045  1.608 1.12920  0.388 Up        1  \n",
       "834  2004 -0.672  0.177  0.184  0.920 -0.592 1.50930 -1.373 Down      0  "
      ]
     },
     "metadata": {},
     "output_type": "display_data"
    }
   ],
   "source": [
    "train_data"
   ]
  },
  {
   "cell_type": "code",
   "execution_count": 40,
   "metadata": {
    "scrolled": true
   },
   "outputs": [
    {
     "data": {
      "text/plain": [
       "\n",
       "Call:\n",
       "glm(formula = tar ~ Year + Lag1 + Lag2 + Lag3 + Lag4 + Lag5 + \n",
       "    Volume, family = \"binomial\", data = train_data)\n",
       "\n",
       "Deviance Residuals: \n",
       "   Min      1Q  Median      3Q     Max  \n",
       "-1.403  -1.214   1.007   1.119   1.386  \n",
       "\n",
       "Coefficients:\n",
       "              Estimate Std. Error z value Pr(>|z|)  \n",
       "(Intercept) -2.266e+02  1.311e+02  -1.729   0.0838 .\n",
       "Year         1.132e-01  6.557e-02   1.726   0.0843 .\n",
       "Lag1        -1.653e-01  8.320e-02  -1.987   0.0469 *\n",
       "Lag2        -2.330e-02  8.237e-02  -0.283   0.7773  \n",
       "Lag3        -3.962e-02  8.287e-02  -0.478   0.6326  \n",
       "Lag4         5.253e-02  8.371e-02   0.628   0.5303  \n",
       "Lag5         3.548e-03  8.303e-02   0.043   0.9659  \n",
       "Volume      -4.817e-03  3.077e-01  -0.016   0.9875  \n",
       "---\n",
       "Signif. codes:  0 '***' 0.001 '**' 0.01 '*' 0.05 '.' 0.1 ' ' 1\n",
       "\n",
       "(Dispersion parameter for binomial family taken to be 1)\n",
       "\n",
       "    Null deviance: 1080.9  on 780  degrees of freedom\n",
       "Residual deviance: 1072.0  on 773  degrees of freedom\n",
       "AIC: 1088\n",
       "\n",
       "Number of Fisher Scoring iterations: 4\n"
      ]
     },
     "metadata": {},
     "output_type": "display_data"
    }
   ],
   "source": [
    "modell <- glm(tar ~ Year+Lag1+Lag2+Lag3+Lag4+Lag5+Volume, family = 'binomial', data = train_data )\n",
    "summary(modell)"
   ]
  },
  {
   "cell_type": "code",
   "execution_count": 41,
   "metadata": {},
   "outputs": [
    {
     "ename": "ERROR",
     "evalue": "Error in mean(predicted.classes == test_data$tar): object 'predicted.classes' not found\n",
     "output_type": "error",
     "traceback": [
      "Error in mean(predicted.classes == test_data$tar): object 'predicted.classes' not found\nTraceback:\n",
      "1. mean(predicted.classes == test_data$tar)"
     ]
    }
   ],
   "source": [
    "prob <-  modell %>% predict(test_data, type = 'response')\n",
    "predicted_class <- ifelse(prob > 0.5, 1, 0)\n",
    "mean(predicted.classes == test_data$tar)\n",
    "# confusion matrix\n",
    "table_mat <- table(test_data$tar, predicted_class)\n",
    "table_mat"
   ]
  },
  {
   "cell_type": "code",
   "execution_count": 42,
   "metadata": {
    "scrolled": false
   },
   "outputs": [
    {
     "data": {
      "text/html": [
       "0.494897959183673"
      ],
      "text/latex": [
       "0.494897959183673"
      ],
      "text/markdown": [
       "0.494897959183673"
      ],
      "text/plain": [
       "[1] 0.494898"
      ]
     },
     "metadata": {},
     "output_type": "display_data"
    },
    {
     "data": {
      "text/plain": [
       "      predicted.classes\n",
       "       Down Up\n",
       "  Down   25 72\n",
       "  Up     27 72"
      ]
     },
     "metadata": {},
     "output_type": "display_data"
    }
   ],
   "source": [
    "prob <-  modell %>% predict(test_data, type = 'response')\n",
    "predicted.classes <- ifelse(prob > 0.5, \"Up\", \"Down\")\n",
    "mean(predicted.classes == test_data$Direction)\n",
    "# confusion matrix\n",
    "table_mat <- table(test_data$Direction, predicted.classes)\n",
    "table_mat"
   ]
  },
  {
   "cell_type": "code",
   "execution_count": 43,
   "metadata": {},
   "outputs": [
    {
     "data": {
      "text/html": [
       "<dl class=dl-horizontal>\n",
       "\t<dt>5</dt>\n",
       "\t\t<dd>'Down'</dd>\n",
       "\t<dt>13</dt>\n",
       "\t\t<dd>'Down'</dd>\n",
       "\t<dt>21</dt>\n",
       "\t\t<dd>'Down'</dd>\n",
       "\t<dt>26</dt>\n",
       "\t\t<dd>'Down'</dd>\n",
       "\t<dt>29</dt>\n",
       "\t\t<dd>'Up'</dd>\n",
       "\t<dt>35</dt>\n",
       "\t\t<dd>'Up'</dd>\n",
       "\t<dt>37</dt>\n",
       "\t\t<dd>'Down'</dd>\n",
       "\t<dt>50</dt>\n",
       "\t\t<dd>'Up'</dd>\n",
       "\t<dt>81</dt>\n",
       "\t\t<dd>'Down'</dd>\n",
       "\t<dt>82</dt>\n",
       "\t\t<dd>'Down'</dd>\n",
       "\t<dt>85</dt>\n",
       "\t\t<dd>'Down'</dd>\n",
       "\t<dt>94</dt>\n",
       "\t\t<dd>'Up'</dd>\n",
       "\t<dt>98</dt>\n",
       "\t\t<dd>'Up'</dd>\n",
       "\t<dt>104</dt>\n",
       "\t\t<dd>'Down'</dd>\n",
       "\t<dt>105</dt>\n",
       "\t\t<dd>'Up'</dd>\n",
       "\t<dt>109</dt>\n",
       "\t\t<dd>'Up'</dd>\n",
       "\t<dt>116</dt>\n",
       "\t\t<dd>'Down'</dd>\n",
       "\t<dt>117</dt>\n",
       "\t\t<dd>'Down'</dd>\n",
       "\t<dt>119</dt>\n",
       "\t\t<dd>'Down'</dd>\n",
       "\t<dt>135</dt>\n",
       "\t\t<dd>'Up'</dd>\n",
       "\t<dt>137</dt>\n",
       "\t\t<dd>'Down'</dd>\n",
       "\t<dt>142</dt>\n",
       "\t\t<dd>'Down'</dd>\n",
       "\t<dt>143</dt>\n",
       "\t\t<dd>'Down'</dd>\n",
       "\t<dt>145</dt>\n",
       "\t\t<dd>'Up'</dd>\n",
       "\t<dt>153</dt>\n",
       "\t\t<dd>'Down'</dd>\n",
       "\t<dt>154</dt>\n",
       "\t\t<dd>'Up'</dd>\n",
       "\t<dt>161</dt>\n",
       "\t\t<dd>'Up'</dd>\n",
       "\t<dt>195</dt>\n",
       "\t\t<dd>'Down'</dd>\n",
       "\t<dt>205</dt>\n",
       "\t\t<dd>'Down'</dd>\n",
       "\t<dt>210</dt>\n",
       "\t\t<dd>'Down'</dd>\n",
       "\t<dt>215</dt>\n",
       "\t\t<dd>'Down'</dd>\n",
       "\t<dt>217</dt>\n",
       "\t\t<dd>'Down'</dd>\n",
       "\t<dt>219</dt>\n",
       "\t\t<dd>'Down'</dd>\n",
       "\t<dt>220</dt>\n",
       "\t\t<dd>'Down'</dd>\n",
       "\t<dt>224</dt>\n",
       "\t\t<dd>'Down'</dd>\n",
       "\t<dt>227</dt>\n",
       "\t\t<dd>'Down'</dd>\n",
       "\t<dt>229</dt>\n",
       "\t\t<dd>'Up'</dd>\n",
       "\t<dt>235</dt>\n",
       "\t\t<dd>'Down'</dd>\n",
       "\t<dt>243</dt>\n",
       "\t\t<dd>'Up'</dd>\n",
       "\t<dt>253</dt>\n",
       "\t\t<dd>'Down'</dd>\n",
       "\t<dt>254</dt>\n",
       "\t\t<dd>'Up'</dd>\n",
       "\t<dt>256</dt>\n",
       "\t\t<dd>'Up'</dd>\n",
       "\t<dt>260</dt>\n",
       "\t\t<dd>'Down'</dd>\n",
       "\t<dt>271</dt>\n",
       "\t\t<dd>'Down'</dd>\n",
       "\t<dt>274</dt>\n",
       "\t\t<dd>'Up'</dd>\n",
       "\t<dt>279</dt>\n",
       "\t\t<dd>'Down'</dd>\n",
       "\t<dt>287</dt>\n",
       "\t\t<dd>'Down'</dd>\n",
       "\t<dt>299</dt>\n",
       "\t\t<dd>'Up'</dd>\n",
       "\t<dt>302</dt>\n",
       "\t\t<dd>'Down'</dd>\n",
       "\t<dt>305</dt>\n",
       "\t\t<dd>'Up'</dd>\n",
       "\t<dt>318</dt>\n",
       "\t\t<dd>'Up'</dd>\n",
       "\t<dt>324</dt>\n",
       "\t\t<dd>'Up'</dd>\n",
       "\t<dt>326</dt>\n",
       "\t\t<dd>'Down'</dd>\n",
       "\t<dt>329</dt>\n",
       "\t\t<dd>'Up'</dd>\n",
       "\t<dt>341</dt>\n",
       "\t\t<dd>'Down'</dd>\n",
       "\t<dt>369</dt>\n",
       "\t\t<dd>'Up'</dd>\n",
       "\t<dt>408</dt>\n",
       "\t\t<dd>'Up'</dd>\n",
       "\t<dt>457</dt>\n",
       "\t\t<dd>'Down'</dd>\n",
       "\t<dt>460</dt>\n",
       "\t\t<dd>'Up'</dd>\n",
       "\t<dt>479</dt>\n",
       "\t\t<dd>'Down'</dd>\n",
       "\t<dt>482</dt>\n",
       "\t\t<dd>'Up'</dd>\n",
       "\t<dt>504</dt>\n",
       "\t\t<dd>'Up'</dd>\n",
       "\t<dt>507</dt>\n",
       "\t\t<dd>'Up'</dd>\n",
       "\t<dt>509</dt>\n",
       "\t\t<dd>'Up'</dd>\n",
       "\t<dt>518</dt>\n",
       "\t\t<dd>'Up'</dd>\n",
       "\t<dt>533</dt>\n",
       "\t\t<dd>'Up'</dd>\n",
       "\t<dt>556</dt>\n",
       "\t\t<dd>'Up'</dd>\n",
       "\t<dt>570</dt>\n",
       "\t\t<dd>'Up'</dd>\n",
       "\t<dt>581</dt>\n",
       "\t\t<dd>'Down'</dd>\n",
       "\t<dt>583</dt>\n",
       "\t\t<dd>'Up'</dd>\n",
       "\t<dt>584</dt>\n",
       "\t\t<dd>'Down'</dd>\n",
       "\t<dt>588</dt>\n",
       "\t\t<dd>'Up'</dd>\n",
       "\t<dt>596</dt>\n",
       "\t\t<dd>'Up'</dd>\n",
       "\t<dt>602</dt>\n",
       "\t\t<dd>'Down'</dd>\n",
       "\t<dt>614</dt>\n",
       "\t\t<dd>'Up'</dd>\n",
       "\t<dt>623</dt>\n",
       "\t\t<dd>'Down'</dd>\n",
       "\t<dt>624</dt>\n",
       "\t\t<dd>'Up'</dd>\n",
       "\t<dt>628</dt>\n",
       "\t\t<dd>'Down'</dd>\n",
       "\t<dt>634</dt>\n",
       "\t\t<dd>'Down'</dd>\n",
       "\t<dt>638</dt>\n",
       "\t\t<dd>'Up'</dd>\n",
       "\t<dt>643</dt>\n",
       "\t\t<dd>'Up'</dd>\n",
       "\t<dt>648</dt>\n",
       "\t\t<dd>'Down'</dd>\n",
       "\t<dt>650</dt>\n",
       "\t\t<dd>'Up'</dd>\n",
       "\t<dt>653</dt>\n",
       "\t\t<dd>'Down'</dd>\n",
       "\t<dt>654</dt>\n",
       "\t\t<dd>'Up'</dd>\n",
       "\t<dt>655</dt>\n",
       "\t\t<dd>'Up'</dd>\n",
       "\t<dt>676</dt>\n",
       "\t\t<dd>'Up'</dd>\n",
       "\t<dt>684</dt>\n",
       "\t\t<dd>'Down'</dd>\n",
       "\t<dt>690</dt>\n",
       "\t\t<dd>'Up'</dd>\n",
       "\t<dt>693</dt>\n",
       "\t\t<dd>'Up'</dd>\n",
       "\t<dt>702</dt>\n",
       "\t\t<dd>'Down'</dd>\n",
       "\t<dt>705</dt>\n",
       "\t\t<dd>'Up'</dd>\n",
       "\t<dt>710</dt>\n",
       "\t\t<dd>'Up'</dd>\n",
       "\t<dt>715</dt>\n",
       "\t\t<dd>'Up'</dd>\n",
       "\t<dt>720</dt>\n",
       "\t\t<dd>'Up'</dd>\n",
       "\t<dt>724</dt>\n",
       "\t\t<dd>'Down'</dd>\n",
       "\t<dt>728</dt>\n",
       "\t\t<dd>'Up'</dd>\n",
       "\t<dt>740</dt>\n",
       "\t\t<dd>'Up'</dd>\n",
       "\t<dt>741</dt>\n",
       "\t\t<dd>'Down'</dd>\n",
       "\t<dt>745</dt>\n",
       "\t\t<dd>'Down'</dd>\n",
       "\t<dt>748</dt>\n",
       "\t\t<dd>'Up'</dd>\n",
       "\t<dt>749</dt>\n",
       "\t\t<dd>'Down'</dd>\n",
       "\t<dt>755</dt>\n",
       "\t\t<dd>'Up'</dd>\n",
       "\t<dt>756</dt>\n",
       "\t\t<dd>'Down'</dd>\n",
       "\t<dt>758</dt>\n",
       "\t\t<dd>'Up'</dd>\n",
       "\t<dt>762</dt>\n",
       "\t\t<dd>'Up'</dd>\n",
       "\t<dt>768</dt>\n",
       "\t\t<dd>'Up'</dd>\n",
       "\t<dt>786</dt>\n",
       "\t\t<dd>'Up'</dd>\n",
       "\t<dt>787</dt>\n",
       "\t\t<dd>'Up'</dd>\n",
       "\t<dt>791</dt>\n",
       "\t\t<dd>'Up'</dd>\n",
       "\t<dt>796</dt>\n",
       "\t\t<dd>'Up'</dd>\n",
       "\t<dt>798</dt>\n",
       "\t\t<dd>'Down'</dd>\n",
       "\t<dt>808</dt>\n",
       "\t\t<dd>'Up'</dd>\n",
       "\t<dt>810</dt>\n",
       "\t\t<dd>'Up'</dd>\n",
       "\t<dt>813</dt>\n",
       "\t\t<dd>'Up'</dd>\n",
       "\t<dt>815</dt>\n",
       "\t\t<dd>'Up'</dd>\n",
       "\t<dt>820</dt>\n",
       "\t\t<dd>'Up'</dd>\n",
       "\t<dt>826</dt>\n",
       "\t\t<dd>'Up'</dd>\n",
       "\t<dt>830</dt>\n",
       "\t\t<dd>'Up'</dd>\n",
       "\t<dt>838</dt>\n",
       "\t\t<dd>'Up'</dd>\n",
       "\t<dt>850</dt>\n",
       "\t\t<dd>'Up'</dd>\n",
       "\t<dt>851</dt>\n",
       "\t\t<dd>'Up'</dd>\n",
       "\t<dt>853</dt>\n",
       "\t\t<dd>'Up'</dd>\n",
       "\t<dt>866</dt>\n",
       "\t\t<dd>'Up'</dd>\n",
       "\t<dt>875</dt>\n",
       "\t\t<dd>'Up'</dd>\n",
       "\t<dt>876</dt>\n",
       "\t\t<dd>'Up'</dd>\n",
       "\t<dt>882</dt>\n",
       "\t\t<dd>'Up'</dd>\n",
       "\t<dt>885</dt>\n",
       "\t\t<dd>'Up'</dd>\n",
       "\t<dt>886</dt>\n",
       "\t\t<dd>'Up'</dd>\n",
       "\t<dt>890</dt>\n",
       "\t\t<dd>'Up'</dd>\n",
       "\t<dt>893</dt>\n",
       "\t\t<dd>'Up'</dd>\n",
       "\t<dt>894</dt>\n",
       "\t\t<dd>'Up'</dd>\n",
       "\t<dt>897</dt>\n",
       "\t\t<dd>'Up'</dd>\n",
       "\t<dt>900</dt>\n",
       "\t\t<dd>'Up'</dd>\n",
       "\t<dt>901</dt>\n",
       "\t\t<dd>'Up'</dd>\n",
       "\t<dt>915</dt>\n",
       "\t\t<dd>'Up'</dd>\n",
       "\t<dt>918</dt>\n",
       "\t\t<dd>'Up'</dd>\n",
       "\t<dt>927</dt>\n",
       "\t\t<dd>'Up'</dd>\n",
       "\t<dt>932</dt>\n",
       "\t\t<dd>'Up'</dd>\n",
       "\t<dt>935</dt>\n",
       "\t\t<dd>'Up'</dd>\n",
       "\t<dt>947</dt>\n",
       "\t\t<dd>'Up'</dd>\n",
       "\t<dt>950</dt>\n",
       "\t\t<dd>'Up'</dd>\n",
       "\t<dt>955</dt>\n",
       "\t\t<dd>'Up'</dd>\n",
       "\t<dt>957</dt>\n",
       "\t\t<dd>'Up'</dd>\n",
       "\t<dt>962</dt>\n",
       "\t\t<dd>'Up'</dd>\n",
       "\t<dt>966</dt>\n",
       "\t\t<dd>'Up'</dd>\n",
       "\t<dt>967</dt>\n",
       "\t\t<dd>'Up'</dd>\n",
       "\t<dt>968</dt>\n",
       "\t\t<dd>'Up'</dd>\n",
       "\t<dt>981</dt>\n",
       "\t\t<dd>'Up'</dd>\n",
       "\t<dt>993</dt>\n",
       "\t\t<dd>'Up'</dd>\n",
       "\t<dt>997</dt>\n",
       "\t\t<dd>'Up'</dd>\n",
       "\t<dt>1005</dt>\n",
       "\t\t<dd>'Up'</dd>\n",
       "\t<dt>1008</dt>\n",
       "\t\t<dd>'Up'</dd>\n",
       "\t<dt>1009</dt>\n",
       "\t\t<dd>'Up'</dd>\n",
       "\t<dt>1014</dt>\n",
       "\t\t<dd>'Up'</dd>\n",
       "\t<dt>1017</dt>\n",
       "\t\t<dd>'Up'</dd>\n",
       "\t<dt>1019</dt>\n",
       "\t\t<dd>'Up'</dd>\n",
       "\t<dt>1026</dt>\n",
       "\t\t<dd>'Up'</dd>\n",
       "\t<dt>1044</dt>\n",
       "\t\t<dd>'Up'</dd>\n",
       "\t<dt>1047</dt>\n",
       "\t\t<dd>'Up'</dd>\n",
       "\t<dt>1051</dt>\n",
       "\t\t<dd>'Up'</dd>\n",
       "\t<dt>1056</dt>\n",
       "\t\t<dd>'Up'</dd>\n",
       "\t<dt>1061</dt>\n",
       "\t\t<dd>'Up'</dd>\n",
       "\t<dt>1073</dt>\n",
       "\t\t<dd>'Up'</dd>\n",
       "\t<dt>1076</dt>\n",
       "\t\t<dd>'Up'</dd>\n",
       "\t<dt>1082</dt>\n",
       "\t\t<dd>'Up'</dd>\n",
       "\t<dt>1090</dt>\n",
       "\t\t<dd>'Up'</dd>\n",
       "\t<dt>1100</dt>\n",
       "\t\t<dd>'Up'</dd>\n",
       "\t<dt>1101</dt>\n",
       "\t\t<dd>'Up'</dd>\n",
       "\t<dt>1104</dt>\n",
       "\t\t<dd>'Up'</dd>\n",
       "\t<dt>1106</dt>\n",
       "\t\t<dd>'Up'</dd>\n",
       "\t<dt>1107</dt>\n",
       "\t\t<dd>'Up'</dd>\n",
       "\t<dt>1113</dt>\n",
       "\t\t<dd>'Up'</dd>\n",
       "\t<dt>1117</dt>\n",
       "\t\t<dd>'Up'</dd>\n",
       "\t<dt>1122</dt>\n",
       "\t\t<dd>'Up'</dd>\n",
       "\t<dt>1124</dt>\n",
       "\t\t<dd>'Up'</dd>\n",
       "\t<dt>1130</dt>\n",
       "\t\t<dd>'Up'</dd>\n",
       "\t<dt>1133</dt>\n",
       "\t\t<dd>'Up'</dd>\n",
       "\t<dt>1135</dt>\n",
       "\t\t<dd>'Up'</dd>\n",
       "\t<dt>1137</dt>\n",
       "\t\t<dd>'Up'</dd>\n",
       "\t<dt>1143</dt>\n",
       "\t\t<dd>'Up'</dd>\n",
       "\t<dt>1146</dt>\n",
       "\t\t<dd>'Up'</dd>\n",
       "\t<dt>1151</dt>\n",
       "\t\t<dd>'Up'</dd>\n",
       "\t<dt>1158</dt>\n",
       "\t\t<dd>'Up'</dd>\n",
       "\t<dt>1160</dt>\n",
       "\t\t<dd>'Up'</dd>\n",
       "\t<dt>1194</dt>\n",
       "\t\t<dd>'Up'</dd>\n",
       "\t<dt>1198</dt>\n",
       "\t\t<dd>'Up'</dd>\n",
       "\t<dt>1199</dt>\n",
       "\t\t<dd>'Up'</dd>\n",
       "\t<dt>1213</dt>\n",
       "\t\t<dd>'Up'</dd>\n",
       "\t<dt>1214</dt>\n",
       "\t\t<dd>'Up'</dd>\n",
       "\t<dt>1237</dt>\n",
       "\t\t<dd>'Up'</dd>\n",
       "\t<dt>1240</dt>\n",
       "\t\t<dd>'Up'</dd>\n",
       "\t<dt>1245</dt>\n",
       "\t\t<dd>'Up'</dd>\n",
       "\t<dt>1246</dt>\n",
       "\t\t<dd>'Up'</dd>\n",
       "\t<dt>1248</dt>\n",
       "\t\t<dd>'Up'</dd>\n",
       "\t<dt>1250</dt>\n",
       "\t\t<dd>'Up'</dd>\n",
       "</dl>\n"
      ],
      "text/latex": [
       "\\begin{description*}\n",
       "\\item[5] 'Down'\n",
       "\\item[13] 'Down'\n",
       "\\item[21] 'Down'\n",
       "\\item[26] 'Down'\n",
       "\\item[29] 'Up'\n",
       "\\item[35] 'Up'\n",
       "\\item[37] 'Down'\n",
       "\\item[50] 'Up'\n",
       "\\item[81] 'Down'\n",
       "\\item[82] 'Down'\n",
       "\\item[85] 'Down'\n",
       "\\item[94] 'Up'\n",
       "\\item[98] 'Up'\n",
       "\\item[104] 'Down'\n",
       "\\item[105] 'Up'\n",
       "\\item[109] 'Up'\n",
       "\\item[116] 'Down'\n",
       "\\item[117] 'Down'\n",
       "\\item[119] 'Down'\n",
       "\\item[135] 'Up'\n",
       "\\item[137] 'Down'\n",
       "\\item[142] 'Down'\n",
       "\\item[143] 'Down'\n",
       "\\item[145] 'Up'\n",
       "\\item[153] 'Down'\n",
       "\\item[154] 'Up'\n",
       "\\item[161] 'Up'\n",
       "\\item[195] 'Down'\n",
       "\\item[205] 'Down'\n",
       "\\item[210] 'Down'\n",
       "\\item[215] 'Down'\n",
       "\\item[217] 'Down'\n",
       "\\item[219] 'Down'\n",
       "\\item[220] 'Down'\n",
       "\\item[224] 'Down'\n",
       "\\item[227] 'Down'\n",
       "\\item[229] 'Up'\n",
       "\\item[235] 'Down'\n",
       "\\item[243] 'Up'\n",
       "\\item[253] 'Down'\n",
       "\\item[254] 'Up'\n",
       "\\item[256] 'Up'\n",
       "\\item[260] 'Down'\n",
       "\\item[271] 'Down'\n",
       "\\item[274] 'Up'\n",
       "\\item[279] 'Down'\n",
       "\\item[287] 'Down'\n",
       "\\item[299] 'Up'\n",
       "\\item[302] 'Down'\n",
       "\\item[305] 'Up'\n",
       "\\item[318] 'Up'\n",
       "\\item[324] 'Up'\n",
       "\\item[326] 'Down'\n",
       "\\item[329] 'Up'\n",
       "\\item[341] 'Down'\n",
       "\\item[369] 'Up'\n",
       "\\item[408] 'Up'\n",
       "\\item[457] 'Down'\n",
       "\\item[460] 'Up'\n",
       "\\item[479] 'Down'\n",
       "\\item[482] 'Up'\n",
       "\\item[504] 'Up'\n",
       "\\item[507] 'Up'\n",
       "\\item[509] 'Up'\n",
       "\\item[518] 'Up'\n",
       "\\item[533] 'Up'\n",
       "\\item[556] 'Up'\n",
       "\\item[570] 'Up'\n",
       "\\item[581] 'Down'\n",
       "\\item[583] 'Up'\n",
       "\\item[584] 'Down'\n",
       "\\item[588] 'Up'\n",
       "\\item[596] 'Up'\n",
       "\\item[602] 'Down'\n",
       "\\item[614] 'Up'\n",
       "\\item[623] 'Down'\n",
       "\\item[624] 'Up'\n",
       "\\item[628] 'Down'\n",
       "\\item[634] 'Down'\n",
       "\\item[638] 'Up'\n",
       "\\item[643] 'Up'\n",
       "\\item[648] 'Down'\n",
       "\\item[650] 'Up'\n",
       "\\item[653] 'Down'\n",
       "\\item[654] 'Up'\n",
       "\\item[655] 'Up'\n",
       "\\item[676] 'Up'\n",
       "\\item[684] 'Down'\n",
       "\\item[690] 'Up'\n",
       "\\item[693] 'Up'\n",
       "\\item[702] 'Down'\n",
       "\\item[705] 'Up'\n",
       "\\item[710] 'Up'\n",
       "\\item[715] 'Up'\n",
       "\\item[720] 'Up'\n",
       "\\item[724] 'Down'\n",
       "\\item[728] 'Up'\n",
       "\\item[740] 'Up'\n",
       "\\item[741] 'Down'\n",
       "\\item[745] 'Down'\n",
       "\\item[748] 'Up'\n",
       "\\item[749] 'Down'\n",
       "\\item[755] 'Up'\n",
       "\\item[756] 'Down'\n",
       "\\item[758] 'Up'\n",
       "\\item[762] 'Up'\n",
       "\\item[768] 'Up'\n",
       "\\item[786] 'Up'\n",
       "\\item[787] 'Up'\n",
       "\\item[791] 'Up'\n",
       "\\item[796] 'Up'\n",
       "\\item[798] 'Down'\n",
       "\\item[808] 'Up'\n",
       "\\item[810] 'Up'\n",
       "\\item[813] 'Up'\n",
       "\\item[815] 'Up'\n",
       "\\item[820] 'Up'\n",
       "\\item[826] 'Up'\n",
       "\\item[830] 'Up'\n",
       "\\item[838] 'Up'\n",
       "\\item[850] 'Up'\n",
       "\\item[851] 'Up'\n",
       "\\item[853] 'Up'\n",
       "\\item[866] 'Up'\n",
       "\\item[875] 'Up'\n",
       "\\item[876] 'Up'\n",
       "\\item[882] 'Up'\n",
       "\\item[885] 'Up'\n",
       "\\item[886] 'Up'\n",
       "\\item[890] 'Up'\n",
       "\\item[893] 'Up'\n",
       "\\item[894] 'Up'\n",
       "\\item[897] 'Up'\n",
       "\\item[900] 'Up'\n",
       "\\item[901] 'Up'\n",
       "\\item[915] 'Up'\n",
       "\\item[918] 'Up'\n",
       "\\item[927] 'Up'\n",
       "\\item[932] 'Up'\n",
       "\\item[935] 'Up'\n",
       "\\item[947] 'Up'\n",
       "\\item[950] 'Up'\n",
       "\\item[955] 'Up'\n",
       "\\item[957] 'Up'\n",
       "\\item[962] 'Up'\n",
       "\\item[966] 'Up'\n",
       "\\item[967] 'Up'\n",
       "\\item[968] 'Up'\n",
       "\\item[981] 'Up'\n",
       "\\item[993] 'Up'\n",
       "\\item[997] 'Up'\n",
       "\\item[1005] 'Up'\n",
       "\\item[1008] 'Up'\n",
       "\\item[1009] 'Up'\n",
       "\\item[1014] 'Up'\n",
       "\\item[1017] 'Up'\n",
       "\\item[1019] 'Up'\n",
       "\\item[1026] 'Up'\n",
       "\\item[1044] 'Up'\n",
       "\\item[1047] 'Up'\n",
       "\\item[1051] 'Up'\n",
       "\\item[1056] 'Up'\n",
       "\\item[1061] 'Up'\n",
       "\\item[1073] 'Up'\n",
       "\\item[1076] 'Up'\n",
       "\\item[1082] 'Up'\n",
       "\\item[1090] 'Up'\n",
       "\\item[1100] 'Up'\n",
       "\\item[1101] 'Up'\n",
       "\\item[1104] 'Up'\n",
       "\\item[1106] 'Up'\n",
       "\\item[1107] 'Up'\n",
       "\\item[1113] 'Up'\n",
       "\\item[1117] 'Up'\n",
       "\\item[1122] 'Up'\n",
       "\\item[1124] 'Up'\n",
       "\\item[1130] 'Up'\n",
       "\\item[1133] 'Up'\n",
       "\\item[1135] 'Up'\n",
       "\\item[1137] 'Up'\n",
       "\\item[1143] 'Up'\n",
       "\\item[1146] 'Up'\n",
       "\\item[1151] 'Up'\n",
       "\\item[1158] 'Up'\n",
       "\\item[1160] 'Up'\n",
       "\\item[1194] 'Up'\n",
       "\\item[1198] 'Up'\n",
       "\\item[1199] 'Up'\n",
       "\\item[1213] 'Up'\n",
       "\\item[1214] 'Up'\n",
       "\\item[1237] 'Up'\n",
       "\\item[1240] 'Up'\n",
       "\\item[1245] 'Up'\n",
       "\\item[1246] 'Up'\n",
       "\\item[1248] 'Up'\n",
       "\\item[1250] 'Up'\n",
       "\\end{description*}\n"
      ],
      "text/markdown": [
       "5\n",
       ":   'Down'13\n",
       ":   'Down'21\n",
       ":   'Down'26\n",
       ":   'Down'29\n",
       ":   'Up'35\n",
       ":   'Up'37\n",
       ":   'Down'50\n",
       ":   'Up'81\n",
       ":   'Down'82\n",
       ":   'Down'85\n",
       ":   'Down'94\n",
       ":   'Up'98\n",
       ":   'Up'104\n",
       ":   'Down'105\n",
       ":   'Up'109\n",
       ":   'Up'116\n",
       ":   'Down'117\n",
       ":   'Down'119\n",
       ":   'Down'135\n",
       ":   'Up'137\n",
       ":   'Down'142\n",
       ":   'Down'143\n",
       ":   'Down'145\n",
       ":   'Up'153\n",
       ":   'Down'154\n",
       ":   'Up'161\n",
       ":   'Up'195\n",
       ":   'Down'205\n",
       ":   'Down'210\n",
       ":   'Down'215\n",
       ":   'Down'217\n",
       ":   'Down'219\n",
       ":   'Down'220\n",
       ":   'Down'224\n",
       ":   'Down'227\n",
       ":   'Down'229\n",
       ":   'Up'235\n",
       ":   'Down'243\n",
       ":   'Up'253\n",
       ":   'Down'254\n",
       ":   'Up'256\n",
       ":   'Up'260\n",
       ":   'Down'271\n",
       ":   'Down'274\n",
       ":   'Up'279\n",
       ":   'Down'287\n",
       ":   'Down'299\n",
       ":   'Up'302\n",
       ":   'Down'305\n",
       ":   'Up'318\n",
       ":   'Up'324\n",
       ":   'Up'326\n",
       ":   'Down'329\n",
       ":   'Up'341\n",
       ":   'Down'369\n",
       ":   'Up'408\n",
       ":   'Up'457\n",
       ":   'Down'460\n",
       ":   'Up'479\n",
       ":   'Down'482\n",
       ":   'Up'504\n",
       ":   'Up'507\n",
       ":   'Up'509\n",
       ":   'Up'518\n",
       ":   'Up'533\n",
       ":   'Up'556\n",
       ":   'Up'570\n",
       ":   'Up'581\n",
       ":   'Down'583\n",
       ":   'Up'584\n",
       ":   'Down'588\n",
       ":   'Up'596\n",
       ":   'Up'602\n",
       ":   'Down'614\n",
       ":   'Up'623\n",
       ":   'Down'624\n",
       ":   'Up'628\n",
       ":   'Down'634\n",
       ":   'Down'638\n",
       ":   'Up'643\n",
       ":   'Up'648\n",
       ":   'Down'650\n",
       ":   'Up'653\n",
       ":   'Down'654\n",
       ":   'Up'655\n",
       ":   'Up'676\n",
       ":   'Up'684\n",
       ":   'Down'690\n",
       ":   'Up'693\n",
       ":   'Up'702\n",
       ":   'Down'705\n",
       ":   'Up'710\n",
       ":   'Up'715\n",
       ":   'Up'720\n",
       ":   'Up'724\n",
       ":   'Down'728\n",
       ":   'Up'740\n",
       ":   'Up'741\n",
       ":   'Down'745\n",
       ":   'Down'748\n",
       ":   'Up'749\n",
       ":   'Down'755\n",
       ":   'Up'756\n",
       ":   'Down'758\n",
       ":   'Up'762\n",
       ":   'Up'768\n",
       ":   'Up'786\n",
       ":   'Up'787\n",
       ":   'Up'791\n",
       ":   'Up'796\n",
       ":   'Up'798\n",
       ":   'Down'808\n",
       ":   'Up'810\n",
       ":   'Up'813\n",
       ":   'Up'815\n",
       ":   'Up'820\n",
       ":   'Up'826\n",
       ":   'Up'830\n",
       ":   'Up'838\n",
       ":   'Up'850\n",
       ":   'Up'851\n",
       ":   'Up'853\n",
       ":   'Up'866\n",
       ":   'Up'875\n",
       ":   'Up'876\n",
       ":   'Up'882\n",
       ":   'Up'885\n",
       ":   'Up'886\n",
       ":   'Up'890\n",
       ":   'Up'893\n",
       ":   'Up'894\n",
       ":   'Up'897\n",
       ":   'Up'900\n",
       ":   'Up'901\n",
       ":   'Up'915\n",
       ":   'Up'918\n",
       ":   'Up'927\n",
       ":   'Up'932\n",
       ":   'Up'935\n",
       ":   'Up'947\n",
       ":   'Up'950\n",
       ":   'Up'955\n",
       ":   'Up'957\n",
       ":   'Up'962\n",
       ":   'Up'966\n",
       ":   'Up'967\n",
       ":   'Up'968\n",
       ":   'Up'981\n",
       ":   'Up'993\n",
       ":   'Up'997\n",
       ":   'Up'1005\n",
       ":   'Up'1008\n",
       ":   'Up'1009\n",
       ":   'Up'1014\n",
       ":   'Up'1017\n",
       ":   'Up'1019\n",
       ":   'Up'1026\n",
       ":   'Up'1044\n",
       ":   'Up'1047\n",
       ":   'Up'1051\n",
       ":   'Up'1056\n",
       ":   'Up'1061\n",
       ":   'Up'1073\n",
       ":   'Up'1076\n",
       ":   'Up'1082\n",
       ":   'Up'1090\n",
       ":   'Up'1100\n",
       ":   'Up'1101\n",
       ":   'Up'1104\n",
       ":   'Up'1106\n",
       ":   'Up'1107\n",
       ":   'Up'1113\n",
       ":   'Up'1117\n",
       ":   'Up'1122\n",
       ":   'Up'1124\n",
       ":   'Up'1130\n",
       ":   'Up'1133\n",
       ":   'Up'1135\n",
       ":   'Up'1137\n",
       ":   'Up'1143\n",
       ":   'Up'1146\n",
       ":   'Up'1151\n",
       ":   'Up'1158\n",
       ":   'Up'1160\n",
       ":   'Up'1194\n",
       ":   'Up'1198\n",
       ":   'Up'1199\n",
       ":   'Up'1213\n",
       ":   'Up'1214\n",
       ":   'Up'1237\n",
       ":   'Up'1240\n",
       ":   'Up'1245\n",
       ":   'Up'1246\n",
       ":   'Up'1248\n",
       ":   'Up'1250\n",
       ":   'Up'\n",
       "\n"
      ],
      "text/plain": [
       "     5     13     21     26     29     35     37     50     81     82     85 \n",
       "\"Down\" \"Down\" \"Down\" \"Down\"   \"Up\"   \"Up\" \"Down\"   \"Up\" \"Down\" \"Down\" \"Down\" \n",
       "    94     98    104    105    109    116    117    119    135    137    142 \n",
       "  \"Up\"   \"Up\" \"Down\"   \"Up\"   \"Up\" \"Down\" \"Down\" \"Down\"   \"Up\" \"Down\" \"Down\" \n",
       "   143    145    153    154    161    195    205    210    215    217    219 \n",
       "\"Down\"   \"Up\" \"Down\"   \"Up\"   \"Up\" \"Down\" \"Down\" \"Down\" \"Down\" \"Down\" \"Down\" \n",
       "   220    224    227    229    235    243    253    254    256    260    271 \n",
       "\"Down\" \"Down\" \"Down\"   \"Up\" \"Down\"   \"Up\" \"Down\"   \"Up\"   \"Up\" \"Down\" \"Down\" \n",
       "   274    279    287    299    302    305    318    324    326    329    341 \n",
       "  \"Up\" \"Down\" \"Down\"   \"Up\" \"Down\"   \"Up\"   \"Up\"   \"Up\" \"Down\"   \"Up\" \"Down\" \n",
       "   369    408    457    460    479    482    504    507    509    518    533 \n",
       "  \"Up\"   \"Up\" \"Down\"   \"Up\" \"Down\"   \"Up\"   \"Up\"   \"Up\"   \"Up\"   \"Up\"   \"Up\" \n",
       "   556    570    581    583    584    588    596    602    614    623    624 \n",
       "  \"Up\"   \"Up\" \"Down\"   \"Up\" \"Down\"   \"Up\"   \"Up\" \"Down\"   \"Up\" \"Down\"   \"Up\" \n",
       "   628    634    638    643    648    650    653    654    655    676    684 \n",
       "\"Down\" \"Down\"   \"Up\"   \"Up\" \"Down\"   \"Up\" \"Down\"   \"Up\"   \"Up\"   \"Up\" \"Down\" \n",
       "   690    693    702    705    710    715    720    724    728    740    741 \n",
       "  \"Up\"   \"Up\" \"Down\"   \"Up\"   \"Up\"   \"Up\"   \"Up\" \"Down\"   \"Up\"   \"Up\" \"Down\" \n",
       "   745    748    749    755    756    758    762    768    786    787    791 \n",
       "\"Down\"   \"Up\" \"Down\"   \"Up\" \"Down\"   \"Up\"   \"Up\"   \"Up\"   \"Up\"   \"Up\"   \"Up\" \n",
       "   796    798    808    810    813    815    820    826    830    838    850 \n",
       "  \"Up\" \"Down\"   \"Up\"   \"Up\"   \"Up\"   \"Up\"   \"Up\"   \"Up\"   \"Up\"   \"Up\"   \"Up\" \n",
       "   851    853    866    875    876    882    885    886    890    893    894 \n",
       "  \"Up\"   \"Up\"   \"Up\"   \"Up\"   \"Up\"   \"Up\"   \"Up\"   \"Up\"   \"Up\"   \"Up\"   \"Up\" \n",
       "   897    900    901    915    918    927    932    935    947    950    955 \n",
       "  \"Up\"   \"Up\"   \"Up\"   \"Up\"   \"Up\"   \"Up\"   \"Up\"   \"Up\"   \"Up\"   \"Up\"   \"Up\" \n",
       "   957    962    966    967    968    981    993    997   1005   1008   1009 \n",
       "  \"Up\"   \"Up\"   \"Up\"   \"Up\"   \"Up\"   \"Up\"   \"Up\"   \"Up\"   \"Up\"   \"Up\"   \"Up\" \n",
       "  1014   1017   1019   1026   1044   1047   1051   1056   1061   1073   1076 \n",
       "  \"Up\"   \"Up\"   \"Up\"   \"Up\"   \"Up\"   \"Up\"   \"Up\"   \"Up\"   \"Up\"   \"Up\"   \"Up\" \n",
       "  1082   1090   1100   1101   1104   1106   1107   1113   1117   1122   1124 \n",
       "  \"Up\"   \"Up\"   \"Up\"   \"Up\"   \"Up\"   \"Up\"   \"Up\"   \"Up\"   \"Up\"   \"Up\"   \"Up\" \n",
       "  1130   1133   1135   1137   1143   1146   1151   1158   1160   1194   1198 \n",
       "  \"Up\"   \"Up\"   \"Up\"   \"Up\"   \"Up\"   \"Up\"   \"Up\"   \"Up\"   \"Up\"   \"Up\"   \"Up\" \n",
       "  1199   1213   1214   1237   1240   1245   1246   1248   1250 \n",
       "  \"Up\"   \"Up\"   \"Up\"   \"Up\"   \"Up\"   \"Up\"   \"Up\"   \"Up\"   \"Up\" "
      ]
     },
     "metadata": {},
     "output_type": "display_data"
    }
   ],
   "source": [
    "predicted.classes"
   ]
  },
  {
   "cell_type": "code",
   "execution_count": null,
   "metadata": {
    "scrolled": true
   },
   "outputs": [],
   "source": []
  },
  {
   "cell_type": "markdown",
   "metadata": {},
   "source": [
    "# Question # 02"
   ]
  },
  {
   "cell_type": "code",
   "execution_count": 49,
   "metadata": {},
   "outputs": [
    {
     "data": {
      "text/plain": [
       "\n",
       "Call:\n",
       "glm(formula = tar ~ Year + Lag1, family = \"binomial\", data = train_data)\n",
       "\n",
       "Deviance Residuals: \n",
       "   Min      1Q  Median      3Q     Max  \n",
       "-1.391  -1.212   1.006   1.120   1.404  \n",
       "\n",
       "Coefficients:\n",
       "              Estimate Std. Error z value Pr(>|z|)  \n",
       "(Intercept) -225.16328  104.62012  -2.152   0.0314 *\n",
       "Year           0.11245    0.05223   2.153   0.0313 *\n",
       "Lag1          -0.16064    0.08280  -1.940   0.0524 .\n",
       "---\n",
       "Signif. codes:  0 '***' 0.001 '**' 0.01 '*' 0.05 '.' 0.1 ' ' 1\n",
       "\n",
       "(Dispersion parameter for binomial family taken to be 1)\n",
       "\n",
       "    Null deviance: 1080.9  on 780  degrees of freedom\n",
       "Residual deviance: 1072.8  on 778  degrees of freedom\n",
       "AIC: 1078.8\n",
       "\n",
       "Number of Fisher Scoring iterations: 4\n"
      ]
     },
     "metadata": {},
     "output_type": "display_data"
    }
   ],
   "source": [
    "modelg <- glm(tar ~ Year+Lag1, family=\"binomial\", data = train_data )\n",
    "summary(modelg)"
   ]
  },
  {
   "cell_type": "code",
   "execution_count": 50,
   "metadata": {},
   "outputs": [
    {
     "data": {
      "text/html": [
       "0.551020408163265"
      ],
      "text/latex": [
       "0.551020408163265"
      ],
      "text/markdown": [
       "0.551020408163265"
      ],
      "text/plain": [
       "[1] 0.5510204"
      ]
     },
     "metadata": {},
     "output_type": "display_data"
    },
    {
     "data": {
      "text/plain": [
       "      predictedg.classes\n",
       "       Down Up\n",
       "  Down   31 66\n",
       "  Up     22 77"
      ]
     },
     "metadata": {},
     "output_type": "display_data"
    }
   ],
   "source": [
    "probg <-  modelg %>% predict(test_data, type = 'response')\n",
    "predictedg.classes <- ifelse(probg > 0.5, \"Up\", \"Down\")\n",
    "mean(predictedg.classes == test_data$Direction)\n",
    "# confusion matrix\n",
    "table_mat <- table(test_data$Direction, predictedg.classes)\n",
    "table_mat"
   ]
  },
  {
   "cell_type": "code",
   "execution_count": 51,
   "metadata": {
    "scrolled": true
   },
   "outputs": [
    {
     "data": {
      "text/html": [
       "0.551020408163265"
      ],
      "text/latex": [
       "0.551020408163265"
      ],
      "text/markdown": [
       "0.551020408163265"
      ],
      "text/plain": [
       "[1] 0.5510204"
      ]
     },
     "metadata": {},
     "output_type": "display_data"
    },
    {
     "data": {
      "text/plain": [
       "   predictedg_class\n",
       "     0  1\n",
       "  0 31 66\n",
       "  1 22 77"
      ]
     },
     "metadata": {},
     "output_type": "display_data"
    }
   ],
   "source": [
    "probg <-  modelg %>% predict(test_data, type = 'response')\n",
    "predictedg_class <- ifelse(probg > 0.5, 1, 0)\n",
    "mean(predictedg_class == test_data$tar)\n",
    "# confusion matrix\n",
    "table_mat <- table(test_data$tar, predictedg_class)\n",
    "table_mat"
   ]
  },
  {
   "cell_type": "code",
   "execution_count": null,
   "metadata": {
    "scrolled": true
   },
   "outputs": [],
   "source": []
  },
  {
   "cell_type": "markdown",
   "metadata": {},
   "source": [
    "# Question#03"
   ]
  },
  {
   "cell_type": "code",
   "execution_count": 52,
   "metadata": {
    "scrolled": true
   },
   "outputs": [
    {
     "data": {
      "text/plain": [
       "\n",
       "Call:\n",
       "glm(formula = tar ~ Year + Lag1 + Lag2 + Lag3 + Lag4, family = \"binomial\", \n",
       "    data = train_data)\n",
       "\n",
       "Deviance Residuals: \n",
       "   Min      1Q  Median      3Q     Max  \n",
       "-1.404  -1.214   1.006   1.118   1.385  \n",
       "\n",
       "Coefficients:\n",
       "              Estimate Std. Error z value Pr(>|z|)  \n",
       "(Intercept) -225.67051  104.84009  -2.153   0.0314 *\n",
       "Year           0.11270    0.05234   2.153   0.0313 *\n",
       "Lag1          -0.16536    0.08318  -1.988   0.0468 *\n",
       "Lag2          -0.02339    0.08228  -0.284   0.7762  \n",
       "Lag3          -0.03966    0.08287  -0.479   0.6322  \n",
       "Lag4           0.05216    0.08328   0.626   0.5311  \n",
       "---\n",
       "Signif. codes:  0 '***' 0.001 '**' 0.01 '*' 0.05 '.' 0.1 ' ' 1\n",
       "\n",
       "(Dispersion parameter for binomial family taken to be 1)\n",
       "\n",
       "    Null deviance: 1080.9  on 780  degrees of freedom\n",
       "Residual deviance: 1072.0  on 775  degrees of freedom\n",
       "AIC: 1084\n",
       "\n",
       "Number of Fisher Scoring iterations: 4\n"
      ]
     },
     "metadata": {},
     "output_type": "display_data"
    }
   ],
   "source": [
    "myglm <- glm(tar ~ Year+Lag1+Lag2+Lag3+Lag4, data = train_data, family = \"binomial\")\n",
    "summary(myglm)"
   ]
  },
  {
   "cell_type": "code",
   "execution_count": 53,
   "metadata": {},
   "outputs": [],
   "source": [
    "predicted_data <- predict.glm(myglm,test_data)"
   ]
  },
  {
   "cell_type": "code",
   "execution_count": 54,
   "metadata": {},
   "outputs": [],
   "source": [
    "#table_mat <- table(test_data$tar, predicted_data)\n",
    "#table_mat"
   ]
  },
  {
   "cell_type": "code",
   "execution_count": 55,
   "metadata": {
    "scrolled": true
   },
   "outputs": [
    {
     "data": {
      "image/png": "[encoded data removed]",
      "text/plain": [
       "Plot with title \"direction prediction\""
      ]
     },
     "metadata": {},
     "output_type": "display_data"
    }
   ],
   "source": [
    "par(mfrow =c(1,1))\n",
    "plot(test_data$tar, type =\"p\", col=\"red\", main = \"direction prediction\", ylab = \"direction value\")\n",
    "points(predicted_data, type=\"p\",col = \"green\")\n",
    "legend(\"topright\", inset = 0.0005, c(\"Actual\", \"prediction\"), lwd=2, lty=c(1,1,1,1,2), col = c(\"red\", \"green\"))"
   ]
  },
  {
   "cell_type": "code",
   "execution_count": 56,
   "metadata": {},
   "outputs": [],
   "source": [
    "predicted_data <- ifelse(probg > 0.5, 1, 0)"
   ]
  },
  {
   "cell_type": "code",
   "execution_count": 57,
   "metadata": {},
   "outputs": [
    {
     "data": {
      "text/plain": [
       "   predicted_data\n",
       "     0  1\n",
       "  0 31 66\n",
       "  1 22 77"
      ]
     },
     "metadata": {},
     "output_type": "display_data"
    }
   ],
   "source": [
    "table_mat <- table(test_data$tar, predicted_data)\n",
    "table_mat"
   ]
  },
  {
   "cell_type": "code",
   "execution_count": 58,
   "metadata": {},
   "outputs": [
    {
     "data": {
      "image/png": "[encoded data removed]",
      "text/plain": [
       "Plot with title \"direction prediction\""
      ]
     },
     "metadata": {},
     "output_type": "display_data"
    }
   ],
   "source": [
    "par(mfrow =c(1,1))\n",
    "plot(test_data$tar, type =\"p\", col=\"red\", main = \"direction prediction\", ylab = \"direction value\")\n",
    "points(predicted_data, type=\"p\",col = \"green\")\n",
    "legend(\"topright\", inset = 0.0005, c(\"Actual\", \"prediction\"), lwd=2, lty=c(1,1,1,1,2), col = c(\"red\", \"green\"))"
   ]
  },
  {
   "cell_type": "code",
   "execution_count": 59,
   "metadata": {},
   "outputs": [
    {
     "data": {
      "text/html": [
       "0.551020408163265"
      ],
      "text/latex": [
       "0.551020408163265"
      ],
      "text/markdown": [
       "0.551020408163265"
      ],
      "text/plain": [
       "[1] 0.5510204"
      ]
     },
     "metadata": {},
     "output_type": "display_data"
    }
   ],
   "source": [
    "mean(predicted_data == test_data$tar)"
   ]
  },
  {
   "cell_type": "markdown",
   "metadata": {},
   "source": [
    "# Question # 04 "
   ]
  },
  {
   "cell_type": "code",
   "execution_count": 60,
   "metadata": {},
   "outputs": [
    {
     "name": "stderr",
     "output_type": "stream",
     "text": [
      "\n",
      "Attaching package: 'caret'\n",
      "\n",
      "The following object is masked from 'package:survival':\n",
      "\n",
      "    cluster\n",
      "\n"
     ]
    }
   ],
   "source": [
    "library(caret)"
   ]
  },
  {
   "cell_type": "code",
   "execution_count": 61,
   "metadata": {},
   "outputs": [
    {
     "data": {
      "image/png": "[encoded data removed]",
      "text/plain": [
       "Plot with title \"variable importace from logistic regression model\""
      ]
     },
     "metadata": {},
     "output_type": "display_data"
    }
   ],
   "source": [
    "imp <- varImp(myglm)\n",
    "bp <- barplot(imp[,1], xlab=\"importance\", ylab = \"data variables\",\n",
    "             main = \"variable importace from logistic regression model\",\n",
    "             col = heat.colors(7), horiz = TRUE, xlim = range(0,10))\n",
    "a <- imp[,1]\n",
    "names <- rownames(imp)\n",
    "text(a, bp, names, pos=4, cex=0.6)"
   ]
  },
  {
   "cell_type": "code",
   "execution_count": null,
   "metadata": {},
   "outputs": [],
   "source": []
  },
  {
   "cell_type": "markdown",
   "metadata": {},
   "source": [
    "### Good Job! You are done with the section!"
   ]
  },
  {
   "cell_type": "markdown",
   "metadata": {},
   "source": [
    "## Section 4: Machine Learning: Decision Trees and Random Forests"
   ]
  },
  {
   "cell_type": "markdown",
   "metadata": {},
   "source": [
    "## Question 1  \n",
    "**Construct a decision tree for the following dataset:**  \n",
    "1. Your task is to predict whether the sales will be High or Low.  \n",
    "2. You need to transform the Sale variable into binary variable: For sales less than 7.5, assign a value of Low and High otherwise. You will also need to transform ShelveLoc, Urban and US variables into binary variables.    \n",
    "3. Generate a decision tree and plot the diagram for the tree and plot predicted vs. actual results.  \n",
    "4. Attempt a random forest regression on the same dataset. Which model produces better results?  "
   ]
  },
  {
   "cell_type": "code",
   "execution_count": 1,
   "metadata": {},
   "outputs": [
    {
     "name": "stderr",
     "output_type": "stream",
     "text": [
      "Loading required package: ISLR\n"
     ]
    },
    {
     "data": {
      "text/html": [
       "<table>\n",
       "<thead><tr><th scope=col>Sales</th><th scope=col>CompPrice</th><th scope=col>Income</th><th scope=col>Advertising</th><th scope=col>Population</th><th scope=col>Price</th><th scope=col>ShelveLoc</th><th scope=col>Age</th><th scope=col>Education</th><th scope=col>Urban</th><th scope=col>US</th></tr></thead>\n",
       "<tbody>\n",
       "\t<tr><td> 9.50 </td><td>138   </td><td> 73   </td><td>11    </td><td>276   </td><td>120   </td><td>Bad   </td><td>42    </td><td>17    </td><td>Yes   </td><td>Yes   </td></tr>\n",
       "\t<tr><td>11.22 </td><td>111   </td><td> 48   </td><td>16    </td><td>260   </td><td> 83   </td><td>Good  </td><td>65    </td><td>10    </td><td>Yes   </td><td>Yes   </td></tr>\n",
       "\t<tr><td>10.06 </td><td>113   </td><td> 35   </td><td>10    </td><td>269   </td><td> 80   </td><td>Medium</td><td>59    </td><td>12    </td><td>Yes   </td><td>Yes   </td></tr>\n",
       "\t<tr><td> 7.40 </td><td>117   </td><td>100   </td><td> 4    </td><td>466   </td><td> 97   </td><td>Medium</td><td>55    </td><td>14    </td><td>Yes   </td><td>Yes   </td></tr>\n",
       "\t<tr><td> 4.15 </td><td>141   </td><td> 64   </td><td> 3    </td><td>340   </td><td>128   </td><td>Bad   </td><td>38    </td><td>13    </td><td>Yes   </td><td>No    </td></tr>\n",
       "\t<tr><td>10.81 </td><td>124   </td><td>113   </td><td>13    </td><td>501   </td><td> 72   </td><td>Bad   </td><td>78    </td><td>16    </td><td>No    </td><td>Yes   </td></tr>\n",
       "</tbody>\n",
       "</table>\n"
      ],
      "text/latex": [
       "\\begin{tabular}{r|lllllllllll}\n",
       " Sales & CompPrice & Income & Advertising & Population & Price & ShelveLoc & Age & Education & Urban & US\\\\\n",
       "\\hline\n",
       "\t  9.50  & 138    &  73    & 11     & 276    & 120    & Bad    & 42     & 17     & Yes    & Yes   \\\\\n",
       "\t 11.22  & 111    &  48    & 16     & 260    &  83    & Good   & 65     & 10     & Yes    & Yes   \\\\\n",
       "\t 10.06  & 113    &  35    & 10     & 269    &  80    & Medium & 59     & 12     & Yes    & Yes   \\\\\n",
       "\t  7.40  & 117    & 100    &  4     & 466    &  97    & Medium & 55     & 14     & Yes    & Yes   \\\\\n",
       "\t  4.15  & 141    &  64    &  3     & 340    & 128    & Bad    & 38     & 13     & Yes    & No    \\\\\n",
       "\t 10.81  & 124    & 113    & 13     & 501    &  72    & Bad    & 78     & 16     & No     & Yes   \\\\\n",
       "\\end{tabular}\n"
      ],
      "text/markdown": [
       "\n",
       "| Sales | CompPrice | Income | Advertising | Population | Price | ShelveLoc | Age | Education | Urban | US |\n",
       "|---|---|---|---|---|---|---|---|---|---|---|\n",
       "|  9.50  | 138    |  73    | 11     | 276    | 120    | Bad    | 42     | 17     | Yes    | Yes    |\n",
       "| 11.22  | 111    |  48    | 16     | 260    |  83    | Good   | 65     | 10     | Yes    | Yes    |\n",
       "| 10.06  | 113    |  35    | 10     | 269    |  80    | Medium | 59     | 12     | Yes    | Yes    |\n",
       "|  7.40  | 117    | 100    |  4     | 466    |  97    | Medium | 55     | 14     | Yes    | Yes    |\n",
       "|  4.15  | 141    |  64    |  3     | 340    | 128    | Bad    | 38     | 13     | Yes    | No     |\n",
       "| 10.81  | 124    | 113    | 13     | 501    |  72    | Bad    | 78     | 16     | No     | Yes    |\n",
       "\n"
      ],
      "text/plain": [
       "  Sales CompPrice Income Advertising Population Price ShelveLoc Age Education\n",
       "1  9.50 138        73    11          276        120   Bad       42  17       \n",
       "2 11.22 111        48    16          260         83   Good      65  10       \n",
       "3 10.06 113        35    10          269         80   Medium    59  12       \n",
       "4  7.40 117       100     4          466         97   Medium    55  14       \n",
       "5  4.15 141        64     3          340        128   Bad       38  13       \n",
       "6 10.81 124       113    13          501         72   Bad       78  16       \n",
       "  Urban US \n",
       "1 Yes   Yes\n",
       "2 Yes   Yes\n",
       "3 Yes   Yes\n",
       "4 Yes   Yes\n",
       "5 Yes   No \n",
       "6 No    Yes"
      ]
     },
     "metadata": {},
     "output_type": "display_data"
    }
   ],
   "source": [
    "require('ISLR')\n",
    "head(Carseats)"
   ]
  },
  {
   "cell_type": "code",
   "execution_count": 2,
   "metadata": {},
   "outputs": [
    {
     "data": {
      "text/html": [
       "<table>\n",
       "<thead><tr><th scope=col>Sales</th><th scope=col>CompPrice</th><th scope=col>Income</th><th scope=col>Advertising</th><th scope=col>Population</th><th scope=col>Price</th><th scope=col>ShelveLoc</th><th scope=col>Age</th><th scope=col>Education</th><th scope=col>Urban</th><th scope=col>US</th></tr></thead>\n",
       "<tbody>\n",
       "\t<tr><td> 9.50 </td><td>138   </td><td> 73   </td><td>11    </td><td>276   </td><td>120   </td><td>Bad   </td><td>42    </td><td>17    </td><td>Yes   </td><td>Yes   </td></tr>\n",
       "\t<tr><td>11.22 </td><td>111   </td><td> 48   </td><td>16    </td><td>260   </td><td> 83   </td><td>Good  </td><td>65    </td><td>10    </td><td>Yes   </td><td>Yes   </td></tr>\n",
       "\t<tr><td>10.06 </td><td>113   </td><td> 35   </td><td>10    </td><td>269   </td><td> 80   </td><td>Medium</td><td>59    </td><td>12    </td><td>Yes   </td><td>Yes   </td></tr>\n",
       "\t<tr><td> 7.40 </td><td>117   </td><td>100   </td><td> 4    </td><td>466   </td><td> 97   </td><td>Medium</td><td>55    </td><td>14    </td><td>Yes   </td><td>Yes   </td></tr>\n",
       "\t<tr><td> 4.15 </td><td>141   </td><td> 64   </td><td> 3    </td><td>340   </td><td>128   </td><td>Bad   </td><td>38    </td><td>13    </td><td>Yes   </td><td>No    </td></tr>\n",
       "\t<tr><td>10.81 </td><td>124   </td><td>113   </td><td>13    </td><td>501   </td><td> 72   </td><td>Bad   </td><td>78    </td><td>16    </td><td>No    </td><td>Yes   </td></tr>\n",
       "</tbody>\n",
       "</table>\n"
      ],
      "text/latex": [
       "\\begin{tabular}{r|lllllllllll}\n",
       " Sales & CompPrice & Income & Advertising & Population & Price & ShelveLoc & Age & Education & Urban & US\\\\\n",
       "\\hline\n",
       "\t  9.50  & 138    &  73    & 11     & 276    & 120    & Bad    & 42     & 17     & Yes    & Yes   \\\\\n",
       "\t 11.22  & 111    &  48    & 16     & 260    &  83    & Good   & 65     & 10     & Yes    & Yes   \\\\\n",
       "\t 10.06  & 113    &  35    & 10     & 269    &  80    & Medium & 59     & 12     & Yes    & Yes   \\\\\n",
       "\t  7.40  & 117    & 100    &  4     & 466    &  97    & Medium & 55     & 14     & Yes    & Yes   \\\\\n",
       "\t  4.15  & 141    &  64    &  3     & 340    & 128    & Bad    & 38     & 13     & Yes    & No    \\\\\n",
       "\t 10.81  & 124    & 113    & 13     & 501    &  72    & Bad    & 78     & 16     & No     & Yes   \\\\\n",
       "\\end{tabular}\n"
      ],
      "text/markdown": [
       "\n",
       "| Sales | CompPrice | Income | Advertising | Population | Price | ShelveLoc | Age | Education | Urban | US |\n",
       "|---|---|---|---|---|---|---|---|---|---|---|\n",
       "|  9.50  | 138    |  73    | 11     | 276    | 120    | Bad    | 42     | 17     | Yes    | Yes    |\n",
       "| 11.22  | 111    |  48    | 16     | 260    |  83    | Good   | 65     | 10     | Yes    | Yes    |\n",
       "| 10.06  | 113    |  35    | 10     | 269    |  80    | Medium | 59     | 12     | Yes    | Yes    |\n",
       "|  7.40  | 117    | 100    |  4     | 466    |  97    | Medium | 55     | 14     | Yes    | Yes    |\n",
       "|  4.15  | 141    |  64    |  3     | 340    | 128    | Bad    | 38     | 13     | Yes    | No     |\n",
       "| 10.81  | 124    | 113    | 13     | 501    |  72    | Bad    | 78     | 16     | No     | Yes    |\n",
       "\n"
      ],
      "text/plain": [
       "  Sales CompPrice Income Advertising Population Price ShelveLoc Age Education\n",
       "1  9.50 138        73    11          276        120   Bad       42  17       \n",
       "2 11.22 111        48    16          260         83   Good      65  10       \n",
       "3 10.06 113        35    10          269         80   Medium    59  12       \n",
       "4  7.40 117       100     4          466         97   Medium    55  14       \n",
       "5  4.15 141        64     3          340        128   Bad       38  13       \n",
       "6 10.81 124       113    13          501         72   Bad       78  16       \n",
       "  Urban US \n",
       "1 Yes   Yes\n",
       "2 Yes   Yes\n",
       "3 Yes   Yes\n",
       "4 Yes   Yes\n",
       "5 Yes   No \n",
       "6 No    Yes"
      ]
     },
     "metadata": {},
     "output_type": "display_data"
    }
   ],
   "source": [
    "df <- Carseats\n",
    "head(df)"
   ]
  },
  {
   "cell_type": "code",
   "execution_count": 3,
   "metadata": {},
   "outputs": [
    {
     "name": "stderr",
     "output_type": "stream",
     "text": [
      "\n",
      "Attaching package: 'dplyr'\n",
      "\n",
      "The following objects are masked from 'package:stats':\n",
      "\n",
      "    filter, lag\n",
      "\n",
      "The following objects are masked from 'package:base':\n",
      "\n",
      "    intersect, setdiff, setequal, union\n",
      "\n"
     ]
    },
    {
     "name": "stdout",
     "output_type": "stream",
     "text": [
      "Observations: 400\n",
      "Variables: 11\n",
      "$ Sales       <dbl> 9.50, 11.22, 10.06, 7.40, 4.15, 10.81, 6.63, 11.85, 6.5...\n",
      "$ CompPrice   <dbl> 138, 111, 113, 117, 141, 124, 115, 136, 132, 132, 121, ...\n",
      "$ Income      <dbl> 73, 48, 35, 100, 64, 113, 105, 81, 110, 113, 78, 94, 35...\n",
      "$ Advertising <dbl> 11, 16, 10, 4, 3, 13, 0, 15, 0, 0, 9, 4, 2, 11, 11, 5, ...\n",
      "$ Population  <dbl> 276, 260, 269, 466, 340, 501, 45, 425, 108, 131, 150, 5...\n",
      "$ Price       <dbl> 120, 83, 80, 97, 128, 72, 108, 120, 124, 124, 100, 94, ...\n",
      "$ ShelveLoc   <fct> Bad, Good, Medium, Medium, Bad, Bad, Medium, Good, Medi...\n",
      "$ Age         <dbl> 42, 65, 59, 55, 38, 78, 71, 67, 76, 76, 26, 50, 62, 53,...\n",
      "$ Education   <dbl> 17, 10, 12, 14, 13, 16, 15, 10, 10, 17, 10, 13, 18, 18,...\n",
      "$ Urban       <fct> Yes, Yes, Yes, Yes, Yes, No, Yes, Yes, No, No, No, Yes,...\n",
      "$ US          <fct> Yes, Yes, Yes, Yes, No, Yes, No, Yes, No, Yes, Yes, Yes...\n"
     ]
    }
   ],
   "source": [
    "library(dplyr)\n",
    "glimpse(df)"
   ]
  },
  {
   "cell_type": "code",
   "execution_count": 4,
   "metadata": {},
   "outputs": [
    {
     "name": "stdout",
     "output_type": "stream",
     "text": [
      "'data.frame':\t400 obs. of  11 variables:\n",
      " $ Sales      : num  9.5 11.22 10.06 7.4 4.15 ...\n",
      " $ CompPrice  : num  138 111 113 117 141 124 115 136 132 132 ...\n",
      " $ Income     : num  73 48 35 100 64 113 105 81 110 113 ...\n",
      " $ Advertising: num  11 16 10 4 3 13 0 15 0 0 ...\n",
      " $ Population : num  276 260 269 466 340 501 45 425 108 131 ...\n",
      " $ Price      : num  120 83 80 97 128 72 108 120 124 124 ...\n",
      " $ ShelveLoc  : Factor w/ 3 levels \"Bad\",\"Good\",\"Medium\": 1 2 3 3 1 1 3 2 3 3 ...\n",
      " $ Age        : num  42 65 59 55 38 78 71 67 76 76 ...\n",
      " $ Education  : num  17 10 12 14 13 16 15 10 10 17 ...\n",
      " $ Urban      : Factor w/ 2 levels \"No\",\"Yes\": 2 2 2 2 2 1 2 2 1 1 ...\n",
      " $ US         : Factor w/ 2 levels \"No\",\"Yes\": 2 2 2 2 1 2 1 2 1 2 ...\n"
     ]
    }
   ],
   "source": [
    "str(df)"
   ]
  },
  {
   "cell_type": "code",
   "execution_count": 5,
   "metadata": {
    "scrolled": true
   },
   "outputs": [
    {
     "data": {
      "text/plain": [
       "     Sales          CompPrice       Income        Advertising    \n",
       " Min.   : 0.000   Min.   : 77   Min.   : 21.00   Min.   : 0.000  \n",
       " 1st Qu.: 5.390   1st Qu.:115   1st Qu.: 42.75   1st Qu.: 0.000  \n",
       " Median : 7.490   Median :125   Median : 69.00   Median : 5.000  \n",
       " Mean   : 7.496   Mean   :125   Mean   : 68.66   Mean   : 6.635  \n",
       " 3rd Qu.: 9.320   3rd Qu.:135   3rd Qu.: 91.00   3rd Qu.:12.000  \n",
       " Max.   :16.270   Max.   :175   Max.   :120.00   Max.   :29.000  \n",
       "   Population        Price        ShelveLoc        Age          Education   \n",
       " Min.   : 10.0   Min.   : 24.0   Bad   : 96   Min.   :25.00   Min.   :10.0  \n",
       " 1st Qu.:139.0   1st Qu.:100.0   Good  : 85   1st Qu.:39.75   1st Qu.:12.0  \n",
       " Median :272.0   Median :117.0   Medium:219   Median :54.50   Median :14.0  \n",
       " Mean   :264.8   Mean   :115.8                Mean   :53.32   Mean   :13.9  \n",
       " 3rd Qu.:398.5   3rd Qu.:131.0                3rd Qu.:66.00   3rd Qu.:16.0  \n",
       " Max.   :509.0   Max.   :191.0                Max.   :80.00   Max.   :18.0  \n",
       " Urban       US     \n",
       " No :118   No :142  \n",
       " Yes:282   Yes:258  \n",
       "                    \n",
       "                    \n",
       "                    \n",
       "                    "
      ]
     },
     "metadata": {},
     "output_type": "display_data"
    }
   ],
   "source": [
    "summary(df)"
   ]
  },
  {
   "cell_type": "markdown",
   "metadata": {},
   "source": [
    "# Question # 02"
   ]
  },
  {
   "cell_type": "code",
   "execution_count": 6,
   "metadata": {},
   "outputs": [],
   "source": [
    "df$target <- ifelse(df$Sales >= 7.5, 1, 0)"
   ]
  },
  {
   "cell_type": "code",
   "execution_count": 7,
   "metadata": {},
   "outputs": [
    {
     "data": {
      "text/plain": [
       "\n",
       "  0   1 \n",
       "201 199 "
      ]
     },
     "metadata": {},
     "output_type": "display_data"
    }
   ],
   "source": [
    "table(df$target)"
   ]
  },
  {
   "cell_type": "code",
   "execution_count": 8,
   "metadata": {},
   "outputs": [
    {
     "data": {
      "text/plain": [
       "\n",
       " No Yes \n",
       "118 282 "
      ]
     },
     "metadata": {},
     "output_type": "display_data"
    }
   ],
   "source": [
    "table(df$Urban)"
   ]
  },
  {
   "cell_type": "code",
   "execution_count": 9,
   "metadata": {},
   "outputs": [
    {
     "data": {
      "text/plain": [
       "\n",
       " No Yes \n",
       "142 258 "
      ]
     },
     "metadata": {},
     "output_type": "display_data"
    }
   ],
   "source": [
    "table(df$US)"
   ]
  },
  {
   "cell_type": "code",
   "execution_count": 10,
   "metadata": {},
   "outputs": [
    {
     "data": {
      "text/plain": [
       "\n",
       "   Bad   Good Medium \n",
       "    96     85    219 "
      ]
     },
     "metadata": {},
     "output_type": "display_data"
    }
   ],
   "source": [
    "table(df$ShelveLoc)"
   ]
  },
  {
   "cell_type": "code",
   "execution_count": 11,
   "metadata": {
    "scrolled": true
   },
   "outputs": [],
   "source": [
    "df$target <- ifelse(df$Sales >= 7.5, 1, 0)\n",
    "df$target <- as.integer(df$target)\n",
    "df$Urban <- ifelse(df$Urban == 'Yes', 1, 0)\n",
    "df$Urban <- as.integer(df$Urban)\n",
    "df$US <- ifelse(df$US =='Yes', 1, 0)\n",
    "df$US <- as.integer(df$US)"
   ]
  },
  {
   "cell_type": "code",
   "execution_count": 12,
   "metadata": {
    "scrolled": true
   },
   "outputs": [],
   "source": [
    "df$ShelveLoc <- factor(df$ShelveLoc, levels=c('Good', 'Medium','Bad'), labels=c(2, 1, 0))\n",
    "df$ShelveLoc <- as.numeric(df$ShelveLoc) \n",
    "df$ShelveLoc[df$ShelveLoc == 1] <- 0\n",
    "df$ShelveLoc[df$ShelveLoc == 2] <- 1\n",
    "df$ShelveLoc[df$ShelveLoc == 3] <- 2\n",
    "df$ShelveLoc <- as.integer(df$ShelveLoc)"
   ]
  },
  {
   "cell_type": "code",
   "execution_count": 13,
   "metadata": {},
   "outputs": [],
   "source": [
    "df$ShelveLoc <- as.factor(df$ShelveLoc)\n",
    "df$target <- as.factor(df$target)\n",
    "df$Urban <- as.factor(df$Urban)\n",
    "df$US <- as.factor(df$US)"
   ]
  },
  {
   "cell_type": "code",
   "execution_count": 14,
   "metadata": {},
   "outputs": [
    {
     "data": {
      "text/html": [
       "<table>\n",
       "<thead><tr><th scope=col>Sales</th><th scope=col>CompPrice</th><th scope=col>Income</th><th scope=col>Advertising</th><th scope=col>Population</th><th scope=col>Price</th><th scope=col>ShelveLoc</th><th scope=col>Age</th><th scope=col>Education</th><th scope=col>Urban</th><th scope=col>US</th><th scope=col>target</th></tr></thead>\n",
       "<tbody>\n",
       "\t<tr><td> 9.50</td><td>138  </td><td> 73  </td><td>11   </td><td>276  </td><td>120  </td><td>2    </td><td>42   </td><td>17   </td><td>1    </td><td>1    </td><td>1    </td></tr>\n",
       "\t<tr><td>11.22</td><td>111  </td><td> 48  </td><td>16   </td><td>260  </td><td> 83  </td><td>0    </td><td>65   </td><td>10   </td><td>1    </td><td>1    </td><td>1    </td></tr>\n",
       "\t<tr><td>10.06</td><td>113  </td><td> 35  </td><td>10   </td><td>269  </td><td> 80  </td><td>1    </td><td>59   </td><td>12   </td><td>1    </td><td>1    </td><td>1    </td></tr>\n",
       "\t<tr><td> 7.40</td><td>117  </td><td>100  </td><td> 4   </td><td>466  </td><td> 97  </td><td>1    </td><td>55   </td><td>14   </td><td>1    </td><td>1    </td><td>0    </td></tr>\n",
       "\t<tr><td> 4.15</td><td>141  </td><td> 64  </td><td> 3   </td><td>340  </td><td>128  </td><td>2    </td><td>38   </td><td>13   </td><td>1    </td><td>0    </td><td>0    </td></tr>\n",
       "\t<tr><td>10.81</td><td>124  </td><td>113  </td><td>13   </td><td>501  </td><td> 72  </td><td>2    </td><td>78   </td><td>16   </td><td>0    </td><td>1    </td><td>1    </td></tr>\n",
       "</tbody>\n",
       "</table>\n"
      ],
      "text/latex": [
       "\\begin{tabular}{r|llllllllllll}\n",
       " Sales & CompPrice & Income & Advertising & Population & Price & ShelveLoc & Age & Education & Urban & US & target\\\\\n",
       "\\hline\n",
       "\t  9.50 & 138   &  73   & 11    & 276   & 120   & 2     & 42    & 17    & 1     & 1     & 1    \\\\\n",
       "\t 11.22 & 111   &  48   & 16    & 260   &  83   & 0     & 65    & 10    & 1     & 1     & 1    \\\\\n",
       "\t 10.06 & 113   &  35   & 10    & 269   &  80   & 1     & 59    & 12    & 1     & 1     & 1    \\\\\n",
       "\t  7.40 & 117   & 100   &  4    & 466   &  97   & 1     & 55    & 14    & 1     & 1     & 0    \\\\\n",
       "\t  4.15 & 141   &  64   &  3    & 340   & 128   & 2     & 38    & 13    & 1     & 0     & 0    \\\\\n",
       "\t 10.81 & 124   & 113   & 13    & 501   &  72   & 2     & 78    & 16    & 0     & 1     & 1    \\\\\n",
       "\\end{tabular}\n"
      ],
      "text/markdown": [
       "\n",
       "| Sales | CompPrice | Income | Advertising | Population | Price | ShelveLoc | Age | Education | Urban | US | target |\n",
       "|---|---|---|---|---|---|---|---|---|---|---|---|\n",
       "|  9.50 | 138   |  73   | 11    | 276   | 120   | 2     | 42    | 17    | 1     | 1     | 1     |\n",
       "| 11.22 | 111   |  48   | 16    | 260   |  83   | 0     | 65    | 10    | 1     | 1     | 1     |\n",
       "| 10.06 | 113   |  35   | 10    | 269   |  80   | 1     | 59    | 12    | 1     | 1     | 1     |\n",
       "|  7.40 | 117   | 100   |  4    | 466   |  97   | 1     | 55    | 14    | 1     | 1     | 0     |\n",
       "|  4.15 | 141   |  64   |  3    | 340   | 128   | 2     | 38    | 13    | 1     | 0     | 0     |\n",
       "| 10.81 | 124   | 113   | 13    | 501   |  72   | 2     | 78    | 16    | 0     | 1     | 1     |\n",
       "\n"
      ],
      "text/plain": [
       "  Sales CompPrice Income Advertising Population Price ShelveLoc Age Education\n",
       "1  9.50 138        73    11          276        120   2         42  17       \n",
       "2 11.22 111        48    16          260         83   0         65  10       \n",
       "3 10.06 113        35    10          269         80   1         59  12       \n",
       "4  7.40 117       100     4          466         97   1         55  14       \n",
       "5  4.15 141        64     3          340        128   2         38  13       \n",
       "6 10.81 124       113    13          501         72   2         78  16       \n",
       "  Urban US target\n",
       "1 1     1  1     \n",
       "2 1     1  1     \n",
       "3 1     1  1     \n",
       "4 1     1  0     \n",
       "5 1     0  0     \n",
       "6 0     1  1     "
      ]
     },
     "metadata": {},
     "output_type": "display_data"
    }
   ],
   "source": [
    "head(df)"
   ]
  },
  {
   "cell_type": "code",
   "execution_count": 15,
   "metadata": {
    "scrolled": true
   },
   "outputs": [
    {
     "name": "stdout",
     "output_type": "stream",
     "text": [
      "'data.frame':\t400 obs. of  12 variables:\n",
      " $ Sales      : num  9.5 11.22 10.06 7.4 4.15 ...\n",
      " $ CompPrice  : num  138 111 113 117 141 124 115 136 132 132 ...\n",
      " $ Income     : num  73 48 35 100 64 113 105 81 110 113 ...\n",
      " $ Advertising: num  11 16 10 4 3 13 0 15 0 0 ...\n",
      " $ Population : num  276 260 269 466 340 501 45 425 108 131 ...\n",
      " $ Price      : num  120 83 80 97 128 72 108 120 124 124 ...\n",
      " $ ShelveLoc  : Factor w/ 3 levels \"0\",\"1\",\"2\": 3 1 2 2 3 3 2 1 2 2 ...\n",
      " $ Age        : num  42 65 59 55 38 78 71 67 76 76 ...\n",
      " $ Education  : num  17 10 12 14 13 16 15 10 10 17 ...\n",
      " $ Urban      : Factor w/ 2 levels \"0\",\"1\": 2 2 2 2 2 1 2 2 1 1 ...\n",
      " $ US         : Factor w/ 2 levels \"0\",\"1\": 2 2 2 2 1 2 1 2 1 2 ...\n",
      " $ target     : Factor w/ 2 levels \"0\",\"1\": 2 2 2 1 1 2 1 2 1 1 ...\n"
     ]
    }
   ],
   "source": [
    "str(df)"
   ]
  },
  {
   "cell_type": "code",
   "execution_count": 16,
   "metadata": {},
   "outputs": [
    {
     "data": {
      "text/plain": [
       "NULL"
      ]
     },
     "metadata": {},
     "output_type": "display_data"
    }
   ],
   "source": [
    "nrow(df[is.na(df)])"
   ]
  },
  {
   "cell_type": "code",
   "execution_count": 17,
   "metadata": {},
   "outputs": [
    {
     "ename": "ERROR",
     "evalue": "Error in hist.default(df[, i], main = colnames(df)[i], xlab = colnames(df)[i], : 'x' must be numeric\n",
     "output_type": "error",
     "traceback": [
      "Error in hist.default(df[, i], main = colnames(df)[i], xlab = colnames(df)[i], : 'x' must be numeric\nTraceback:\n",
      "1. hist(df[, i], main = colnames(df)[i], xlab = colnames(df)[i], \n .     col = \"darkorchid1\")",
      "2. hist.default(df[, i], main = colnames(df)[i], xlab = colnames(df)[i], \n .     col = \"darkorchid1\")",
      "3. stop(\"'x' must be numeric\")"
     ]
    },
    {
     "data": {
      "image/png": "[encoded data removed]",
      "text/plain": [
       "Plot with title \"Price\""
      ]
     },
     "metadata": {},
     "output_type": "display_data"
    }
   ],
   "source": [
    "par(mfrow = c(4,4))\n",
    "for(i in 1:12){\n",
    "    hist(df[,i], main = colnames(df)[i], xlab = colnames(df)[i], col = 'darkorchid1')\n",
    "}"
   ]
  },
  {
   "cell_type": "code",
   "execution_count": 18,
   "metadata": {
    "scrolled": true
   },
   "outputs": [
    {
     "name": "stderr",
     "output_type": "stream",
     "text": [
      "Loading required package: lattice\n",
      "Loading required package: survival\n",
      "Loading required package: Formula\n",
      "Loading required package: ggplot2\n",
      "Registered S3 methods overwritten by 'ggplot2':\n",
      "  method         from \n",
      "  [.quosures     rlang\n",
      "  c.quosures     rlang\n",
      "  print.quosures rlang\n",
      "\n",
      "Attaching package: 'Hmisc'\n",
      "\n",
      "The following objects are masked from 'package:dplyr':\n",
      "\n",
      "    src, summarize\n",
      "\n",
      "The following objects are masked from 'package:base':\n",
      "\n",
      "    format.pval, units\n",
      "\n"
     ]
    },
    {
     "data": {
      "image/png": "[encoded data removed]",
      "text/plain": [
       "Plot with title \"\""
      ]
     },
     "metadata": {},
     "output_type": "display_data"
    }
   ],
   "source": [
    "library(Hmisc)\n",
    "hist.data.frame(df)"
   ]
  },
  {
   "cell_type": "code",
   "execution_count": 19,
   "metadata": {
    "scrolled": true
   },
   "outputs": [
    {
     "name": "stderr",
     "output_type": "stream",
     "text": [
      "Warning message:\n",
      "\"package 'party' was built under R version 3.6.3\"Loading required package: grid\n",
      "Loading required package: mvtnorm\n",
      "Warning message:\n",
      "\"package 'mvtnorm' was built under R version 3.6.3\"Loading required package: modeltools\n",
      "Warning message:\n",
      "\"package 'modeltools' was built under R version 3.6.3\"Loading required package: stats4\n",
      "Loading required package: strucchange\n",
      "Warning message:\n",
      "\"package 'strucchange' was built under R version 3.6.3\"Loading required package: zoo\n",
      "\n",
      "Attaching package: 'zoo'\n",
      "\n",
      "The following objects are masked from 'package:base':\n",
      "\n",
      "    as.Date, as.Date.numeric\n",
      "\n",
      "Loading required package: sandwich\n",
      "\n",
      "Attaching package: 'caret'\n",
      "\n",
      "The following object is masked from 'package:survival':\n",
      "\n",
      "    cluster\n",
      "\n"
     ]
    }
   ],
   "source": [
    "library(party)\n",
    "library(caret)"
   ]
  },
  {
   "cell_type": "code",
   "execution_count": 20,
   "metadata": {},
   "outputs": [],
   "source": [
    "indexes = createDataPartition(df$target, p=.9, list=F)\n",
    "train = df[indexes,]\n",
    "test = df[-indexes,]"
   ]
  },
  {
   "cell_type": "code",
   "execution_count": 21,
   "metadata": {
    "scrolled": true
   },
   "outputs": [
    {
     "data": {
      "text/html": [
       "<table>\n",
       "<thead><tr><th scope=col>Sales</th><th scope=col>CompPrice</th><th scope=col>Income</th><th scope=col>Advertising</th><th scope=col>Population</th><th scope=col>Price</th><th scope=col>ShelveLoc</th><th scope=col>Age</th><th scope=col>Education</th><th scope=col>Urban</th><th scope=col>US</th><th scope=col>target</th></tr></thead>\n",
       "<tbody>\n",
       "\t<tr><td> 9.50</td><td>138  </td><td> 73  </td><td>11   </td><td>276  </td><td>120  </td><td>2    </td><td>42   </td><td>17   </td><td>1    </td><td>1    </td><td>1    </td></tr>\n",
       "\t<tr><td>11.22</td><td>111  </td><td> 48  </td><td>16   </td><td>260  </td><td> 83  </td><td>0    </td><td>65   </td><td>10   </td><td>1    </td><td>1    </td><td>1    </td></tr>\n",
       "\t<tr><td>10.06</td><td>113  </td><td> 35  </td><td>10   </td><td>269  </td><td> 80  </td><td>1    </td><td>59   </td><td>12   </td><td>1    </td><td>1    </td><td>1    </td></tr>\n",
       "\t<tr><td> 7.40</td><td>117  </td><td>100  </td><td> 4   </td><td>466  </td><td> 97  </td><td>1    </td><td>55   </td><td>14   </td><td>1    </td><td>1    </td><td>0    </td></tr>\n",
       "\t<tr><td> 4.15</td><td>141  </td><td> 64  </td><td> 3   </td><td>340  </td><td>128  </td><td>2    </td><td>38   </td><td>13   </td><td>1    </td><td>0    </td><td>0    </td></tr>\n",
       "\t<tr><td>10.81</td><td>124  </td><td>113  </td><td>13   </td><td>501  </td><td> 72  </td><td>2    </td><td>78   </td><td>16   </td><td>0    </td><td>1    </td><td>1    </td></tr>\n",
       "</tbody>\n",
       "</table>\n"
      ],
      "text/latex": [
       "\\begin{tabular}{r|llllllllllll}\n",
       " Sales & CompPrice & Income & Advertising & Population & Price & ShelveLoc & Age & Education & Urban & US & target\\\\\n",
       "\\hline\n",
       "\t  9.50 & 138   &  73   & 11    & 276   & 120   & 2     & 42    & 17    & 1     & 1     & 1    \\\\\n",
       "\t 11.22 & 111   &  48   & 16    & 260   &  83   & 0     & 65    & 10    & 1     & 1     & 1    \\\\\n",
       "\t 10.06 & 113   &  35   & 10    & 269   &  80   & 1     & 59    & 12    & 1     & 1     & 1    \\\\\n",
       "\t  7.40 & 117   & 100   &  4    & 466   &  97   & 1     & 55    & 14    & 1     & 1     & 0    \\\\\n",
       "\t  4.15 & 141   &  64   &  3    & 340   & 128   & 2     & 38    & 13    & 1     & 0     & 0    \\\\\n",
       "\t 10.81 & 124   & 113   & 13    & 501   &  72   & 2     & 78    & 16    & 0     & 1     & 1    \\\\\n",
       "\\end{tabular}\n"
      ],
      "text/markdown": [
       "\n",
       "| Sales | CompPrice | Income | Advertising | Population | Price | ShelveLoc | Age | Education | Urban | US | target |\n",
       "|---|---|---|---|---|---|---|---|---|---|---|---|\n",
       "|  9.50 | 138   |  73   | 11    | 276   | 120   | 2     | 42    | 17    | 1     | 1     | 1     |\n",
       "| 11.22 | 111   |  48   | 16    | 260   |  83   | 0     | 65    | 10    | 1     | 1     | 1     |\n",
       "| 10.06 | 113   |  35   | 10    | 269   |  80   | 1     | 59    | 12    | 1     | 1     | 1     |\n",
       "|  7.40 | 117   | 100   |  4    | 466   |  97   | 1     | 55    | 14    | 1     | 1     | 0     |\n",
       "|  4.15 | 141   |  64   |  3    | 340   | 128   | 2     | 38    | 13    | 1     | 0     | 0     |\n",
       "| 10.81 | 124   | 113   | 13    | 501   |  72   | 2     | 78    | 16    | 0     | 1     | 1     |\n",
       "\n"
      ],
      "text/plain": [
       "  Sales CompPrice Income Advertising Population Price ShelveLoc Age Education\n",
       "1  9.50 138        73    11          276        120   2         42  17       \n",
       "2 11.22 111        48    16          260         83   0         65  10       \n",
       "3 10.06 113        35    10          269         80   1         59  12       \n",
       "4  7.40 117       100     4          466         97   1         55  14       \n",
       "5  4.15 141        64     3          340        128   2         38  13       \n",
       "6 10.81 124       113    13          501         72   2         78  16       \n",
       "  Urban US target\n",
       "1 1     1  1     \n",
       "2 1     1  1     \n",
       "3 1     1  1     \n",
       "4 1     1  0     \n",
       "5 1     0  0     \n",
       "6 0     1  1     "
      ]
     },
     "metadata": {},
     "output_type": "display_data"
    }
   ],
   "source": [
    "head(train)"
   ]
  },
  {
   "cell_type": "code",
   "execution_count": 127,
   "metadata": {},
   "outputs": [],
   "source": [
    "train <- subset(train, select = - c(Sales)) \n",
    "test <- subset(test, select = - c(Sales)) "
   ]
  },
  {
   "cell_type": "code",
   "execution_count": 128,
   "metadata": {
    "scrolled": true
   },
   "outputs": [
    {
     "data": {
      "text/html": [
       "<table>\n",
       "<thead><tr><th scope=col>CompPrice</th><th scope=col>Income</th><th scope=col>Advertising</th><th scope=col>Population</th><th scope=col>Price</th><th scope=col>ShelveLoc</th><th scope=col>Age</th><th scope=col>Education</th><th scope=col>Urban</th><th scope=col>US</th><th scope=col>target</th></tr></thead>\n",
       "<tbody>\n",
       "\t<tr><td>138</td><td> 73</td><td>11 </td><td>276</td><td>120</td><td>2  </td><td>42 </td><td>17 </td><td>1  </td><td>1  </td><td>1  </td></tr>\n",
       "\t<tr><td>111</td><td> 48</td><td>16 </td><td>260</td><td> 83</td><td>0  </td><td>65 </td><td>10 </td><td>1  </td><td>1  </td><td>1  </td></tr>\n",
       "\t<tr><td>113</td><td> 35</td><td>10 </td><td>269</td><td> 80</td><td>1  </td><td>59 </td><td>12 </td><td>1  </td><td>1  </td><td>1  </td></tr>\n",
       "\t<tr><td>117</td><td>100</td><td> 4 </td><td>466</td><td> 97</td><td>1  </td><td>55 </td><td>14 </td><td>1  </td><td>1  </td><td>0  </td></tr>\n",
       "\t<tr><td>141</td><td> 64</td><td> 3 </td><td>340</td><td>128</td><td>2  </td><td>38 </td><td>13 </td><td>1  </td><td>0  </td><td>0  </td></tr>\n",
       "\t<tr><td>124</td><td>113</td><td>13 </td><td>501</td><td> 72</td><td>2  </td><td>78 </td><td>16 </td><td>0  </td><td>1  </td><td>1  </td></tr>\n",
       "</tbody>\n",
       "</table>\n"
      ],
      "text/latex": [
       "\\begin{tabular}{r|lllllllllll}\n",
       " CompPrice & Income & Advertising & Population & Price & ShelveLoc & Age & Education & Urban & US & target\\\\\n",
       "\\hline\n",
       "\t 138 &  73 & 11  & 276 & 120 & 2   & 42  & 17  & 1   & 1   & 1  \\\\\n",
       "\t 111 &  48 & 16  & 260 &  83 & 0   & 65  & 10  & 1   & 1   & 1  \\\\\n",
       "\t 113 &  35 & 10  & 269 &  80 & 1   & 59  & 12  & 1   & 1   & 1  \\\\\n",
       "\t 117 & 100 &  4  & 466 &  97 & 1   & 55  & 14  & 1   & 1   & 0  \\\\\n",
       "\t 141 &  64 &  3  & 340 & 128 & 2   & 38  & 13  & 1   & 0   & 0  \\\\\n",
       "\t 124 & 113 & 13  & 501 &  72 & 2   & 78  & 16  & 0   & 1   & 1  \\\\\n",
       "\\end{tabular}\n"
      ],
      "text/markdown": [
       "\n",
       "| CompPrice | Income | Advertising | Population | Price | ShelveLoc | Age | Education | Urban | US | target |\n",
       "|---|---|---|---|---|---|---|---|---|---|---|\n",
       "| 138 |  73 | 11  | 276 | 120 | 2   | 42  | 17  | 1   | 1   | 1   |\n",
       "| 111 |  48 | 16  | 260 |  83 | 0   | 65  | 10  | 1   | 1   | 1   |\n",
       "| 113 |  35 | 10  | 269 |  80 | 1   | 59  | 12  | 1   | 1   | 1   |\n",
       "| 117 | 100 |  4  | 466 |  97 | 1   | 55  | 14  | 1   | 1   | 0   |\n",
       "| 141 |  64 |  3  | 340 | 128 | 2   | 38  | 13  | 1   | 0   | 0   |\n",
       "| 124 | 113 | 13  | 501 |  72 | 2   | 78  | 16  | 0   | 1   | 1   |\n",
       "\n"
      ],
      "text/plain": [
       "  CompPrice Income Advertising Population Price ShelveLoc Age Education Urban\n",
       "1 138        73    11          276        120   2         42  17        1    \n",
       "2 111        48    16          260         83   0         65  10        1    \n",
       "3 113        35    10          269         80   1         59  12        1    \n",
       "4 117       100     4          466         97   1         55  14        1    \n",
       "5 141        64     3          340        128   2         38  13        1    \n",
       "6 124       113    13          501         72   2         78  16        0    \n",
       "  US target\n",
       "1 1  1     \n",
       "2 1  1     \n",
       "3 1  1     \n",
       "4 1  0     \n",
       "5 0  0     \n",
       "6 1  1     "
      ]
     },
     "metadata": {},
     "output_type": "display_data"
    }
   ],
   "source": [
    "head(train)"
   ]
  },
  {
   "cell_type": "markdown",
   "metadata": {},
   "source": [
    "# Question # 03"
   ]
  },
  {
   "cell_type": "code",
   "execution_count": 85,
   "metadata": {},
   "outputs": [
    {
     "name": "stderr",
     "output_type": "stream",
     "text": [
      "Warning message:\n",
      "\"package 'rpart.plot' was built under R version 3.6.3\""
     ]
    }
   ],
   "source": [
    "library(rpart)\n",
    "library(rpart.plot)"
   ]
  },
  {
   "cell_type": "code",
   "execution_count": 86,
   "metadata": {},
   "outputs": [],
   "source": [
    "fit <- rpart(target~., data = train, method = 'class')"
   ]
  },
  {
   "cell_type": "code",
   "execution_count": 87,
   "metadata": {},
   "outputs": [
    {
     "data": {
      "image/png": "[encoded data removed]",
      "text/plain": [
       "plot without title"
      ]
     },
     "metadata": {},
     "output_type": "display_data"
    }
   ],
   "source": [
    "rpart.plot(fit, extra = 101)"
   ]
  },
  {
   "cell_type": "code",
   "execution_count": 88,
   "metadata": {},
   "outputs": [
    {
     "data": {
      "text/html": [
       "<dl class=dl-horizontal>\n",
       "\t<dt>11</dt>\n",
       "\t\t<dd>1</dd>\n",
       "\t<dt>18</dt>\n",
       "\t\t<dd>1</dd>\n",
       "\t<dt>32</dt>\n",
       "\t\t<dd>0</dd>\n",
       "\t<dt>39</dt>\n",
       "\t\t<dd>0</dd>\n",
       "\t<dt>41</dt>\n",
       "\t\t<dd>0</dd>\n",
       "\t<dt>60</dt>\n",
       "\t\t<dd>0</dd>\n",
       "</dl>\n",
       "\n",
       "<details>\n",
       "\t<summary style=display:list-item;cursor:pointer>\n",
       "\t\t<strong>Levels</strong>:\n",
       "\t</summary>\n",
       "\t<ol class=list-inline>\n",
       "\t\t<li>'0'</li>\n",
       "\t\t<li>'1'</li>\n",
       "\t</ol>\n",
       "</details>"
      ],
      "text/latex": [
       "\\begin{description*}\n",
       "\\item[11] 1\n",
       "\\item[18] 1\n",
       "\\item[32] 0\n",
       "\\item[39] 0\n",
       "\\item[41] 0\n",
       "\\item[60] 0\n",
       "\\end{description*}\n",
       "\n",
       "\\emph{Levels}: \\begin{enumerate*}\n",
       "\\item '0'\n",
       "\\item '1'\n",
       "\\end{enumerate*}\n"
      ],
      "text/markdown": [
       "11\n",
       ":   118\n",
       ":   132\n",
       ":   039\n",
       ":   041\n",
       ":   060\n",
       ":   0\n",
       "\n",
       "\n",
       "**Levels**: 1. '0'\n",
       "2. '1'\n",
       "\n",
       "\n"
      ],
      "text/plain": [
       "11 18 32 39 41 60 \n",
       " 1  1  0  0  0  0 \n",
       "Levels: 0 1"
      ]
     },
     "metadata": {},
     "output_type": "display_data"
    }
   ],
   "source": [
    "pred <- predict(fit, test, type = 'class')\n",
    "head(pred)"
   ]
  },
  {
   "cell_type": "code",
   "execution_count": 89,
   "metadata": {},
   "outputs": [
    {
     "data": {
      "text/plain": [
       "   pred\n",
       "     0  1\n",
       "  0 14  6\n",
       "  1  9 10"
      ]
     },
     "metadata": {},
     "output_type": "display_data"
    }
   ],
   "source": [
    "table_mat <- table(test$target, pred)\n",
    "table_mat"
   ]
  },
  {
   "cell_type": "code",
   "execution_count": 90,
   "metadata": {},
   "outputs": [
    {
     "data": {
      "text/html": [
       "0.615384615384615"
      ],
      "text/latex": [
       "0.615384615384615"
      ],
      "text/markdown": [
       "0.615384615384615"
      ],
      "text/plain": [
       "[1] 0.6153846"
      ]
     },
     "metadata": {},
     "output_type": "display_data"
    }
   ],
   "source": [
    "accuracy_Test <- sum(diag(table_mat)) / sum(table_mat)\n",
    "accuracy_Test"
   ]
  },
  {
   "cell_type": "markdown",
   "metadata": {},
   "source": [
    "# Question # 04"
   ]
  },
  {
   "cell_type": "code",
   "execution_count": 91,
   "metadata": {},
   "outputs": [
    {
     "name": "stderr",
     "output_type": "stream",
     "text": [
      "randomForest 4.6-14\n",
      "Type rfNews() to see new features/changes/bug fixes.\n",
      "\n",
      "Attaching package: 'randomForest'\n",
      "\n",
      "The following object is masked from 'package:ggplot2':\n",
      "\n",
      "    margin\n",
      "\n",
      "The following object is masked from 'package:dplyr':\n",
      "\n",
      "    combine\n",
      "\n"
     ]
    }
   ],
   "source": [
    "library(randomForest)\n",
    "?randomForest"
   ]
  },
  {
   "cell_type": "code",
   "execution_count": 92,
   "metadata": {
    "scrolled": false
   },
   "outputs": [],
   "source": [
    "rand <- randomForest(target ~ ., data =train, ntree =50)"
   ]
  },
  {
   "cell_type": "code",
   "execution_count": 93,
   "metadata": {},
   "outputs": [
    {
     "name": "stdout",
     "output_type": "stream",
     "text": [
      "\n",
      "Call:\n",
      " randomForest(formula = target ~ ., data = train, ntree = 50) \n",
      "               Type of random forest: classification\n",
      "                     Number of trees: 50\n",
      "No. of variables tried at each split: 3\n",
      "\n",
      "        OOB estimate of  error rate: 18.84%\n",
      "Confusion matrix:\n",
      "    0   1 class.error\n",
      "0 148  33   0.1823204\n",
      "1  35 145   0.1944444\n"
     ]
    }
   ],
   "source": [
    "print(rand)"
   ]
  },
  {
   "cell_type": "code",
   "execution_count": 94,
   "metadata": {},
   "outputs": [
    {
     "data": {
      "image/png": "[encoded data removed]",
      "text/plain": [
       "Plot with title \"rand\""
      ]
     },
     "metadata": {},
     "output_type": "display_data"
    }
   ],
   "source": [
    "plot(rand)"
   ]
  },
  {
   "cell_type": "code",
   "execution_count": 95,
   "metadata": {},
   "outputs": [
    {
     "data": {
      "text/html": [
       "<table>\n",
       "<thead><tr><th></th><th scope=col>MeanDecreaseGini</th></tr></thead>\n",
       "<tbody>\n",
       "\t<tr><th scope=row>CompPrice</th><td>20.626054</td></tr>\n",
       "\t<tr><th scope=row>Income</th><td>18.664653</td></tr>\n",
       "\t<tr><th scope=row>Advertising</th><td>19.184340</td></tr>\n",
       "\t<tr><th scope=row>Population</th><td>13.734108</td></tr>\n",
       "\t<tr><th scope=row>Price</th><td>49.689094</td></tr>\n",
       "\t<tr><th scope=row>ShelveLoc</th><td>22.735667</td></tr>\n",
       "\t<tr><th scope=row>Age</th><td>23.044164</td></tr>\n",
       "\t<tr><th scope=row>Education</th><td> 8.346772</td></tr>\n",
       "\t<tr><th scope=row>Urban</th><td> 2.031918</td></tr>\n",
       "\t<tr><th scope=row>US</th><td> 1.473795</td></tr>\n",
       "</tbody>\n",
       "</table>\n"
      ],
      "text/latex": [
       "\\begin{tabular}{r|l}\n",
       "  & MeanDecreaseGini\\\\\n",
       "\\hline\n",
       "\tCompPrice & 20.626054\\\\\n",
       "\tIncome & 18.664653\\\\\n",
       "\tAdvertising & 19.184340\\\\\n",
       "\tPopulation & 13.734108\\\\\n",
       "\tPrice & 49.689094\\\\\n",
       "\tShelveLoc & 22.735667\\\\\n",
       "\tAge & 23.044164\\\\\n",
       "\tEducation &  8.346772\\\\\n",
       "\tUrban &  2.031918\\\\\n",
       "\tUS &  1.473795\\\\\n",
       "\\end{tabular}\n"
      ],
      "text/markdown": [
       "\n",
       "| <!--/--> | MeanDecreaseGini |\n",
       "|---|---|\n",
       "| CompPrice | 20.626054 |\n",
       "| Income | 18.664653 |\n",
       "| Advertising | 19.184340 |\n",
       "| Population | 13.734108 |\n",
       "| Price | 49.689094 |\n",
       "| ShelveLoc | 22.735667 |\n",
       "| Age | 23.044164 |\n",
       "| Education |  8.346772 |\n",
       "| Urban |  2.031918 |\n",
       "| US |  1.473795 |\n",
       "\n"
      ],
      "text/plain": [
       "            MeanDecreaseGini\n",
       "CompPrice   20.626054       \n",
       "Income      18.664653       \n",
       "Advertising 19.184340       \n",
       "Population  13.734108       \n",
       "Price       49.689094       \n",
       "ShelveLoc   22.735667       \n",
       "Age         23.044164       \n",
       "Education    8.346772       \n",
       "Urban        2.031918       \n",
       "US           1.473795       "
      ]
     },
     "metadata": {},
     "output_type": "display_data"
    }
   ],
   "source": [
    "importance(rand)"
   ]
  },
  {
   "cell_type": "code",
   "execution_count": 96,
   "metadata": {},
   "outputs": [
    {
     "data": {
      "text/html": [
       "<dl class=dl-horizontal>\n",
       "\t<dt>11</dt>\n",
       "\t\t<dd>1</dd>\n",
       "\t<dt>18</dt>\n",
       "\t\t<dd>1</dd>\n",
       "\t<dt>32</dt>\n",
       "\t\t<dd>0</dd>\n",
       "\t<dt>39</dt>\n",
       "\t\t<dd>0</dd>\n",
       "\t<dt>41</dt>\n",
       "\t\t<dd>0</dd>\n",
       "\t<dt>60</dt>\n",
       "\t\t<dd>0</dd>\n",
       "\t<dt>67</dt>\n",
       "\t\t<dd>1</dd>\n",
       "\t<dt>89</dt>\n",
       "\t\t<dd>0</dd>\n",
       "\t<dt>90</dt>\n",
       "\t\t<dd>0</dd>\n",
       "\t<dt>94</dt>\n",
       "\t\t<dd>1</dd>\n",
       "\t<dt>95</dt>\n",
       "\t\t<dd>1</dd>\n",
       "\t<dt>109</dt>\n",
       "\t\t<dd>0</dd>\n",
       "\t<dt>111</dt>\n",
       "\t\t<dd>1</dd>\n",
       "\t<dt>121</dt>\n",
       "\t\t<dd>0</dd>\n",
       "\t<dt>131</dt>\n",
       "\t\t<dd>1</dd>\n",
       "\t<dt>134</dt>\n",
       "\t\t<dd>1</dd>\n",
       "\t<dt>136</dt>\n",
       "\t\t<dd>1</dd>\n",
       "\t<dt>151</dt>\n",
       "\t\t<dd>1</dd>\n",
       "\t<dt>167</dt>\n",
       "\t\t<dd>0</dd>\n",
       "\t<dt>171</dt>\n",
       "\t\t<dd>1</dd>\n",
       "\t<dt>184</dt>\n",
       "\t\t<dd>0</dd>\n",
       "\t<dt>193</dt>\n",
       "\t\t<dd>0</dd>\n",
       "\t<dt>200</dt>\n",
       "\t\t<dd>0</dd>\n",
       "\t<dt>203</dt>\n",
       "\t\t<dd>0</dd>\n",
       "\t<dt>204</dt>\n",
       "\t\t<dd>0</dd>\n",
       "\t<dt>226</dt>\n",
       "\t\t<dd>1</dd>\n",
       "\t<dt>231</dt>\n",
       "\t\t<dd>0</dd>\n",
       "\t<dt>233</dt>\n",
       "\t\t<dd>1</dd>\n",
       "\t<dt>235</dt>\n",
       "\t\t<dd>1</dd>\n",
       "\t<dt>238</dt>\n",
       "\t\t<dd>0</dd>\n",
       "\t<dt>240</dt>\n",
       "\t\t<dd>0</dd>\n",
       "\t<dt>283</dt>\n",
       "\t\t<dd>0</dd>\n",
       "\t<dt>288</dt>\n",
       "\t\t<dd>1</dd>\n",
       "\t<dt>327</dt>\n",
       "\t\t<dd>0</dd>\n",
       "\t<dt>336</dt>\n",
       "\t\t<dd>1</dd>\n",
       "\t<dt>350</dt>\n",
       "\t\t<dd>1</dd>\n",
       "\t<dt>366</dt>\n",
       "\t\t<dd>0</dd>\n",
       "\t<dt>371</dt>\n",
       "\t\t<dd>1</dd>\n",
       "\t<dt>391</dt>\n",
       "\t\t<dd>0</dd>\n",
       "</dl>\n",
       "\n",
       "<details>\n",
       "\t<summary style=display:list-item;cursor:pointer>\n",
       "\t\t<strong>Levels</strong>:\n",
       "\t</summary>\n",
       "\t<ol class=list-inline>\n",
       "\t\t<li>'0'</li>\n",
       "\t\t<li>'1'</li>\n",
       "\t</ol>\n",
       "</details>"
      ],
      "text/latex": [
       "\\begin{description*}\n",
       "\\item[11] 1\n",
       "\\item[18] 1\n",
       "\\item[32] 0\n",
       "\\item[39] 0\n",
       "\\item[41] 0\n",
       "\\item[60] 0\n",
       "\\item[67] 1\n",
       "\\item[89] 0\n",
       "\\item[90] 0\n",
       "\\item[94] 1\n",
       "\\item[95] 1\n",
       "\\item[109] 0\n",
       "\\item[111] 1\n",
       "\\item[121] 0\n",
       "\\item[131] 1\n",
       "\\item[134] 1\n",
       "\\item[136] 1\n",
       "\\item[151] 1\n",
       "\\item[167] 0\n",
       "\\item[171] 1\n",
       "\\item[184] 0\n",
       "\\item[193] 0\n",
       "\\item[200] 0\n",
       "\\item[203] 0\n",
       "\\item[204] 0\n",
       "\\item[226] 1\n",
       "\\item[231] 0\n",
       "\\item[233] 1\n",
       "\\item[235] 1\n",
       "\\item[238] 0\n",
       "\\item[240] 0\n",
       "\\item[283] 0\n",
       "\\item[288] 1\n",
       "\\item[327] 0\n",
       "\\item[336] 1\n",
       "\\item[350] 1\n",
       "\\item[366] 0\n",
       "\\item[371] 1\n",
       "\\item[391] 0\n",
       "\\end{description*}\n",
       "\n",
       "\\emph{Levels}: \\begin{enumerate*}\n",
       "\\item '0'\n",
       "\\item '1'\n",
       "\\end{enumerate*}\n"
      ],
      "text/markdown": [
       "11\n",
       ":   118\n",
       ":   132\n",
       ":   039\n",
       ":   041\n",
       ":   060\n",
       ":   067\n",
       ":   189\n",
       ":   090\n",
       ":   094\n",
       ":   195\n",
       ":   1109\n",
       ":   0111\n",
       ":   1121\n",
       ":   0131\n",
       ":   1134\n",
       ":   1136\n",
       ":   1151\n",
       ":   1167\n",
       ":   0171\n",
       ":   1184\n",
       ":   0193\n",
       ":   0200\n",
       ":   0203\n",
       ":   0204\n",
       ":   0226\n",
       ":   1231\n",
       ":   0233\n",
       ":   1235\n",
       ":   1238\n",
       ":   0240\n",
       ":   0283\n",
       ":   0288\n",
       ":   1327\n",
       ":   0336\n",
       ":   1350\n",
       ":   1366\n",
       ":   0371\n",
       ":   1391\n",
       ":   0\n",
       "\n",
       "\n",
       "**Levels**: 1. '0'\n",
       "2. '1'\n",
       "\n",
       "\n"
      ],
      "text/plain": [
       " 11  18  32  39  41  60  67  89  90  94  95 109 111 121 131 134 136 151 167 171 \n",
       "  1   1   0   0   0   0   1   0   0   1   1   0   1   0   1   1   1   1   0   1 \n",
       "184 193 200 203 204 226 231 233 235 238 240 283 288 327 336 350 366 371 391 \n",
       "  0   0   0   0   0   1   0   1   1   0   0   0   1   0   1   1   0   1   0 \n",
       "Levels: 0 1"
      ]
     },
     "metadata": {},
     "output_type": "display_data"
    }
   ],
   "source": [
    "prediction <- predict(rand, newdata = test)\n",
    "prediction"
   ]
  },
  {
   "cell_type": "code",
   "execution_count": 97,
   "metadata": {},
   "outputs": [
    {
     "data": {
      "text/plain": [
       "          \n",
       "prediction  0  1\n",
       "         0 16  5\n",
       "         1  4 14"
      ]
     },
     "metadata": {},
     "output_type": "display_data"
    }
   ],
   "source": [
    "table(prediction, test$target)"
   ]
  },
  {
   "cell_type": "code",
   "execution_count": 98,
   "metadata": {},
   "outputs": [],
   "source": [
    "model <- randomForest(target ~ . , data = train, ntree = 37, mtry = 5)"
   ]
  },
  {
   "cell_type": "code",
   "execution_count": 99,
   "metadata": {},
   "outputs": [
    {
     "data": {
      "text/plain": [
       "\n",
       "Call:\n",
       " randomForest(formula = target ~ ., data = train, ntree = 37,      mtry = 5) \n",
       "               Type of random forest: classification\n",
       "                     Number of trees: 37\n",
       "No. of variables tried at each split: 5\n",
       "\n",
       "        OOB estimate of  error rate: 19.67%\n",
       "Confusion matrix:\n",
       "    0   1 class.error\n",
       "0 150  31   0.1712707\n",
       "1  40 140   0.2222222"
      ]
     },
     "metadata": {},
     "output_type": "display_data"
    }
   ],
   "source": [
    "model"
   ]
  },
  {
   "cell_type": "code",
   "execution_count": 100,
   "metadata": {},
   "outputs": [
    {
     "data": {
      "text/html": [
       "<table>\n",
       "<thead><tr><th></th><th scope=col>0</th><th scope=col>1</th><th scope=col>class.error</th></tr></thead>\n",
       "<tbody>\n",
       "\t<tr><th scope=row>0</th><td>150      </td><td> 31      </td><td>0.1712707</td></tr>\n",
       "\t<tr><th scope=row>1</th><td> 40      </td><td>140      </td><td>0.2222222</td></tr>\n",
       "</tbody>\n",
       "</table>\n"
      ],
      "text/latex": [
       "\\begin{tabular}{r|lll}\n",
       "  & 0 & 1 & class.error\\\\\n",
       "\\hline\n",
       "\t0 & 150       &  31       & 0.1712707\\\\\n",
       "\t1 &  40       & 140       & 0.2222222\\\\\n",
       "\\end{tabular}\n"
      ],
      "text/markdown": [
       "\n",
       "| <!--/--> | 0 | 1 | class.error |\n",
       "|---|---|---|---|\n",
       "| 0 | 150       |  31       | 0.1712707 |\n",
       "| 1 |  40       | 140       | 0.2222222 |\n",
       "\n"
      ],
      "text/plain": [
       "  0   1   class.error\n",
       "0 150  31 0.1712707  \n",
       "1  40 140 0.2222222  "
      ]
     },
     "metadata": {},
     "output_type": "display_data"
    }
   ],
   "source": [
    "model$confusion\n"
   ]
  },
  {
   "cell_type": "code",
   "execution_count": 101,
   "metadata": {},
   "outputs": [
    {
     "data": {
      "image/png": "[encoded data removed]",
      "text/plain": [
       "Plot with title \"model\""
      ]
     },
     "metadata": {},
     "output_type": "display_data"
    }
   ],
   "source": [
    "plot(model)"
   ]
  },
  {
   "cell_type": "code",
   "execution_count": 102,
   "metadata": {},
   "outputs": [
    {
     "data": {
      "text/html": [
       "<table>\n",
       "<thead><tr><th></th><th scope=col>MeanDecreaseGini</th></tr></thead>\n",
       "<tbody>\n",
       "\t<tr><th scope=row>CompPrice</th><td>21.969606</td></tr>\n",
       "\t<tr><th scope=row>Income</th><td>15.450836</td></tr>\n",
       "\t<tr><th scope=row>Advertising</th><td>18.682278</td></tr>\n",
       "\t<tr><th scope=row>Population</th><td>13.543045</td></tr>\n",
       "\t<tr><th scope=row>Price</th><td>52.969086</td></tr>\n",
       "\t<tr><th scope=row>ShelveLoc</th><td>26.961253</td></tr>\n",
       "\t<tr><th scope=row>Age</th><td>20.986774</td></tr>\n",
       "\t<tr><th scope=row>Education</th><td> 6.571320</td></tr>\n",
       "\t<tr><th scope=row>Urban</th><td> 1.551382</td></tr>\n",
       "\t<tr><th scope=row>US</th><td> 1.266205</td></tr>\n",
       "</tbody>\n",
       "</table>\n"
      ],
      "text/latex": [
       "\\begin{tabular}{r|l}\n",
       "  & MeanDecreaseGini\\\\\n",
       "\\hline\n",
       "\tCompPrice & 21.969606\\\\\n",
       "\tIncome & 15.450836\\\\\n",
       "\tAdvertising & 18.682278\\\\\n",
       "\tPopulation & 13.543045\\\\\n",
       "\tPrice & 52.969086\\\\\n",
       "\tShelveLoc & 26.961253\\\\\n",
       "\tAge & 20.986774\\\\\n",
       "\tEducation &  6.571320\\\\\n",
       "\tUrban &  1.551382\\\\\n",
       "\tUS &  1.266205\\\\\n",
       "\\end{tabular}\n"
      ],
      "text/markdown": [
       "\n",
       "| <!--/--> | MeanDecreaseGini |\n",
       "|---|---|\n",
       "| CompPrice | 21.969606 |\n",
       "| Income | 15.450836 |\n",
       "| Advertising | 18.682278 |\n",
       "| Population | 13.543045 |\n",
       "| Price | 52.969086 |\n",
       "| ShelveLoc | 26.961253 |\n",
       "| Age | 20.986774 |\n",
       "| Education |  6.571320 |\n",
       "| Urban |  1.551382 |\n",
       "| US |  1.266205 |\n",
       "\n"
      ],
      "text/plain": [
       "            MeanDecreaseGini\n",
       "CompPrice   21.969606       \n",
       "Income      15.450836       \n",
       "Advertising 18.682278       \n",
       "Population  13.543045       \n",
       "Price       52.969086       \n",
       "ShelveLoc   26.961253       \n",
       "Age         20.986774       \n",
       "Education    6.571320       \n",
       "Urban        1.551382       \n",
       "US           1.266205       "
      ]
     },
     "metadata": {},
     "output_type": "display_data"
    }
   ],
   "source": [
    "importance(model)"
   ]
  },
  {
   "cell_type": "code",
   "execution_count": 103,
   "metadata": {},
   "outputs": [],
   "source": [
    "prediction <- predict(model, newdata = test)"
   ]
  },
  {
   "cell_type": "code",
   "execution_count": 104,
   "metadata": {},
   "outputs": [
    {
     "data": {
      "text/plain": [
       "          \n",
       "prediction  0  1\n",
       "         0 15  6\n",
       "         1  5 13"
      ]
     },
     "metadata": {},
     "output_type": "display_data"
    },
    {
     "data": {
      "text/html": [
       "<dl class=dl-horizontal>\n",
       "\t<dt>11</dt>\n",
       "\t\t<dd>1</dd>\n",
       "\t<dt>18</dt>\n",
       "\t\t<dd>1</dd>\n",
       "\t<dt>32</dt>\n",
       "\t\t<dd>0</dd>\n",
       "\t<dt>39</dt>\n",
       "\t\t<dd>0</dd>\n",
       "\t<dt>41</dt>\n",
       "\t\t<dd>0</dd>\n",
       "\t<dt>60</dt>\n",
       "\t\t<dd>0</dd>\n",
       "</dl>\n",
       "\n",
       "<details>\n",
       "\t<summary style=display:list-item;cursor:pointer>\n",
       "\t\t<strong>Levels</strong>:\n",
       "\t</summary>\n",
       "\t<ol class=list-inline>\n",
       "\t\t<li>'0'</li>\n",
       "\t\t<li>'1'</li>\n",
       "\t</ol>\n",
       "</details>"
      ],
      "text/latex": [
       "\\begin{description*}\n",
       "\\item[11] 1\n",
       "\\item[18] 1\n",
       "\\item[32] 0\n",
       "\\item[39] 0\n",
       "\\item[41] 0\n",
       "\\item[60] 0\n",
       "\\end{description*}\n",
       "\n",
       "\\emph{Levels}: \\begin{enumerate*}\n",
       "\\item '0'\n",
       "\\item '1'\n",
       "\\end{enumerate*}\n"
      ],
      "text/markdown": [
       "11\n",
       ":   118\n",
       ":   132\n",
       ":   039\n",
       ":   041\n",
       ":   060\n",
       ":   0\n",
       "\n",
       "\n",
       "**Levels**: 1. '0'\n",
       "2. '1'\n",
       "\n",
       "\n"
      ],
      "text/plain": [
       "11 18 32 39 41 60 \n",
       " 1  1  0  0  0  0 \n",
       "Levels: 0 1"
      ]
     },
     "metadata": {},
     "output_type": "display_data"
    }
   ],
   "source": [
    "table(prediction, test$target)\n",
    "head(prediction)"
   ]
  },
  {
   "cell_type": "markdown",
   "metadata": {},
   "source": [
    "### Good Job! You are done with the section!"
   ]
  },
  {
   "cell_type": "markdown",
   "metadata": {},
   "source": [
    "## Section 5: Neural Networks"
   ]
  },
  {
   "cell_type": "markdown",
   "metadata": {},
   "source": [
    "## Question 1  \n",
    "**Construct a neural network for the same dataset:**  \n",
    "1. Your task is to predict whether the sales will be High or Low.  \n",
    "2. Perform necessary data transformations as required.      \n",
    "3. Generate neural network with 3 layers and 2,3,4 nodes respectively.    \n",
    "4. Plot the nn."
   ]
  },
  {
   "cell_type": "code",
   "execution_count": 21,
   "metadata": {},
   "outputs": [
    {
     "name": "stderr",
     "output_type": "stream",
     "text": [
      "Warning message:\n",
      "\"package 'neuralnet' was built under R version 3.6.3\"\n",
      "Attaching package: 'neuralnet'\n",
      "\n",
      "The following object is masked from 'package:dplyr':\n",
      "\n",
      "    compute\n",
      "\n"
     ]
    }
   ],
   "source": [
    "#install.packages('neuralnet')\n",
    "library(neuralnet)"
   ]
  },
  {
   "cell_type": "code",
   "execution_count": 22,
   "metadata": {},
   "outputs": [
    {
     "data": {
      "text/html": [
       "<table>\n",
       "<thead><tr><th scope=col>Sales</th><th scope=col>CompPrice</th><th scope=col>Income</th><th scope=col>Advertising</th><th scope=col>Population</th><th scope=col>Price</th><th scope=col>ShelveLoc</th><th scope=col>Age</th><th scope=col>Education</th><th scope=col>Urban</th><th scope=col>US</th><th scope=col>target</th></tr></thead>\n",
       "<tbody>\n",
       "\t<tr><td> 9.50</td><td>138  </td><td> 73  </td><td>11   </td><td>276  </td><td>120  </td><td>2    </td><td>42   </td><td>17   </td><td>1    </td><td>1    </td><td>1    </td></tr>\n",
       "\t<tr><td>11.22</td><td>111  </td><td> 48  </td><td>16   </td><td>260  </td><td> 83  </td><td>0    </td><td>65   </td><td>10   </td><td>1    </td><td>1    </td><td>1    </td></tr>\n",
       "\t<tr><td>10.06</td><td>113  </td><td> 35  </td><td>10   </td><td>269  </td><td> 80  </td><td>1    </td><td>59   </td><td>12   </td><td>1    </td><td>1    </td><td>1    </td></tr>\n",
       "\t<tr><td> 7.40</td><td>117  </td><td>100  </td><td> 4   </td><td>466  </td><td> 97  </td><td>1    </td><td>55   </td><td>14   </td><td>1    </td><td>1    </td><td>0    </td></tr>\n",
       "\t<tr><td> 4.15</td><td>141  </td><td> 64  </td><td> 3   </td><td>340  </td><td>128  </td><td>2    </td><td>38   </td><td>13   </td><td>1    </td><td>0    </td><td>0    </td></tr>\n",
       "\t<tr><td>10.81</td><td>124  </td><td>113  </td><td>13   </td><td>501  </td><td> 72  </td><td>2    </td><td>78   </td><td>16   </td><td>0    </td><td>1    </td><td>1    </td></tr>\n",
       "</tbody>\n",
       "</table>\n"
      ],
      "text/latex": [
       "\\begin{tabular}{r|llllllllllll}\n",
       " Sales & CompPrice & Income & Advertising & Population & Price & ShelveLoc & Age & Education & Urban & US & target\\\\\n",
       "\\hline\n",
       "\t  9.50 & 138   &  73   & 11    & 276   & 120   & 2     & 42    & 17    & 1     & 1     & 1    \\\\\n",
       "\t 11.22 & 111   &  48   & 16    & 260   &  83   & 0     & 65    & 10    & 1     & 1     & 1    \\\\\n",
       "\t 10.06 & 113   &  35   & 10    & 269   &  80   & 1     & 59    & 12    & 1     & 1     & 1    \\\\\n",
       "\t  7.40 & 117   & 100   &  4    & 466   &  97   & 1     & 55    & 14    & 1     & 1     & 0    \\\\\n",
       "\t  4.15 & 141   &  64   &  3    & 340   & 128   & 2     & 38    & 13    & 1     & 0     & 0    \\\\\n",
       "\t 10.81 & 124   & 113   & 13    & 501   &  72   & 2     & 78    & 16    & 0     & 1     & 1    \\\\\n",
       "\\end{tabular}\n"
      ],
      "text/markdown": [
       "\n",
       "| Sales | CompPrice | Income | Advertising | Population | Price | ShelveLoc | Age | Education | Urban | US | target |\n",
       "|---|---|---|---|---|---|---|---|---|---|---|---|\n",
       "|  9.50 | 138   |  73   | 11    | 276   | 120   | 2     | 42    | 17    | 1     | 1     | 1     |\n",
       "| 11.22 | 111   |  48   | 16    | 260   |  83   | 0     | 65    | 10    | 1     | 1     | 1     |\n",
       "| 10.06 | 113   |  35   | 10    | 269   |  80   | 1     | 59    | 12    | 1     | 1     | 1     |\n",
       "|  7.40 | 117   | 100   |  4    | 466   |  97   | 1     | 55    | 14    | 1     | 1     | 0     |\n",
       "|  4.15 | 141   |  64   |  3    | 340   | 128   | 2     | 38    | 13    | 1     | 0     | 0     |\n",
       "| 10.81 | 124   | 113   | 13    | 501   |  72   | 2     | 78    | 16    | 0     | 1     | 1     |\n",
       "\n"
      ],
      "text/plain": [
       "  Sales CompPrice Income Advertising Population Price ShelveLoc Age Education\n",
       "1  9.50 138        73    11          276        120   2         42  17       \n",
       "2 11.22 111        48    16          260         83   0         65  10       \n",
       "3 10.06 113        35    10          269         80   1         59  12       \n",
       "4  7.40 117       100     4          466         97   1         55  14       \n",
       "5  4.15 141        64     3          340        128   2         38  13       \n",
       "6 10.81 124       113    13          501         72   2         78  16       \n",
       "  Urban US target\n",
       "1 1     1  1     \n",
       "2 1     1  1     \n",
       "3 1     1  1     \n",
       "4 1     1  0     \n",
       "5 1     0  0     \n",
       "6 0     1  1     "
      ]
     },
     "metadata": {},
     "output_type": "display_data"
    }
   ],
   "source": [
    "head(df)"
   ]
  },
  {
   "cell_type": "code",
   "execution_count": 23,
   "metadata": {
    "scrolled": false
   },
   "outputs": [
    {
     "data": {
      "text/html": [
       "<table>\n",
       "<thead><tr><th scope=col>Sales</th><th scope=col>CompPrice</th><th scope=col>Income</th><th scope=col>Advertising</th><th scope=col>Population</th><th scope=col>Price</th><th scope=col>ShelveLoc</th><th scope=col>Age</th><th scope=col>Education</th><th scope=col>Urban</th><th scope=col>US</th><th scope=col>target</th></tr></thead>\n",
       "<tbody>\n",
       "\t<tr><td> 9.50</td><td>138  </td><td> 73  </td><td>11   </td><td>276  </td><td>120  </td><td>2    </td><td>42   </td><td>17   </td><td>1    </td><td>1    </td><td>1    </td></tr>\n",
       "\t<tr><td>11.22</td><td>111  </td><td> 48  </td><td>16   </td><td>260  </td><td> 83  </td><td>0    </td><td>65   </td><td>10   </td><td>1    </td><td>1    </td><td>1    </td></tr>\n",
       "\t<tr><td>10.06</td><td>113  </td><td> 35  </td><td>10   </td><td>269  </td><td> 80  </td><td>1    </td><td>59   </td><td>12   </td><td>1    </td><td>1    </td><td>1    </td></tr>\n",
       "\t<tr><td> 7.40</td><td>117  </td><td>100  </td><td> 4   </td><td>466  </td><td> 97  </td><td>1    </td><td>55   </td><td>14   </td><td>1    </td><td>1    </td><td>0    </td></tr>\n",
       "\t<tr><td> 4.15</td><td>141  </td><td> 64  </td><td> 3   </td><td>340  </td><td>128  </td><td>2    </td><td>38   </td><td>13   </td><td>1    </td><td>0    </td><td>0    </td></tr>\n",
       "\t<tr><td>10.81</td><td>124  </td><td>113  </td><td>13   </td><td>501  </td><td> 72  </td><td>2    </td><td>78   </td><td>16   </td><td>0    </td><td>1    </td><td>1    </td></tr>\n",
       "</tbody>\n",
       "</table>\n"
      ],
      "text/latex": [
       "\\begin{tabular}{r|llllllllllll}\n",
       " Sales & CompPrice & Income & Advertising & Population & Price & ShelveLoc & Age & Education & Urban & US & target\\\\\n",
       "\\hline\n",
       "\t  9.50 & 138   &  73   & 11    & 276   & 120   & 2     & 42    & 17    & 1     & 1     & 1    \\\\\n",
       "\t 11.22 & 111   &  48   & 16    & 260   &  83   & 0     & 65    & 10    & 1     & 1     & 1    \\\\\n",
       "\t 10.06 & 113   &  35   & 10    & 269   &  80   & 1     & 59    & 12    & 1     & 1     & 1    \\\\\n",
       "\t  7.40 & 117   & 100   &  4    & 466   &  97   & 1     & 55    & 14    & 1     & 1     & 0    \\\\\n",
       "\t  4.15 & 141   &  64   &  3    & 340   & 128   & 2     & 38    & 13    & 1     & 0     & 0    \\\\\n",
       "\t 10.81 & 124   & 113   & 13    & 501   &  72   & 2     & 78    & 16    & 0     & 1     & 1    \\\\\n",
       "\\end{tabular}\n"
      ],
      "text/markdown": [
       "\n",
       "| Sales | CompPrice | Income | Advertising | Population | Price | ShelveLoc | Age | Education | Urban | US | target |\n",
       "|---|---|---|---|---|---|---|---|---|---|---|---|\n",
       "|  9.50 | 138   |  73   | 11    | 276   | 120   | 2     | 42    | 17    | 1     | 1     | 1     |\n",
       "| 11.22 | 111   |  48   | 16    | 260   |  83   | 0     | 65    | 10    | 1     | 1     | 1     |\n",
       "| 10.06 | 113   |  35   | 10    | 269   |  80   | 1     | 59    | 12    | 1     | 1     | 1     |\n",
       "|  7.40 | 117   | 100   |  4    | 466   |  97   | 1     | 55    | 14    | 1     | 1     | 0     |\n",
       "|  4.15 | 141   |  64   |  3    | 340   | 128   | 2     | 38    | 13    | 1     | 0     | 0     |\n",
       "| 10.81 | 124   | 113   | 13    | 501   |  72   | 2     | 78    | 16    | 0     | 1     | 1     |\n",
       "\n"
      ],
      "text/plain": [
       "  Sales CompPrice Income Advertising Population Price ShelveLoc Age Education\n",
       "1  9.50 138        73    11          276        120   2         42  17       \n",
       "2 11.22 111        48    16          260         83   0         65  10       \n",
       "3 10.06 113        35    10          269         80   1         59  12       \n",
       "4  7.40 117       100     4          466         97   1         55  14       \n",
       "5  4.15 141        64     3          340        128   2         38  13       \n",
       "6 10.81 124       113    13          501         72   2         78  16       \n",
       "  Urban US target\n",
       "1 1     1  1     \n",
       "2 1     1  1     \n",
       "3 1     1  1     \n",
       "4 1     1  0     \n",
       "5 1     0  0     \n",
       "6 0     1  1     "
      ]
     },
     "metadata": {},
     "output_type": "display_data"
    }
   ],
   "source": [
    "head(df)"
   ]
  },
  {
   "cell_type": "code",
   "execution_count": 24,
   "metadata": {},
   "outputs": [
    {
     "data": {
      "text/html": [
       "<table>\n",
       "<thead><tr><th scope=col>CompPrice</th><th scope=col>Income</th><th scope=col>Advertising</th><th scope=col>Population</th><th scope=col>Price</th><th scope=col>Age</th><th scope=col>Education</th><th scope=col>ShelveLoc</th><th scope=col>Urban</th><th scope=col>US</th><th scope=col>target</th></tr></thead>\n",
       "<tbody>\n",
       "\t<tr><td>138</td><td> 73</td><td>11 </td><td>276</td><td>120</td><td>42 </td><td>17 </td><td>2  </td><td>1  </td><td>1  </td><td>1  </td></tr>\n",
       "\t<tr><td>111</td><td> 48</td><td>16 </td><td>260</td><td> 83</td><td>65 </td><td>10 </td><td>0  </td><td>1  </td><td>1  </td><td>1  </td></tr>\n",
       "\t<tr><td>113</td><td> 35</td><td>10 </td><td>269</td><td> 80</td><td>59 </td><td>12 </td><td>1  </td><td>1  </td><td>1  </td><td>1  </td></tr>\n",
       "\t<tr><td>117</td><td>100</td><td> 4 </td><td>466</td><td> 97</td><td>55 </td><td>14 </td><td>1  </td><td>1  </td><td>1  </td><td>0  </td></tr>\n",
       "\t<tr><td>141</td><td> 64</td><td> 3 </td><td>340</td><td>128</td><td>38 </td><td>13 </td><td>2  </td><td>1  </td><td>0  </td><td>0  </td></tr>\n",
       "\t<tr><td>124</td><td>113</td><td>13 </td><td>501</td><td> 72</td><td>78 </td><td>16 </td><td>2  </td><td>0  </td><td>1  </td><td>1  </td></tr>\n",
       "</tbody>\n",
       "</table>\n"
      ],
      "text/latex": [
       "\\begin{tabular}{r|lllllllllll}\n",
       " CompPrice & Income & Advertising & Population & Price & Age & Education & ShelveLoc & Urban & US & target\\\\\n",
       "\\hline\n",
       "\t 138 &  73 & 11  & 276 & 120 & 42  & 17  & 2   & 1   & 1   & 1  \\\\\n",
       "\t 111 &  48 & 16  & 260 &  83 & 65  & 10  & 0   & 1   & 1   & 1  \\\\\n",
       "\t 113 &  35 & 10  & 269 &  80 & 59  & 12  & 1   & 1   & 1   & 1  \\\\\n",
       "\t 117 & 100 &  4  & 466 &  97 & 55  & 14  & 1   & 1   & 1   & 0  \\\\\n",
       "\t 141 &  64 &  3  & 340 & 128 & 38  & 13  & 2   & 1   & 0   & 0  \\\\\n",
       "\t 124 & 113 & 13  & 501 &  72 & 78  & 16  & 2   & 0   & 1   & 1  \\\\\n",
       "\\end{tabular}\n"
      ],
      "text/markdown": [
       "\n",
       "| CompPrice | Income | Advertising | Population | Price | Age | Education | ShelveLoc | Urban | US | target |\n",
       "|---|---|---|---|---|---|---|---|---|---|---|\n",
       "| 138 |  73 | 11  | 276 | 120 | 42  | 17  | 2   | 1   | 1   | 1   |\n",
       "| 111 |  48 | 16  | 260 |  83 | 65  | 10  | 0   | 1   | 1   | 1   |\n",
       "| 113 |  35 | 10  | 269 |  80 | 59  | 12  | 1   | 1   | 1   | 1   |\n",
       "| 117 | 100 |  4  | 466 |  97 | 55  | 14  | 1   | 1   | 1   | 0   |\n",
       "| 141 |  64 |  3  | 340 | 128 | 38  | 13  | 2   | 1   | 0   | 0   |\n",
       "| 124 | 113 | 13  | 501 |  72 | 78  | 16  | 2   | 0   | 1   | 1   |\n",
       "\n"
      ],
      "text/plain": [
       "  CompPrice Income Advertising Population Price Age Education ShelveLoc Urban\n",
       "1 138        73    11          276        120   42  17        2         1    \n",
       "2 111        48    16          260         83   65  10        0         1    \n",
       "3 113        35    10          269         80   59  12        1         1    \n",
       "4 117       100     4          466         97   55  14        1         1    \n",
       "5 141        64     3          340        128   38  13        2         1    \n",
       "6 124       113    13          501         72   78  16        2         0    \n",
       "  US target\n",
       "1 1  1     \n",
       "2 1  1     \n",
       "3 1  1     \n",
       "4 1  0     \n",
       "5 0  0     \n",
       "6 1  1     "
      ]
     },
     "metadata": {},
     "output_type": "display_data"
    }
   ],
   "source": [
    "dfn <- df[2:6]\n",
    "dfn$Age <- df$Age\n",
    "dfn$Education <- df$Education\n",
    "dfn$ShelveLoc <- df$ShelveLoc\n",
    "dfn$Urban <- df$Urban\n",
    "dfn$US <- df$US\n",
    "dfn$target <- df$target\n",
    "head(dfn)"
   ]
  },
  {
   "cell_type": "code",
   "execution_count": 25,
   "metadata": {},
   "outputs": [],
   "source": [
    "min_max_norm <- function(x) {\n",
    "    (x - min(x)) / (max(x) - min(x))\n",
    "  }"
   ]
  },
  {
   "cell_type": "code",
   "execution_count": 26,
   "metadata": {
    "scrolled": true
   },
   "outputs": [
    {
     "data": {
      "text/html": [
       "<table>\n",
       "<thead><tr><th scope=col>CompPrice</th><th scope=col>Income</th><th scope=col>Advertising</th><th scope=col>Population</th><th scope=col>Price</th><th scope=col>Age</th><th scope=col>Education</th></tr></thead>\n",
       "<tbody>\n",
       "\t<tr><td>0.6224490</td><td>0.5252525</td><td>0.3793103</td><td>0.5330661</td><td>0.5748503</td><td>0.3090909</td><td>0.875    </td></tr>\n",
       "\t<tr><td>0.3469388</td><td>0.2727273</td><td>0.5517241</td><td>0.5010020</td><td>0.3532934</td><td>0.7272727</td><td>0.000    </td></tr>\n",
       "\t<tr><td>0.3673469</td><td>0.1414141</td><td>0.3448276</td><td>0.5190381</td><td>0.3353293</td><td>0.6181818</td><td>0.250    </td></tr>\n",
       "\t<tr><td>0.4081633</td><td>0.7979798</td><td>0.1379310</td><td>0.9138277</td><td>0.4371257</td><td>0.5454545</td><td>0.500    </td></tr>\n",
       "\t<tr><td>0.6530612</td><td>0.4343434</td><td>0.1034483</td><td>0.6613226</td><td>0.6227545</td><td>0.2363636</td><td>0.375    </td></tr>\n",
       "\t<tr><td>0.4795918</td><td>0.9292929</td><td>0.4482759</td><td>0.9839679</td><td>0.2874251</td><td>0.9636364</td><td>0.750    </td></tr>\n",
       "</tbody>\n",
       "</table>\n"
      ],
      "text/latex": [
       "\\begin{tabular}{r|lllllll}\n",
       " CompPrice & Income & Advertising & Population & Price & Age & Education\\\\\n",
       "\\hline\n",
       "\t 0.6224490 & 0.5252525 & 0.3793103 & 0.5330661 & 0.5748503 & 0.3090909 & 0.875    \\\\\n",
       "\t 0.3469388 & 0.2727273 & 0.5517241 & 0.5010020 & 0.3532934 & 0.7272727 & 0.000    \\\\\n",
       "\t 0.3673469 & 0.1414141 & 0.3448276 & 0.5190381 & 0.3353293 & 0.6181818 & 0.250    \\\\\n",
       "\t 0.4081633 & 0.7979798 & 0.1379310 & 0.9138277 & 0.4371257 & 0.5454545 & 0.500    \\\\\n",
       "\t 0.6530612 & 0.4343434 & 0.1034483 & 0.6613226 & 0.6227545 & 0.2363636 & 0.375    \\\\\n",
       "\t 0.4795918 & 0.9292929 & 0.4482759 & 0.9839679 & 0.2874251 & 0.9636364 & 0.750    \\\\\n",
       "\\end{tabular}\n"
      ],
      "text/markdown": [
       "\n",
       "| CompPrice | Income | Advertising | Population | Price | Age | Education |\n",
       "|---|---|---|---|---|---|---|\n",
       "| 0.6224490 | 0.5252525 | 0.3793103 | 0.5330661 | 0.5748503 | 0.3090909 | 0.875     |\n",
       "| 0.3469388 | 0.2727273 | 0.5517241 | 0.5010020 | 0.3532934 | 0.7272727 | 0.000     |\n",
       "| 0.3673469 | 0.1414141 | 0.3448276 | 0.5190381 | 0.3353293 | 0.6181818 | 0.250     |\n",
       "| 0.4081633 | 0.7979798 | 0.1379310 | 0.9138277 | 0.4371257 | 0.5454545 | 0.500     |\n",
       "| 0.6530612 | 0.4343434 | 0.1034483 | 0.6613226 | 0.6227545 | 0.2363636 | 0.375     |\n",
       "| 0.4795918 | 0.9292929 | 0.4482759 | 0.9839679 | 0.2874251 | 0.9636364 | 0.750     |\n",
       "\n"
      ],
      "text/plain": [
       "  CompPrice Income    Advertising Population Price     Age       Education\n",
       "1 0.6224490 0.5252525 0.3793103   0.5330661  0.5748503 0.3090909 0.875    \n",
       "2 0.3469388 0.2727273 0.5517241   0.5010020  0.3532934 0.7272727 0.000    \n",
       "3 0.3673469 0.1414141 0.3448276   0.5190381  0.3353293 0.6181818 0.250    \n",
       "4 0.4081633 0.7979798 0.1379310   0.9138277  0.4371257 0.5454545 0.500    \n",
       "5 0.6530612 0.4343434 0.1034483   0.6613226  0.6227545 0.2363636 0.375    \n",
       "6 0.4795918 0.9292929 0.4482759   0.9839679  0.2874251 0.9636364 0.750    "
      ]
     },
     "metadata": {},
     "output_type": "display_data"
    }
   ],
   "source": [
    "df_norm <- as.data.frame(lapply(dfn[,1:7], min_max_norm))\n",
    "\n",
    "head(df_norm)"
   ]
  },
  {
   "cell_type": "code",
   "execution_count": 27,
   "metadata": {
    "scrolled": true
   },
   "outputs": [
    {
     "data": {
      "text/html": [
       "<table>\n",
       "<thead><tr><th scope=col>ShelveLoc</th><th scope=col>Urban</th><th scope=col>US</th><th scope=col>target</th></tr></thead>\n",
       "<tbody>\n",
       "\t<tr><td>2</td><td>1</td><td>1</td><td>1</td></tr>\n",
       "\t<tr><td>0</td><td>1</td><td>1</td><td>1</td></tr>\n",
       "\t<tr><td>1</td><td>1</td><td>1</td><td>1</td></tr>\n",
       "\t<tr><td>1</td><td>1</td><td>1</td><td>0</td></tr>\n",
       "\t<tr><td>2</td><td>1</td><td>0</td><td>0</td></tr>\n",
       "\t<tr><td>2</td><td>0</td><td>1</td><td>1</td></tr>\n",
       "</tbody>\n",
       "</table>\n"
      ],
      "text/latex": [
       "\\begin{tabular}{r|llll}\n",
       " ShelveLoc & Urban & US & target\\\\\n",
       "\\hline\n",
       "\t 2 & 1 & 1 & 1\\\\\n",
       "\t 0 & 1 & 1 & 1\\\\\n",
       "\t 1 & 1 & 1 & 1\\\\\n",
       "\t 1 & 1 & 1 & 0\\\\\n",
       "\t 2 & 1 & 0 & 0\\\\\n",
       "\t 2 & 0 & 1 & 1\\\\\n",
       "\\end{tabular}\n"
      ],
      "text/markdown": [
       "\n",
       "| ShelveLoc | Urban | US | target |\n",
       "|---|---|---|---|\n",
       "| 2 | 1 | 1 | 1 |\n",
       "| 0 | 1 | 1 | 1 |\n",
       "| 1 | 1 | 1 | 1 |\n",
       "| 1 | 1 | 1 | 0 |\n",
       "| 2 | 1 | 0 | 0 |\n",
       "| 2 | 0 | 1 | 1 |\n",
       "\n"
      ],
      "text/plain": [
       "  ShelveLoc Urban US target\n",
       "1 2         1     1  1     \n",
       "2 0         1     1  1     \n",
       "3 1         1     1  1     \n",
       "4 1         1     1  0     \n",
       "5 2         1     0  0     \n",
       "6 2         0     1  1     "
      ]
     },
     "metadata": {},
     "output_type": "display_data"
    }
   ],
   "source": [
    "dfb <- dfn[,8:11]\n",
    "head(dfb)"
   ]
  },
  {
   "cell_type": "code",
   "execution_count": 28,
   "metadata": {},
   "outputs": [
    {
     "data": {
      "text/html": [
       "<table>\n",
       "<thead><tr><th scope=col>CompPrice</th><th scope=col>Income</th><th scope=col>Advertising</th><th scope=col>Population</th><th scope=col>Price</th><th scope=col>Age</th><th scope=col>Education</th><th scope=col>ShelveLoc</th><th scope=col>Urban</th><th scope=col>US</th><th scope=col>target</th></tr></thead>\n",
       "<tbody>\n",
       "\t<tr><td>0.6224490</td><td>0.5252525</td><td>0.3793103</td><td>0.5330661</td><td>0.5748503</td><td>0.3090909</td><td>0.875    </td><td>2        </td><td>1        </td><td>1        </td><td>1        </td></tr>\n",
       "\t<tr><td>0.3469388</td><td>0.2727273</td><td>0.5517241</td><td>0.5010020</td><td>0.3532934</td><td>0.7272727</td><td>0.000    </td><td>0        </td><td>1        </td><td>1        </td><td>1        </td></tr>\n",
       "\t<tr><td>0.3673469</td><td>0.1414141</td><td>0.3448276</td><td>0.5190381</td><td>0.3353293</td><td>0.6181818</td><td>0.250    </td><td>1        </td><td>1        </td><td>1        </td><td>1        </td></tr>\n",
       "\t<tr><td>0.4081633</td><td>0.7979798</td><td>0.1379310</td><td>0.9138277</td><td>0.4371257</td><td>0.5454545</td><td>0.500    </td><td>1        </td><td>1        </td><td>1        </td><td>0        </td></tr>\n",
       "\t<tr><td>0.6530612</td><td>0.4343434</td><td>0.1034483</td><td>0.6613226</td><td>0.6227545</td><td>0.2363636</td><td>0.375    </td><td>2        </td><td>1        </td><td>0        </td><td>0        </td></tr>\n",
       "\t<tr><td>0.4795918</td><td>0.9292929</td><td>0.4482759</td><td>0.9839679</td><td>0.2874251</td><td>0.9636364</td><td>0.750    </td><td>2        </td><td>0        </td><td>1        </td><td>1        </td></tr>\n",
       "</tbody>\n",
       "</table>\n"
      ],
      "text/latex": [
       "\\begin{tabular}{r|lllllllllll}\n",
       " CompPrice & Income & Advertising & Population & Price & Age & Education & ShelveLoc & Urban & US & target\\\\\n",
       "\\hline\n",
       "\t 0.6224490 & 0.5252525 & 0.3793103 & 0.5330661 & 0.5748503 & 0.3090909 & 0.875     & 2         & 1         & 1         & 1        \\\\\n",
       "\t 0.3469388 & 0.2727273 & 0.5517241 & 0.5010020 & 0.3532934 & 0.7272727 & 0.000     & 0         & 1         & 1         & 1        \\\\\n",
       "\t 0.3673469 & 0.1414141 & 0.3448276 & 0.5190381 & 0.3353293 & 0.6181818 & 0.250     & 1         & 1         & 1         & 1        \\\\\n",
       "\t 0.4081633 & 0.7979798 & 0.1379310 & 0.9138277 & 0.4371257 & 0.5454545 & 0.500     & 1         & 1         & 1         & 0        \\\\\n",
       "\t 0.6530612 & 0.4343434 & 0.1034483 & 0.6613226 & 0.6227545 & 0.2363636 & 0.375     & 2         & 1         & 0         & 0        \\\\\n",
       "\t 0.4795918 & 0.9292929 & 0.4482759 & 0.9839679 & 0.2874251 & 0.9636364 & 0.750     & 2         & 0         & 1         & 1        \\\\\n",
       "\\end{tabular}\n"
      ],
      "text/markdown": [
       "\n",
       "| CompPrice | Income | Advertising | Population | Price | Age | Education | ShelveLoc | Urban | US | target |\n",
       "|---|---|---|---|---|---|---|---|---|---|---|\n",
       "| 0.6224490 | 0.5252525 | 0.3793103 | 0.5330661 | 0.5748503 | 0.3090909 | 0.875     | 2         | 1         | 1         | 1         |\n",
       "| 0.3469388 | 0.2727273 | 0.5517241 | 0.5010020 | 0.3532934 | 0.7272727 | 0.000     | 0         | 1         | 1         | 1         |\n",
       "| 0.3673469 | 0.1414141 | 0.3448276 | 0.5190381 | 0.3353293 | 0.6181818 | 0.250     | 1         | 1         | 1         | 1         |\n",
       "| 0.4081633 | 0.7979798 | 0.1379310 | 0.9138277 | 0.4371257 | 0.5454545 | 0.500     | 1         | 1         | 1         | 0         |\n",
       "| 0.6530612 | 0.4343434 | 0.1034483 | 0.6613226 | 0.6227545 | 0.2363636 | 0.375     | 2         | 1         | 0         | 0         |\n",
       "| 0.4795918 | 0.9292929 | 0.4482759 | 0.9839679 | 0.2874251 | 0.9636364 | 0.750     | 2         | 0         | 1         | 1         |\n",
       "\n"
      ],
      "text/plain": [
       "  CompPrice Income    Advertising Population Price     Age       Education\n",
       "1 0.6224490 0.5252525 0.3793103   0.5330661  0.5748503 0.3090909 0.875    \n",
       "2 0.3469388 0.2727273 0.5517241   0.5010020  0.3532934 0.7272727 0.000    \n",
       "3 0.3673469 0.1414141 0.3448276   0.5190381  0.3353293 0.6181818 0.250    \n",
       "4 0.4081633 0.7979798 0.1379310   0.9138277  0.4371257 0.5454545 0.500    \n",
       "5 0.6530612 0.4343434 0.1034483   0.6613226  0.6227545 0.2363636 0.375    \n",
       "6 0.4795918 0.9292929 0.4482759   0.9839679  0.2874251 0.9636364 0.750    \n",
       "  ShelveLoc Urban US target\n",
       "1 2         1     1  1     \n",
       "2 0         1     1  1     \n",
       "3 1         1     1  1     \n",
       "4 1         1     1  0     \n",
       "5 2         1     0  0     \n",
       "6 2         0     1  1     "
      ]
     },
     "metadata": {},
     "output_type": "display_data"
    }
   ],
   "source": [
    "df_norm <- cbind(df_norm,dfb)\n",
    "head(df_norm)"
   ]
  },
  {
   "cell_type": "code",
   "execution_count": 29,
   "metadata": {},
   "outputs": [],
   "source": [
    "df_norm$ShelveLoc <- as.numeric(df_norm$ShelveLoc)\n",
    "df_norm$Urban <- as.numeric(df_norm$Urban)\n",
    "df_norm$US <- as.numeric(df_norm$US)\n",
    "df_norm$target <- as.numeric(df_norm$target)"
   ]
  },
  {
   "cell_type": "code",
   "execution_count": 30,
   "metadata": {},
   "outputs": [],
   "source": [
    "df_norm[\"target\"][df_norm[\"target\"] == 1] <- 0\n",
    "df_norm[\"target\"][df_norm[\"target\"] == 2] <- 1"
   ]
  },
  {
   "cell_type": "code",
   "execution_count": 31,
   "metadata": {
    "scrolled": true
   },
   "outputs": [
    {
     "data": {
      "text/html": [
       "<table>\n",
       "<thead><tr><th scope=col>CompPrice</th><th scope=col>Income</th><th scope=col>Advertising</th><th scope=col>Population</th><th scope=col>Price</th><th scope=col>Age</th><th scope=col>Education</th><th scope=col>ShelveLoc</th><th scope=col>Urban</th><th scope=col>US</th><th scope=col>target</th></tr></thead>\n",
       "<tbody>\n",
       "\t<tr><td>0.6224490</td><td>0.5252525</td><td>0.3793103</td><td>0.5330661</td><td>0.5748503</td><td>0.3090909</td><td>0.875    </td><td>3        </td><td>2        </td><td>2        </td><td>1        </td></tr>\n",
       "\t<tr><td>0.3469388</td><td>0.2727273</td><td>0.5517241</td><td>0.5010020</td><td>0.3532934</td><td>0.7272727</td><td>0.000    </td><td>1        </td><td>2        </td><td>2        </td><td>1        </td></tr>\n",
       "\t<tr><td>0.3673469</td><td>0.1414141</td><td>0.3448276</td><td>0.5190381</td><td>0.3353293</td><td>0.6181818</td><td>0.250    </td><td>2        </td><td>2        </td><td>2        </td><td>1        </td></tr>\n",
       "\t<tr><td>0.4081633</td><td>0.7979798</td><td>0.1379310</td><td>0.9138277</td><td>0.4371257</td><td>0.5454545</td><td>0.500    </td><td>2        </td><td>2        </td><td>2        </td><td>0        </td></tr>\n",
       "\t<tr><td>0.6530612</td><td>0.4343434</td><td>0.1034483</td><td>0.6613226</td><td>0.6227545</td><td>0.2363636</td><td>0.375    </td><td>3        </td><td>2        </td><td>1        </td><td>0        </td></tr>\n",
       "\t<tr><td>0.4795918</td><td>0.9292929</td><td>0.4482759</td><td>0.9839679</td><td>0.2874251</td><td>0.9636364</td><td>0.750    </td><td>3        </td><td>1        </td><td>2        </td><td>1        </td></tr>\n",
       "</tbody>\n",
       "</table>\n"
      ],
      "text/latex": [
       "\\begin{tabular}{r|lllllllllll}\n",
       " CompPrice & Income & Advertising & Population & Price & Age & Education & ShelveLoc & Urban & US & target\\\\\n",
       "\\hline\n",
       "\t 0.6224490 & 0.5252525 & 0.3793103 & 0.5330661 & 0.5748503 & 0.3090909 & 0.875     & 3         & 2         & 2         & 1        \\\\\n",
       "\t 0.3469388 & 0.2727273 & 0.5517241 & 0.5010020 & 0.3532934 & 0.7272727 & 0.000     & 1         & 2         & 2         & 1        \\\\\n",
       "\t 0.3673469 & 0.1414141 & 0.3448276 & 0.5190381 & 0.3353293 & 0.6181818 & 0.250     & 2         & 2         & 2         & 1        \\\\\n",
       "\t 0.4081633 & 0.7979798 & 0.1379310 & 0.9138277 & 0.4371257 & 0.5454545 & 0.500     & 2         & 2         & 2         & 0        \\\\\n",
       "\t 0.6530612 & 0.4343434 & 0.1034483 & 0.6613226 & 0.6227545 & 0.2363636 & 0.375     & 3         & 2         & 1         & 0        \\\\\n",
       "\t 0.4795918 & 0.9292929 & 0.4482759 & 0.9839679 & 0.2874251 & 0.9636364 & 0.750     & 3         & 1         & 2         & 1        \\\\\n",
       "\\end{tabular}\n"
      ],
      "text/markdown": [
       "\n",
       "| CompPrice | Income | Advertising | Population | Price | Age | Education | ShelveLoc | Urban | US | target |\n",
       "|---|---|---|---|---|---|---|---|---|---|---|\n",
       "| 0.6224490 | 0.5252525 | 0.3793103 | 0.5330661 | 0.5748503 | 0.3090909 | 0.875     | 3         | 2         | 2         | 1         |\n",
       "| 0.3469388 | 0.2727273 | 0.5517241 | 0.5010020 | 0.3532934 | 0.7272727 | 0.000     | 1         | 2         | 2         | 1         |\n",
       "| 0.3673469 | 0.1414141 | 0.3448276 | 0.5190381 | 0.3353293 | 0.6181818 | 0.250     | 2         | 2         | 2         | 1         |\n",
       "| 0.4081633 | 0.7979798 | 0.1379310 | 0.9138277 | 0.4371257 | 0.5454545 | 0.500     | 2         | 2         | 2         | 0         |\n",
       "| 0.6530612 | 0.4343434 | 0.1034483 | 0.6613226 | 0.6227545 | 0.2363636 | 0.375     | 3         | 2         | 1         | 0         |\n",
       "| 0.4795918 | 0.9292929 | 0.4482759 | 0.9839679 | 0.2874251 | 0.9636364 | 0.750     | 3         | 1         | 2         | 1         |\n",
       "\n"
      ],
      "text/plain": [
       "  CompPrice Income    Advertising Population Price     Age       Education\n",
       "1 0.6224490 0.5252525 0.3793103   0.5330661  0.5748503 0.3090909 0.875    \n",
       "2 0.3469388 0.2727273 0.5517241   0.5010020  0.3532934 0.7272727 0.000    \n",
       "3 0.3673469 0.1414141 0.3448276   0.5190381  0.3353293 0.6181818 0.250    \n",
       "4 0.4081633 0.7979798 0.1379310   0.9138277  0.4371257 0.5454545 0.500    \n",
       "5 0.6530612 0.4343434 0.1034483   0.6613226  0.6227545 0.2363636 0.375    \n",
       "6 0.4795918 0.9292929 0.4482759   0.9839679  0.2874251 0.9636364 0.750    \n",
       "  ShelveLoc Urban US target\n",
       "1 3         2     2  1     \n",
       "2 1         2     2  1     \n",
       "3 2         2     2  1     \n",
       "4 2         2     2  0     \n",
       "5 3         2     1  0     \n",
       "6 3         1     2  1     "
      ]
     },
     "metadata": {},
     "output_type": "display_data"
    },
    {
     "name": "stdout",
     "output_type": "stream",
     "text": [
      "'data.frame':\t400 obs. of  11 variables:\n",
      " $ CompPrice  : num  0.622 0.347 0.367 0.408 0.653 ...\n",
      " $ Income     : num  0.525 0.273 0.141 0.798 0.434 ...\n",
      " $ Advertising: num  0.379 0.552 0.345 0.138 0.103 ...\n",
      " $ Population : num  0.533 0.501 0.519 0.914 0.661 ...\n",
      " $ Price      : num  0.575 0.353 0.335 0.437 0.623 ...\n",
      " $ Age        : num  0.309 0.727 0.618 0.545 0.236 ...\n",
      " $ Education  : num  0.875 0 0.25 0.5 0.375 0.75 0.625 0 0 0.875 ...\n",
      " $ ShelveLoc  : num  3 1 2 2 3 3 2 1 2 2 ...\n",
      " $ Urban      : num  2 2 2 2 2 1 2 2 1 1 ...\n",
      " $ US         : num  2 2 2 2 1 2 1 2 1 2 ...\n",
      " $ target     : num  1 1 1 0 0 1 0 1 0 0 ...\n"
     ]
    }
   ],
   "source": [
    "head(df_norm)\n",
    "str(df_norm)"
   ]
  },
  {
   "cell_type": "code",
   "execution_count": 32,
   "metadata": {
    "scrolled": false
   },
   "outputs": [
    {
     "data": {
      "text/html": [
       "<table>\n",
       "<thead><tr><th scope=col>CompPrice</th><th scope=col>Income</th><th scope=col>Advertising</th><th scope=col>Population</th><th scope=col>Price</th><th scope=col>Age</th><th scope=col>Education</th><th scope=col>ShelveLoc</th><th scope=col>Urban</th><th scope=col>US</th><th scope=col>target</th></tr></thead>\n",
       "<tbody>\n",
       "\t<tr><td>0.6224490</td><td>0.5252525</td><td>0.3793103</td><td>0.5330661</td><td>0.5748503</td><td>0.3090909</td><td>0.875    </td><td>3        </td><td>2        </td><td>2        </td><td>1        </td></tr>\n",
       "\t<tr><td>0.3469388</td><td>0.2727273</td><td>0.5517241</td><td>0.5010020</td><td>0.3532934</td><td>0.7272727</td><td>0.000    </td><td>1        </td><td>2        </td><td>2        </td><td>1        </td></tr>\n",
       "\t<tr><td>0.3673469</td><td>0.1414141</td><td>0.3448276</td><td>0.5190381</td><td>0.3353293</td><td>0.6181818</td><td>0.250    </td><td>2        </td><td>2        </td><td>2        </td><td>1        </td></tr>\n",
       "\t<tr><td>0.4081633</td><td>0.7979798</td><td>0.1379310</td><td>0.9138277</td><td>0.4371257</td><td>0.5454545</td><td>0.500    </td><td>2        </td><td>2        </td><td>2        </td><td>0        </td></tr>\n",
       "\t<tr><td>0.6530612</td><td>0.4343434</td><td>0.1034483</td><td>0.6613226</td><td>0.6227545</td><td>0.2363636</td><td>0.375    </td><td>3        </td><td>2        </td><td>1        </td><td>0        </td></tr>\n",
       "\t<tr><td>0.4795918</td><td>0.9292929</td><td>0.4482759</td><td>0.9839679</td><td>0.2874251</td><td>0.9636364</td><td>0.750    </td><td>3        </td><td>1        </td><td>2        </td><td>1        </td></tr>\n",
       "</tbody>\n",
       "</table>\n"
      ],
      "text/latex": [
       "\\begin{tabular}{r|lllllllllll}\n",
       " CompPrice & Income & Advertising & Population & Price & Age & Education & ShelveLoc & Urban & US & target\\\\\n",
       "\\hline\n",
       "\t 0.6224490 & 0.5252525 & 0.3793103 & 0.5330661 & 0.5748503 & 0.3090909 & 0.875     & 3         & 2         & 2         & 1        \\\\\n",
       "\t 0.3469388 & 0.2727273 & 0.5517241 & 0.5010020 & 0.3532934 & 0.7272727 & 0.000     & 1         & 2         & 2         & 1        \\\\\n",
       "\t 0.3673469 & 0.1414141 & 0.3448276 & 0.5190381 & 0.3353293 & 0.6181818 & 0.250     & 2         & 2         & 2         & 1        \\\\\n",
       "\t 0.4081633 & 0.7979798 & 0.1379310 & 0.9138277 & 0.4371257 & 0.5454545 & 0.500     & 2         & 2         & 2         & 0        \\\\\n",
       "\t 0.6530612 & 0.4343434 & 0.1034483 & 0.6613226 & 0.6227545 & 0.2363636 & 0.375     & 3         & 2         & 1         & 0        \\\\\n",
       "\t 0.4795918 & 0.9292929 & 0.4482759 & 0.9839679 & 0.2874251 & 0.9636364 & 0.750     & 3         & 1         & 2         & 1        \\\\\n",
       "\\end{tabular}\n"
      ],
      "text/markdown": [
       "\n",
       "| CompPrice | Income | Advertising | Population | Price | Age | Education | ShelveLoc | Urban | US | target |\n",
       "|---|---|---|---|---|---|---|---|---|---|---|\n",
       "| 0.6224490 | 0.5252525 | 0.3793103 | 0.5330661 | 0.5748503 | 0.3090909 | 0.875     | 3         | 2         | 2         | 1         |\n",
       "| 0.3469388 | 0.2727273 | 0.5517241 | 0.5010020 | 0.3532934 | 0.7272727 | 0.000     | 1         | 2         | 2         | 1         |\n",
       "| 0.3673469 | 0.1414141 | 0.3448276 | 0.5190381 | 0.3353293 | 0.6181818 | 0.250     | 2         | 2         | 2         | 1         |\n",
       "| 0.4081633 | 0.7979798 | 0.1379310 | 0.9138277 | 0.4371257 | 0.5454545 | 0.500     | 2         | 2         | 2         | 0         |\n",
       "| 0.6530612 | 0.4343434 | 0.1034483 | 0.6613226 | 0.6227545 | 0.2363636 | 0.375     | 3         | 2         | 1         | 0         |\n",
       "| 0.4795918 | 0.9292929 | 0.4482759 | 0.9839679 | 0.2874251 | 0.9636364 | 0.750     | 3         | 1         | 2         | 1         |\n",
       "\n"
      ],
      "text/plain": [
       "  CompPrice Income    Advertising Population Price     Age       Education\n",
       "1 0.6224490 0.5252525 0.3793103   0.5330661  0.5748503 0.3090909 0.875    \n",
       "2 0.3469388 0.2727273 0.5517241   0.5010020  0.3532934 0.7272727 0.000    \n",
       "3 0.3673469 0.1414141 0.3448276   0.5190381  0.3353293 0.6181818 0.250    \n",
       "4 0.4081633 0.7979798 0.1379310   0.9138277  0.4371257 0.5454545 0.500    \n",
       "5 0.6530612 0.4343434 0.1034483   0.6613226  0.6227545 0.2363636 0.375    \n",
       "6 0.4795918 0.9292929 0.4482759   0.9839679  0.2874251 0.9636364 0.750    \n",
       "  ShelveLoc Urban US target\n",
       "1 3         2     2  1     \n",
       "2 1         2     2  1     \n",
       "3 2         2     2  1     \n",
       "4 2         2     2  0     \n",
       "5 3         2     1  0     \n",
       "6 3         1     2  1     "
      ]
     },
     "metadata": {},
     "output_type": "display_data"
    },
    {
     "name": "stdout",
     "output_type": "stream",
     "text": [
      "'data.frame':\t360 obs. of  11 variables:\n",
      " $ CompPrice  : num  0.622 0.347 0.367 0.408 0.653 ...\n",
      " $ Income     : num  0.525 0.273 0.141 0.798 0.434 ...\n",
      " $ Advertising: num  0.379 0.552 0.345 0.138 0.103 ...\n",
      " $ Population : num  0.533 0.501 0.519 0.914 0.661 ...\n",
      " $ Price      : num  0.575 0.353 0.335 0.437 0.623 ...\n",
      " $ Age        : num  0.309 0.727 0.618 0.545 0.236 ...\n",
      " $ Education  : num  0.875 0 0.25 0.5 0.375 0.75 0.625 0 0 0 ...\n",
      " $ ShelveLoc  : num  3 1 2 2 3 3 2 1 2 3 ...\n",
      " $ Urban      : num  2 2 2 2 2 1 2 2 1 1 ...\n",
      " $ US         : num  2 2 2 2 1 2 1 2 1 2 ...\n",
      " $ target     : num  1 1 1 0 0 1 0 1 0 1 ...\n"
     ]
    }
   ],
   "source": [
    "indexes_n = createDataPartition(df_norm$target, p=.9, list=F)\n",
    "train_n = df_norm[indexes_n,]\n",
    "test_n = df_norm[-indexes_n,]\n",
    "head(train_n)\n",
    "str(train_n)"
   ]
  },
  {
   "cell_type": "code",
   "execution_count": 45,
   "metadata": {},
   "outputs": [],
   "source": [
    "#?neuralnet\n",
    "library(neuralnet)"
   ]
  },
  {
   "cell_type": "code",
   "execution_count": 33,
   "metadata": {},
   "outputs": [],
   "source": [
    "f <- as.formula(\"target~CompPrice+Income+Advertising++Population+Price+Age+Education+ShelveLoc+Urban+US\")\n",
    "nnf <- neuralnet(formula = f, data = train_n,\n",
    "                 hidden = c(2,3,4), \n",
    "                 linear.output = F,\n",
    "                 act.fct = \"logistic\", \n",
    "                 rep=1)"
   ]
  },
  {
   "cell_type": "code",
   "execution_count": 35,
   "metadata": {},
   "outputs": [
    {
     "data": {
      "image/png": "[encoded data removed]",
      "text/plain": [
       "plot without title"
      ]
     },
     "metadata": {},
     "output_type": "display_data"
    }
   ],
   "source": [
    "plot(nnf, rep=1)"
   ]
  },
  {
   "cell_type": "code",
   "execution_count": 36,
   "metadata": {},
   "outputs": [
    {
     "data": {
      "text/html": [
       "<table>\n",
       "<thead><tr><th></th><th scope=col>CompPrice</th><th scope=col>Income</th><th scope=col>Advertising</th><th scope=col>Population</th><th scope=col>Price</th><th scope=col>Age</th><th scope=col>Education</th><th scope=col>ShelveLoc</th><th scope=col>Urban</th><th scope=col>US</th><th scope=col>target</th></tr></thead>\n",
       "<tbody>\n",
       "\t<tr><th scope=row>10</th><td>0.5612245 </td><td>0.9292929 </td><td>0.0000000 </td><td>0.2424850 </td><td>0.5988024 </td><td>0.92727273</td><td>0.875     </td><td>2         </td><td>1         </td><td>2         </td><td>0         </td></tr>\n",
       "\t<tr><th scope=row>23</th><td>0.5204082 </td><td>0.2525253 </td><td>0.2068966 </td><td>0.9759519 </td><td>0.6826347 </td><td>0.30909091</td><td>0.375     </td><td>2         </td><td>2         </td><td>1         </td><td>0         </td></tr>\n",
       "\t<tr><th scope=row>31</th><td>0.4897959 </td><td>0.7373737 </td><td>0.0000000 </td><td>0.8757515 </td><td>0.3892216 </td><td>0.09090909</td><td>0.250     </td><td>1         </td><td>2         </td><td>1         </td><td>1         </td></tr>\n",
       "\t<tr><th scope=row>52</th><td>0.4489796 </td><td>0.6969697 </td><td>0.0000000 </td><td>0.2805611 </td><td>0.5029940 </td><td>0.90909091</td><td>0.750     </td><td>3         </td><td>2         </td><td>1         </td><td>0         </td></tr>\n",
       "\t<tr><th scope=row>68</th><td>0.5000000 </td><td>0.4040404 </td><td>0.4827586 </td><td>0.2845691 </td><td>0.5449102 </td><td>0.40000000</td><td>0.750     </td><td>2         </td><td>2         </td><td>2         </td><td>1         </td></tr>\n",
       "\t<tr><th scope=row>77</th><td>0.2551020 </td><td>0.6666667 </td><td>0.3448276 </td><td>0.6733467 </td><td>0.2754491 </td><td>0.70909091</td><td>0.625     </td><td>2         </td><td>2         </td><td>2         </td><td>1         </td></tr>\n",
       "</tbody>\n",
       "</table>\n"
      ],
      "text/latex": [
       "\\begin{tabular}{r|lllllllllll}\n",
       "  & CompPrice & Income & Advertising & Population & Price & Age & Education & ShelveLoc & Urban & US & target\\\\\n",
       "\\hline\n",
       "\t10 & 0.5612245  & 0.9292929  & 0.0000000  & 0.2424850  & 0.5988024  & 0.92727273 & 0.875      & 2          & 1          & 2          & 0         \\\\\n",
       "\t23 & 0.5204082  & 0.2525253  & 0.2068966  & 0.9759519  & 0.6826347  & 0.30909091 & 0.375      & 2          & 2          & 1          & 0         \\\\\n",
       "\t31 & 0.4897959  & 0.7373737  & 0.0000000  & 0.8757515  & 0.3892216  & 0.09090909 & 0.250      & 1          & 2          & 1          & 1         \\\\\n",
       "\t52 & 0.4489796  & 0.6969697  & 0.0000000  & 0.2805611  & 0.5029940  & 0.90909091 & 0.750      & 3          & 2          & 1          & 0         \\\\\n",
       "\t68 & 0.5000000  & 0.4040404  & 0.4827586  & 0.2845691  & 0.5449102  & 0.40000000 & 0.750      & 2          & 2          & 2          & 1         \\\\\n",
       "\t77 & 0.2551020  & 0.6666667  & 0.3448276  & 0.6733467  & 0.2754491  & 0.70909091 & 0.625      & 2          & 2          & 2          & 1         \\\\\n",
       "\\end{tabular}\n"
      ],
      "text/markdown": [
       "\n",
       "| <!--/--> | CompPrice | Income | Advertising | Population | Price | Age | Education | ShelveLoc | Urban | US | target |\n",
       "|---|---|---|---|---|---|---|---|---|---|---|---|\n",
       "| 10 | 0.5612245  | 0.9292929  | 0.0000000  | 0.2424850  | 0.5988024  | 0.92727273 | 0.875      | 2          | 1          | 2          | 0          |\n",
       "| 23 | 0.5204082  | 0.2525253  | 0.2068966  | 0.9759519  | 0.6826347  | 0.30909091 | 0.375      | 2          | 2          | 1          | 0          |\n",
       "| 31 | 0.4897959  | 0.7373737  | 0.0000000  | 0.8757515  | 0.3892216  | 0.09090909 | 0.250      | 1          | 2          | 1          | 1          |\n",
       "| 52 | 0.4489796  | 0.6969697  | 0.0000000  | 0.2805611  | 0.5029940  | 0.90909091 | 0.750      | 3          | 2          | 1          | 0          |\n",
       "| 68 | 0.5000000  | 0.4040404  | 0.4827586  | 0.2845691  | 0.5449102  | 0.40000000 | 0.750      | 2          | 2          | 2          | 1          |\n",
       "| 77 | 0.2551020  | 0.6666667  | 0.3448276  | 0.6733467  | 0.2754491  | 0.70909091 | 0.625      | 2          | 2          | 2          | 1          |\n",
       "\n"
      ],
      "text/plain": [
       "   CompPrice Income    Advertising Population Price     Age        Education\n",
       "10 0.5612245 0.9292929 0.0000000   0.2424850  0.5988024 0.92727273 0.875    \n",
       "23 0.5204082 0.2525253 0.2068966   0.9759519  0.6826347 0.30909091 0.375    \n",
       "31 0.4897959 0.7373737 0.0000000   0.8757515  0.3892216 0.09090909 0.250    \n",
       "52 0.4489796 0.6969697 0.0000000   0.2805611  0.5029940 0.90909091 0.750    \n",
       "68 0.5000000 0.4040404 0.4827586   0.2845691  0.5449102 0.40000000 0.750    \n",
       "77 0.2551020 0.6666667 0.3448276   0.6733467  0.2754491 0.70909091 0.625    \n",
       "   ShelveLoc Urban US target\n",
       "10 2         1     2  0     \n",
       "23 2         2     1  0     \n",
       "31 1         2     1  1     \n",
       "52 3         2     1  0     \n",
       "68 2         2     2  1     \n",
       "77 2         2     2  1     "
      ]
     },
     "metadata": {},
     "output_type": "display_data"
    }
   ],
   "source": [
    "head(test_n)"
   ]
  },
  {
   "cell_type": "code",
   "execution_count": 37,
   "metadata": {},
   "outputs": [
    {
     "data": {
      "text/html": [
       "<table>\n",
       "<tbody>\n",
       "\t<tr><th scope=row>10</th><td>1.017051e-40</td></tr>\n",
       "\t<tr><th scope=row>23</th><td>2.589112e-47</td></tr>\n",
       "\t<tr><th scope=row>31</th><td>1.000000e+00</td></tr>\n",
       "\t<tr><th scope=row>52</th><td>6.134378e-63</td></tr>\n",
       "\t<tr><th scope=row>68</th><td>1.000000e+00</td></tr>\n",
       "\t<tr><th scope=row>77</th><td>1.000000e+00</td></tr>\n",
       "</tbody>\n",
       "</table>\n"
      ],
      "text/latex": [
       "\\begin{tabular}{r|l}\n",
       "\t10 & 1.017051e-40\\\\\n",
       "\t23 & 2.589112e-47\\\\\n",
       "\t31 & 1.000000e+00\\\\\n",
       "\t52 & 6.134378e-63\\\\\n",
       "\t68 & 1.000000e+00\\\\\n",
       "\t77 & 1.000000e+00\\\\\n",
       "\\end{tabular}\n"
      ],
      "text/markdown": [
       "\n",
       "| 10 | 1.017051e-40 |\n",
       "| 23 | 2.589112e-47 |\n",
       "| 31 | 1.000000e+00 |\n",
       "| 52 | 6.134378e-63 |\n",
       "| 68 | 1.000000e+00 |\n",
       "| 77 | 1.000000e+00 |\n",
       "\n"
      ],
      "text/plain": [
       "   [,1]        \n",
       "10 1.017051e-40\n",
       "23 2.589112e-47\n",
       "31 1.000000e+00\n",
       "52 6.134378e-63\n",
       "68 1.000000e+00\n",
       "77 1.000000e+00"
      ]
     },
     "metadata": {},
     "output_type": "display_data"
    }
   ],
   "source": [
    "Predict=compute(nnf,test_n)\n",
    "head(Predict$net.result)"
   ]
  },
  {
   "cell_type": "code",
   "execution_count": 38,
   "metadata": {},
   "outputs": [
    {
     "data": {
      "text/html": [
       "<table>\n",
       "<tbody>\n",
       "\t<tr><th scope=row>10</th><td>0</td></tr>\n",
       "\t<tr><th scope=row>23</th><td>0</td></tr>\n",
       "\t<tr><th scope=row>31</th><td>1</td></tr>\n",
       "\t<tr><th scope=row>52</th><td>0</td></tr>\n",
       "\t<tr><th scope=row>68</th><td>1</td></tr>\n",
       "\t<tr><th scope=row>77</th><td>1</td></tr>\n",
       "</tbody>\n",
       "</table>\n"
      ],
      "text/latex": [
       "\\begin{tabular}{r|l}\n",
       "\t10 & 0\\\\\n",
       "\t23 & 0\\\\\n",
       "\t31 & 1\\\\\n",
       "\t52 & 0\\\\\n",
       "\t68 & 1\\\\\n",
       "\t77 & 1\\\\\n",
       "\\end{tabular}\n"
      ],
      "text/markdown": [
       "\n",
       "| 10 | 0 |\n",
       "| 23 | 0 |\n",
       "| 31 | 1 |\n",
       "| 52 | 0 |\n",
       "| 68 | 1 |\n",
       "| 77 | 1 |\n",
       "\n"
      ],
      "text/plain": [
       "   [,1]\n",
       "10 0   \n",
       "23 0   \n",
       "31 1   \n",
       "52 0   \n",
       "68 1   \n",
       "77 1   "
      ]
     },
     "metadata": {},
     "output_type": "display_data"
    }
   ],
   "source": [
    "prob <- Predict$net.result\n",
    "pred <- ifelse(prob>0.5, 1, 0)\n",
    "head(pred)"
   ]
  },
  {
   "cell_type": "code",
   "execution_count": 39,
   "metadata": {},
   "outputs": [
    {
     "data": {
      "text/plain": [
       "    \n",
       "pred  0  1\n",
       "   0 17  5\n",
       "   1  4 14"
      ]
     },
     "metadata": {},
     "output_type": "display_data"
    }
   ],
   "source": [
    "table(pred, test_n$target)"
   ]
  },
  {
   "cell_type": "markdown",
   "metadata": {},
   "source": [
    "### Good Job! You are done with the section!"
   ]
  },
  {
   "cell_type": "markdown",
   "metadata": {},
   "source": [
    "## Section 6: Performance Evaluation"
   ]
  },
  {
   "cell_type": "markdown",
   "metadata": {},
   "source": [
    "## Question 1  \n",
    "**For the above decision tree, logistic regression and neural network models:**  \n",
    "1. Construct a confusion matrix.  \n",
    "2. Plot out the ROC and AUC cruves.   \n",
    "3. For the datasets of Carseats, which model produced the highest accuracy with lowest variance?  "
   ]
  },
  {
   "cell_type": "code",
   "execution_count": 113,
   "metadata": {},
   "outputs": [
    {
     "ename": "ERROR",
     "evalue": "Error in FUN(x, aperm(array(STATS, dims[perm]), order(perm)), ...): non-numeric argument to binary operator\n",
     "output_type": "error",
     "traceback": [
      "Error in FUN(x, aperm(array(STATS, dims[perm]), order(perm)), ...): non-numeric argument to binary operator\nTraceback:\n",
      "1. as.data.frame(scale(df, center = minv, scale = maxv - minv))",
      "2. scale(df, center = minv, scale = maxv - minv)",
      "3. scale.default(df, center = minv, scale = maxv - minv)",
      "4. sweep(x, 2L, center, check.margin = FALSE)"
     ]
    }
   ],
   "source": [
    "dfnn <- as.data.frame(scale(df, center = minv, scale = maxv - minv))"
   ]
  },
  {
   "cell_type": "code",
   "execution_count": null,
   "metadata": {},
   "outputs": [],
   "source": []
  },
  {
   "cell_type": "code",
   "execution_count": null,
   "metadata": {},
   "outputs": [],
   "source": []
  },
  {
   "cell_type": "code",
   "execution_count": null,
   "metadata": {},
   "outputs": [],
   "source": []
  },
  {
   "cell_type": "code",
   "execution_count": null,
   "metadata": {},
   "outputs": [],
   "source": []
  },
  {
   "cell_type": "markdown",
   "metadata": {},
   "source": [
    "## Good Job! You are done with the course!"
   ]
  }
 ],
 "metadata": {
  "kernelspec": {
   "display_name": "R",
   "language": "R",
   "name": "ir"
  },
  "language_info": {
   "codemirror_mode": "r",
   "file_extension": ".r",
   "mimetype": "text/x-r-source",
   "name": "R",
   "pygments_lexer": "r",
   "version": "3.6.1"
  }
 },
 "nbformat": 4,
 "nbformat_minor": 4
}
