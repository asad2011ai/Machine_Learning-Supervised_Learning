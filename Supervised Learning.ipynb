{
 "cells": [
  {
   "cell_type": "markdown",
   "metadata": {},
   "source": [
    "# Course - Supervised Learning "
   ]
  },
  {
   "cell_type": "markdown",
   "metadata": {},
   "source": [
    "##### NOTE: \n",
    "1. Your code MUST execute without any errors. \n",
    "2. You can add more lines in your code as required."
   ]
  },
  {
   "cell_type": "markdown",
   "metadata": {},
   "source": [
    "## Section 1: Basic Statistical Concepts"
   ]
  },
  {
   "cell_type": "markdown",
   "metadata": {},
   "source": [
    "### Question 1 \n",
    "**The dataset is loaded for you. Perform the following tasks:**  \n",
    "1. Compute basic statistical measures for each of the variables from the freeny dataset.  \n",
    "2. Construct a correlation matrix for all the variables in the freeny dataset.  \n",
    "3. Create a new variable price.income.ratio constructed as a ratio of price.index and income.level. Print its summary statistics.  "
   ]
  },
  {
   "cell_type": "code",
   "execution_count": 1,
   "metadata": {},
   "outputs": [],
   "source": [
    "library(datasets)"
   ]
  },
  {
   "cell_type": "code",
   "execution_count": 2,
   "metadata": {},
   "outputs": [
    {
     "data": {
      "text/html": [
       "<table>\n",
       "<thead><tr><th></th><th scope=col>y</th><th scope=col>lag.quarterly.revenue</th><th scope=col>price.index</th><th scope=col>income.level</th><th scope=col>market.potential</th></tr></thead>\n",
       "<tbody>\n",
       "\t<tr><th scope=row>1962.25</th><td>8.79236</td><td>8.79636</td><td>4.70997</td><td>5.82110</td><td>12.9699</td></tr>\n",
       "\t<tr><th scope=row>1962.5</th><td>8.79137</td><td>8.79236</td><td>4.70217</td><td>5.82558</td><td>12.9733</td></tr>\n",
       "\t<tr><th scope=row>1962.75</th><td>8.81486</td><td>8.79137</td><td>4.68944</td><td>5.83112</td><td>12.9774</td></tr>\n",
       "\t<tr><th scope=row>1963</th><td>8.81301</td><td>8.81486</td><td>4.68558</td><td>5.84046</td><td>12.9806</td></tr>\n",
       "\t<tr><th scope=row>1963.25</th><td>8.90751</td><td>8.81301</td><td>4.64019</td><td>5.85036</td><td>12.9831</td></tr>\n",
       "\t<tr><th scope=row>1963.5</th><td>8.93673</td><td>8.90751</td><td>4.62553</td><td>5.86464</td><td>12.9854</td></tr>\n",
       "</tbody>\n",
       "</table>\n"
      ],
      "text/latex": [
       "\\begin{tabular}{r|lllll}\n",
       "  & y & lag.quarterly.revenue & price.index & income.level & market.potential\\\\\n",
       "\\hline\n",
       "\t1962.25 & 8.79236 & 8.79636 & 4.70997 & 5.82110 & 12.9699\\\\\n",
       "\t1962.5 & 8.79137 & 8.79236 & 4.70217 & 5.82558 & 12.9733\\\\\n",
       "\t1962.75 & 8.81486 & 8.79137 & 4.68944 & 5.83112 & 12.9774\\\\\n",
       "\t1963 & 8.81301 & 8.81486 & 4.68558 & 5.84046 & 12.9806\\\\\n",
       "\t1963.25 & 8.90751 & 8.81301 & 4.64019 & 5.85036 & 12.9831\\\\\n",
       "\t1963.5 & 8.93673 & 8.90751 & 4.62553 & 5.86464 & 12.9854\\\\\n",
       "\\end{tabular}\n"
      ],
      "text/markdown": [
       "\n",
       "| <!--/--> | y | lag.quarterly.revenue | price.index | income.level | market.potential |\n",
       "|---|---|---|---|---|---|\n",
       "| 1962.25 | 8.79236 | 8.79636 | 4.70997 | 5.82110 | 12.9699 |\n",
       "| 1962.5 | 8.79137 | 8.79236 | 4.70217 | 5.82558 | 12.9733 |\n",
       "| 1962.75 | 8.81486 | 8.79137 | 4.68944 | 5.83112 | 12.9774 |\n",
       "| 1963 | 8.81301 | 8.81486 | 4.68558 | 5.84046 | 12.9806 |\n",
       "| 1963.25 | 8.90751 | 8.81301 | 4.64019 | 5.85036 | 12.9831 |\n",
       "| 1963.5 | 8.93673 | 8.90751 | 4.62553 | 5.86464 | 12.9854 |\n",
       "\n"
      ],
      "text/plain": [
       "        y       lag.quarterly.revenue price.index income.level market.potential\n",
       "1962.25 8.79236 8.79636               4.70997     5.82110      12.9699         \n",
       "1962.5  8.79137 8.79236               4.70217     5.82558      12.9733         \n",
       "1962.75 8.81486 8.79137               4.68944     5.83112      12.9774         \n",
       "1963    8.81301 8.81486               4.68558     5.84046      12.9806         \n",
       "1963.25 8.90751 8.81301               4.64019     5.85036      12.9831         \n",
       "1963.5  8.93673 8.90751               4.62553     5.86464      12.9854         "
      ]
     },
     "metadata": {},
     "output_type": "display_data"
    }
   ],
   "source": [
    "head(freeny)"
   ]
  },
  {
   "cell_type": "markdown",
   "metadata": {},
   "source": [
    "# Question # 01"
   ]
  },
  {
   "cell_type": "code",
   "execution_count": 3,
   "metadata": {},
   "outputs": [
    {
     "data": {
      "text/html": [
       "<ol class=list-inline>\n",
       "\t<li>'y'</li>\n",
       "\t<li>'lag.quarterly.revenue'</li>\n",
       "\t<li>'price.index'</li>\n",
       "\t<li>'income.level'</li>\n",
       "\t<li>'market.potential'</li>\n",
       "</ol>\n"
      ],
      "text/latex": [
       "\\begin{enumerate*}\n",
       "\\item 'y'\n",
       "\\item 'lag.quarterly.revenue'\n",
       "\\item 'price.index'\n",
       "\\item 'income.level'\n",
       "\\item 'market.potential'\n",
       "\\end{enumerate*}\n"
      ],
      "text/markdown": [
       "1. 'y'\n",
       "2. 'lag.quarterly.revenue'\n",
       "3. 'price.index'\n",
       "4. 'income.level'\n",
       "5. 'market.potential'\n",
       "\n",
       "\n"
      ],
      "text/plain": [
       "[1] \"y\"                     \"lag.quarterly.revenue\" \"price.index\"          \n",
       "[4] \"income.level\"          \"market.potential\"     "
      ]
     },
     "metadata": {},
     "output_type": "display_data"
    }
   ],
   "source": [
    "colnames(df)"
   ]
  },
  {
   "cell_type": "code",
   "execution_count": 4,
   "metadata": {},
   "outputs": [
    {
     "data": {
      "text/html": [
       "9.28071769230769"
      ],
      "text/latex": [
       "9.28071769230769"
      ],
      "text/markdown": [
       "9.28071769230769"
      ],
      "text/plain": [
       "[1] 9.280718"
      ]
     },
     "metadata": {},
     "output_type": "display_data"
    }
   ],
   "source": [
    "mean(df$lag.quarterly.revenue)"
   ]
  },
  {
   "cell_type": "code",
   "execution_count": 5,
   "metadata": {},
   "outputs": [
    {
     "data": {
      "text/html": [
       "4.51018"
      ],
      "text/latex": [
       "4.51018"
      ],
      "text/markdown": [
       "4.51018"
      ],
      "text/plain": [
       "[1] 4.51018"
      ]
     },
     "metadata": {},
     "output_type": "display_data"
    }
   ],
   "source": [
    "median(df$price.index)"
   ]
  },
  {
   "cell_type": "code",
   "execution_count": 6,
   "metadata": {},
   "outputs": [
    {
     "data": {
      "text/html": [
       "6.0385958974359"
      ],
      "text/latex": [
       "6.0385958974359"
      ],
      "text/markdown": [
       "6.0385958974359"
      ],
      "text/plain": [
       "[1] 6.038596"
      ]
     },
     "metadata": {},
     "output_type": "display_data"
    }
   ],
   "source": [
    "mean(df$income.level)"
   ]
  },
  {
   "cell_type": "code",
   "execution_count": 7,
   "metadata": {},
   "outputs": [
    {
     "data": {
      "text/html": [
       "13.0668307692308"
      ],
      "text/latex": [
       "13.0668307692308"
      ],
      "text/markdown": [
       "13.0668307692308"
      ],
      "text/plain": [
       "[1] 13.06683"
      ]
     },
     "metadata": {},
     "output_type": "display_data"
    }
   ],
   "source": [
    "mean(df$market.potential)"
   ]
  },
  {
   "cell_type": "markdown",
   "metadata": {},
   "source": [
    "# Question # 02"
   ]
  },
  {
   "cell_type": "code",
   "execution_count": 12,
   "metadata": {},
   "outputs": [
    {
     "ename": "ERROR",
     "evalue": "Error in library(pacman, readxl, ggplot2, dplyr, tidyverse, forecast, : unused arguments (tsoutliers, leaps, fabletools, FactoMineR, TSA)\n",
     "output_type": "error",
     "traceback": [
      "Error in library(pacman, readxl, ggplot2, dplyr, tidyverse, forecast, : unused arguments (tsoutliers, leaps, fabletools, FactoMineR, TSA)\nTraceback:\n"
     ]
    }
   ],
   "source": [
    "library(pacman, readxl, ggplot2, dplyr, tidyverse, forecast, \n",
    "       tsfeatures, smooth, car, psych, astsa, writexl, Hmisc,\n",
    "       tsoutliers, leaps, fabletools, FactoMineR, TSA)"
   ]
  },
  {
   "cell_type": "code",
   "execution_count": 20,
   "metadata": {},
   "outputs": [
    {
     "data": {
      "image/png": "[encoded data removed]",
      "text/plain": [
       "Plot with title \"\""
      ]
     },
     "metadata": {},
     "output_type": "display_data"
    }
   ],
   "source": [
    "library(corrplot)\n",
    "df <- as.data.frame(freeny)\n",
    "M <-cor(df)\n",
    "#corrplot(df)\n",
    "corrplot(M)"
   ]
  },
  {
   "cell_type": "markdown",
   "metadata": {},
   "source": [
    "# Question # 03"
   ]
  },
  {
   "cell_type": "code",
   "execution_count": 19,
   "metadata": {},
   "outputs": [
    {
     "data": {
      "text/html": [
       "<table>\n",
       "<thead><tr><th></th><th scope=col>y</th><th scope=col>lag.quarterly.revenue</th><th scope=col>price.index</th><th scope=col>income.level</th><th scope=col>market.potential</th></tr></thead>\n",
       "<tbody>\n",
       "\t<tr><th scope=row>1962.25</th><td>8.79236</td><td>8.79636</td><td>4.70997</td><td>5.82110</td><td>12.9699</td></tr>\n",
       "\t<tr><th scope=row>1962.5</th><td>8.79137</td><td>8.79236</td><td>4.70217</td><td>5.82558</td><td>12.9733</td></tr>\n",
       "\t<tr><th scope=row>1962.75</th><td>8.81486</td><td>8.79137</td><td>4.68944</td><td>5.83112</td><td>12.9774</td></tr>\n",
       "\t<tr><th scope=row>1963</th><td>8.81301</td><td>8.81486</td><td>4.68558</td><td>5.84046</td><td>12.9806</td></tr>\n",
       "\t<tr><th scope=row>1963.25</th><td>8.90751</td><td>8.81301</td><td>4.64019</td><td>5.85036</td><td>12.9831</td></tr>\n",
       "\t<tr><th scope=row>1963.5</th><td>8.93673</td><td>8.90751</td><td>4.62553</td><td>5.86464</td><td>12.9854</td></tr>\n",
       "</tbody>\n",
       "</table>\n"
      ],
      "text/latex": [
       "\\begin{tabular}{r|lllll}\n",
       "  & y & lag.quarterly.revenue & price.index & income.level & market.potential\\\\\n",
       "\\hline\n",
       "\t1962.25 & 8.79236 & 8.79636 & 4.70997 & 5.82110 & 12.9699\\\\\n",
       "\t1962.5 & 8.79137 & 8.79236 & 4.70217 & 5.82558 & 12.9733\\\\\n",
       "\t1962.75 & 8.81486 & 8.79137 & 4.68944 & 5.83112 & 12.9774\\\\\n",
       "\t1963 & 8.81301 & 8.81486 & 4.68558 & 5.84046 & 12.9806\\\\\n",
       "\t1963.25 & 8.90751 & 8.81301 & 4.64019 & 5.85036 & 12.9831\\\\\n",
       "\t1963.5 & 8.93673 & 8.90751 & 4.62553 & 5.86464 & 12.9854\\\\\n",
       "\\end{tabular}\n"
      ],
      "text/markdown": [
       "\n",
       "| <!--/--> | y | lag.quarterly.revenue | price.index | income.level | market.potential |\n",
       "|---|---|---|---|---|---|\n",
       "| 1962.25 | 8.79236 | 8.79636 | 4.70997 | 5.82110 | 12.9699 |\n",
       "| 1962.5 | 8.79137 | 8.79236 | 4.70217 | 5.82558 | 12.9733 |\n",
       "| 1962.75 | 8.81486 | 8.79137 | 4.68944 | 5.83112 | 12.9774 |\n",
       "| 1963 | 8.81301 | 8.81486 | 4.68558 | 5.84046 | 12.9806 |\n",
       "| 1963.25 | 8.90751 | 8.81301 | 4.64019 | 5.85036 | 12.9831 |\n",
       "| 1963.5 | 8.93673 | 8.90751 | 4.62553 | 5.86464 | 12.9854 |\n",
       "\n"
      ],
      "text/plain": [
       "        y       lag.quarterly.revenue price.index income.level market.potential\n",
       "1962.25 8.79236 8.79636               4.70997     5.82110      12.9699         \n",
       "1962.5  8.79137 8.79236               4.70217     5.82558      12.9733         \n",
       "1962.75 8.81486 8.79137               4.68944     5.83112      12.9774         \n",
       "1963    8.81301 8.81486               4.68558     5.84046      12.9806         \n",
       "1963.25 8.90751 8.81301               4.64019     5.85036      12.9831         \n",
       "1963.5  8.93673 8.90751               4.62553     5.86464      12.9854         "
      ]
     },
     "metadata": {},
     "output_type": "display_data"
    }
   ],
   "source": [
    "head(df)"
   ]
  },
  {
   "cell_type": "code",
   "execution_count": 21,
   "metadata": {},
   "outputs": [
    {
     "data": {
      "text/html": [
       "<ol class=list-inline>\n",
       "\t<li>0.809120269364897</li>\n",
       "\t<li>0.807159115487213</li>\n",
       "\t<li>0.804209139925092</li>\n",
       "\t<li>0.802262150584029</li>\n",
       "\t<li>0.793146062806391</li>\n",
       "\t<li>0.788715078845419</li>\n",
       "\t<li>0.786007768357977</li>\n",
       "\t<li>0.782778845061491</li>\n",
       "\t<li>0.778648742604299</li>\n",
       "\t<li>0.775397487849863</li>\n",
       "\t<li>0.773016552870928</li>\n",
       "\t<li>0.769912098235255</li>\n",
       "\t<li>0.76545361781852</li>\n",
       "\t<li>0.763954981619882</li>\n",
       "\t<li>0.759746130328833</li>\n",
       "\t<li>0.757572393222586</li>\n",
       "\t<li>0.755256612784109</li>\n",
       "\t<li>0.751853578075055</li>\n",
       "\t<li>0.749644545654209</li>\n",
       "\t<li>0.74413992572097</li>\n",
       "\t<li>0.741804932606164</li>\n",
       "\t<li>0.739057067389452</li>\n",
       "\t<li>0.733348334094321</li>\n",
       "\t<li>0.729145737701963</li>\n",
       "\t<li>0.726375843208602</li>\n",
       "\t<li>0.72274017488669</li>\n",
       "\t<li>0.720534397161383</li>\n",
       "\t<li>0.720599477295002</li>\n",
       "\t<li>0.717332198154029</li>\n",
       "\t<li>0.713371454600174</li>\n",
       "\t<li>0.710701145390486</li>\n",
       "\t<li>0.702974365971603</li>\n",
       "\t<li>0.701024219746411</li>\n",
       "\t<li>0.697976412809843</li>\n",
       "\t<li>0.699374325431927</li>\n",
       "\t<li>0.696425769655679</li>\n",
       "\t<li>0.694326468078504</li>\n",
       "\t<li>0.690757002601001</li>\n",
       "\t<li>0.689948873441608</li>\n",
       "</ol>\n"
      ],
      "text/latex": [
       "\\begin{enumerate*}\n",
       "\\item 0.809120269364897\n",
       "\\item 0.807159115487213\n",
       "\\item 0.804209139925092\n",
       "\\item 0.802262150584029\n",
       "\\item 0.793146062806391\n",
       "\\item 0.788715078845419\n",
       "\\item 0.786007768357977\n",
       "\\item 0.782778845061491\n",
       "\\item 0.778648742604299\n",
       "\\item 0.775397487849863\n",
       "\\item 0.773016552870928\n",
       "\\item 0.769912098235255\n",
       "\\item 0.76545361781852\n",
       "\\item 0.763954981619882\n",
       "\\item 0.759746130328833\n",
       "\\item 0.757572393222586\n",
       "\\item 0.755256612784109\n",
       "\\item 0.751853578075055\n",
       "\\item 0.749644545654209\n",
       "\\item 0.74413992572097\n",
       "\\item 0.741804932606164\n",
       "\\item 0.739057067389452\n",
       "\\item 0.733348334094321\n",
       "\\item 0.729145737701963\n",
       "\\item 0.726375843208602\n",
       "\\item 0.72274017488669\n",
       "\\item 0.720534397161383\n",
       "\\item 0.720599477295002\n",
       "\\item 0.717332198154029\n",
       "\\item 0.713371454600174\n",
       "\\item 0.710701145390486\n",
       "\\item 0.702974365971603\n",
       "\\item 0.701024219746411\n",
       "\\item 0.697976412809843\n",
       "\\item 0.699374325431927\n",
       "\\item 0.696425769655679\n",
       "\\item 0.694326468078504\n",
       "\\item 0.690757002601001\n",
       "\\item 0.689948873441608\n",
       "\\end{enumerate*}\n"
      ],
      "text/markdown": [
       "1. 0.809120269364897\n",
       "2. 0.807159115487213\n",
       "3. 0.804209139925092\n",
       "4. 0.802262150584029\n",
       "5. 0.793146062806391\n",
       "6. 0.788715078845419\n",
       "7. 0.786007768357977\n",
       "8. 0.782778845061491\n",
       "9. 0.778648742604299\n",
       "10. 0.775397487849863\n",
       "11. 0.773016552870928\n",
       "12. 0.769912098235255\n",
       "13. 0.76545361781852\n",
       "14. 0.763954981619882\n",
       "15. 0.759746130328833\n",
       "16. 0.757572393222586\n",
       "17. 0.755256612784109\n",
       "18. 0.751853578075055\n",
       "19. 0.749644545654209\n",
       "20. 0.74413992572097\n",
       "21. 0.741804932606164\n",
       "22. 0.739057067389452\n",
       "23. 0.733348334094321\n",
       "24. 0.729145737701963\n",
       "25. 0.726375843208602\n",
       "26. 0.72274017488669\n",
       "27. 0.720534397161383\n",
       "28. 0.720599477295002\n",
       "29. 0.717332198154029\n",
       "30. 0.713371454600174\n",
       "31. 0.710701145390486\n",
       "32. 0.702974365971603\n",
       "33. 0.701024219746411\n",
       "34. 0.697976412809843\n",
       "35. 0.699374325431927\n",
       "36. 0.696425769655679\n",
       "37. 0.694326468078504\n",
       "38. 0.690757002601001\n",
       "39. 0.689948873441608\n",
       "\n",
       "\n"
      ],
      "text/plain": [
       " [1] 0.8091203 0.8071591 0.8042091 0.8022622 0.7931461 0.7887151 0.7860078\n",
       " [8] 0.7827788 0.7786487 0.7753975 0.7730166 0.7699121 0.7654536 0.7639550\n",
       "[15] 0.7597461 0.7575724 0.7552566 0.7518536 0.7496445 0.7441399 0.7418049\n",
       "[22] 0.7390571 0.7333483 0.7291457 0.7263758 0.7227402 0.7205344 0.7205995\n",
       "[29] 0.7173322 0.7133715 0.7107011 0.7029744 0.7010242 0.6979764 0.6993743\n",
       "[36] 0.6964258 0.6943265 0.6907570 0.6899489"
      ]
     },
     "metadata": {},
     "output_type": "display_data"
    }
   ],
   "source": [
    "df$price.index/df$income.level"
   ]
  },
  {
   "cell_type": "code",
   "execution_count": 22,
   "metadata": {},
   "outputs": [],
   "source": [
    "df$price.income.ratio <- df$price.index/df$income.level"
   ]
  },
  {
   "cell_type": "code",
   "execution_count": 23,
   "metadata": {},
   "outputs": [
    {
     "data": {
      "text/html": [
       "<table>\n",
       "<thead><tr><th></th><th scope=col>y</th><th scope=col>lag.quarterly.revenue</th><th scope=col>price.index</th><th scope=col>income.level</th><th scope=col>market.potential</th><th scope=col>price.income.ratio</th></tr></thead>\n",
       "<tbody>\n",
       "\t<tr><th scope=row>1962.25</th><td>8.79236  </td><td>8.79636  </td><td>4.70997  </td><td>5.82110  </td><td>12.9699  </td><td>0.8091203</td></tr>\n",
       "\t<tr><th scope=row>1962.5</th><td>8.79137  </td><td>8.79236  </td><td>4.70217  </td><td>5.82558  </td><td>12.9733  </td><td>0.8071591</td></tr>\n",
       "\t<tr><th scope=row>1962.75</th><td>8.81486  </td><td>8.79137  </td><td>4.68944  </td><td>5.83112  </td><td>12.9774  </td><td>0.8042091</td></tr>\n",
       "\t<tr><th scope=row>1963</th><td>8.81301  </td><td>8.81486  </td><td>4.68558  </td><td>5.84046  </td><td>12.9806  </td><td>0.8022622</td></tr>\n",
       "\t<tr><th scope=row>1963.25</th><td>8.90751  </td><td>8.81301  </td><td>4.64019  </td><td>5.85036  </td><td>12.9831  </td><td>0.7931461</td></tr>\n",
       "\t<tr><th scope=row>1963.5</th><td>8.93673  </td><td>8.90751  </td><td>4.62553  </td><td>5.86464  </td><td>12.9854  </td><td>0.7887151</td></tr>\n",
       "</tbody>\n",
       "</table>\n"
      ],
      "text/latex": [
       "\\begin{tabular}{r|llllll}\n",
       "  & y & lag.quarterly.revenue & price.index & income.level & market.potential & price.income.ratio\\\\\n",
       "\\hline\n",
       "\t1962.25 & 8.79236   & 8.79636   & 4.70997   & 5.82110   & 12.9699   & 0.8091203\\\\\n",
       "\t1962.5 & 8.79137   & 8.79236   & 4.70217   & 5.82558   & 12.9733   & 0.8071591\\\\\n",
       "\t1962.75 & 8.81486   & 8.79137   & 4.68944   & 5.83112   & 12.9774   & 0.8042091\\\\\n",
       "\t1963 & 8.81301   & 8.81486   & 4.68558   & 5.84046   & 12.9806   & 0.8022622\\\\\n",
       "\t1963.25 & 8.90751   & 8.81301   & 4.64019   & 5.85036   & 12.9831   & 0.7931461\\\\\n",
       "\t1963.5 & 8.93673   & 8.90751   & 4.62553   & 5.86464   & 12.9854   & 0.7887151\\\\\n",
       "\\end{tabular}\n"
      ],
      "text/markdown": [
       "\n",
       "| <!--/--> | y | lag.quarterly.revenue | price.index | income.level | market.potential | price.income.ratio |\n",
       "|---|---|---|---|---|---|---|\n",
       "| 1962.25 | 8.79236   | 8.79636   | 4.70997   | 5.82110   | 12.9699   | 0.8091203 |\n",
       "| 1962.5 | 8.79137   | 8.79236   | 4.70217   | 5.82558   | 12.9733   | 0.8071591 |\n",
       "| 1962.75 | 8.81486   | 8.79137   | 4.68944   | 5.83112   | 12.9774   | 0.8042091 |\n",
       "| 1963 | 8.81301   | 8.81486   | 4.68558   | 5.84046   | 12.9806   | 0.8022622 |\n",
       "| 1963.25 | 8.90751   | 8.81301   | 4.64019   | 5.85036   | 12.9831   | 0.7931461 |\n",
       "| 1963.5 | 8.93673   | 8.90751   | 4.62553   | 5.86464   | 12.9854   | 0.7887151 |\n",
       "\n"
      ],
      "text/plain": [
       "        y       lag.quarterly.revenue price.index income.level market.potential\n",
       "1962.25 8.79236 8.79636               4.70997     5.82110      12.9699         \n",
       "1962.5  8.79137 8.79236               4.70217     5.82558      12.9733         \n",
       "1962.75 8.81486 8.79137               4.68944     5.83112      12.9774         \n",
       "1963    8.81301 8.81486               4.68558     5.84046      12.9806         \n",
       "1963.25 8.90751 8.81301               4.64019     5.85036      12.9831         \n",
       "1963.5  8.93673 8.90751               4.62553     5.86464      12.9854         \n",
       "        price.income.ratio\n",
       "1962.25 0.8091203         \n",
       "1962.5  0.8071591         \n",
       "1962.75 0.8042091         \n",
       "1963    0.8022622         \n",
       "1963.25 0.7931461         \n",
       "1963.5  0.7887151         "
      ]
     },
     "metadata": {},
     "output_type": "display_data"
    }
   ],
   "source": [
    "head(df)"
   ]
  },
  {
   "cell_type": "markdown",
   "metadata": {},
   "source": [
    "### Good Job! You are done with the section!"
   ]
  },
  {
   "cell_type": "markdown",
   "metadata": {},
   "source": [
    "## Section 2: Machine Learning: Regression Analysis"
   ]
  },
  {
   "cell_type": "markdown",
   "metadata": {},
   "source": [
    "### Question 1\n",
    "**Based on the observations acquired from the above exercise:**  \n",
    "1. Construct a linear regression model using y as dependent variable and top 2 variables with the highest correlation with y as dependent variable.  \n",
    "2. Calculate the r-squared value for the constructed model.  \n",
    "3. Use half the dataset for training and the remaining for testing.  \n",
    "4. Generate in-sample and out-sample predictions and compute variance of residuals [hint: residual= y_predicted - y_observed]  \n",
    "5. Plot the actual and predicted results for y variable.  "
   ]
  },
  {
   "cell_type": "markdown",
   "metadata": {},
   "source": [
    "# Question # 01"
   ]
  },
  {
   "cell_type": "code",
   "execution_count": 24,
   "metadata": {},
   "outputs": [
    {
     "data": {
      "text/html": [
       "<table>\n",
       "<thead><tr><th></th><th scope=col>y</th><th scope=col>lag.quarterly.revenue</th><th scope=col>price.index</th><th scope=col>income.level</th><th scope=col>market.potential</th><th scope=col>price.income.ratio</th></tr></thead>\n",
       "<tbody>\n",
       "\t<tr><th scope=row>1962.25</th><td>8.79236  </td><td>8.79636  </td><td>4.70997  </td><td>5.82110  </td><td>12.9699  </td><td>0.8091203</td></tr>\n",
       "\t<tr><th scope=row>1962.5</th><td>8.79137  </td><td>8.79236  </td><td>4.70217  </td><td>5.82558  </td><td>12.9733  </td><td>0.8071591</td></tr>\n",
       "\t<tr><th scope=row>1962.75</th><td>8.81486  </td><td>8.79137  </td><td>4.68944  </td><td>5.83112  </td><td>12.9774  </td><td>0.8042091</td></tr>\n",
       "\t<tr><th scope=row>1963</th><td>8.81301  </td><td>8.81486  </td><td>4.68558  </td><td>5.84046  </td><td>12.9806  </td><td>0.8022622</td></tr>\n",
       "\t<tr><th scope=row>1963.25</th><td>8.90751  </td><td>8.81301  </td><td>4.64019  </td><td>5.85036  </td><td>12.9831  </td><td>0.7931461</td></tr>\n",
       "\t<tr><th scope=row>1963.5</th><td>8.93673  </td><td>8.90751  </td><td>4.62553  </td><td>5.86464  </td><td>12.9854  </td><td>0.7887151</td></tr>\n",
       "</tbody>\n",
       "</table>\n"
      ],
      "text/latex": [
       "\\begin{tabular}{r|llllll}\n",
       "  & y & lag.quarterly.revenue & price.index & income.level & market.potential & price.income.ratio\\\\\n",
       "\\hline\n",
       "\t1962.25 & 8.79236   & 8.79636   & 4.70997   & 5.82110   & 12.9699   & 0.8091203\\\\\n",
       "\t1962.5 & 8.79137   & 8.79236   & 4.70217   & 5.82558   & 12.9733   & 0.8071591\\\\\n",
       "\t1962.75 & 8.81486   & 8.79137   & 4.68944   & 5.83112   & 12.9774   & 0.8042091\\\\\n",
       "\t1963 & 8.81301   & 8.81486   & 4.68558   & 5.84046   & 12.9806   & 0.8022622\\\\\n",
       "\t1963.25 & 8.90751   & 8.81301   & 4.64019   & 5.85036   & 12.9831   & 0.7931461\\\\\n",
       "\t1963.5 & 8.93673   & 8.90751   & 4.62553   & 5.86464   & 12.9854   & 0.7887151\\\\\n",
       "\\end{tabular}\n"
      ],
      "text/markdown": [
       "\n",
       "| <!--/--> | y | lag.quarterly.revenue | price.index | income.level | market.potential | price.income.ratio |\n",
       "|---|---|---|---|---|---|---|\n",
       "| 1962.25 | 8.79236   | 8.79636   | 4.70997   | 5.82110   | 12.9699   | 0.8091203 |\n",
       "| 1962.5 | 8.79137   | 8.79236   | 4.70217   | 5.82558   | 12.9733   | 0.8071591 |\n",
       "| 1962.75 | 8.81486   | 8.79137   | 4.68944   | 5.83112   | 12.9774   | 0.8042091 |\n",
       "| 1963 | 8.81301   | 8.81486   | 4.68558   | 5.84046   | 12.9806   | 0.8022622 |\n",
       "| 1963.25 | 8.90751   | 8.81301   | 4.64019   | 5.85036   | 12.9831   | 0.7931461 |\n",
       "| 1963.5 | 8.93673   | 8.90751   | 4.62553   | 5.86464   | 12.9854   | 0.7887151 |\n",
       "\n"
      ],
      "text/plain": [
       "        y       lag.quarterly.revenue price.index income.level market.potential\n",
       "1962.25 8.79236 8.79636               4.70997     5.82110      12.9699         \n",
       "1962.5  8.79137 8.79236               4.70217     5.82558      12.9733         \n",
       "1962.75 8.81486 8.79137               4.68944     5.83112      12.9774         \n",
       "1963    8.81301 8.81486               4.68558     5.84046      12.9806         \n",
       "1963.25 8.90751 8.81301               4.64019     5.85036      12.9831         \n",
       "1963.5  8.93673 8.90751               4.62553     5.86464      12.9854         \n",
       "        price.income.ratio\n",
       "1962.25 0.8091203         \n",
       "1962.5  0.8071591         \n",
       "1962.75 0.8042091         \n",
       "1963    0.8022622         \n",
       "1963.25 0.7931461         \n",
       "1963.5  0.7887151         "
      ]
     },
     "metadata": {},
     "output_type": "display_data"
    }
   ],
   "source": [
    "head(df)"
   ]
  },
  {
   "cell_type": "code",
   "execution_count": 31,
   "metadata": {},
   "outputs": [],
   "source": [
    "model <- lm(y ~ lag.quarterly.revenue+price.index, data= df)"
   ]
  },
  {
   "cell_type": "code",
   "execution_count": 32,
   "metadata": {},
   "outputs": [
    {
     "data": {
      "text/plain": [
       "\n",
       "Call:\n",
       "lm(formula = y ~ lag.quarterly.revenue + price.index, data = df)\n",
       "\n",
       "Coefficients:\n",
       "          (Intercept)  lag.quarterly.revenue            price.index  \n",
       "               2.1858                 0.8912                -0.2559  \n"
      ]
     },
     "metadata": {},
     "output_type": "display_data"
    }
   ],
   "source": [
    "model"
   ]
  },
  {
   "cell_type": "markdown",
   "metadata": {},
   "source": [
    "# Question # 02"
   ]
  },
  {
   "cell_type": "code",
   "execution_count": 33,
   "metadata": {},
   "outputs": [
    {
     "data": {
      "text/plain": [
       "\n",
       "Call:\n",
       "lm(formula = y ~ lag.quarterly.revenue + price.index, data = df)\n",
       "\n",
       "Residuals:\n",
       "      Min        1Q    Median        3Q       Max \n",
       "-0.040656 -0.007613 -0.001472  0.015284  0.054893 \n",
       "\n",
       "Coefficients:\n",
       "                      Estimate Std. Error t value Pr(>|t|)    \n",
       "(Intercept)            2.18577    1.47236   1.485    0.146    \n",
       "lag.quarterly.revenue  0.89122    0.07412  12.024 3.63e-14 ***\n",
       "price.index           -0.25592    0.17534  -1.460    0.153    \n",
       "---\n",
       "Signif. codes:  0 '***' 0.001 '**' 0.01 '*' 0.05 '.' 0.1 ' ' 1\n",
       "\n",
       "Residual standard error: 0.02091 on 36 degrees of freedom\n",
       "Multiple R-squared:  0.9958,\tAdjusted R-squared:  0.9956 \n",
       "F-statistic:  4309 on 2 and 36 DF,  p-value: < 2.2e-16\n"
      ]
     },
     "metadata": {},
     "output_type": "display_data"
    }
   ],
   "source": [
    "summary(model)"
   ]
  },
  {
   "cell_type": "markdown",
   "metadata": {},
   "source": [
    "# Question # 03"
   ]
  },
  {
   "cell_type": "code",
   "execution_count": 39,
   "metadata": {},
   "outputs": [],
   "source": [
    "set.seed(100)\n",
    "trainrow <- sample(1:nrow(df),0.5*nrow(df))\n",
    "train_data <- df[trainrow,]\n",
    "test_data <- df[-trainrow,]"
   ]
  },
  {
   "cell_type": "code",
   "execution_count": 40,
   "metadata": {},
   "outputs": [
    {
     "data": {
      "text/html": [
       "<table>\n",
       "<thead><tr><th></th><th scope=col>y</th><th scope=col>lag.quarterly.revenue</th><th scope=col>price.index</th><th scope=col>income.level</th><th scope=col>market.potential</th><th scope=col>price.income.ratio</th></tr></thead>\n",
       "<tbody>\n",
       "\t<tr><th scope=row>1964.5</th><td>9.03049  </td><td>9.00868  </td><td>4.60766  </td><td>5.94232  </td><td>13.0033  </td><td>0.7753975</td></tr>\n",
       "\t<tr><th scope=row>1971.5</th><td>9.77536  </td><td>9.74924  </td><td>4.27839  </td><td>6.19377  </td><td>13.1625  </td><td>0.6907570</td></tr>\n",
       "\t<tr><th scope=row>1968.25</th><td>9.44223  </td><td>9.42150  </td><td>4.43966  </td><td>6.11207  </td><td>13.0950  </td><td>0.7263758</td></tr>\n",
       "\t<tr><th scope=row>1965.5</th><td>9.12685  </td><td>9.10698  </td><td>4.58661  </td><td>6.00377  </td><td>13.0265  </td><td>0.7639550</td></tr>\n",
       "\t<tr><th scope=row>1967.75</th><td>9.39767  </td><td>9.35835  </td><td>4.46505  </td><td>6.08858  </td><td>13.0849  </td><td>0.7333483</td></tr>\n",
       "\t<tr><th scope=row>1967.5</th><td>9.35835  </td><td>9.35025  </td><td>4.49360  </td><td>6.08018  </td><td>13.0770  </td><td>0.7390571</td></tr>\n",
       "</tbody>\n",
       "</table>\n"
      ],
      "text/latex": [
       "\\begin{tabular}{r|llllll}\n",
       "  & y & lag.quarterly.revenue & price.index & income.level & market.potential & price.income.ratio\\\\\n",
       "\\hline\n",
       "\t1964.5 & 9.03049   & 9.00868   & 4.60766   & 5.94232   & 13.0033   & 0.7753975\\\\\n",
       "\t1971.5 & 9.77536   & 9.74924   & 4.27839   & 6.19377   & 13.1625   & 0.6907570\\\\\n",
       "\t1968.25 & 9.44223   & 9.42150   & 4.43966   & 6.11207   & 13.0950   & 0.7263758\\\\\n",
       "\t1965.5 & 9.12685   & 9.10698   & 4.58661   & 6.00377   & 13.0265   & 0.7639550\\\\\n",
       "\t1967.75 & 9.39767   & 9.35835   & 4.46505   & 6.08858   & 13.0849   & 0.7333483\\\\\n",
       "\t1967.5 & 9.35835   & 9.35025   & 4.49360   & 6.08018   & 13.0770   & 0.7390571\\\\\n",
       "\\end{tabular}\n"
      ],
      "text/markdown": [
       "\n",
       "| <!--/--> | y | lag.quarterly.revenue | price.index | income.level | market.potential | price.income.ratio |\n",
       "|---|---|---|---|---|---|---|\n",
       "| 1964.5 | 9.03049   | 9.00868   | 4.60766   | 5.94232   | 13.0033   | 0.7753975 |\n",
       "| 1971.5 | 9.77536   | 9.74924   | 4.27839   | 6.19377   | 13.1625   | 0.6907570 |\n",
       "| 1968.25 | 9.44223   | 9.42150   | 4.43966   | 6.11207   | 13.0950   | 0.7263758 |\n",
       "| 1965.5 | 9.12685   | 9.10698   | 4.58661   | 6.00377   | 13.0265   | 0.7639550 |\n",
       "| 1967.75 | 9.39767   | 9.35835   | 4.46505   | 6.08858   | 13.0849   | 0.7333483 |\n",
       "| 1967.5 | 9.35835   | 9.35025   | 4.49360   | 6.08018   | 13.0770   | 0.7390571 |\n",
       "\n"
      ],
      "text/plain": [
       "        y       lag.quarterly.revenue price.index income.level market.potential\n",
       "1964.5  9.03049 9.00868               4.60766     5.94232      13.0033         \n",
       "1971.5  9.77536 9.74924               4.27839     6.19377      13.1625         \n",
       "1968.25 9.44223 9.42150               4.43966     6.11207      13.0950         \n",
       "1965.5  9.12685 9.10698               4.58661     6.00377      13.0265         \n",
       "1967.75 9.39767 9.35835               4.46505     6.08858      13.0849         \n",
       "1967.5  9.35835 9.35025               4.49360     6.08018      13.0770         \n",
       "        price.income.ratio\n",
       "1964.5  0.7753975         \n",
       "1971.5  0.6907570         \n",
       "1968.25 0.7263758         \n",
       "1965.5  0.7639550         \n",
       "1967.75 0.7333483         \n",
       "1967.5  0.7390571         "
      ]
     },
     "metadata": {},
     "output_type": "display_data"
    }
   ],
   "source": [
    "head(train_data)"
   ]
  },
  {
   "cell_type": "code",
   "execution_count": 41,
   "metadata": {},
   "outputs": [
    {
     "data": {
      "text/html": [
       "<ol class=list-inline>\n",
       "\t<li>19</li>\n",
       "\t<li>6</li>\n",
       "</ol>\n"
      ],
      "text/latex": [
       "\\begin{enumerate*}\n",
       "\\item 19\n",
       "\\item 6\n",
       "\\end{enumerate*}\n"
      ],
      "text/markdown": [
       "1. 19\n",
       "2. 6\n",
       "\n",
       "\n"
      ],
      "text/plain": [
       "[1] 19  6"
      ]
     },
     "metadata": {},
     "output_type": "display_data"
    }
   ],
   "source": [
    "dim(train_data)"
   ]
  },
  {
   "cell_type": "code",
   "execution_count": 42,
   "metadata": {},
   "outputs": [
    {
     "data": {
      "text/html": [
       "<ol class=list-inline>\n",
       "\t<li>20</li>\n",
       "\t<li>6</li>\n",
       "</ol>\n"
      ],
      "text/latex": [
       "\\begin{enumerate*}\n",
       "\\item 20\n",
       "\\item 6\n",
       "\\end{enumerate*}\n"
      ],
      "text/markdown": [
       "1. 20\n",
       "2. 6\n",
       "\n",
       "\n"
      ],
      "text/plain": [
       "[1] 20  6"
      ]
     },
     "metadata": {},
     "output_type": "display_data"
    }
   ],
   "source": [
    "dim(test_data)"
   ]
  },
  {
   "cell_type": "code",
   "execution_count": 44,
   "metadata": {},
   "outputs": [],
   "source": [
    "modelf <- lm(y ~ lag.quarterly.revenue+price.index+income.level+market.potential+price.income.ratio, data = train_data)"
   ]
  },
  {
   "cell_type": "code",
   "execution_count": 45,
   "metadata": {
    "scrolled": true
   },
   "outputs": [
    {
     "data": {
      "text/plain": [
       "\n",
       "Call:\n",
       "lm(formula = y ~ lag.quarterly.revenue + price.index + income.level + \n",
       "    market.potential + price.income.ratio, data = train_data)\n",
       "\n",
       "Coefficients:\n",
       "          (Intercept)  lag.quarterly.revenue            price.index  \n",
       "               0.5553                 0.3531                 0.5400  \n",
       "         income.level       market.potential     price.income.ratio  \n",
       "              -0.4893                 0.8916                -7.5841  \n"
      ]
     },
     "metadata": {},
     "output_type": "display_data"
    }
   ],
   "source": [
    "modelf"
   ]
  },
  {
   "cell_type": "code",
   "execution_count": 48,
   "metadata": {
    "scrolled": true
   },
   "outputs": [
    {
     "data": {
      "text/plain": [
       "\n",
       "Call:\n",
       "lm(formula = y ~ lag.quarterly.revenue + price.index + income.level + \n",
       "    market.potential + price.income.ratio, data = train_data)\n",
       "\n",
       "Residuals:\n",
       "      Min        1Q    Median        3Q       Max \n",
       "-0.027704 -0.008048  0.001020  0.011548  0.027408 \n",
       "\n",
       "Coefficients:\n",
       "                      Estimate Std. Error t value Pr(>|t|)\n",
       "(Intercept)             0.5553    10.3115   0.054    0.958\n",
       "lag.quarterly.revenue   0.3531     0.3395   1.040    0.317\n",
       "price.index             0.5400     3.2796   0.165    0.872\n",
       "income.level           -0.4893     2.8799  -0.170    0.868\n",
       "market.potential        0.8916     1.3275   0.672    0.514\n",
       "price.income.ratio     -7.5841    20.2844  -0.374    0.715\n",
       "\n",
       "Residual standard error: 0.01702 on 13 degrees of freedom\n",
       "Multiple R-squared:  0.998,\tAdjusted R-squared:  0.9973 \n",
       "F-statistic:  1315 on 5 and 13 DF,  p-value: < 2.2e-16\n"
      ]
     },
     "metadata": {},
     "output_type": "display_data"
    }
   ],
   "source": [
    "summary(modelf)"
   ]
  },
  {
   "cell_type": "code",
   "execution_count": 50,
   "metadata": {},
   "outputs": [
    {
     "data": {
      "text/html": [
       "-94.0766573748231"
      ],
      "text/latex": [
       "-94.0766573748231"
      ],
      "text/markdown": [
       "-94.0766573748231"
      ],
      "text/plain": [
       "[1] -94.07666"
      ]
     },
     "metadata": {},
     "output_type": "display_data"
    }
   ],
   "source": [
    "AIC(modelf)"
   ]
  },
  {
   "cell_type": "code",
   "execution_count": 46,
   "metadata": {},
   "outputs": [],
   "source": [
    "ypred <- predict(modelf, test_data)"
   ]
  },
  {
   "cell_type": "code",
   "execution_count": 51,
   "metadata": {},
   "outputs": [],
   "source": [
    "actuals_preds <- data.frame(cbind(actuals=test_data$y, predecteds = ypred))"
   ]
  },
  {
   "cell_type": "code",
   "execution_count": 56,
   "metadata": {},
   "outputs": [
    {
     "data": {
      "text/html": [
       "<table>\n",
       "<thead><tr><th></th><th scope=col>actuals</th><th scope=col>predecteds</th></tr></thead>\n",
       "<tbody>\n",
       "\t<tr><th scope=row>1962.25</th><td>8.79236 </td><td>8.783947</td></tr>\n",
       "\t<tr><th scope=row>1963.25</th><td>8.90751 </td><td>8.870743</td></tr>\n",
       "\t<tr><th scope=row>1964</th><td>8.96044 </td><td>8.975916</td></tr>\n",
       "\t<tr><th scope=row>1964.25</th><td>9.00868 </td><td>8.996106</td></tr>\n",
       "\t<tr><th scope=row>1965.25</th><td>9.10698 </td><td>9.104289</td></tr>\n",
       "\t<tr><th scope=row>1965.75</th><td>9.17096 </td><td>9.161629</td></tr>\n",
       "</tbody>\n",
       "</table>\n"
      ],
      "text/latex": [
       "\\begin{tabular}{r|ll}\n",
       "  & actuals & predecteds\\\\\n",
       "\\hline\n",
       "\t1962.25 & 8.79236  & 8.783947\\\\\n",
       "\t1963.25 & 8.90751  & 8.870743\\\\\n",
       "\t1964 & 8.96044  & 8.975916\\\\\n",
       "\t1964.25 & 9.00868  & 8.996106\\\\\n",
       "\t1965.25 & 9.10698  & 9.104289\\\\\n",
       "\t1965.75 & 9.17096  & 9.161629\\\\\n",
       "\\end{tabular}\n"
      ],
      "text/markdown": [
       "\n",
       "| <!--/--> | actuals | predecteds |\n",
       "|---|---|---|\n",
       "| 1962.25 | 8.79236  | 8.783947 |\n",
       "| 1963.25 | 8.90751  | 8.870743 |\n",
       "| 1964 | 8.96044  | 8.975916 |\n",
       "| 1964.25 | 9.00868  | 8.996106 |\n",
       "| 1965.25 | 9.10698  | 9.104289 |\n",
       "| 1965.75 | 9.17096  | 9.161629 |\n",
       "\n"
      ],
      "text/plain": [
       "        actuals predecteds\n",
       "1962.25 8.79236 8.783947  \n",
       "1963.25 8.90751 8.870743  \n",
       "1964    8.96044 8.975916  \n",
       "1964.25 9.00868 8.996106  \n",
       "1965.25 9.10698 9.104289  \n",
       "1965.75 9.17096 9.161629  "
      ]
     },
     "metadata": {},
     "output_type": "display_data"
    }
   ],
   "source": [
    "head(actuals_preds)"
   ]
  },
  {
   "cell_type": "code",
   "execution_count": 54,
   "metadata": {},
   "outputs": [
    {
     "data": {
      "text/html": [
       "<table>\n",
       "<thead><tr><th></th><th scope=col>actuals</th><th scope=col>predecteds</th></tr></thead>\n",
       "<tbody>\n",
       "\t<tr><th scope=row>actuals</th><td>1.0000000</td><td>0.9990147</td></tr>\n",
       "\t<tr><th scope=row>predecteds</th><td>0.9990147</td><td>1.0000000</td></tr>\n",
       "</tbody>\n",
       "</table>\n"
      ],
      "text/latex": [
       "\\begin{tabular}{r|ll}\n",
       "  & actuals & predecteds\\\\\n",
       "\\hline\n",
       "\tactuals & 1.0000000 & 0.9990147\\\\\n",
       "\tpredecteds & 0.9990147 & 1.0000000\\\\\n",
       "\\end{tabular}\n"
      ],
      "text/markdown": [
       "\n",
       "| <!--/--> | actuals | predecteds |\n",
       "|---|---|---|\n",
       "| actuals | 1.0000000 | 0.9990147 |\n",
       "| predecteds | 0.9990147 | 1.0000000 |\n",
       "\n"
      ],
      "text/plain": [
       "           actuals   predecteds\n",
       "actuals    1.0000000 0.9990147 \n",
       "predecteds 0.9990147 1.0000000 "
      ]
     },
     "metadata": {},
     "output_type": "display_data"
    }
   ],
   "source": [
    "correlation_accuracy <- cor(actuals_preds)\n",
    "correlation_accuracy"
   ]
  },
  {
   "cell_type": "code",
   "execution_count": 55,
   "metadata": {},
   "outputs": [
    {
     "data": {
      "image/png": "[encoded data removed]",
      "text/plain": [
       "Plot with title \"\""
      ]
     },
     "metadata": {},
     "output_type": "display_data"
    }
   ],
   "source": [
    "corrplot(correlation_accuracy)"
   ]
  },
  {
   "cell_type": "code",
   "execution_count": 57,
   "metadata": {},
   "outputs": [],
   "source": [
    "mape <- mean(abs((actuals_preds$predecteds - actuals_preds$actual))/ actuals_preds$actuals)"
   ]
  },
  {
   "cell_type": "code",
   "execution_count": 58,
   "metadata": {},
   "outputs": [
    {
     "data": {
      "text/html": [
       "0.00130325196432423"
      ],
      "text/latex": [
       "0.00130325196432423"
      ],
      "text/markdown": [
       "0.00130325196432423"
      ],
      "text/plain": [
       "[1] 0.001303252"
      ]
     },
     "metadata": {},
     "output_type": "display_data"
    }
   ],
   "source": [
    "mape"
   ]
  },
  {
   "cell_type": "markdown",
   "metadata": {},
   "source": [
    "# Question # 04"
   ]
  },
  {
   "cell_type": "code",
   "execution_count": 72,
   "metadata": {},
   "outputs": [
    {
     "data": {
      "text/html": [
       "<table>\n",
       "<thead><tr><th></th><th scope=col>actuals</th><th scope=col>predecteds</th><th scope=col>residual</th></tr></thead>\n",
       "<tbody>\n",
       "\t<tr><th scope=row>1962.25</th><td>8.79236     </td><td>8.783947    </td><td>-0.008412810</td></tr>\n",
       "\t<tr><th scope=row>1963.25</th><td>8.90751     </td><td>8.870743    </td><td>-0.036766938</td></tr>\n",
       "\t<tr><th scope=row>1964</th><td>8.96044     </td><td>8.975916    </td><td> 0.015476077</td></tr>\n",
       "\t<tr><th scope=row>1964.25</th><td>9.00868     </td><td>8.996106    </td><td>-0.012574335</td></tr>\n",
       "\t<tr><th scope=row>1965.25</th><td>9.10698     </td><td>9.104289    </td><td>-0.002690639</td></tr>\n",
       "\t<tr><th scope=row>1965.75</th><td>9.17096     </td><td>9.161629    </td><td>-0.009331250</td></tr>\n",
       "</tbody>\n",
       "</table>\n"
      ],
      "text/latex": [
       "\\begin{tabular}{r|lll}\n",
       "  & actuals & predecteds & residual\\\\\n",
       "\\hline\n",
       "\t1962.25 & 8.79236      & 8.783947     & -0.008412810\\\\\n",
       "\t1963.25 & 8.90751      & 8.870743     & -0.036766938\\\\\n",
       "\t1964 & 8.96044      & 8.975916     &  0.015476077\\\\\n",
       "\t1964.25 & 9.00868      & 8.996106     & -0.012574335\\\\\n",
       "\t1965.25 & 9.10698      & 9.104289     & -0.002690639\\\\\n",
       "\t1965.75 & 9.17096      & 9.161629     & -0.009331250\\\\\n",
       "\\end{tabular}\n"
      ],
      "text/markdown": [
       "\n",
       "| <!--/--> | actuals | predecteds | residual |\n",
       "|---|---|---|---|\n",
       "| 1962.25 | 8.79236      | 8.783947     | -0.008412810 |\n",
       "| 1963.25 | 8.90751      | 8.870743     | -0.036766938 |\n",
       "| 1964 | 8.96044      | 8.975916     |  0.015476077 |\n",
       "| 1964.25 | 9.00868      | 8.996106     | -0.012574335 |\n",
       "| 1965.25 | 9.10698      | 9.104289     | -0.002690639 |\n",
       "| 1965.75 | 9.17096      | 9.161629     | -0.009331250 |\n",
       "\n"
      ],
      "text/plain": [
       "        actuals predecteds residual    \n",
       "1962.25 8.79236 8.783947   -0.008412810\n",
       "1963.25 8.90751 8.870743   -0.036766938\n",
       "1964    8.96044 8.975916    0.015476077\n",
       "1964.25 9.00868 8.996106   -0.012574335\n",
       "1965.25 9.10698 9.104289   -0.002690639\n",
       "1965.75 9.17096 9.161629   -0.009331250"
      ]
     },
     "metadata": {},
     "output_type": "display_data"
    }
   ],
   "source": [
    "residual <- actuals_preds$predecteds - actuals_preds$actual\n",
    "residual <- data.frame(residual)\n",
    "head(cbind(actuals_preds,residual))\n"
   ]
  },
  {
   "cell_type": "markdown",
   "metadata": {},
   "source": [
    "# Question # 05"
   ]
  },
  {
   "cell_type": "code",
   "execution_count": 74,
   "metadata": {},
   "outputs": [
    {
     "data": {
      "image/png": "[encoded data removed]",
      "text/plain": [
       "Plot with title \"Predicted vs. Actual Values\""
      ]
     },
     "metadata": {},
     "output_type": "display_data"
    }
   ],
   "source": [
    "plot(x=actuals_preds$predecteds, y= actuals_preds$actuals,\n",
    "     xlab='Predicted Values',\n",
    "     ylab='Actual Values',\n",
    "     main='Predicted vs. Actual Values')\n",
    "abline(a=0, b=1)"
   ]
  },
  {
   "cell_type": "code",
   "execution_count": 77,
   "metadata": {},
   "outputs": [
    {
     "data": {
      "text/plain": [
       "\n",
       "Call:\n",
       "lm(formula = y ~ lag.quarterly.revenue + price.index + income.level + \n",
       "    market.potential + price.income.ratio, data = train_data)\n",
       "\n",
       "Coefficients:\n",
       "          (Intercept)  lag.quarterly.revenue            price.index  \n",
       "               0.5553                 0.3531                 0.5400  \n",
       "         income.level       market.potential     price.income.ratio  \n",
       "              -0.4893                 0.8916                -7.5841  \n"
      ]
     },
     "metadata": {},
     "output_type": "display_data"
    }
   ],
   "source": [
    "modelf"
   ]
  },
  {
   "cell_type": "code",
   "execution_count": 79,
   "metadata": {},
   "outputs": [
    {
     "data": {
      "image/png": "[encoded data removed]",
      "text/plain": [
       "plot without title"
      ]
     },
     "metadata": {},
     "output_type": "display_data"
    }
   ],
   "source": [
    "plot(actuals_preds$predecteds,actuals_preds$actuals)"
   ]
  },
  {
   "cell_type": "code",
   "execution_count": null,
   "metadata": {},
   "outputs": [],
   "source": []
  },
  {
   "cell_type": "markdown",
   "metadata": {},
   "source": [
    "### Good Job! You are done with the section!"
   ]
  },
  {
   "cell_type": "markdown",
   "metadata": {},
   "source": [
    "## Section 3: Machine Learning: Logistic Regression"
   ]
  },
  {
   "cell_type": "markdown",
   "metadata": {},
   "source": [
    "## Question 1  \n",
    "**Construct a logistic regression model using the Smarket dataset:**  \n",
    "1. Your task is to predict the direction [Up: 1, Down:0].  \n",
    "2. Use a combination of variables that produces the lowest residual variance.  \n",
    "3. Plot the predicted vs. actual values.  \n",
    "4. Construct variable importance plot for all the variables.  "
   ]
  },
  {
   "cell_type": "code",
   "execution_count": 82,
   "metadata": {},
   "outputs": [
    {
     "name": "stderr",
     "output_type": "stream",
     "text": [
      "Warning message:\n",
      "\"unable to access index for repository https://cran.r-project.org/src/contrib:\n",
      "  cannot open URL 'https://cran.r-project.org/src/contrib/PACKAGES'\"Warning message:\n",
      "\"package 'ISLR' is not available (for R version 3.6.1)\"Warning message:\n",
      "\"unable to access index for repository https://cran.r-project.org/bin/windows/contrib/3.6:\n",
      "  cannot open URL 'https://cran.r-project.org/bin/windows/contrib/3.6/PACKAGES'\""
     ]
    },
    {
     "ename": "ERROR",
     "evalue": "Error in !install.packages(\"ISLR\"): invalid argument type\n",
     "output_type": "error",
     "traceback": [
      "Error in !install.packages(\"ISLR\"): invalid argument type\nTraceback:\n"
     ]
    }
   ],
   "source": [
    "!install.packages('ISLR')"
   ]
  },
  {
   "cell_type": "code",
   "execution_count": 80,
   "metadata": {
    "scrolled": true
   },
   "outputs": [
    {
     "name": "stderr",
     "output_type": "stream",
     "text": [
      "Loading required package: ISLR\n",
      "Warning message in library(package, lib.loc = lib.loc, character.only = TRUE, logical.return = TRUE, :\n",
      "\"there is no package called 'ISLR'\""
     ]
    },
    {
     "ename": "ERROR",
     "evalue": "Error in head(Smarket): object 'Smarket' not found\n",
     "output_type": "error",
     "traceback": [
      "Error in head(Smarket): object 'Smarket' not found\nTraceback:\n",
      "1. head(Smarket)"
     ]
    }
   ],
   "source": [
    "install.packages('ISLR')\n",
    "require('ISLR')\n",
    "head(Smarket)"
   ]
  },
  {
   "cell_type": "code",
   "execution_count": null,
   "metadata": {},
   "outputs": [],
   "source": []
  },
  {
   "cell_type": "code",
   "execution_count": null,
   "metadata": {},
   "outputs": [],
   "source": []
  },
  {
   "cell_type": "code",
   "execution_count": null,
   "metadata": {},
   "outputs": [],
   "source": []
  },
  {
   "cell_type": "code",
   "execution_count": null,
   "metadata": {},
   "outputs": [],
   "source": []
  },
  {
   "cell_type": "code",
   "execution_count": null,
   "metadata": {},
   "outputs": [],
   "source": []
  },
  {
   "cell_type": "markdown",
   "metadata": {},
   "source": [
    "### Good Job! You are done with the section!"
   ]
  },
  {
   "cell_type": "markdown",
   "metadata": {},
   "source": [
    "## Section 4: Machine Learning: Decision Trees and Random Forests"
   ]
  },
  {
   "cell_type": "markdown",
   "metadata": {},
   "source": [
    "## Question 1  \n",
    "**Construct a decision tree for the following dataset:**  \n",
    "1. Your task is to predict whether the sales will be High or Low.  \n",
    "2. You need to transform the Sale variable into binary variable: For sales less than 7.5, assign a value of Low and High otherwise. You will also need to transform ShelveLoc, Urban and US variables into binary variables.    \n",
    "3. Generate a decision tree and plot the diagram for the tree and plot predicted vs. actual results.  \n",
    "4. Attempt a random forest regression on the same dataset. Which model produces better results?  "
   ]
  },
  {
   "cell_type": "code",
   "execution_count": 14,
   "metadata": {},
   "outputs": [
    {
     "data": {
      "text/html": [
       "<table>\n",
       "<thead><tr><th scope=col>Sales</th><th scope=col>CompPrice</th><th scope=col>Income</th><th scope=col>Advertising</th><th scope=col>Population</th><th scope=col>Price</th><th scope=col>ShelveLoc</th><th scope=col>Age</th><th scope=col>Education</th><th scope=col>Urban</th><th scope=col>US</th></tr></thead>\n",
       "<tbody>\n",
       "\t<tr><td> 9.50 </td><td>138   </td><td> 73   </td><td>11    </td><td>276   </td><td>120   </td><td>Bad   </td><td>42    </td><td>17    </td><td>Yes   </td><td>Yes   </td></tr>\n",
       "\t<tr><td>11.22 </td><td>111   </td><td> 48   </td><td>16    </td><td>260   </td><td> 83   </td><td>Good  </td><td>65    </td><td>10    </td><td>Yes   </td><td>Yes   </td></tr>\n",
       "\t<tr><td>10.06 </td><td>113   </td><td> 35   </td><td>10    </td><td>269   </td><td> 80   </td><td>Medium</td><td>59    </td><td>12    </td><td>Yes   </td><td>Yes   </td></tr>\n",
       "\t<tr><td> 7.40 </td><td>117   </td><td>100   </td><td> 4    </td><td>466   </td><td> 97   </td><td>Medium</td><td>55    </td><td>14    </td><td>Yes   </td><td>Yes   </td></tr>\n",
       "\t<tr><td> 4.15 </td><td>141   </td><td> 64   </td><td> 3    </td><td>340   </td><td>128   </td><td>Bad   </td><td>38    </td><td>13    </td><td>Yes   </td><td>No    </td></tr>\n",
       "\t<tr><td>10.81 </td><td>124   </td><td>113   </td><td>13    </td><td>501   </td><td> 72   </td><td>Bad   </td><td>78    </td><td>16    </td><td>No    </td><td>Yes   </td></tr>\n",
       "</tbody>\n",
       "</table>\n"
      ],
      "text/latex": [
       "\\begin{tabular}{r|lllllllllll}\n",
       " Sales & CompPrice & Income & Advertising & Population & Price & ShelveLoc & Age & Education & Urban & US\\\\\n",
       "\\hline\n",
       "\t  9.50  & 138    &  73    & 11     & 276    & 120    & Bad    & 42     & 17     & Yes    & Yes   \\\\\n",
       "\t 11.22  & 111    &  48    & 16     & 260    &  83    & Good   & 65     & 10     & Yes    & Yes   \\\\\n",
       "\t 10.06  & 113    &  35    & 10     & 269    &  80    & Medium & 59     & 12     & Yes    & Yes   \\\\\n",
       "\t  7.40  & 117    & 100    &  4     & 466    &  97    & Medium & 55     & 14     & Yes    & Yes   \\\\\n",
       "\t  4.15  & 141    &  64    &  3     & 340    & 128    & Bad    & 38     & 13     & Yes    & No    \\\\\n",
       "\t 10.81  & 124    & 113    & 13     & 501    &  72    & Bad    & 78     & 16     & No     & Yes   \\\\\n",
       "\\end{tabular}\n"
      ],
      "text/markdown": [
       "\n",
       "| Sales | CompPrice | Income | Advertising | Population | Price | ShelveLoc | Age | Education | Urban | US |\n",
       "|---|---|---|---|---|---|---|---|---|---|---|\n",
       "|  9.50  | 138    |  73    | 11     | 276    | 120    | Bad    | 42     | 17     | Yes    | Yes    |\n",
       "| 11.22  | 111    |  48    | 16     | 260    |  83    | Good   | 65     | 10     | Yes    | Yes    |\n",
       "| 10.06  | 113    |  35    | 10     | 269    |  80    | Medium | 59     | 12     | Yes    | Yes    |\n",
       "|  7.40  | 117    | 100    |  4     | 466    |  97    | Medium | 55     | 14     | Yes    | Yes    |\n",
       "|  4.15  | 141    |  64    |  3     | 340    | 128    | Bad    | 38     | 13     | Yes    | No     |\n",
       "| 10.81  | 124    | 113    | 13     | 501    |  72    | Bad    | 78     | 16     | No     | Yes    |\n",
       "\n"
      ],
      "text/plain": [
       "  Sales CompPrice Income Advertising Population Price ShelveLoc Age Education\n",
       "1  9.50 138        73    11          276        120   Bad       42  17       \n",
       "2 11.22 111        48    16          260         83   Good      65  10       \n",
       "3 10.06 113        35    10          269         80   Medium    59  12       \n",
       "4  7.40 117       100     4          466         97   Medium    55  14       \n",
       "5  4.15 141        64     3          340        128   Bad       38  13       \n",
       "6 10.81 124       113    13          501         72   Bad       78  16       \n",
       "  Urban US \n",
       "1 Yes   Yes\n",
       "2 Yes   Yes\n",
       "3 Yes   Yes\n",
       "4 Yes   Yes\n",
       "5 Yes   No \n",
       "6 No    Yes"
      ]
     },
     "metadata": {},
     "output_type": "display_data"
    }
   ],
   "source": [
    "head(Carseats)"
   ]
  },
  {
   "cell_type": "code",
   "execution_count": null,
   "metadata": {},
   "outputs": [],
   "source": []
  },
  {
   "cell_type": "code",
   "execution_count": null,
   "metadata": {},
   "outputs": [],
   "source": []
  },
  {
   "cell_type": "code",
   "execution_count": null,
   "metadata": {},
   "outputs": [],
   "source": []
  },
  {
   "cell_type": "markdown",
   "metadata": {},
   "source": [
    "### Good Job! You are done with the section!"
   ]
  },
  {
   "cell_type": "markdown",
   "metadata": {},
   "source": [
    "## Section 5: Neural Networks"
   ]
  },
  {
   "cell_type": "markdown",
   "metadata": {},
   "source": [
    "## Question 1  \n",
    "**Construct a neural network for the same dataset:**  \n",
    "1. Your task is to predict whether the sales will be High or Low.  \n",
    "2. Perform necessary data transformations as required.      \n",
    "3. Generate neural network with 3 layers and 2,3,4 nodes respectively.    \n",
    "4. Plot the nn."
   ]
  },
  {
   "cell_type": "code",
   "execution_count": 16,
   "metadata": {},
   "outputs": [],
   "source": [
    "# install.packages('neuralnets')"
   ]
  },
  {
   "cell_type": "code",
   "execution_count": null,
   "metadata": {},
   "outputs": [],
   "source": []
  },
  {
   "cell_type": "code",
   "execution_count": null,
   "metadata": {},
   "outputs": [],
   "source": []
  },
  {
   "cell_type": "code",
   "execution_count": null,
   "metadata": {},
   "outputs": [],
   "source": []
  },
  {
   "cell_type": "markdown",
   "metadata": {},
   "source": [
    "### Good Job! You are done with the section!"
   ]
  },
  {
   "cell_type": "markdown",
   "metadata": {},
   "source": [
    "## Section 6: Performance Evaluation"
   ]
  },
  {
   "cell_type": "markdown",
   "metadata": {},
   "source": [
    "## Question 1  \n",
    "**For the above decision tree, logistic regression and neural network models:**  \n",
    "1. Construct a confusion matrix.  \n",
    "2. Plot out the ROC and AUC cruves.   \n",
    "3. For the datasets of Carseats, which model produced the highest accuracy with lowest variance?  "
   ]
  },
  {
   "cell_type": "code",
   "execution_count": null,
   "metadata": {},
   "outputs": [],
   "source": []
  },
  {
   "cell_type": "code",
   "execution_count": null,
   "metadata": {},
   "outputs": [],
   "source": []
  },
  {
   "cell_type": "code",
   "execution_count": null,
   "metadata": {},
   "outputs": [],
   "source": []
  },
  {
   "cell_type": "code",
   "execution_count": null,
   "metadata": {},
   "outputs": [],
   "source": []
  },
  {
   "cell_type": "code",
   "execution_count": null,
   "metadata": {},
   "outputs": [],
   "source": []
  },
  {
   "cell_type": "markdown",
   "metadata": {},
   "source": [
    "## Good Job! You are done with the course!"
   ]
  }
 ],
 "metadata": {
  "kernelspec": {
   "display_name": "R",
   "language": "R",
   "name": "ir"
  },
  "language_info": {
   "codemirror_mode": "r",
   "file_extension": ".r",
   "mimetype": "text/x-r-source",
   "name": "R",
   "pygments_lexer": "r",
   "version": "3.6.1"
  }
 },
 "nbformat": 4,
 "nbformat_minor": 4
}
